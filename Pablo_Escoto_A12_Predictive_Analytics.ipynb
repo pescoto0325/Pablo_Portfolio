{
  "cells": [
    {
      "cell_type": "markdown",
      "metadata": {
        "id": "view-in-github",
        "colab_type": "text"
      },
      "source": [
        "<a href=\"https://colab.research.google.com/github/pescoto0325/Pablo_Portfolio/blob/main/Pablo_Escoto_A12_Predictive_Analytics.ipynb\" target=\"_parent\"><img src=\"https://colab.research.google.com/assets/colab-badge.svg\" alt=\"Open In Colab\"/></a>"
      ]
    },
    {
      "cell_type": "markdown",
      "metadata": {
        "id": "-Q9SCIBgOlcA"
      },
      "source": [
        "**Rationale** In this exercise, you will get some hands on experience at building a product recommender system using collaborative filtering. In particular, we will implement Singular Value Decomposition.\n",
        "\n",
        "In this script, we will build a venue (mostly restaurant) recommender system based on users' Yelp reviews.\n",
        "\n",
        "**Note this dataset is slightly different compared to previous Yelp data**\\\n",
        "[Dataset](https://drive.google.com/drive/folders/1AqwmO8XJhn_i9AnZfcfu-sgzN96V7zVS?usp=sharing): Use review data for the heavy lifting, business data supplements (merge in when needed). "
      ]
    },
    {
      "cell_type": "markdown",
      "metadata": {
        "id": "_I0oA52Kyt6F"
      },
      "source": [
        "# 1. Pre-processing\n",
        "\n",
        "1. Read in the Quebec Yelp Reviews Dataset + business datasets as df and df_biz, respectively. Specify the index_col = 0 option when reading in.  Be sure to reset and drop the index after reading in.\n",
        "1. Find all users who have written **50** or more reviews. Call this list `uids`\n",
        "    1. Review data visualization assignment for hint (where you selected only popular categories for Rent the Runway).\n",
        "1. Find all businesses that have received **25** or more reviews. Call this list `bids`\n",
        "1. Filter the reviews data to only include reviews written by users belong to `uids` and for the businesses belong to `bids`.\n",
        "1. Drop duplicates on `user_id` and `business_id` so that you only have 1 review for 1 business for each user."
      ]
    },
    {
      "cell_type": "code",
      "execution_count": 34,
      "metadata": {
        "id": "jbveEC-acRsw"
      },
      "outputs": [],
      "source": [
        "import pandas as pd, numpy as np\n",
        "import matplotlib.pyplot as plt\n",
        "from scipy.sparse.linalg import svds\n",
        "from sklearn.metrics import pairwise_distances"
      ]
    },
    {
      "cell_type": "code",
      "execution_count": 35,
      "metadata": {
        "colab": {
          "base_uri": "https://localhost:8080/"
        },
        "id": "0zekXpYdskQx",
        "outputId": "4065f8f9-dd50-4a11-a019-dda8dd49651e"
      },
      "outputs": [
        {
          "output_type": "stream",
          "name": "stdout",
          "text": [
            "Drive already mounted at /content/drive; to attempt to forcibly remount, call drive.mount(\"/content/drive\", force_remount=True).\n"
          ]
        }
      ],
      "source": [
        "from google.colab import drive\n",
        "drive.mount('/content/drive')"
      ]
    },
    {
      "cell_type": "code",
      "execution_count": 36,
      "metadata": {
        "colab": {
          "base_uri": "https://localhost:8080/"
        },
        "id": "26a7pvIuBIRH",
        "outputId": "930667af-18e2-4b0d-afa8-84297ae94a4a"
      },
      "outputs": [
        {
          "output_type": "stream",
          "name": "stdout",
          "text": [
            "Looking in indexes: https://pypi.org/simple, https://us-python.pkg.dev/colab-wheels/public/simple/\n",
            "Collecting hdbscan\n",
            "  Using cached hdbscan-0.8.28.tar.gz (5.2 MB)\n",
            "  Installing build dependencies ... \u001b[?25l\u001b[?25hdone\n",
            "  Getting requirements to build wheel ... \u001b[?25l\u001b[?25hdone\n",
            "    Preparing wheel metadata ... \u001b[?25l\u001b[?25hdone\n",
            "Requirement already satisfied: scikit-learn>=0.20 in /usr/local/lib/python3.7/dist-packages (from hdbscan) (1.0.2)\n",
            "Requirement already satisfied: cython>=0.27 in /usr/local/lib/python3.7/dist-packages (from hdbscan) (0.29.31)\n",
            "Requirement already satisfied: joblib>=1.0 in /usr/local/lib/python3.7/dist-packages (from hdbscan) (1.1.0)\n",
            "Requirement already satisfied: numpy>=1.20 in /usr/local/lib/python3.7/dist-packages (from hdbscan) (1.21.6)\n",
            "Requirement already satisfied: scipy>=1.0 in /usr/local/lib/python3.7/dist-packages (from hdbscan) (1.7.3)\n",
            "Requirement already satisfied: threadpoolctl>=2.0.0 in /usr/local/lib/python3.7/dist-packages (from scikit-learn>=0.20->hdbscan) (3.1.0)\n",
            "Building wheels for collected packages: hdbscan\n",
            "  Building wheel for hdbscan (PEP 517) ... \u001b[?25l\u001b[?25hdone\n",
            "  Created wheel for hdbscan: filename=hdbscan-0.8.28-cp37-cp37m-linux_x86_64.whl size=2340216 sha256=c11126a8beed990e8b1864e6d4cee74c53203278db746ec1cf556f65b59ac54a\n",
            "  Stored in directory: /root/.cache/pip/wheels/6e/7a/5e/259ccc841c085fc41b99ef4a71e896b62f5161f2bc8a14c97a\n",
            "Successfully built hdbscan\n",
            "Installing collected packages: hdbscan\n",
            "Successfully installed hdbscan-0.8.28\n"
          ]
        }
      ],
      "source": [
        "! pip install hdbscan"
      ]
    },
    {
      "cell_type": "code",
      "execution_count": 37,
      "metadata": {
        "id": "umVcpbFuBv6O"
      },
      "outputs": [],
      "source": [
        "dfp = pd.read_csv(\"/content/drive/MyDrive/Copy of quebec_yelp_reviews.csv\", index_col = 0,engine='python',skip_blank_lines=True)\n",
        "df_biz = pd.read_csv(\"/content/drive/MyDrive/Copy of quebec_biz.csv\",skip_blank_lines=True)\n"
      ]
    },
    {
      "cell_type": "code",
      "execution_count": 38,
      "metadata": {
        "colab": {
          "base_uri": "https://localhost:8080/"
        },
        "id": "Qp-tDibTs7ob",
        "outputId": "10349906-c2b3-4d4b-b533-a8414c366f48"
      },
      "outputs": [
        {
          "output_type": "execute_result",
          "data": {
            "text/plain": [
              "(208166, 22)"
            ]
          },
          "metadata": {},
          "execution_count": 38
        }
      ],
      "source": [
        "dfp.head(2)\n",
        "dfp.shape"
      ]
    },
    {
      "cell_type": "code",
      "execution_count": 39,
      "metadata": {
        "colab": {
          "base_uri": "https://localhost:8080/"
        },
        "id": "SfuDmBUDtObB",
        "outputId": "a3daad9f-323b-4a69-fb9e-a6d88b804f85"
      },
      "outputs": [
        {
          "output_type": "execute_result",
          "data": {
            "text/plain": [
              "(10233, 15)"
            ]
          },
          "metadata": {},
          "execution_count": 39
        }
      ],
      "source": [
        "df_biz.shape"
      ]
    },
    {
      "cell_type": "code",
      "execution_count": 40,
      "metadata": {
        "id": "5BLwiDfQswoT"
      },
      "outputs": [],
      "source": [
        "df = dfp.dropna()\n",
        "df_biz = df_biz.dropna()"
      ]
    },
    {
      "cell_type": "code",
      "execution_count": 41,
      "metadata": {
        "colab": {
          "base_uri": "https://localhost:8080/"
        },
        "id": "7DJimoOrEE7a",
        "outputId": "6421287c-e115-4a3e-a1bd-63666b703814"
      },
      "outputs": [
        {
          "output_type": "execute_result",
          "data": {
            "text/plain": [
              "(181725, 22)"
            ]
          },
          "metadata": {},
          "execution_count": 41
        }
      ],
      "source": [
        "df.head(2)\n",
        "df.shape"
      ]
    },
    {
      "cell_type": "code",
      "execution_count": 42,
      "metadata": {
        "colab": {
          "base_uri": "https://localhost:8080/"
        },
        "id": "Bm8lWTBqtXNk",
        "outputId": "a7380893-7c32-4754-f0a0-ecc80379a6ca"
      },
      "outputs": [
        {
          "output_type": "execute_result",
          "data": {
            "text/plain": [
              "(6952, 15)"
            ]
          },
          "metadata": {},
          "execution_count": 42
        }
      ],
      "source": [
        "df_biz.shape"
      ]
    },
    {
      "cell_type": "code",
      "execution_count": 43,
      "metadata": {
        "colab": {
          "base_uri": "https://localhost:8080/"
        },
        "id": "tYgrosAJxnnW",
        "outputId": "acc17d50-0d4e-4fe0-c6a5-8d79524a9add"
      },
      "outputs": [
        {
          "output_type": "execute_result",
          "data": {
            "text/plain": [
              "(181725, 22)"
            ]
          },
          "metadata": {},
          "execution_count": 43
        }
      ],
      "source": [
        "df.head(2)\n",
        "df.shape"
      ]
    },
    {
      "cell_type": "code",
      "execution_count": 44,
      "metadata": {
        "id": "2XsRIB_UZH3C"
      },
      "outputs": [],
      "source": [
        "business = df[['business_id','user_id','stars']]"
      ]
    },
    {
      "cell_type": "code",
      "execution_count": 45,
      "metadata": {
        "colab": {
          "base_uri": "https://localhost:8080/"
        },
        "id": "hxHaT-eWbcaO",
        "outputId": "839cf6b3-9cf3-4861-b837-c08036b00efc"
      },
      "outputs": [
        {
          "output_type": "stream",
          "name": "stderr",
          "text": [
            "/usr/local/lib/python3.7/dist-packages/pandas/util/_decorators.py:311: SettingWithCopyWarning: \n",
            "A value is trying to be set on a copy of a slice from a DataFrame\n",
            "\n",
            "See the caveats in the documentation: https://pandas.pydata.org/pandas-docs/stable/user_guide/indexing.html#returning-a-view-versus-a-copy\n",
            "  return func(*args, **kwargs)\n"
          ]
        }
      ],
      "source": [
        "mratings = df[['business_id','user_id','stars','date']]\n",
        "\n",
        "mratings.drop_duplicates(['user_id', 'business_id'],inplace = True)"
      ]
    },
    {
      "cell_type": "code",
      "execution_count": 46,
      "metadata": {
        "colab": {
          "base_uri": "https://localhost:8080/"
        },
        "id": "F7ishdMlEE0T",
        "outputId": "dff187ce-1d0f-4535-bbab-4a37471d182f"
      },
      "outputs": [
        {
          "output_type": "stream",
          "name": "stderr",
          "text": [
            "/usr/local/lib/python3.7/dist-packages/ipykernel_launcher.py:1: FutureWarning: Indexing with multiple keys (implicitly converted to a tuple of keys) will be deprecated, use a list instead.\n",
            "  \"\"\"Entry point for launching an IPython kernel.\n"
          ]
        }
      ],
      "source": [
        "nl = df.groupby('user_id')['business_id','review_id','stars'].count().reset_index()\n",
        "stemp = nl.sort_values(by='review_id',ascending=False)\n",
        "new = nl[nl['review_id'] > 49]\n",
        "uids = new['user_id']"
      ]
    },
    {
      "cell_type": "code",
      "execution_count": 47,
      "metadata": {
        "colab": {
          "base_uri": "https://localhost:8080/"
        },
        "id": "2f5Y4fj71b7W",
        "outputId": "5670f53a-b3d8-4e5f-df37-982cb97d571b"
      },
      "outputs": [
        {
          "output_type": "stream",
          "name": "stderr",
          "text": [
            "/usr/local/lib/python3.7/dist-packages/ipykernel_launcher.py:1: FutureWarning: Indexing with multiple keys (implicitly converted to a tuple of keys) will be deprecated, use a list instead.\n",
            "  \"\"\"Entry point for launching an IPython kernel.\n"
          ]
        },
        {
          "output_type": "execute_result",
          "data": {
            "text/plain": [
              "1       -1xuC540Nycht_iWFeJ-dw\n",
              "2       -3Haoc0l9DZRSXxIHi9oJg\n",
              "9       -8hAGEWRSKtpLZ8e3L2xhA\n",
              "10      -92cC6-X87HQ1DE1UHOx3w\n",
              "21      -HsqnPAz374YSoyFDyjl3A\n",
              "                 ...          \n",
              "6931    zrnP9HqoF-RI9jqoW8pytA\n",
              "6932    zsMMlOYtXm8SNy0bl1leBA\n",
              "6940    zw4Legbcu018p5WcZ74iWA\n",
              "6943    zwkif4XLEDqdEwEgTWLIVQ\n",
              "6951    zzlZJVkEhOzR2tJOLHcF2A\n",
              "Name: business_id, Length: 1690, dtype: object"
            ]
          },
          "metadata": {},
          "execution_count": 47
        }
      ],
      "source": [
        "nl2 = df.groupby('business_id')['user_id','review_id','stars'].count().reset_index()\n",
        "stemp2 = nl2.sort_values(by='review_id',ascending=False)\n",
        "new2 = nl2[nl2['review_id'] > 24]\n",
        "bids = new2['business_id']\n",
        "bids"
      ]
    },
    {
      "cell_type": "code",
      "execution_count": 48,
      "metadata": {
        "id": "suP62MWt3-Zz"
      },
      "outputs": [],
      "source": [
        "df2 = df.copy()\n",
        "df3 = df2[df2['user_id'].isin(uids)] \n",
        "df4 = df3[df3['business_id'].isin(bids)]"
      ]
    },
    {
      "cell_type": "code",
      "execution_count": 49,
      "metadata": {
        "id": "-molcmk5R7v8"
      },
      "outputs": [],
      "source": [
        "df6 = df4.drop_duplicates(subset=['user_id','business_id'])"
      ]
    },
    {
      "cell_type": "code",
      "execution_count": 50,
      "metadata": {
        "colab": {
          "base_uri": "https://localhost:8080/"
        },
        "id": "vrsuvrVGApA7",
        "outputId": "e6cb3af0-1437-4b56-b240-c7a605ff7dcd"
      },
      "outputs": [
        {
          "output_type": "execute_result",
          "data": {
            "text/plain": [
              "(22627, 22)"
            ]
          },
          "metadata": {},
          "execution_count": 50
        }
      ],
      "source": [
        "df6.shape\n"
      ]
    },
    {
      "cell_type": "code",
      "source": [
        "df6 = df6.sample(frac=0.5)\n",
        "#Using 50% of the data to prevent them from crashing"
      ],
      "metadata": {
        "id": "jGkGf9-f7VRJ"
      },
      "execution_count": 51,
      "outputs": []
    },
    {
      "cell_type": "code",
      "source": [
        "df6.shape"
      ],
      "metadata": {
        "colab": {
          "base_uri": "https://localhost:8080/"
        },
        "id": "0xOwleLJeBwZ",
        "outputId": "5e3a8f8f-c2c4-4af1-f9af-a7f727b7c140"
      },
      "execution_count": 52,
      "outputs": [
        {
          "output_type": "execute_result",
          "data": {
            "text/plain": [
              "(11314, 22)"
            ]
          },
          "metadata": {},
          "execution_count": 52
        }
      ]
    },
    {
      "cell_type": "code",
      "execution_count": 53,
      "metadata": {
        "id": "_dcx4LQqCXlK"
      },
      "outputs": [],
      "source": [
        "dfsample = df6.sample(frac=0.1)"
      ]
    },
    {
      "cell_type": "markdown",
      "source": [
        "df6.columns()"
      ],
      "metadata": {
        "id": "88NR9aTMcKa4"
      }
    },
    {
      "cell_type": "markdown",
      "metadata": {
        "id": "4zs1RQq6cRC6"
      },
      "source": [
        "# 2. SVD based Collaborative Filtering\n",
        "\n",
        "Run a k-fold cross validated latent factor selection on the SVD based collaborative filtering.\n",
        "\n",
        "1. Run a cross-validated latent factor search for 1-20 factors with each iteration having 10-folds. Refer to notes for module.\n",
        "1. Produce the latent dimension vs. MSE plot. How many latent factors appear to yield the best out of sample prediction fit?\n"
      ]
    },
    {
      "cell_type": "code",
      "execution_count": 54,
      "metadata": {
        "colab": {
          "base_uri": "https://localhost:8080/",
          "height": 254
        },
        "id": "Ny6WQxGMiymL",
        "outputId": "4504c259-3ab6-4c41-d521-60df755370f4"
      },
      "outputs": [
        {
          "output_type": "execute_result",
          "data": {
            "text/plain": [
              "business_id             -1xuC540Nycht_iWFeJ-dw  -3Haoc0l9DZRSXxIHi9oJg  \\\n",
              "user_id                                                                  \n",
              "-5ohKzWWOzAG1M1OtcoPgQ                     NaN                     NaN   \n",
              "-8nmj3B-tfY_vFiimtBOsw                     NaN                     NaN   \n",
              "\n",
              "business_id             -8hAGEWRSKtpLZ8e3L2xhA  -92cC6-X87HQ1DE1UHOx3w  \\\n",
              "user_id                                                                  \n",
              "-5ohKzWWOzAG1M1OtcoPgQ                     NaN                     NaN   \n",
              "-8nmj3B-tfY_vFiimtBOsw                     NaN                     NaN   \n",
              "\n",
              "business_id             -HsqnPAz374YSoyFDyjl3A  -Levln3VcfeXS4iHt5ct9A  \\\n",
              "user_id                                                                  \n",
              "-5ohKzWWOzAG1M1OtcoPgQ                     4.0                     NaN   \n",
              "-8nmj3B-tfY_vFiimtBOsw                     NaN                     NaN   \n",
              "\n",
              "business_id             -MwaICRwxaUi0JBfad2Y3Q  -Mz3M0g6iFZczs6a7ddf5g  \\\n",
              "user_id                                                                  \n",
              "-5ohKzWWOzAG1M1OtcoPgQ                     NaN                     NaN   \n",
              "-8nmj3B-tfY_vFiimtBOsw                     NaN                     NaN   \n",
              "\n",
              "business_id             -NIpCMONu69292q9Itiipg  -OhQws_Si3YOYDfm6DilxA  ...  \\\n",
              "user_id                                                                 ...   \n",
              "-5ohKzWWOzAG1M1OtcoPgQ                     NaN                     NaN  ...   \n",
              "-8nmj3B-tfY_vFiimtBOsw                     NaN                     NaN  ...   \n",
              "\n",
              "business_id             zWVSNGmW2O1iN7PEViyK5A  zktCQRlDtF6XmOpqKBz1mA  \\\n",
              "user_id                                                                  \n",
              "-5ohKzWWOzAG1M1OtcoPgQ                     NaN                     NaN   \n",
              "-8nmj3B-tfY_vFiimtBOsw                     NaN                     NaN   \n",
              "\n",
              "business_id             zmQyE-gIUpwBCMmTFFRbJw  zpw5S3QwUse1MH-Eerbnaw  \\\n",
              "user_id                                                                  \n",
              "-5ohKzWWOzAG1M1OtcoPgQ                     NaN                     NaN   \n",
              "-8nmj3B-tfY_vFiimtBOsw                     NaN                     NaN   \n",
              "\n",
              "business_id             zr2wA55AskfBJxrvUeDZRA  zrnP9HqoF-RI9jqoW8pytA  \\\n",
              "user_id                                                                  \n",
              "-5ohKzWWOzAG1M1OtcoPgQ                     NaN                     NaN   \n",
              "-8nmj3B-tfY_vFiimtBOsw                     NaN                     NaN   \n",
              "\n",
              "business_id             zsMMlOYtXm8SNy0bl1leBA  zw4Legbcu018p5WcZ74iWA  \\\n",
              "user_id                                                                  \n",
              "-5ohKzWWOzAG1M1OtcoPgQ                     NaN                     NaN   \n",
              "-8nmj3B-tfY_vFiimtBOsw                     NaN                     NaN   \n",
              "\n",
              "business_id             zwkif4XLEDqdEwEgTWLIVQ  zzlZJVkEhOzR2tJOLHcF2A  \n",
              "user_id                                                                 \n",
              "-5ohKzWWOzAG1M1OtcoPgQ                     NaN                     NaN  \n",
              "-8nmj3B-tfY_vFiimtBOsw                     NaN                     NaN  \n",
              "\n",
              "[2 rows x 1627 columns]"
            ],
            "text/html": [
              "\n",
              "  <div id=\"df-398cf10c-dd65-49e0-9520-f56ffcec15bb\">\n",
              "    <div class=\"colab-df-container\">\n",
              "      <div>\n",
              "<style scoped>\n",
              "    .dataframe tbody tr th:only-of-type {\n",
              "        vertical-align: middle;\n",
              "    }\n",
              "\n",
              "    .dataframe tbody tr th {\n",
              "        vertical-align: top;\n",
              "    }\n",
              "\n",
              "    .dataframe thead th {\n",
              "        text-align: right;\n",
              "    }\n",
              "</style>\n",
              "<table border=\"1\" class=\"dataframe\">\n",
              "  <thead>\n",
              "    <tr style=\"text-align: right;\">\n",
              "      <th>business_id</th>\n",
              "      <th>-1xuC540Nycht_iWFeJ-dw</th>\n",
              "      <th>-3Haoc0l9DZRSXxIHi9oJg</th>\n",
              "      <th>-8hAGEWRSKtpLZ8e3L2xhA</th>\n",
              "      <th>-92cC6-X87HQ1DE1UHOx3w</th>\n",
              "      <th>-HsqnPAz374YSoyFDyjl3A</th>\n",
              "      <th>-Levln3VcfeXS4iHt5ct9A</th>\n",
              "      <th>-MwaICRwxaUi0JBfad2Y3Q</th>\n",
              "      <th>-Mz3M0g6iFZczs6a7ddf5g</th>\n",
              "      <th>-NIpCMONu69292q9Itiipg</th>\n",
              "      <th>-OhQws_Si3YOYDfm6DilxA</th>\n",
              "      <th>...</th>\n",
              "      <th>zWVSNGmW2O1iN7PEViyK5A</th>\n",
              "      <th>zktCQRlDtF6XmOpqKBz1mA</th>\n",
              "      <th>zmQyE-gIUpwBCMmTFFRbJw</th>\n",
              "      <th>zpw5S3QwUse1MH-Eerbnaw</th>\n",
              "      <th>zr2wA55AskfBJxrvUeDZRA</th>\n",
              "      <th>zrnP9HqoF-RI9jqoW8pytA</th>\n",
              "      <th>zsMMlOYtXm8SNy0bl1leBA</th>\n",
              "      <th>zw4Legbcu018p5WcZ74iWA</th>\n",
              "      <th>zwkif4XLEDqdEwEgTWLIVQ</th>\n",
              "      <th>zzlZJVkEhOzR2tJOLHcF2A</th>\n",
              "    </tr>\n",
              "    <tr>\n",
              "      <th>user_id</th>\n",
              "      <th></th>\n",
              "      <th></th>\n",
              "      <th></th>\n",
              "      <th></th>\n",
              "      <th></th>\n",
              "      <th></th>\n",
              "      <th></th>\n",
              "      <th></th>\n",
              "      <th></th>\n",
              "      <th></th>\n",
              "      <th></th>\n",
              "      <th></th>\n",
              "      <th></th>\n",
              "      <th></th>\n",
              "      <th></th>\n",
              "      <th></th>\n",
              "      <th></th>\n",
              "      <th></th>\n",
              "      <th></th>\n",
              "      <th></th>\n",
              "      <th></th>\n",
              "    </tr>\n",
              "  </thead>\n",
              "  <tbody>\n",
              "    <tr>\n",
              "      <th>-5ohKzWWOzAG1M1OtcoPgQ</th>\n",
              "      <td>NaN</td>\n",
              "      <td>NaN</td>\n",
              "      <td>NaN</td>\n",
              "      <td>NaN</td>\n",
              "      <td>4.0</td>\n",
              "      <td>NaN</td>\n",
              "      <td>NaN</td>\n",
              "      <td>NaN</td>\n",
              "      <td>NaN</td>\n",
              "      <td>NaN</td>\n",
              "      <td>...</td>\n",
              "      <td>NaN</td>\n",
              "      <td>NaN</td>\n",
              "      <td>NaN</td>\n",
              "      <td>NaN</td>\n",
              "      <td>NaN</td>\n",
              "      <td>NaN</td>\n",
              "      <td>NaN</td>\n",
              "      <td>NaN</td>\n",
              "      <td>NaN</td>\n",
              "      <td>NaN</td>\n",
              "    </tr>\n",
              "    <tr>\n",
              "      <th>-8nmj3B-tfY_vFiimtBOsw</th>\n",
              "      <td>NaN</td>\n",
              "      <td>NaN</td>\n",
              "      <td>NaN</td>\n",
              "      <td>NaN</td>\n",
              "      <td>NaN</td>\n",
              "      <td>NaN</td>\n",
              "      <td>NaN</td>\n",
              "      <td>NaN</td>\n",
              "      <td>NaN</td>\n",
              "      <td>NaN</td>\n",
              "      <td>...</td>\n",
              "      <td>NaN</td>\n",
              "      <td>NaN</td>\n",
              "      <td>NaN</td>\n",
              "      <td>NaN</td>\n",
              "      <td>NaN</td>\n",
              "      <td>NaN</td>\n",
              "      <td>NaN</td>\n",
              "      <td>NaN</td>\n",
              "      <td>NaN</td>\n",
              "      <td>NaN</td>\n",
              "    </tr>\n",
              "  </tbody>\n",
              "</table>\n",
              "<p>2 rows × 1627 columns</p>\n",
              "</div>\n",
              "      <button class=\"colab-df-convert\" onclick=\"convertToInteractive('df-398cf10c-dd65-49e0-9520-f56ffcec15bb')\"\n",
              "              title=\"Convert this dataframe to an interactive table.\"\n",
              "              style=\"display:none;\">\n",
              "        \n",
              "  <svg xmlns=\"http://www.w3.org/2000/svg\" height=\"24px\"viewBox=\"0 0 24 24\"\n",
              "       width=\"24px\">\n",
              "    <path d=\"M0 0h24v24H0V0z\" fill=\"none\"/>\n",
              "    <path d=\"M18.56 5.44l.94 2.06.94-2.06 2.06-.94-2.06-.94-.94-2.06-.94 2.06-2.06.94zm-11 1L8.5 8.5l.94-2.06 2.06-.94-2.06-.94L8.5 2.5l-.94 2.06-2.06.94zm10 10l.94 2.06.94-2.06 2.06-.94-2.06-.94-.94-2.06-.94 2.06-2.06.94z\"/><path d=\"M17.41 7.96l-1.37-1.37c-.4-.4-.92-.59-1.43-.59-.52 0-1.04.2-1.43.59L10.3 9.45l-7.72 7.72c-.78.78-.78 2.05 0 2.83L4 21.41c.39.39.9.59 1.41.59.51 0 1.02-.2 1.41-.59l7.78-7.78 2.81-2.81c.8-.78.8-2.07 0-2.86zM5.41 20L4 18.59l7.72-7.72 1.47 1.35L5.41 20z\"/>\n",
              "  </svg>\n",
              "      </button>\n",
              "      \n",
              "  <style>\n",
              "    .colab-df-container {\n",
              "      display:flex;\n",
              "      flex-wrap:wrap;\n",
              "      gap: 12px;\n",
              "    }\n",
              "\n",
              "    .colab-df-convert {\n",
              "      background-color: #E8F0FE;\n",
              "      border: none;\n",
              "      border-radius: 50%;\n",
              "      cursor: pointer;\n",
              "      display: none;\n",
              "      fill: #1967D2;\n",
              "      height: 32px;\n",
              "      padding: 0 0 0 0;\n",
              "      width: 32px;\n",
              "    }\n",
              "\n",
              "    .colab-df-convert:hover {\n",
              "      background-color: #E2EBFA;\n",
              "      box-shadow: 0px 1px 2px rgba(60, 64, 67, 0.3), 0px 1px 3px 1px rgba(60, 64, 67, 0.15);\n",
              "      fill: #174EA6;\n",
              "    }\n",
              "\n",
              "    [theme=dark] .colab-df-convert {\n",
              "      background-color: #3B4455;\n",
              "      fill: #D2E3FC;\n",
              "    }\n",
              "\n",
              "    [theme=dark] .colab-df-convert:hover {\n",
              "      background-color: #434B5C;\n",
              "      box-shadow: 0px 1px 3px 1px rgba(0, 0, 0, 0.15);\n",
              "      filter: drop-shadow(0px 1px 2px rgba(0, 0, 0, 0.3));\n",
              "      fill: #FFFFFF;\n",
              "    }\n",
              "  </style>\n",
              "\n",
              "      <script>\n",
              "        const buttonEl =\n",
              "          document.querySelector('#df-398cf10c-dd65-49e0-9520-f56ffcec15bb button.colab-df-convert');\n",
              "        buttonEl.style.display =\n",
              "          google.colab.kernel.accessAllowed ? 'block' : 'none';\n",
              "\n",
              "        async function convertToInteractive(key) {\n",
              "          const element = document.querySelector('#df-398cf10c-dd65-49e0-9520-f56ffcec15bb');\n",
              "          const dataTable =\n",
              "            await google.colab.kernel.invokeFunction('convertToInteractive',\n",
              "                                                     [key], {});\n",
              "          if (!dataTable) return;\n",
              "\n",
              "          const docLinkHtml = 'Like what you see? Visit the ' +\n",
              "            '<a target=\"_blank\" href=https://colab.research.google.com/notebooks/data_table.ipynb>data table notebook</a>'\n",
              "            + ' to learn more about interactive tables.';\n",
              "          element.innerHTML = '';\n",
              "          dataTable['output_type'] = 'display_data';\n",
              "          await google.colab.output.renderOutput(dataTable, element);\n",
              "          const docLink = document.createElement('div');\n",
              "          docLink.innerHTML = docLinkHtml;\n",
              "          element.appendChild(docLink);\n",
              "        }\n",
              "      </script>\n",
              "    </div>\n",
              "  </div>\n",
              "  "
            ]
          },
          "metadata": {},
          "execution_count": 54
        }
      ],
      "source": [
        "dfpivot = df6.pivot(index='user_id',columns='business_id',values='stars')\n",
        "dfpivot.head(2)"
      ]
    },
    {
      "cell_type": "code",
      "execution_count": 55,
      "metadata": {
        "id": "gixSCQg5Sj2a",
        "colab": {
          "base_uri": "https://localhost:8080/"
        },
        "outputId": "71c406bf-3baf-4c4d-bc50-98b8a0163078"
      },
      "outputs": [
        {
          "output_type": "execute_result",
          "data": {
            "text/plain": [
              "user_id\n",
              "-5ohKzWWOzAG1M1OtcoPgQ    3.555556\n",
              "-8nmj3B-tfY_vFiimtBOsw    3.714286\n",
              "-9b4s874f_CnznTu4JorRg    4.037037\n",
              "-KpEgEen1tj-jdjIS7uVOw    3.823529\n",
              "-NwDw6HgVpA4ys6WYcI6Xg    4.090909\n",
              "                            ...   \n",
              "ygjIo5gLQ8wmsOcTDiHG2Q    3.894737\n",
              "yphnJ8zYbJF7Y3QbtMj91g    3.986111\n",
              "zIOxNinC6ofIwwGjO9rUWg    3.710526\n",
              "zyg4-MFtfPWmwucVazSjfw    3.526316\n",
              "zzKsgIF472IyDpJxmHDIpw    3.333333\n",
              "Length: 339, dtype: float64"
            ]
          },
          "metadata": {},
          "execution_count": 55
        }
      ],
      "source": [
        "user_means = dfpivot.mean(axis = 1)\n",
        "user_means"
      ]
    },
    {
      "cell_type": "code",
      "execution_count": 56,
      "metadata": {
        "id": "FHzS27Mut5mP",
        "colab": {
          "base_uri": "https://localhost:8080/",
          "height": 254
        },
        "outputId": "14e053d3-f8a3-46b0-991a-05ef0f995d1a"
      },
      "outputs": [
        {
          "output_type": "execute_result",
          "data": {
            "text/plain": [
              "business_id             -1xuC540Nycht_iWFeJ-dw  -3Haoc0l9DZRSXxIHi9oJg  \\\n",
              "user_id                                                                  \n",
              "-5ohKzWWOzAG1M1OtcoPgQ                     NaN                     NaN   \n",
              "-8nmj3B-tfY_vFiimtBOsw                     NaN                     NaN   \n",
              "\n",
              "business_id             -8hAGEWRSKtpLZ8e3L2xhA  -92cC6-X87HQ1DE1UHOx3w  \\\n",
              "user_id                                                                  \n",
              "-5ohKzWWOzAG1M1OtcoPgQ                     NaN                     NaN   \n",
              "-8nmj3B-tfY_vFiimtBOsw                     NaN                     NaN   \n",
              "\n",
              "business_id             -HsqnPAz374YSoyFDyjl3A  -Levln3VcfeXS4iHt5ct9A  \\\n",
              "user_id                                                                  \n",
              "-5ohKzWWOzAG1M1OtcoPgQ                0.444444                     NaN   \n",
              "-8nmj3B-tfY_vFiimtBOsw                     NaN                     NaN   \n",
              "\n",
              "business_id             -MwaICRwxaUi0JBfad2Y3Q  -Mz3M0g6iFZczs6a7ddf5g  \\\n",
              "user_id                                                                  \n",
              "-5ohKzWWOzAG1M1OtcoPgQ                     NaN                     NaN   \n",
              "-8nmj3B-tfY_vFiimtBOsw                     NaN                     NaN   \n",
              "\n",
              "business_id             -NIpCMONu69292q9Itiipg  -OhQws_Si3YOYDfm6DilxA  ...  \\\n",
              "user_id                                                                 ...   \n",
              "-5ohKzWWOzAG1M1OtcoPgQ                     NaN                     NaN  ...   \n",
              "-8nmj3B-tfY_vFiimtBOsw                     NaN                     NaN  ...   \n",
              "\n",
              "business_id             zWVSNGmW2O1iN7PEViyK5A  zktCQRlDtF6XmOpqKBz1mA  \\\n",
              "user_id                                                                  \n",
              "-5ohKzWWOzAG1M1OtcoPgQ                     NaN                     NaN   \n",
              "-8nmj3B-tfY_vFiimtBOsw                     NaN                     NaN   \n",
              "\n",
              "business_id             zmQyE-gIUpwBCMmTFFRbJw  zpw5S3QwUse1MH-Eerbnaw  \\\n",
              "user_id                                                                  \n",
              "-5ohKzWWOzAG1M1OtcoPgQ                     NaN                     NaN   \n",
              "-8nmj3B-tfY_vFiimtBOsw                     NaN                     NaN   \n",
              "\n",
              "business_id             zr2wA55AskfBJxrvUeDZRA  zrnP9HqoF-RI9jqoW8pytA  \\\n",
              "user_id                                                                  \n",
              "-5ohKzWWOzAG1M1OtcoPgQ                     NaN                     NaN   \n",
              "-8nmj3B-tfY_vFiimtBOsw                     NaN                     NaN   \n",
              "\n",
              "business_id             zsMMlOYtXm8SNy0bl1leBA  zw4Legbcu018p5WcZ74iWA  \\\n",
              "user_id                                                                  \n",
              "-5ohKzWWOzAG1M1OtcoPgQ                     NaN                     NaN   \n",
              "-8nmj3B-tfY_vFiimtBOsw                     NaN                     NaN   \n",
              "\n",
              "business_id             zwkif4XLEDqdEwEgTWLIVQ  zzlZJVkEhOzR2tJOLHcF2A  \n",
              "user_id                                                                 \n",
              "-5ohKzWWOzAG1M1OtcoPgQ                     NaN                     NaN  \n",
              "-8nmj3B-tfY_vFiimtBOsw                     NaN                     NaN  \n",
              "\n",
              "[2 rows x 1627 columns]"
            ],
            "text/html": [
              "\n",
              "  <div id=\"df-26255f36-6a63-4d69-b1ea-c8738a7bff14\">\n",
              "    <div class=\"colab-df-container\">\n",
              "      <div>\n",
              "<style scoped>\n",
              "    .dataframe tbody tr th:only-of-type {\n",
              "        vertical-align: middle;\n",
              "    }\n",
              "\n",
              "    .dataframe tbody tr th {\n",
              "        vertical-align: top;\n",
              "    }\n",
              "\n",
              "    .dataframe thead th {\n",
              "        text-align: right;\n",
              "    }\n",
              "</style>\n",
              "<table border=\"1\" class=\"dataframe\">\n",
              "  <thead>\n",
              "    <tr style=\"text-align: right;\">\n",
              "      <th>business_id</th>\n",
              "      <th>-1xuC540Nycht_iWFeJ-dw</th>\n",
              "      <th>-3Haoc0l9DZRSXxIHi9oJg</th>\n",
              "      <th>-8hAGEWRSKtpLZ8e3L2xhA</th>\n",
              "      <th>-92cC6-X87HQ1DE1UHOx3w</th>\n",
              "      <th>-HsqnPAz374YSoyFDyjl3A</th>\n",
              "      <th>-Levln3VcfeXS4iHt5ct9A</th>\n",
              "      <th>-MwaICRwxaUi0JBfad2Y3Q</th>\n",
              "      <th>-Mz3M0g6iFZczs6a7ddf5g</th>\n",
              "      <th>-NIpCMONu69292q9Itiipg</th>\n",
              "      <th>-OhQws_Si3YOYDfm6DilxA</th>\n",
              "      <th>...</th>\n",
              "      <th>zWVSNGmW2O1iN7PEViyK5A</th>\n",
              "      <th>zktCQRlDtF6XmOpqKBz1mA</th>\n",
              "      <th>zmQyE-gIUpwBCMmTFFRbJw</th>\n",
              "      <th>zpw5S3QwUse1MH-Eerbnaw</th>\n",
              "      <th>zr2wA55AskfBJxrvUeDZRA</th>\n",
              "      <th>zrnP9HqoF-RI9jqoW8pytA</th>\n",
              "      <th>zsMMlOYtXm8SNy0bl1leBA</th>\n",
              "      <th>zw4Legbcu018p5WcZ74iWA</th>\n",
              "      <th>zwkif4XLEDqdEwEgTWLIVQ</th>\n",
              "      <th>zzlZJVkEhOzR2tJOLHcF2A</th>\n",
              "    </tr>\n",
              "    <tr>\n",
              "      <th>user_id</th>\n",
              "      <th></th>\n",
              "      <th></th>\n",
              "      <th></th>\n",
              "      <th></th>\n",
              "      <th></th>\n",
              "      <th></th>\n",
              "      <th></th>\n",
              "      <th></th>\n",
              "      <th></th>\n",
              "      <th></th>\n",
              "      <th></th>\n",
              "      <th></th>\n",
              "      <th></th>\n",
              "      <th></th>\n",
              "      <th></th>\n",
              "      <th></th>\n",
              "      <th></th>\n",
              "      <th></th>\n",
              "      <th></th>\n",
              "      <th></th>\n",
              "      <th></th>\n",
              "    </tr>\n",
              "  </thead>\n",
              "  <tbody>\n",
              "    <tr>\n",
              "      <th>-5ohKzWWOzAG1M1OtcoPgQ</th>\n",
              "      <td>NaN</td>\n",
              "      <td>NaN</td>\n",
              "      <td>NaN</td>\n",
              "      <td>NaN</td>\n",
              "      <td>0.444444</td>\n",
              "      <td>NaN</td>\n",
              "      <td>NaN</td>\n",
              "      <td>NaN</td>\n",
              "      <td>NaN</td>\n",
              "      <td>NaN</td>\n",
              "      <td>...</td>\n",
              "      <td>NaN</td>\n",
              "      <td>NaN</td>\n",
              "      <td>NaN</td>\n",
              "      <td>NaN</td>\n",
              "      <td>NaN</td>\n",
              "      <td>NaN</td>\n",
              "      <td>NaN</td>\n",
              "      <td>NaN</td>\n",
              "      <td>NaN</td>\n",
              "      <td>NaN</td>\n",
              "    </tr>\n",
              "    <tr>\n",
              "      <th>-8nmj3B-tfY_vFiimtBOsw</th>\n",
              "      <td>NaN</td>\n",
              "      <td>NaN</td>\n",
              "      <td>NaN</td>\n",
              "      <td>NaN</td>\n",
              "      <td>NaN</td>\n",
              "      <td>NaN</td>\n",
              "      <td>NaN</td>\n",
              "      <td>NaN</td>\n",
              "      <td>NaN</td>\n",
              "      <td>NaN</td>\n",
              "      <td>...</td>\n",
              "      <td>NaN</td>\n",
              "      <td>NaN</td>\n",
              "      <td>NaN</td>\n",
              "      <td>NaN</td>\n",
              "      <td>NaN</td>\n",
              "      <td>NaN</td>\n",
              "      <td>NaN</td>\n",
              "      <td>NaN</td>\n",
              "      <td>NaN</td>\n",
              "      <td>NaN</td>\n",
              "    </tr>\n",
              "  </tbody>\n",
              "</table>\n",
              "<p>2 rows × 1627 columns</p>\n",
              "</div>\n",
              "      <button class=\"colab-df-convert\" onclick=\"convertToInteractive('df-26255f36-6a63-4d69-b1ea-c8738a7bff14')\"\n",
              "              title=\"Convert this dataframe to an interactive table.\"\n",
              "              style=\"display:none;\">\n",
              "        \n",
              "  <svg xmlns=\"http://www.w3.org/2000/svg\" height=\"24px\"viewBox=\"0 0 24 24\"\n",
              "       width=\"24px\">\n",
              "    <path d=\"M0 0h24v24H0V0z\" fill=\"none\"/>\n",
              "    <path d=\"M18.56 5.44l.94 2.06.94-2.06 2.06-.94-2.06-.94-.94-2.06-.94 2.06-2.06.94zm-11 1L8.5 8.5l.94-2.06 2.06-.94-2.06-.94L8.5 2.5l-.94 2.06-2.06.94zm10 10l.94 2.06.94-2.06 2.06-.94-2.06-.94-.94-2.06-.94 2.06-2.06.94z\"/><path d=\"M17.41 7.96l-1.37-1.37c-.4-.4-.92-.59-1.43-.59-.52 0-1.04.2-1.43.59L10.3 9.45l-7.72 7.72c-.78.78-.78 2.05 0 2.83L4 21.41c.39.39.9.59 1.41.59.51 0 1.02-.2 1.41-.59l7.78-7.78 2.81-2.81c.8-.78.8-2.07 0-2.86zM5.41 20L4 18.59l7.72-7.72 1.47 1.35L5.41 20z\"/>\n",
              "  </svg>\n",
              "      </button>\n",
              "      \n",
              "  <style>\n",
              "    .colab-df-container {\n",
              "      display:flex;\n",
              "      flex-wrap:wrap;\n",
              "      gap: 12px;\n",
              "    }\n",
              "\n",
              "    .colab-df-convert {\n",
              "      background-color: #E8F0FE;\n",
              "      border: none;\n",
              "      border-radius: 50%;\n",
              "      cursor: pointer;\n",
              "      display: none;\n",
              "      fill: #1967D2;\n",
              "      height: 32px;\n",
              "      padding: 0 0 0 0;\n",
              "      width: 32px;\n",
              "    }\n",
              "\n",
              "    .colab-df-convert:hover {\n",
              "      background-color: #E2EBFA;\n",
              "      box-shadow: 0px 1px 2px rgba(60, 64, 67, 0.3), 0px 1px 3px 1px rgba(60, 64, 67, 0.15);\n",
              "      fill: #174EA6;\n",
              "    }\n",
              "\n",
              "    [theme=dark] .colab-df-convert {\n",
              "      background-color: #3B4455;\n",
              "      fill: #D2E3FC;\n",
              "    }\n",
              "\n",
              "    [theme=dark] .colab-df-convert:hover {\n",
              "      background-color: #434B5C;\n",
              "      box-shadow: 0px 1px 3px 1px rgba(0, 0, 0, 0.15);\n",
              "      filter: drop-shadow(0px 1px 2px rgba(0, 0, 0, 0.3));\n",
              "      fill: #FFFFFF;\n",
              "    }\n",
              "  </style>\n",
              "\n",
              "      <script>\n",
              "        const buttonEl =\n",
              "          document.querySelector('#df-26255f36-6a63-4d69-b1ea-c8738a7bff14 button.colab-df-convert');\n",
              "        buttonEl.style.display =\n",
              "          google.colab.kernel.accessAllowed ? 'block' : 'none';\n",
              "\n",
              "        async function convertToInteractive(key) {\n",
              "          const element = document.querySelector('#df-26255f36-6a63-4d69-b1ea-c8738a7bff14');\n",
              "          const dataTable =\n",
              "            await google.colab.kernel.invokeFunction('convertToInteractive',\n",
              "                                                     [key], {});\n",
              "          if (!dataTable) return;\n",
              "\n",
              "          const docLinkHtml = 'Like what you see? Visit the ' +\n",
              "            '<a target=\"_blank\" href=https://colab.research.google.com/notebooks/data_table.ipynb>data table notebook</a>'\n",
              "            + ' to learn more about interactive tables.';\n",
              "          element.innerHTML = '';\n",
              "          dataTable['output_type'] = 'display_data';\n",
              "          await google.colab.output.renderOutput(dataTable, element);\n",
              "          const docLink = document.createElement('div');\n",
              "          docLink.innerHTML = docLinkHtml;\n",
              "          element.appendChild(docLink);\n",
              "        }\n",
              "      </script>\n",
              "    </div>\n",
              "  </div>\n",
              "  "
            ]
          },
          "metadata": {},
          "execution_count": 56
        }
      ],
      "source": [
        "dfpivot = dfpivot.sub(user_means, axis = 0)\n",
        "#dfpivot.fillna(0, inplace = True)\n",
        "dfpivot.head(2)"
      ]
    },
    {
      "cell_type": "markdown",
      "metadata": {
        "id": "qeBixxh0S_te"
      },
      "source": [
        "### **DOING THE SVD**\n"
      ]
    },
    {
      "cell_type": "code",
      "execution_count": 57,
      "metadata": {
        "id": "Z10c1YJTS_er"
      },
      "outputs": [],
      "source": [
        "from scipy.sparse.linalg import svds # import singular value decomposition\n",
        "l = 2 # run for 2 latent features (usually we'll have more than 2 features, 2D is easier to visualize)\n",
        "U, sigma, Vt = svds(dfpivot, k = l) \n",
        "# u is the user preferences over latent features\n",
        "# sigma is the weighting of the latent features\n",
        "# Vt is the item's representation on the latent dimensions"
      ]
    },
    {
      "cell_type": "code",
      "execution_count": 58,
      "metadata": {
        "id": "aN7RhoEuTONW",
        "colab": {
          "base_uri": "https://localhost:8080/"
        },
        "outputId": "8d1bc0cc-9679-4eb1-b281-613aec95de95"
      },
      "outputs": [
        {
          "output_type": "execute_result",
          "data": {
            "text/plain": [
              "((339, 2), (2,), (2, 1627), (339, 1627))"
            ]
          },
          "metadata": {},
          "execution_count": 58
        }
      ],
      "source": [
        "U.shape, sigma.shape, Vt.shape, dfpivot.shape"
      ]
    },
    {
      "cell_type": "markdown",
      "metadata": {
        "id": "tn2SeEivTT9B"
      },
      "source": [
        "### Before we make predictions, let's explore these **decompositions**"
      ]
    },
    {
      "cell_type": "code",
      "execution_count": 59,
      "metadata": {
        "id": "6bFJLqINTaRm",
        "colab": {
          "base_uri": "https://localhost:8080/",
          "height": 206
        },
        "outputId": "1115d24e-7b67-4e23-d797-c3f65731360c"
      },
      "outputs": [
        {
          "output_type": "execute_result",
          "data": {
            "text/plain": [
              "         l1        l2                 user_Id\n",
              "0  0.053032  0.024514  -5ohKzWWOzAG1M1OtcoPgQ\n",
              "1  0.010918  0.022530  -8nmj3B-tfY_vFiimtBOsw\n",
              "2 -0.028076  0.045040  -9b4s874f_CnznTu4JorRg\n",
              "3  0.002127  0.025536  -KpEgEen1tj-jdjIS7uVOw\n",
              "4 -0.001075  0.017686  -NwDw6HgVpA4ys6WYcI6Xg"
            ],
            "text/html": [
              "\n",
              "  <div id=\"df-2089ee0b-acb3-461f-bcb2-0463a8069892\">\n",
              "    <div class=\"colab-df-container\">\n",
              "      <div>\n",
              "<style scoped>\n",
              "    .dataframe tbody tr th:only-of-type {\n",
              "        vertical-align: middle;\n",
              "    }\n",
              "\n",
              "    .dataframe tbody tr th {\n",
              "        vertical-align: top;\n",
              "    }\n",
              "\n",
              "    .dataframe thead th {\n",
              "        text-align: right;\n",
              "    }\n",
              "</style>\n",
              "<table border=\"1\" class=\"dataframe\">\n",
              "  <thead>\n",
              "    <tr style=\"text-align: right;\">\n",
              "      <th></th>\n",
              "      <th>l1</th>\n",
              "      <th>l2</th>\n",
              "      <th>user_Id</th>\n",
              "    </tr>\n",
              "  </thead>\n",
              "  <tbody>\n",
              "    <tr>\n",
              "      <th>0</th>\n",
              "      <td>0.053032</td>\n",
              "      <td>0.024514</td>\n",
              "      <td>-5ohKzWWOzAG1M1OtcoPgQ</td>\n",
              "    </tr>\n",
              "    <tr>\n",
              "      <th>1</th>\n",
              "      <td>0.010918</td>\n",
              "      <td>0.022530</td>\n",
              "      <td>-8nmj3B-tfY_vFiimtBOsw</td>\n",
              "    </tr>\n",
              "    <tr>\n",
              "      <th>2</th>\n",
              "      <td>-0.028076</td>\n",
              "      <td>0.045040</td>\n",
              "      <td>-9b4s874f_CnznTu4JorRg</td>\n",
              "    </tr>\n",
              "    <tr>\n",
              "      <th>3</th>\n",
              "      <td>0.002127</td>\n",
              "      <td>0.025536</td>\n",
              "      <td>-KpEgEen1tj-jdjIS7uVOw</td>\n",
              "    </tr>\n",
              "    <tr>\n",
              "      <th>4</th>\n",
              "      <td>-0.001075</td>\n",
              "      <td>0.017686</td>\n",
              "      <td>-NwDw6HgVpA4ys6WYcI6Xg</td>\n",
              "    </tr>\n",
              "  </tbody>\n",
              "</table>\n",
              "</div>\n",
              "      <button class=\"colab-df-convert\" onclick=\"convertToInteractive('df-2089ee0b-acb3-461f-bcb2-0463a8069892')\"\n",
              "              title=\"Convert this dataframe to an interactive table.\"\n",
              "              style=\"display:none;\">\n",
              "        \n",
              "  <svg xmlns=\"http://www.w3.org/2000/svg\" height=\"24px\"viewBox=\"0 0 24 24\"\n",
              "       width=\"24px\">\n",
              "    <path d=\"M0 0h24v24H0V0z\" fill=\"none\"/>\n",
              "    <path d=\"M18.56 5.44l.94 2.06.94-2.06 2.06-.94-2.06-.94-.94-2.06-.94 2.06-2.06.94zm-11 1L8.5 8.5l.94-2.06 2.06-.94-2.06-.94L8.5 2.5l-.94 2.06-2.06.94zm10 10l.94 2.06.94-2.06 2.06-.94-2.06-.94-.94-2.06-.94 2.06-2.06.94z\"/><path d=\"M17.41 7.96l-1.37-1.37c-.4-.4-.92-.59-1.43-.59-.52 0-1.04.2-1.43.59L10.3 9.45l-7.72 7.72c-.78.78-.78 2.05 0 2.83L4 21.41c.39.39.9.59 1.41.59.51 0 1.02-.2 1.41-.59l7.78-7.78 2.81-2.81c.8-.78.8-2.07 0-2.86zM5.41 20L4 18.59l7.72-7.72 1.47 1.35L5.41 20z\"/>\n",
              "  </svg>\n",
              "      </button>\n",
              "      \n",
              "  <style>\n",
              "    .colab-df-container {\n",
              "      display:flex;\n",
              "      flex-wrap:wrap;\n",
              "      gap: 12px;\n",
              "    }\n",
              "\n",
              "    .colab-df-convert {\n",
              "      background-color: #E8F0FE;\n",
              "      border: none;\n",
              "      border-radius: 50%;\n",
              "      cursor: pointer;\n",
              "      display: none;\n",
              "      fill: #1967D2;\n",
              "      height: 32px;\n",
              "      padding: 0 0 0 0;\n",
              "      width: 32px;\n",
              "    }\n",
              "\n",
              "    .colab-df-convert:hover {\n",
              "      background-color: #E2EBFA;\n",
              "      box-shadow: 0px 1px 2px rgba(60, 64, 67, 0.3), 0px 1px 3px 1px rgba(60, 64, 67, 0.15);\n",
              "      fill: #174EA6;\n",
              "    }\n",
              "\n",
              "    [theme=dark] .colab-df-convert {\n",
              "      background-color: #3B4455;\n",
              "      fill: #D2E3FC;\n",
              "    }\n",
              "\n",
              "    [theme=dark] .colab-df-convert:hover {\n",
              "      background-color: #434B5C;\n",
              "      box-shadow: 0px 1px 3px 1px rgba(0, 0, 0, 0.15);\n",
              "      filter: drop-shadow(0px 1px 2px rgba(0, 0, 0, 0.3));\n",
              "      fill: #FFFFFF;\n",
              "    }\n",
              "  </style>\n",
              "\n",
              "      <script>\n",
              "        const buttonEl =\n",
              "          document.querySelector('#df-2089ee0b-acb3-461f-bcb2-0463a8069892 button.colab-df-convert');\n",
              "        buttonEl.style.display =\n",
              "          google.colab.kernel.accessAllowed ? 'block' : 'none';\n",
              "\n",
              "        async function convertToInteractive(key) {\n",
              "          const element = document.querySelector('#df-2089ee0b-acb3-461f-bcb2-0463a8069892');\n",
              "          const dataTable =\n",
              "            await google.colab.kernel.invokeFunction('convertToInteractive',\n",
              "                                                     [key], {});\n",
              "          if (!dataTable) return;\n",
              "\n",
              "          const docLinkHtml = 'Like what you see? Visit the ' +\n",
              "            '<a target=\"_blank\" href=https://colab.research.google.com/notebooks/data_table.ipynb>data table notebook</a>'\n",
              "            + ' to learn more about interactive tables.';\n",
              "          element.innerHTML = '';\n",
              "          dataTable['output_type'] = 'display_data';\n",
              "          await google.colab.output.renderOutput(dataTable, element);\n",
              "          const docLink = document.createElement('div');\n",
              "          docLink.innerHTML = docLinkHtml;\n",
              "          element.appendChild(docLink);\n",
              "        }\n",
              "      </script>\n",
              "    </div>\n",
              "  </div>\n",
              "  "
            ]
          },
          "metadata": {},
          "execution_count": 59
        }
      ],
      "source": [
        "usertastes = pd.DataFrame(U, columns = ['l1', 'l2'])\n",
        "usertastes['user_Id'] = dfpivot.index.values\n",
        "usertastes.head()"
      ]
    },
    {
      "cell_type": "code",
      "execution_count": 60,
      "metadata": {
        "id": "N86EtuqFUVhl",
        "colab": {
          "base_uri": "https://localhost:8080/",
          "height": 733
        },
        "outputId": "5054623f-3566-44ad-d681-a5d3ddbd9059"
      },
      "outputs": [
        {
          "output_type": "execute_result",
          "data": {
            "text/plain": [
              "         l1        l2             business_id               review_id  \\\n",
              "0 -0.036762 -0.029165  -1xuC540Nycht_iWFeJ-dw  sCflJHBjGulDeH48ok32ZA   \n",
              "1 -0.036762 -0.029165  -1xuC540Nycht_iWFeJ-dw  8GhL5t3KOS_cZ2aO6ykOnw   \n",
              "2 -0.036762 -0.029165  -1xuC540Nycht_iWFeJ-dw  gsciCxAMUBruKgdA43KvgQ   \n",
              "3 -0.036762 -0.029165  -1xuC540Nycht_iWFeJ-dw  BVhOpA1iUbOJorvGPK1-_A   \n",
              "4 -0.036762 -0.029165  -1xuC540Nycht_iWFeJ-dw  DVDfKWHg58t-mOdatUbg_w   \n",
              "\n",
              "                  user_id  stars  useful  funny  cool  \\\n",
              "0  aYL7qtwOMdzYayaddq_Hnw      4       1      0     0   \n",
              "1  FdMNvBDX--D_MWuu5qKWDw      5       1      0     0   \n",
              "2  VXbi8ndacawnd6kidQF8dw      4       1      0     1   \n",
              "3  _xgxMsX2f99Cgzy009Y_lg      5       0      0     0   \n",
              "4  1ViT_LzrNbbrheWgIvT5Tw      5       5      0     5   \n",
              "\n",
              "                                                text  ... state postal_code  \\\n",
              "0  Pretty much the best Portuguese chicken on the...  ...    QC     H2W 1C8   \n",
              "1  Romados c'est ma place!!! Le poulet, les frite...  ...    QC     H2W 1C8   \n",
              "2  So I have nothing to say against the food. The...  ...    QC     H2W 1C8   \n",
              "3  Sometimes I get a major craving for this chick...  ...    QC     H2W 1C8   \n",
              "4  Atmosphere, Service, Food: What you need to kn...  ...    QC     H2W 1C8   \n",
              "\n",
              "   latitude  longitude stars_biz review_count  is_open  \\\n",
              "0  45.51931 -73.580749       4.0          497        1   \n",
              "1  45.51931 -73.580749       4.0          497        1   \n",
              "2  45.51931 -73.580749       4.0          497        1   \n",
              "3  45.51931 -73.580749       4.0          497        1   \n",
              "4  45.51931 -73.580749       4.0          497        1   \n",
              "\n",
              "                                          attributes  \\\n",
              "0  {'GoodForKids': 'True', 'RestaurantsDelivery':...   \n",
              "1  {'GoodForKids': 'True', 'RestaurantsDelivery':...   \n",
              "2  {'GoodForKids': 'True', 'RestaurantsDelivery':...   \n",
              "3  {'GoodForKids': 'True', 'RestaurantsDelivery':...   \n",
              "4  {'GoodForKids': 'True', 'RestaurantsDelivery':...   \n",
              "\n",
              "                                          categories  \\\n",
              "0  Restaurants, Portuguese, Bakeries, Barbeque, C...   \n",
              "1  Restaurants, Portuguese, Bakeries, Barbeque, C...   \n",
              "2  Restaurants, Portuguese, Bakeries, Barbeque, C...   \n",
              "3  Restaurants, Portuguese, Bakeries, Barbeque, C...   \n",
              "4  Restaurants, Portuguese, Bakeries, Barbeque, C...   \n",
              "\n",
              "                                               hours  \n",
              "0  {'Monday': '6:30-21:0', 'Tuesday': '6:30-21:0'...  \n",
              "1  {'Monday': '6:30-21:0', 'Tuesday': '6:30-21:0'...  \n",
              "2  {'Monday': '6:30-21:0', 'Tuesday': '6:30-21:0'...  \n",
              "3  {'Monday': '6:30-21:0', 'Tuesday': '6:30-21:0'...  \n",
              "4  {'Monday': '6:30-21:0', 'Tuesday': '6:30-21:0'...  \n",
              "\n",
              "[5 rows x 24 columns]"
            ],
            "text/html": [
              "\n",
              "  <div id=\"df-9d0eb193-49bd-445f-aaf6-934fb3d63fb3\">\n",
              "    <div class=\"colab-df-container\">\n",
              "      <div>\n",
              "<style scoped>\n",
              "    .dataframe tbody tr th:only-of-type {\n",
              "        vertical-align: middle;\n",
              "    }\n",
              "\n",
              "    .dataframe tbody tr th {\n",
              "        vertical-align: top;\n",
              "    }\n",
              "\n",
              "    .dataframe thead th {\n",
              "        text-align: right;\n",
              "    }\n",
              "</style>\n",
              "<table border=\"1\" class=\"dataframe\">\n",
              "  <thead>\n",
              "    <tr style=\"text-align: right;\">\n",
              "      <th></th>\n",
              "      <th>l1</th>\n",
              "      <th>l2</th>\n",
              "      <th>business_id</th>\n",
              "      <th>review_id</th>\n",
              "      <th>user_id</th>\n",
              "      <th>stars</th>\n",
              "      <th>useful</th>\n",
              "      <th>funny</th>\n",
              "      <th>cool</th>\n",
              "      <th>text</th>\n",
              "      <th>...</th>\n",
              "      <th>state</th>\n",
              "      <th>postal_code</th>\n",
              "      <th>latitude</th>\n",
              "      <th>longitude</th>\n",
              "      <th>stars_biz</th>\n",
              "      <th>review_count</th>\n",
              "      <th>is_open</th>\n",
              "      <th>attributes</th>\n",
              "      <th>categories</th>\n",
              "      <th>hours</th>\n",
              "    </tr>\n",
              "  </thead>\n",
              "  <tbody>\n",
              "    <tr>\n",
              "      <th>0</th>\n",
              "      <td>-0.036762</td>\n",
              "      <td>-0.029165</td>\n",
              "      <td>-1xuC540Nycht_iWFeJ-dw</td>\n",
              "      <td>sCflJHBjGulDeH48ok32ZA</td>\n",
              "      <td>aYL7qtwOMdzYayaddq_Hnw</td>\n",
              "      <td>4</td>\n",
              "      <td>1</td>\n",
              "      <td>0</td>\n",
              "      <td>0</td>\n",
              "      <td>Pretty much the best Portuguese chicken on the...</td>\n",
              "      <td>...</td>\n",
              "      <td>QC</td>\n",
              "      <td>H2W 1C8</td>\n",
              "      <td>45.51931</td>\n",
              "      <td>-73.580749</td>\n",
              "      <td>4.0</td>\n",
              "      <td>497</td>\n",
              "      <td>1</td>\n",
              "      <td>{'GoodForKids': 'True', 'RestaurantsDelivery':...</td>\n",
              "      <td>Restaurants, Portuguese, Bakeries, Barbeque, C...</td>\n",
              "      <td>{'Monday': '6:30-21:0', 'Tuesday': '6:30-21:0'...</td>\n",
              "    </tr>\n",
              "    <tr>\n",
              "      <th>1</th>\n",
              "      <td>-0.036762</td>\n",
              "      <td>-0.029165</td>\n",
              "      <td>-1xuC540Nycht_iWFeJ-dw</td>\n",
              "      <td>8GhL5t3KOS_cZ2aO6ykOnw</td>\n",
              "      <td>FdMNvBDX--D_MWuu5qKWDw</td>\n",
              "      <td>5</td>\n",
              "      <td>1</td>\n",
              "      <td>0</td>\n",
              "      <td>0</td>\n",
              "      <td>Romados c'est ma place!!! Le poulet, les frite...</td>\n",
              "      <td>...</td>\n",
              "      <td>QC</td>\n",
              "      <td>H2W 1C8</td>\n",
              "      <td>45.51931</td>\n",
              "      <td>-73.580749</td>\n",
              "      <td>4.0</td>\n",
              "      <td>497</td>\n",
              "      <td>1</td>\n",
              "      <td>{'GoodForKids': 'True', 'RestaurantsDelivery':...</td>\n",
              "      <td>Restaurants, Portuguese, Bakeries, Barbeque, C...</td>\n",
              "      <td>{'Monday': '6:30-21:0', 'Tuesday': '6:30-21:0'...</td>\n",
              "    </tr>\n",
              "    <tr>\n",
              "      <th>2</th>\n",
              "      <td>-0.036762</td>\n",
              "      <td>-0.029165</td>\n",
              "      <td>-1xuC540Nycht_iWFeJ-dw</td>\n",
              "      <td>gsciCxAMUBruKgdA43KvgQ</td>\n",
              "      <td>VXbi8ndacawnd6kidQF8dw</td>\n",
              "      <td>4</td>\n",
              "      <td>1</td>\n",
              "      <td>0</td>\n",
              "      <td>1</td>\n",
              "      <td>So I have nothing to say against the food. The...</td>\n",
              "      <td>...</td>\n",
              "      <td>QC</td>\n",
              "      <td>H2W 1C8</td>\n",
              "      <td>45.51931</td>\n",
              "      <td>-73.580749</td>\n",
              "      <td>4.0</td>\n",
              "      <td>497</td>\n",
              "      <td>1</td>\n",
              "      <td>{'GoodForKids': 'True', 'RestaurantsDelivery':...</td>\n",
              "      <td>Restaurants, Portuguese, Bakeries, Barbeque, C...</td>\n",
              "      <td>{'Monday': '6:30-21:0', 'Tuesday': '6:30-21:0'...</td>\n",
              "    </tr>\n",
              "    <tr>\n",
              "      <th>3</th>\n",
              "      <td>-0.036762</td>\n",
              "      <td>-0.029165</td>\n",
              "      <td>-1xuC540Nycht_iWFeJ-dw</td>\n",
              "      <td>BVhOpA1iUbOJorvGPK1-_A</td>\n",
              "      <td>_xgxMsX2f99Cgzy009Y_lg</td>\n",
              "      <td>5</td>\n",
              "      <td>0</td>\n",
              "      <td>0</td>\n",
              "      <td>0</td>\n",
              "      <td>Sometimes I get a major craving for this chick...</td>\n",
              "      <td>...</td>\n",
              "      <td>QC</td>\n",
              "      <td>H2W 1C8</td>\n",
              "      <td>45.51931</td>\n",
              "      <td>-73.580749</td>\n",
              "      <td>4.0</td>\n",
              "      <td>497</td>\n",
              "      <td>1</td>\n",
              "      <td>{'GoodForKids': 'True', 'RestaurantsDelivery':...</td>\n",
              "      <td>Restaurants, Portuguese, Bakeries, Barbeque, C...</td>\n",
              "      <td>{'Monday': '6:30-21:0', 'Tuesday': '6:30-21:0'...</td>\n",
              "    </tr>\n",
              "    <tr>\n",
              "      <th>4</th>\n",
              "      <td>-0.036762</td>\n",
              "      <td>-0.029165</td>\n",
              "      <td>-1xuC540Nycht_iWFeJ-dw</td>\n",
              "      <td>DVDfKWHg58t-mOdatUbg_w</td>\n",
              "      <td>1ViT_LzrNbbrheWgIvT5Tw</td>\n",
              "      <td>5</td>\n",
              "      <td>5</td>\n",
              "      <td>0</td>\n",
              "      <td>5</td>\n",
              "      <td>Atmosphere, Service, Food: What you need to kn...</td>\n",
              "      <td>...</td>\n",
              "      <td>QC</td>\n",
              "      <td>H2W 1C8</td>\n",
              "      <td>45.51931</td>\n",
              "      <td>-73.580749</td>\n",
              "      <td>4.0</td>\n",
              "      <td>497</td>\n",
              "      <td>1</td>\n",
              "      <td>{'GoodForKids': 'True', 'RestaurantsDelivery':...</td>\n",
              "      <td>Restaurants, Portuguese, Bakeries, Barbeque, C...</td>\n",
              "      <td>{'Monday': '6:30-21:0', 'Tuesday': '6:30-21:0'...</td>\n",
              "    </tr>\n",
              "  </tbody>\n",
              "</table>\n",
              "<p>5 rows × 24 columns</p>\n",
              "</div>\n",
              "      <button class=\"colab-df-convert\" onclick=\"convertToInteractive('df-9d0eb193-49bd-445f-aaf6-934fb3d63fb3')\"\n",
              "              title=\"Convert this dataframe to an interactive table.\"\n",
              "              style=\"display:none;\">\n",
              "        \n",
              "  <svg xmlns=\"http://www.w3.org/2000/svg\" height=\"24px\"viewBox=\"0 0 24 24\"\n",
              "       width=\"24px\">\n",
              "    <path d=\"M0 0h24v24H0V0z\" fill=\"none\"/>\n",
              "    <path d=\"M18.56 5.44l.94 2.06.94-2.06 2.06-.94-2.06-.94-.94-2.06-.94 2.06-2.06.94zm-11 1L8.5 8.5l.94-2.06 2.06-.94-2.06-.94L8.5 2.5l-.94 2.06-2.06.94zm10 10l.94 2.06.94-2.06 2.06-.94-2.06-.94-.94-2.06-.94 2.06-2.06.94z\"/><path d=\"M17.41 7.96l-1.37-1.37c-.4-.4-.92-.59-1.43-.59-.52 0-1.04.2-1.43.59L10.3 9.45l-7.72 7.72c-.78.78-.78 2.05 0 2.83L4 21.41c.39.39.9.59 1.41.59.51 0 1.02-.2 1.41-.59l7.78-7.78 2.81-2.81c.8-.78.8-2.07 0-2.86zM5.41 20L4 18.59l7.72-7.72 1.47 1.35L5.41 20z\"/>\n",
              "  </svg>\n",
              "      </button>\n",
              "      \n",
              "  <style>\n",
              "    .colab-df-container {\n",
              "      display:flex;\n",
              "      flex-wrap:wrap;\n",
              "      gap: 12px;\n",
              "    }\n",
              "\n",
              "    .colab-df-convert {\n",
              "      background-color: #E8F0FE;\n",
              "      border: none;\n",
              "      border-radius: 50%;\n",
              "      cursor: pointer;\n",
              "      display: none;\n",
              "      fill: #1967D2;\n",
              "      height: 32px;\n",
              "      padding: 0 0 0 0;\n",
              "      width: 32px;\n",
              "    }\n",
              "\n",
              "    .colab-df-convert:hover {\n",
              "      background-color: #E2EBFA;\n",
              "      box-shadow: 0px 1px 2px rgba(60, 64, 67, 0.3), 0px 1px 3px 1px rgba(60, 64, 67, 0.15);\n",
              "      fill: #174EA6;\n",
              "    }\n",
              "\n",
              "    [theme=dark] .colab-df-convert {\n",
              "      background-color: #3B4455;\n",
              "      fill: #D2E3FC;\n",
              "    }\n",
              "\n",
              "    [theme=dark] .colab-df-convert:hover {\n",
              "      background-color: #434B5C;\n",
              "      box-shadow: 0px 1px 3px 1px rgba(0, 0, 0, 0.15);\n",
              "      filter: drop-shadow(0px 1px 2px rgba(0, 0, 0, 0.3));\n",
              "      fill: #FFFFFF;\n",
              "    }\n",
              "  </style>\n",
              "\n",
              "      <script>\n",
              "        const buttonEl =\n",
              "          document.querySelector('#df-9d0eb193-49bd-445f-aaf6-934fb3d63fb3 button.colab-df-convert');\n",
              "        buttonEl.style.display =\n",
              "          google.colab.kernel.accessAllowed ? 'block' : 'none';\n",
              "\n",
              "        async function convertToInteractive(key) {\n",
              "          const element = document.querySelector('#df-9d0eb193-49bd-445f-aaf6-934fb3d63fb3');\n",
              "          const dataTable =\n",
              "            await google.colab.kernel.invokeFunction('convertToInteractive',\n",
              "                                                     [key], {});\n",
              "          if (!dataTable) return;\n",
              "\n",
              "          const docLinkHtml = 'Like what you see? Visit the ' +\n",
              "            '<a target=\"_blank\" href=https://colab.research.google.com/notebooks/data_table.ipynb>data table notebook</a>'\n",
              "            + ' to learn more about interactive tables.';\n",
              "          element.innerHTML = '';\n",
              "          dataTable['output_type'] = 'display_data';\n",
              "          await google.colab.output.renderOutput(dataTable, element);\n",
              "          const docLink = document.createElement('div');\n",
              "          docLink.innerHTML = docLinkHtml;\n",
              "          element.appendChild(docLink);\n",
              "        }\n",
              "      </script>\n",
              "    </div>\n",
              "  </div>\n",
              "  "
            ]
          },
          "metadata": {},
          "execution_count": 60
        }
      ],
      "source": [
        "itemvalues = pd.DataFrame(Vt.T, columns = ['l1', 'l2']) # flip it back to vertical using .T (transpose)\n",
        "itemvalues['business_id'] = dfpivot.columns.values\n",
        "itemvalues = itemvalues.merge(df6, how = 'left', on = 'business_id')\n",
        "itemvalues.head()"
      ]
    },
    {
      "cell_type": "code",
      "execution_count": 61,
      "metadata": {
        "id": "Xr-ag_htU677",
        "colab": {
          "base_uri": "https://localhost:8080/",
          "height": 624
        },
        "outputId": "56576381-5870-4eb9-fafa-41869eeba728"
      },
      "outputs": [
        {
          "output_type": "execute_result",
          "data": {
            "text/plain": [
              "Text(0, 0.5, 'l2')"
            ]
          },
          "metadata": {},
          "execution_count": 61
        },
        {
          "output_type": "display_data",
          "data": {
            "text/plain": [
              "<Figure size 720x720 with 1 Axes>"
            ],
            "image/png": "[encoded data removed]"
          },
          "metadata": {
            "needs_background": "light"
          }
        }
      ],
      "source": [
        "fig, ax = plt.subplots(1, figsize = (10,10))\n",
        "ax.scatter(itemvalues.l1, itemvalues.l2, s= 1, color = 'gray', alpha = .25)\n",
        "ax.set_xlabel('l1')\n",
        "ax.set_ylabel('l2')"
      ]
    },
    {
      "cell_type": "markdown",
      "metadata": {
        "id": "CU96iC0lVKWG"
      },
      "source": [
        "### Identifying Business segmens"
      ]
    },
    {
      "cell_type": "code",
      "execution_count": 62,
      "metadata": {
        "id": "JgpjfyyfUKjs"
      },
      "outputs": [],
      "source": [
        "import hdbscan \n",
        "clusterer = hdbscan.HDBSCAN(min_cluster_size = 10)"
      ]
    },
    {
      "cell_type": "code",
      "execution_count": 63,
      "metadata": {
        "id": "JBMBJqoaVRvW"
      },
      "outputs": [],
      "source": [
        "itemvalues['cluster'] = clusterer.fit_predict(itemvalues[['l1', 'l2']])"
      ]
    },
    {
      "cell_type": "code",
      "execution_count": 64,
      "metadata": {
        "id": "EmQT_hJ5VR-r",
        "colab": {
          "base_uri": "https://localhost:8080/"
        },
        "outputId": "a8b0c4f0-a2a7-43f6-f122-8d24575cb858"
      },
      "outputs": [
        {
          "output_type": "execute_result",
          "data": {
            "text/plain": [
              "476"
            ]
          },
          "metadata": {},
          "execution_count": 64
        }
      ],
      "source": [
        "clusters = sorted(itemvalues.cluster.unique())\n",
        "len(clusters)-1 # number of clusters excluding unclassifiable"
      ]
    },
    {
      "cell_type": "code",
      "execution_count": 65,
      "metadata": {
        "id": "9PVgpTEhVqkP"
      },
      "outputs": [],
      "source": [
        "def predict_ratings(U, sigma, Vt, means):\n",
        "    \"\"\"\n",
        "    Take in the U, sigma, Vt, and means ratings matrices\n",
        "    Compute dot product U * Sigma * Vt add on means + means\n",
        "    Returns rating predictions\n",
        "    \"\"\"\n",
        "    predicted_ratings = U @ np.diag(sigma) @ Vt + np.array(means).reshape(-1,1)\n",
        "    return predicted_ratings\n"
      ]
    },
    {
      "cell_type": "code",
      "execution_count": 66,
      "metadata": {
        "id": "h-9YwQpxV2hU"
      },
      "outputs": [],
      "source": [
        "def get_ratings(predictions,user, exclude = [], top = 5):\n",
        "    cols = [c for c in predictions.columns if c not in exclude]\n",
        "    preds = predictions.loc[user,cols].T.sort_values(ascending = False)\n",
        "    return preds.iloc[:top]"
      ]
    },
    {
      "cell_type": "markdown",
      "metadata": {
        "id": "dU2LxmAIdRka"
      },
      "source": [
        "### Factor Search with 10 folds"
      ]
    },
    {
      "cell_type": "code",
      "execution_count": 67,
      "metadata": {
        "id": "NhCsVxMVIJjT"
      },
      "outputs": [],
      "source": [
        "from sklearn.model_selection import train_test_split\n",
        "mratings_train, mratings_test = train_test_split(mratings, test_size=0.1)"
      ]
    },
    {
      "cell_type": "code",
      "execution_count": 68,
      "metadata": {
        "id": "PvHtoy4udVvu",
        "colab": {
          "base_uri": "https://localhost:8080/"
        },
        "outputId": "8d98fb5b-74ce-434a-8747-680ac7ef962b"
      },
      "outputs": [
        {
          "output_type": "stream",
          "name": "stderr",
          "text": [
            "/usr/local/lib/python3.7/dist-packages/ipykernel_launcher.py:3: SettingWithCopyWarning: \n",
            "A value is trying to be set on a copy of a slice from a DataFrame.\n",
            "Try using .loc[row_indexer,col_indexer] = value instead\n",
            "\n",
            "See the caveats in the documentation: https://pandas.pydata.org/pandas-docs/stable/user_guide/indexing.html#returning-a-view-versus-a-copy\n",
            "  This is separate from the ipykernel package so we can avoid doing imports until\n"
          ]
        }
      ],
      "source": [
        "np.random.seed(1)\n",
        "folds = 10 # let's do 10 folds\n",
        "mratings['fold'] = np.random.randint(0,folds, len(mratings))"
      ]
    },
    {
      "cell_type": "code",
      "execution_count": 69,
      "metadata": {
        "id": "U2oj5X2fIMwN",
        "colab": {
          "base_uri": "https://localhost:8080/"
        },
        "outputId": "61aee844-6215-4bc1-cb53-dba0ce702fad"
      },
      "outputs": [
        {
          "output_type": "execute_result",
          "data": {
            "text/plain": [
              "((160470, 4), (17830, 4))"
            ]
          },
          "metadata": {},
          "execution_count": 69
        }
      ],
      "source": [
        "mratings_train.shape, mratings_test.shape"
      ]
    },
    {
      "cell_type": "code",
      "execution_count": 70,
      "metadata": {
        "id": "SbjbEYnJIS3O",
        "colab": {
          "base_uri": "https://localhost:8080/"
        },
        "outputId": "60a60240-2d0e-4489-c1c4-0e3f25c36a08"
      },
      "outputs": [
        {
          "output_type": "stream",
          "name": "stdout",
          "text": [
            "{'cYedbaqGKzso4GXwuaCrag', 'dunuI1ld7oAE8n_cxqR_TQ', 'aZy39dfDIOQ_cnPWjhrurA', 'uOCeUWDvxDt1g_6aX3MMbQ', 'iyEWBKYfSByp3QxMyOE3dA', 'd-aM_z394lpTfu_PaVQ_PQ', 'MgP72Df7OE0TXOEqbixhdA', 'y6PzEaEEg71tsalIEoz02w', 'cxyiCHgsmoX2ChdbHU7ZJg', 'P22krqkR5VwZtUgFOWpFxA', 'eCm1PJ58PxcXapQKd7mjVQ', 'zwPecMicGkmkyErCTxheHg', 'p_8G3mrojESNVJ4E-zvGKQ', 'LnBj1xFRGIoRqSf5TCJfXw', 'L3CGTEYqAURIjv9zJV7URQ', 'rKK4tvsHZl55h4PkzdkOkw', 'nnoWwWU3QIM8FKhToPg5Gg', '_8AZXcylhU46MVgO5iOy5Q', 'pq4DFJGmf8ZvWCTwMpNlWA', 'qRgLUxTCwjogycdM12sxyg', '6jhGZrYiyxUTROWiexXIjw', 'HJQDV4iOMTc2Wj3_Xg4XDw', 'skKfFXUcMLT_E2ZlpdKdVA', '5GZAIMObFT8gEzcnwGNg5Q', 'nFpdgljK6TEMSXtLx-z4-w', 'Q22WcxNg6CEoj8cY3yYSlA', 'r27h3GiZvQ7MVmDQt6lbJg', 'ArLF_qvg9F67kmmRmN3WXg', 'PrBrStKVl9qRhZdg9cN8dQ', 'Fz114x8pyM8gXW5pDitMOg', '_QPAdhyE9yskJQS6YOjQKg', '0I1dVZpjNfcTuhHNhCHUHw', 'Dj4lWAE9sv-h-M5jNlgynA', 'lsSdB-zLKFvLPzWFNP9yUw', '2IHLjdwu6184ZWlqjSE76w', 'Xlr7jRxSmzilPZbh9qBO3Q', 'OQ3mo20kpFk578QsSyi2UQ', 'x0txHhXNp99eaPjxtwGeZg', 'c8CJx1k0xQkZdpZZb35MYA', 'DadinQdGwDdMBniLqnTjvA', 'zpQryi4Ghcq7Uy5HGLvDcw', '9jEm41oQTChf1iBy0bsP5g', 'wsAJHISh_E9eBIwT4Jn1CA', 'q1doh-zcx0iu3NwqZLXMpw', 'bxsFGzqlnbd2P0gvtiqCeg', 'XbRC0agEjQMzuEIXkwNpzA', 'bwmeV-TuSw00f9gLJ3CEbA', 'wEZu-Hh3D_dmbIY0JZoNNA', 'G6tZrWyrYZvdsgiF86DyWw', 'jcnPW_NpeS2jaU90KoNeTA', 'Y4P2HDOAR_V7MRJC_kG_fw', 'Qnw9kxRbdIJGlArmzqsXAA', 'MKfGEHT-bShBwnsYwvc_7w', 'FP7YquiHgFYY_6vqW_4qrQ', 'ubK67kHg3-d-BbOuA7g39Q', 'E0EvLk9eiL6zEp3iyqzlrA', 'jiqqVDadYQTQG0heVRWm7g', 'T2Iz0BOsy4umRDoWiep7Xw', '1oFAQHdF0mvS_brri3QgLg', 'yAVJwkg9jTxQ2na216dgMA', 'mNV5CYJ5IEEgEwUcia7m9A', 'CmnGZIJgeIdO2U3zpufaWQ', 'BDQ1mwu_hTPyD0mwSZs12Q', 'ZJJcdycY8F81tA-lNUBzVw', 'Gwo_oIEd-TbtpmpL_mH7Dw', 'zl54VWliCB_5IXNZfAQy-g', 'ABl1-ZaHhvIoyir6ENy4hA', 'kQjSFMo-_KBZMP7mOpod4A', 'uxab3Cpwld6f3tPZpoC00A', 's427R_12Oz41SCbwPWhNyA', '3gV6qm3O2PZSNJ6amXHXaA', 'VEhmeMxgWGjboOk2r6SvRA', 'v0Qi5imXHmIkmjRPA3CRyw', 'ffXB7_zrXV1wcbCdcUsZuQ', 'DGj_H2bCatW1Ch3_i6_92w', 'Cezi38bl2xMYMR1Y5uu9-Q', 'P0KKMKa-O1ycabueDxBE-g', 'VqYGz0rl-yh95Nk_i95Edg', 'Mt9pK5uskO_003LHt00RzA', 'sqmpjY8t7lixwBbNBzlW8g', 'r5Iq_gleC3ybmfPCsw7yjw', 'tmL4MKd7LisM68gp5cHvPA', 'fOWHdfAhe425P0A3wvWqNA', 'w6ZuNWsfq5oU5Bx4JRQgKQ', 'D7_zrDWUbUYZISXEcQ0wIw', 'PbCWD8F27ViqiPwShwdcxg', '2Ns1MvENQoXiV_nr8h32Rg', 'q3pwrb8PhkBcVb2pS4ACFA', 'mFu3pdTRyasJTor_0RqOQQ', 'yIN69RgTfD5EQua8oMvvfg', 'vOQeBKpM2tZAL41wcsoZrg', 'p2xBoCu_FIe1bxj0o5yKng', 'zgjsafMS2sW4J5pAKXnC-A', '_iHG1tsX--CLR12ZxAqNZg', 'uxjkqfIduOy51rbmZI66xw', 'K-SsYo5s0ljBBjH62wmskQ', '1mRUy_qd2QNml45PxVieaA', 'te-vVHgJ7O63HqFpUgGlRw', 'YrhgjcAMaLOi0biXN38buA', '6xRXyr-WAPFwb42pcxrGtg', 'nXPRL8NNJhDkyVzyCjsHCA', 'mL-RChLM52cTVJiarNL6bw', 'Y4H_0tIMy5JsDMSvbWpo-A', '_uuYQeoS8GXvqdSvCmpCTQ', 'XnWTpZeb0atyolIc5-XRUw', 'zjtGkDaZkQZiX536I3FFpg', 'Evt5rO5cIk_5OiWOnr_PKg', 'NE1hkpSadtCkIIXScBMUxw', 'vNYH_gA0tsd3wlUkQjMhGQ', 'aT-_V0UwIrFTEN9NPA0Lxg', 'C1DkRol0ZJkrnUynYcLoAA', 'SZAnk_OmFd5F7qTLPDA4mg', 'J3n9aFDu7Z7iRX8N5E_eiQ', 'k1abJZlkzNywib54fq6HVA', 'lEcfvjwB93q_MPxqT2iiyA', 'xdMH1MbvXnkEvj7BjmRiVw', 'i-sOMpaPKDo0dD0gMqcgkA', 'AFo-FI_rU5ajH5AS1INQfw', 'w9RhCJqBrK7OxwdN8ByZmg', 'D2Mqwt4Yp21SJwZVvBN1Ag', '2CF9uZM-Tx3JLxW_nOzUaQ', 'LvsFsIdLumkNCtqu6gGphg', 'vgmc2RoytKlSsLSmTV7DCQ', 'sv4-Gse5Hk1kn87jcOyDLA', 'iZ-4uKFP7tSFqzG14hgdzw', 'SGFnqEgRDQqqlQr4Gpadkg', 'bs2CWYy9UFMjkK-oIJGNaA', 'xTz1pezoVaxSxE4nQqLFpw', 'j9W29EFllmBUf4cJ2XMA6g', 'sbGfnebKTVydYHIww1BWRA', 'lDMI2xwezTbbKAKJr2_uCw', 'fWBzpg2srOWndZgjnkGWGA', 'NX8XaBhczz_-4cyh_4e-lg', '_wOUfZNhealrtb0F1FYUwg', 'QgSF9kt5X6XVV0Vc38gI3A', 'Z81KhryzHu_HNvnjHg1aGg', 'zOuPNYDm2mBjWTaoyfEgwg', 'QpvcVBfXWPi1SurUGwAeWw', 'eZ_IjEE8MP9xInTga2dVeg', 'hErvGXvXZ5wt9nGkE5DR_Q', 'ZHXg_n11Yoi_IxCfEtDKVQ', 'WbR75WTEdf_tiJM_vJyIYg', 'cfRTr03euAtHehJbyu-Mgw', 'VsvUrUppztM6j9qyXNi7Sg', 'WXmENQdpyDvVciuVzWK6hg', 'CsyKgh3CHrdvY6Rdx6JGeA', '-I65sjzQOtthUmHF9HG0rg', 'oY_VTkN1O6fyn4BysC9kAA', '69TK3MgycGeQT59tsk79bg', '-PnvJ5wrmJ_0cAky3Rv31w', 'B0MS5X9BJyHQQLlFOcI6dg', 'MRUYFQJsmI7myAZFofDbug', 'ydR_46FYniuj8lSWqpNmVA', 'g-sh47ePxJr53STvMD0fNw', '3R3MJiPQt5XNlf-_k90Hkg', 'Nba7lSX8VI_fjJZAJZn_Ag', '5HyVVlHCGc_FNa99doE2yQ', 'mYun5WZf7OufKK9jGhwY-Q', 'CoszdInM4GxzHeOhifC1YA', 'TNY-H6X1YLWVavD6dEnrEA', 'u0FUxx_5a3BK6UnG81A_yA', 'yLzqj1dMjhxR6FDzCUIRqg', 'C8X-YQ5zi8_687X228yAFQ', 'Z2DjPTyhpTvUrpyEG49QPw', 'En8dMzOitl_Kmx-gwF7bGA', 'lP-fmt-0dA1Y7h4yr0shlQ', 'RKYVq_TNBm9TFVuPeGfqFg', 'q-GHoZtZIqzITYfGx51Djg', 'YlQM0sER9AJqgqVuezg9CA', 'eykkVDPiTrE1Al2hTM0E3A', 'Mk2zNadWTIEWoCcnhnl0Sw', 'tWWYwNktvO5xFFUr_wiHAA', 'dcUFzT3i1w_c7V8tSWgmow', 'ig2DctN-JVg_eCU934g11w', 'FK8hl9vCNiscMq2IKCcyNg', '0aDKoI0LQd8uK-DsO2uKKw', 'p9F4WZ91LE8Hk7BiplBc4Q', 'PhWtfNLNutUfWKbqHoQ-Tg', 'sCX1B3wXzZjT1wy3vyktgA', 'bPjDMubgu6E5lVPitH0obA', 'P0IEkt7Zkf5vonBe0QI3QA', 'L6emKzUz5SvJni6pGAoSow', '3oJnrjssyxssq7F2jNYP7A', 'N341jnrHxiAvSSzJVCinLw', 'I6QSbdmomFjzVUreyPhWMw', 'eeKlQAERNB5PszYuNu42KQ', 'dbaHezsfVrKFmaVy1Shrrw', 'zDMQ2et4lpQ_Q7_yb67Yiw', '0zTEv0U7vWMpGFuvrb91Kw', 'hHuBMwOhD4D2vE8_0DfVrA', 'Jr4QyQPwN5FXO65H0X6igA', 'B6JbfOU8TpPy8x5X2Rb1QQ', '-oXsyr9Tvm54g11KG-iIjg', 'nbvSbSQUUcH7K5UMbY3mOg', '7yAG7hDmOKqHgQ1f377c4Q', 'fXJB8VGiPli9sBFLrIRaBg', 'Gv6YZM7-Xo68ScAxWAgOow', 'v-AIpaJU9i_X23bfZ7FgFw', 'jyDRUUm7Iw0m7II6WvMYBA', 'k7sNWSW8Hzud3UOsA5X8Bg', 'xTmXGofxi44WbPwKIu--lQ', 'kWRP0oIOdnFpyk6PMTbtYg', 'jeHnrakiPpOf36YJyv4M7Q', 'EztCdD-8jHOgpaByRQz7SQ', 'LDcyZaCTQDc2-kH6cBa4uQ', 'ZUtYwZ5cZii1FvgmdOgJAQ', 'o_L9PmQyi7EfNXnAD_4qFg', 'V8ivhPYT8BN81SpcHadFuA', '7p4mOmAl0X1P-ACgLcH2Yg', 'b-RZAQ0XfqCHYauCKUP4mA', 'BTsF-2nQUa3PUP5B8APcJg', 'Av5D89ft5QZB-c8HNM92ag', 'fvD9UGey6oWlI9g97LoOmA', 'AZsFdmWhUq27BHGjKeNUMw', '2uobZzjJgZ1XqLzHxR2BAQ', 'gbtNDmMZM8UQvKmWUQ-aYA', 'NRzfNGmeGD7t6jOwCg7LNg', 'js2HlOCVl_y7GiKg9kscNw', 'A7peGzPiJlVK1jlP0pJv_w', '_drI33rKH2dJFVQfCj1oGw', 'Z50pJKCGYEbn0Sm5iXACqA', '1N2pWvNzUDK1ZgDcdtSNLA', 'SGdRKma4V0eJuYSAEZrfEg', 'TD-qrOtRfLT3qZLpO5kn5g', 'XidqOvmaUNzTQUcuKNrz6g', 'GUP7oLcFvl4XAZXc--hBAQ', 'EMa6E9DZqWYSFZt_RFSSFQ', 'rjQtakSv0trwmAF6Gd0Bqw', 'uvWdgtPvqoZI2whcbW5aNA', 'mCUciHl2wNzTMbKtGPwVeA', 'bUqqFbn045DLCBupjzYzww', 'Ry1oaOInan5ntw5tgLx1VA', 'sxE6xVSeaB2shhUhsqETLQ', 'HvgZMo6vhQwiys9kNGah6g', 'bq-GOXeGVFPp0pBlEPNOoQ', '6BfcfryZUWvercmfO02LuQ', 'NKPE7N1ZY4g880a3p3BSfg', 'RoaB8t7Rpwg57o850ffevA', '0R_5Qkfl8hsXNbTH1z047A', 'Q-P20elQEc2kKcPBK7cgzw', 'FOtDBuutnl-yOjGNcGClEw', 'GFJQoKhQgJcMEkIXKGJcZQ', 'tP1C2dGEcj14AbdxggvWKw', 'mMC_uQA8SI37AVB6_G3PCg', 'wzB8hVBDtWAXUmt-Eg838Q', 'DWXkEncTc-mKTNR2YPVjtg', '0M9UxPqYdydN3jtDkKVytw', 'mV2eGVvcTzGCn_uRTOs36g', 'ozuQkAXnUQylhzPL-dEiLA', 'WiB7v25cpLPDSENQg7qL-Q', 'Ng5SLPlyOExi5I_WlHALxQ', 'IasFemVcttYVr2r9I-bIBA', 'T2yEDkQOC2DMNdO5BNPg5Q', '0eA9hCrYaSLcHAGotpMHRg', 'KtRh7jrlGJHn3hPewkxnyA', 'QaAAZQ0PJk975pclPaksRA', '-JFjWO15CSB6L5s06VSIRg', 'FCJODJv2OSVrKcVVpRQjGQ', 'QYznE18P8QjiBq6c970LKQ', 'LJibjkRgSd4wBlcR_vXVvg', 'BR2r-k9PhQjGfDJ1Nn0w8A', '5fV3ohTQ7WsPsvZBVWV6lQ', 'u9YasgImMCZjx4j-1BCARA', 'QkU21B8-kDfhanyUcPHd-w', 'HkUM6D2LoJIMf8ka3Esncg', 'KNOBURn74pKg7xPdfmQGkw', 'eALrDszTWtJtdtTWrUGBqw', 'XlN88Lf5ADWy2XKrePhVUg', 'bPl7dGN06pALy2-mfzzzcg', 'VQsVEzb3FMGxQOgWdVLAog', 'oBTSagHEysLGHyjrni7Whg', 'sCVXjw_BNHm3vlGAiFNpNw', 'ZWGZDAqYOKoxUC9hmITe6Q', '8VZq-oqAVlkVT1fW8dWuTg', '0xN2DsGfHXQh4ZFPBWeP1w', 'MG_9M0jRDvWpD5dCqRdlrQ', 'FTP_SZo8ad7bbyimEHmR3A', 'ulvEmF5j8gBYgdECIfarHQ', 'YQnHY3a0ijBG93fVcv3SDw', '5M1GgIQ9hbigKqliKltJfQ', 'GZznlA8fRoCKqZGJUMZ-Xw', 'c9vqodVDeB_o7EUU-F5Ksg', 'RcRbNbCeQM8BNSypVWF3Ow', 'iZq3S43JMiFCtJJwT6wq_g', 'VeE5Y5dHlC3PurmLx6JwRg', '86sk06bjaeA9fjyAvd5sqA', '3RY-R2CSG4B_AovLedJKdg', 'wlwkrb3RHuZGnkPaKUOP9g', 'hmwLb7qLpyo_cmelk_oxDw', 'Lt_kbBrnOBv_vwGsZtrVCg', '1F6vlfKz4b8AyudcuRC2-g', 'N5mt_OojZUi5Qsdjx8mgLA', 'sJhde4iB98RyZzVKFGD4qQ', 'TM6GqsUOlcXh_wODth9JjA', 'dNOuctYCSw7I7DgfDZBUjA', 'yIRgaUIcKx7DQ1DxmSWRCQ', 'gdLgsh7Qufan14lnUUYy-Q', 'huZeJj5qr8FohPNIAvZT9Q', 'BiBMGpQNugdqOjCFdaXi8w', 'MSSv040QTC0KxSjmzaGUJw', 'N1-9eSTrCYyK8xvKvnV1SQ', '4U-dXR-gikJtr7tlZYIdvA', 'SMmPlfP-ZncwgaR8VoPiOg', 'V2z06bha0zArO-PRVFUTHQ', 'Iswucup8rZyARDQmkJpdVg', 'fWemR2gQcS8IhkPzD0Zdzg', 'lkxQu3jnSMvgfNwPCrgyFg', '5RZc8ijOqCG3TKFe9aASFg', 's0ZGfkMEem8weO80w3drrA', 's3f6M9PItx_VZQzRwuav8A', 'EdgV57aWQNyu2GfKuNLU5Q', 'msb2VdGTqe4iaXT5tHkZAA', 'KIhufB-l3CYw4hq7DoEvsQ', 'l_G7hqK1HoJfZBGrLeF-CQ', 'KwHBbXmI3IiQeYpqQmrF8Q', 'uRWMedWu6kaspX9YV30u2A', 'fc1-qQtW-lADLGHGudzlWg', 'yKBE6JOidePgMXi3IRyXog', 'QQgWkGJXTBJYWjq0nFsTQQ', 'lIk7mu5N4OfMo_nIRK4IDg', '_iz3I49htzEVfvcWyy4Hdw', 'IARt_WOP8HP-ju3rnfke6Q', 'WaWeVBD4k1F03ft863NUgA', 'MpbYYJ3KO5HgZzBpAv0juw', '-iSjXrb0C2EhSCiOpthftw', 'rHD9grdh90YNca3ZrDzx2A', 'TXSf21VXICk7dsRKTeInAQ', 'gtQ1yG89jzNbKQmNF3aQeA', 'WeAwDQGJ-8aTOpDO-r6Z8g', 'zWEQmqF7wWH_zGEwVEsAQQ', 'zzIMqOpZy9sOb1bmjDIs7Q', 'aOTbdu6zv3gIfEYB8UeHvA', 'awwv2XmJhCzHxl0yM8D9Xw', 'BDXfauxAVhBvKngO64xqAA', 'isT1WS6RBC0ne7SWnoIrKg', 'wzX03xVqA20_y1lM0wdgrA', '6U_L7Dzbek7dF2gOPEOlQQ', 'HXJyLoKXrNqapykV4gBmjQ', 'RJ5wZ1Gj5Ze-O0C4Nt0uvA', 'vnlr4GZ9BCB8t27eq-LZ3Q', '_yixSIhJoD35kPyOA_iZGg', 'YIImNSjMLB4f4WXa5WwTyg', 'ZLPGjqwWVlAQZbEpj-V6Jg', 'bKp_24TsX3kVE6smHmEdrg', 'NVm1df8tLSb9pJ4k-7pzHA', 'TfND1SPByroco2pq9m0D1g', 'KV41eztWzZ93JROrw5n27w', 'M13jl64JWG-DU_MjRkUBXg', '-F9BqZRjnRucH4fCQIlrpQ', 'NNZPCHosCdhkklFlINd4gg', 'etwM12Q4r7duuFpfiYA8xg', '3eABhjPezKEI9pCpkIAF5w', '1VYz1pcUWf9xzjKVW0PThw', 'Pob1hwN01ESGYnzoMmsiKg', 'W8IwX3GC5WkvNcPXaI9EYA', 'UIrCWWW2-pqn1crS0UiLKw', 'bpuE_8UO7fd8nmO3KpFGXw', 'eTEUjCOGFuRlv1ILYUlxGA', 'jix-vZrp4k4b70QfLIoNoA', 'fEOdKszlVUg-nEeWv9WfsQ', 'A2jzL0FyrksQWSZJVPzEMw', '-5pnCdGE_2vpPs5lqOnzkA', '7SLt3SoyOJUt9FPRpvDn9g', 'QLowLrxFk4roOZ4eZNfU9w', 'ANzpnKDX9WEfWc_kF3UmFQ', 'GzI2U_undRsVx2vIZWTKuw', 'PrMe9A3bS_Hx_7smZIjpZA', 'n5avl4ibHt9DkY6tUznJgw', 'jHo0CFmAqMCu389mWC2scA', 'p3n3SVAN7F3-MO-oytm2vg', 'KI4rzxebZuUiTLOs4Y51nA', '1-J7ieCzsxI_I6TwxRtP7A', 'KRy4xWcbJHlpHtF1mPV_9g', 'eqzabI0of_rxgRmxYj7VrQ', 'WhMsZIn0YAbJT9OWFr56hA', 'j62bZi3EDQxjUZi4bIKlBA', 'Ks6ReGiR9wqd-EeBYguRLA', 'zb__QvyMPYHCotlrvlp6lw', '831mPQIB5nBp6-dddXGBNg', 'tF0yFQ_TinWfiGzTXBgB4w', 'rFc8bChh87NY4xsDgv3mKA', '4mVi2IZKxnPBGDkvFDMqrg', 'biBUoSS4EKtd9CzKU7x66w', 'nZfrn_YpCMjvaNcooYOP3Q', 'bhjk_S-Tv7roFQ1CYrB4Vw', '52XIU_sPPn6Mqp68uFoEog', 'FQYMAy8HfF_3_J7A0zepQQ', 'F7vcrApf-w_L4XquDBkDOQ', '95PhZuK3VD9j2UBBi1u6PA', 'uPTSCxWqMcNbY-zpzHfTuA', 'f-2buKgLMj9RmF_FfaAoPQ', 'IYcc9elNCs2jAOpOIQvr8w', 'NaEXeS7PJSbeBm2qgP-c3A', 'BVKJF0OYYy9uqOEmEL37bw', 'D2gjery9_AS4upAY7pv75g', 'B0_Jo7JwqdLCYs-Wo8B6RA', '2efCIHBS7S60P2LPeW1zFQ', 'o_ZJ8_0-GL_jzHhdYNxzEg', 'PvBTsvogFQ6cY5GnMePEEw', '9b5vvtbKtFXhxAgTzG1znw', 'ag8bl8D2xsCGYkBvSEx5Lw', '9dPC_IbwKqZ-oRIBvISUeA', 'NfD0iXojCEogZGNuIaqgZg', 'DACbQPJ7bVPhd6WK2FtEwQ', 'QwQLeO5-hBWlU4DjX0OfbQ', 'b_HbRK6nbPnaIsWXy4bOAQ', 'okV1czgG15_ryTcc-gUyCQ', 'h7rsp364qu144PzNJqRCpA', 'XhMjACJ8aKBdtZkZd_m1jQ', 'C2I2BohvvpJaWbTl7klc6w', 'pj_KoWHX89U1DougVwg3Dw', 'IC0GdAPlWXhJzJrcQq5_qA', 'x0fi8cFbFsXQiXHMHurb4w', '-dnERQYQCDVZFMMuh7bBDg', 'euOIZpnJPgEaR1LmD3ZfYQ', 'TtEj_lEbHnswmPdE8nmRlA', '8Xpald6zq_Ttps83MiWcog', 'YRGvYnuTWWa786bPaKSTIw', 'EOG_rPtk3Vof8raXGAbEJQ', 'yIc1ACzgArq8ouufiDZktw', 'wXflvaZwIIfPLMn_ZZHK5Q', 'Sl_0npOU8DcXr81RWi9yWw', 'eOccsnH0o_HMAMwDeHUs7g', 'U_B9OQWGdIF8OxN9JhupCA', 'dC-fqra2JeAe7dm0zjrgtA', 'BCIFETe7aj8yfn-HYcrdpQ', 'pOD49HD8zcF0CgGVxNVoUg', 'U93PyDT9D4eXz_Xj-NRmdA', 'ZDvfdM7TqhoOBKFuUePr3w', 'm6ggIwfXTQl8mW0PsXGyHg', 't4oL3OGD6pEtIzAN2roRIQ', 'Tn11AQGoGMwe9zf7Jgdguw', 'Zfio0xMRICtgMFdKO_NNlQ', 'FJXu0zMDe-kzmp9dtuM7cQ', 'I382em9bQXPiZG-WFN0oQA', 'tl2TdrTlFy8Tnqpz_vvY_w', 'jrx14Sju1YFkjRwyVStVTg', 'CBJL5Td6nANrssyl_nlYNQ', 'tTDAtv01erC9EgjvJ8Lx9g', 'aE4KaVB9fZcFvt-SwQoryA', 'XFI9yI78o099n0BDFkXvvQ', 'xs8IKROVq7PLDDRb7Udwfg', 'XmxKjG04cUHle4XCoTMSAg', 'HVHSvHifxChIpc4CEaykTA', 'MUPzTKTrBk-aaS8jtXcTHQ', 'Vr2Pcn6pEZylnqimD1R9HA', 'C8xzgfan3k85ZV4bmSS9lg', 'DjktNOvWl_vcGJjKQYvNRg', 'mYK8A8ghZ8BL-hJ4opd-Ew', 'GT7tJiNL6woi1T50PD7FLg', 'mvD6fCzaKc5r8HO1xV5Y-w', 'wwPJ0B5fnOHt1Bn52DIEHw', 'BeYbrcUc1OpJCwe-l79eGA', 'HN6Duv-o7xYQEyqXVJ5vtw', 'wqViQq5AsjyjBFyVTmIrEg', '4GE9KGi_S-uoLkh0rqkNSQ', '62Ra00HGVKOLNhruDLbujw', 'peFxHFeltAmJXazI4jwEHw', 'O81d1c64-HXtg0PusSI79g', 'p_q7npQvXg3EfTmwhEA00A', 'W0v5a9XI9dDIMFSHkN4Lhg', 'hcUei9e-XRwd_VzxhUv0zA', 'yFw3OUtfggh0vW6roa9o8w', 'cK87qYa9jCxfGhptQIcbuw', 'ayT30_GPYHqnrDhBe3IySQ', 'V0QEzwE5JTVbkjdjOjMveQ', 'hZgREoZPC30EEilayde2Ug', 'M2CV0y-NucxgwCRtrB1nKQ', 'f3ovUvW3Z7gxWRasL-dupg', '2fEb4Isc-0y55dRQveqgBQ', 'ctjXJwD0R70imRq038W4Qg', 'Xu2ZjR75a3JZibEMN4aGRQ', 'O0OuyctEWgQ-8PLdIMWJrg', 'ZWvkqjWJAjjNfFjaI8sGRg', 'gtETM7Q8uUwQkJkJ9ACXMQ', '0KJgci3tc5BoLxC5_Ggt7Q', 'JJIJImbqqXXH6sk93yH7hw', 'WULQbzCG01NK5oU7M_i8QA', 'daxAS5as8cs8McX-sHDcZg', 'RJS2O7_oEPO9S1A1bYasBA', 'CXksE6uhg7xyTRJS8qVRXQ', '-KsweumXt0kGpu_CpzYwRA', 'R9YfZsZpDIu7HTAcSU_UhA', 'yN9bDerUbYsf2BK2e-uXWQ', 'Zk8nPfcse4337v-8HpzdTQ', '1nOG7k4u756119tzk0mmFA', 'LMKOV-PwXHUMthcKHfPM3Q', 'cgjfdJ43lx_daGEtW51gYg', 'O_2QLtzaZO56LhUZzJ66pA', 'kQX7lqVroxiCuesAq2PZhg', 'XkAlw56kaeF7WVo83oU5Ag', 'TAi9Jjw5ovlRyl22PysbPQ', 'TgfwytZ3vIYx5Hc56ReSsw', 'hziP5pxlA4RpBTVWzcj5fA', 'YVTGJ-YMoSAK0Vms0QymvA', 'cvYsUElZFYoib9MzUDPmsw', 'LCyJyQNs1McVgah7v2Ye7A', '9GukyVI-V2aDwLYd1OZ_xQ', 'iGDBlHVM4y9J79-Ah1ovuQ', '9GU6jb_nmq-cUcpqbfk_Fw', 'tGVm8QBBlx9KLRtKNfMp0g', 'xH4YLpbb3CeN8Z11Uwixog', 'kGDQsYMkmHNTrWi-FTtwmA', 'qKc2XmYh85rLUu5miq8aqA', 'Uz6jb4wrwfjYH4lI6q2uiw', 'dCKr6XbdRLLEySoJlEvv7g', 'cuqqnLF5g7N44xwL6U9xDQ', 'OHkSBy3Zmcf27npIUPE-ww', 'cr2fNI9480_n31KoXN4IiQ', 'vSaaFofCkgtw9bgFrwQ84w', 'yruTLOggpeMXoHu_O_Zd3A', 'M7oXWnhjk6mVI0Q-5wnuHw', 'CqwWKYBfrR35jHiFBjBD-Q', 'ZT_hgI23NfFgB0mZsQ-A2A', 'FTDm5-XqwFmXsbYsU1nvPg', '5CHJpOMM0-oj1DGxohJySA', 'z0W3msoD9p4F3M79FgjWQw', 'Jq_2GtODkN_hM9VfebdxFg', 'e1r2aJ-MylfTcEP20uumjA', 'WWoJyzMLkn2y8j7IEhRt6w', '1hQxrqFdkmWCosVb5GAubA', 'y-eng0uuMGMwgcN8V-Es9w', 'NjEATZKRgldjhmQ9J6cAzA', 'fLuZ2mEP3fweiPm76r6MzA', 'ECfdT1PFHk8pICVro2xUuw', 'lqD2oAFS4pSap36qxHmXWw', 'G9IuD25Dy-1auqsZLb2z6w', 'foo9oXmZzO6ewbaH1Com6Q', 'ZuVNDYrKWVzas-_7Tmxlsw', 'y7R_ALK3aqIHjaHFL-oZTw', 'W8qGvCVFPuH5CXr5zfVHZA', '3Jo5VCX6hTX_kQ-IXhK4cQ', 'pQLdSLur5O-tFLuPS1mqGQ', 'TaLwLDuFFQMBvIziCz5RUw', '4zYR_oNzzGB88820PvceEg', 'X94C0I03f20WR3XcsmoVDA', '6I904jOgvJlY62Wk0rBUCw', 'wRsMalT9mXHcy5B-Z6ZQfw', 'LVl_UIFxAKYc0nlo_rQrpQ', 's0wMe_MjcECpZy85LC9qYw', '6BhEtj9Zo-2VFYQiWpakmA', 'LsKL2DttCYR8siQkd1E1Pg', 'WiGpc4Eu08XclP_ns_5-Cg', 'Lq7-fMYwNsQY4OqZVhY66g', 'L1W615z31cE01bLiccNChA', 'pJH6qLR_uqloAa2BLvi2yQ', 'cIe0S1Kqml-o4zekWYCDsg', 'aTdpedKMYE-CygPgJQKdUg', '5Ufn8FRNd_JbPHUDTbAEoA', 'VgwYPEu8RL8UVc7L4Zm1xQ', 'FdETtbu6AyQUg99wXMRCpA', 'JK8pbyoIW7dWmPSGFbltHA', 'zVvR0BZJT7Rl1NkbznK3pw', 'UGVMh-lUg9P_iO_GC8v4iA', 'JzDjtQiV2ZlAgD5KAg11HA', '_GO92G7GDZFRhxrjbS8iPQ', '1WkBN4Wifbf5hoOzbT-jrQ', 'qp7gIuf18tr0-T57r8F8iQ', 'Pb6CV2BDoMjStMnu3a0YWg', '3NxLY6HHW6wIG3l3buDT3Q', 'T7i9MiHZTXT8TQv4d6t2JQ', 'FaXXrC_dAr-sFCD8KT_wRg', 'sneRGhojl0kNmNjdon-dAQ', 'Y6qtXrpbXKNf2nEcNNi2bg', 'tlO2mUL3593WoYr7gM5cAQ', '_7ThFoTnoDiX1ss1DreRsQ', 'mXAw1RL40MeqmVA-AV0_Og', 'awycqbx7ekQ3Ro6SLrni2w', 'Dnjzo1O-rbwIx-og4JDV8Q', '-5BWHRB14F0ruUytWwQBTQ', 'ka7_I7s7bBze6upXfPb0cQ', 'QRX3uxldzPkQIFkea9O1tQ', '1cA71RVzxRueOC6ZOaDORQ', 'W9Q2vYMaaceHeui0HQvB1g', 'MWeKo9zwWQaRJP-9PDqRDg', 'Uz0JqbjO_MGZc4p1MEa1PQ', 'qCze29-k_RBB2iQ1BC30cA', 'IEEZShAPThk24mJeZUJCLg', 'PYQjaQn2oD7NY0FtIWYhAw', 'zTO-vTr-Ih1Qv5aOj4IrQg', 'hwbBTEwHbR2k6kk-TNDQfA', 'L8NwzeF01ZdTpIZl4_7NSg', 'V-zAJojECm58U1XjLy3TVA', 'LFw4pcw-Ak9ghpZA3dcVMQ', 'IPQh5kxsBlkesX_yTZlI0Q', 'dV1f4LSzg8KNoSdJFwF1Xw', 'oFF4r9hyyZmZvaMDNEe0CQ', 'DBY_58ety0m3BL2hETzVjg', 'RQT2Fka4vMJIy_mdhglulg', 'fK0GMMSiYGlhZ_u3QDsnQQ', '9U2mjKM5zMtrYOZrV1tnSA', 'NN3AybXFz2EXew3M0dXmwA', 'UiuOHfKVVT0VbDeQtQL0ug', 'w3JcM9UnpD_C20goKZ8BRQ', 'aQNYGYBNv_bT9wB_5-o_xQ', 'q47fZoXRrLqi2v2hW-BhHQ', 'ZBZtF9iF__haYP3TGPjM5w', 'z8_vtQjrHz7JlzYg3NpDOw', 'aLtvIGucNiiC1bIuTLpmqQ', 'Fh4u61G3oFPRj3eiW3N6GQ', 'lZd0lapwpJgC38QBJ-t67w', 'fRj7a9fGr8yaKrTy4Dwtyw', 'Uy26vxbzUTtY3-wVfVv6Ag', 'uN3jGw_MGFuCERIPF7gAdA', 'qO02h7Wu2Gl1PW3q4KezMA', '7ce1_7sMkZgkBtukijOX4g', 'zAh6KIui0XG1AWlt70L16g', 'dIOb2F5wgbx0NBl9vqVa2Q', 'qTCwlj499WmTdpZahtGiYw', 'paBv243-DiJ0F--slrQDVg', 'z4XWk_7z19jB7JFO1g0R6A', 'lU9rZ3nVBgyxochS0vP28Q', 'Yb_QnILIGskGKkQ82pRhxQ', 'kcPmn_txH0EsCmjl0vjxMw', 'mY0Ttdgvodc_yjSqKEFlVA', 'ej9GnKgdlRDnt8YzcINDpw', 'bQVR3xBN8u-NzKN1Gq6M-g', 'jAuk8WAMBgLSpzex1Un59w', '0qBdvZJt2dSrz6BDo8dIjw', 'EmJA4OOLTZxpdioh2Nhkmg', 'iIbwplOjuCw8wHqWjOjxjw', 'PplL_JC4Z6bCfBYCW6qEww', 'Aam4Jwmm2g-gaOF5T_UnqQ', 'HrnQ_ekQ4zWoZ4Ff3H08GQ', '0E5Eo5fG_u5MFDuQ-N1FiQ', 'Z_n4Xjbgd-bKCrRtiPPfEA', 'bQxs2JWnnXIJU5bkxCovNw', 'M8VgpOROkxD1JzwUPXmFrg', 'atyizkemYFymWR9-XwWZYg', 's5LKYqs6IbxpQqAXcrdENQ', 'K9K8xn18ojRYXYXU_qt-SA', '3Hhk0FLsCxn3tRCpt4B_1Q', 'hJbNgZ73ajODkCLy1Ephxg', 'oBPxmg1_Mik7KG_PfR5cpQ', '6MDOFbAnn6KyzHxw3FbUyw', 'fguvTQTjoWC5wd1eu8JEYQ', 'r4CYHUr6fIuREoPWA7pbUQ', 'fol7wM67o_5ydPhSAIgEaQ', '7RK9eSmQetPvSb-JSIUD7w', 'iSfBFCHKycdXUbcgwDMBBg', 'AFKT4cXuoRxaAAeu3UaqxA', 'VxEiO7R5MMy4evjxlEj0BA', '7pqaUl5Yv82xWeAEpwwFMg', 'rXDy8tZY3Bo_5FpmARF13A', '-P5Pu1mvS6m-rrvTfx1ljg', 'CO6VASAOX07GGUhpvMzUzg', 'GxQqa488aq16i0CugLCG3Q', '87UfzUqjlA-GVbpgFDolEg', 'NrEtu6gdlAGC8CrTxv2PMQ', 'tKKkHgaqj-cHTrjrN1prjw', 'DCXT-ksC53vcBHeDfIhPtA', 'qvskGKrpNGK15NW_ILwAJQ', 'EGd_Pudp8ZWxXLJw9rNZJw', 'FMSLFGiha-DvGx50fH2KGA', '-KEtdjXCeoW_z6tQ5Q_pxA', 'HyEOn5zZgeXcl5v7fajTSA', 'XU8i8ks48KLPjs-nQIYkbQ', 'v0FSZIsRfigZH9tLEYq1nA', 'whEi2JivzPYnGEZmKb1lqA', 'fC-3FKfcQ-TA4Ac8hbMmog', '33KtVzMyYRBfbymabZH-Zg', 'vDEe9sOwzJFrr0qIKgJNRQ', 'ambLWr7t9iD3C_pY0HL0Sg', 'YHAlBIMmKZGwju-X5Ioz3Q', 'SjyomsU-aNgGRPbX_cYjZA', 'Plqi4pG84PA_vBM8OfDPDg', 'xpRuTu4k2h_OZMnl-a0gBg', 'egW46vlfxj00I8OzU6WYFA', 'aT3awbcovwJ-AbXDL1zBwQ', 'S4-gPMG0MCkCE8JljiAUgg', '7W0cz50jfx-5lDZjuRWhhQ', 'KwOulSApzQQQOk2zD2rexQ', 'vxvvjCZy9x8nHVYoGYRTgQ', 'KUSfoFW_ZeAKZV8FPQjrjQ', 'xZ5IurAVAA8LgX_KUAULBg', 'lk0Yt6qyH9NNGyKtztPTWw', '4KuXDha0eAVqRmD_-5c87g', 'sCNsNtX28hXjl0UBEh6f7Q', 'A2U_x9CB9ZGYGRz_y4pt1g', 'YLZ6XqKo-cixzMtNMHKEvw', 'rG_e1-tEyPr2xvZXaGLCkQ', 'LkYXWBIupp915Tsft8xb2Q', '_bPVqfmBkEHvB_1bDuxZqw', 'hPchjWf0CDaU3iZpf_Qrmg', 'bifCfvB38s6HqTxtEmBSTA', 'jzy6FCaWIof9KtNEBVEe8w', 'eo815_y1W8-tbVBgTPbfYQ', 'jN9U5u_NZSKMHFmo-UzChw', 'TuytkB8IDccSXRrBN93kYw', '8A_u_Ycql9wSM4UAMeN-Zg', 'z63Nt9ZGwV7zTUJZEXsMRg', 'NUyhiF_9dkIgbXQlTtR9Tw', '9FWw6MC1Ys3Wxgfu5l1R2Q', 'lwmqnvCbvs0Ls5UG8QJrUg', '4JWgsrY_dakfKE5efzKfCg', 'IPyJRx3dWSaEZT7Hj2gfzg', 'qKA5XennbQeXuT-E3xnD3A', 'yBQAUzbAqzUe0i2JHcEBCQ', 'Y-ZAz-ZVJ0sEg220VsIHaw', 'UjBYwCGlpxeSDEIWhYWdlQ', 'ngVcXyYAIuR-BQBDiNLr2g', '4ZezAONXpqgTd1utn_6TyA', 'FuUAZKh6yMp9os6_EzNZ0w', 'BYn4ABAe-M4X7cehYKu98w', '1NsqMHXfzkC4CN2nGEVZ6Q', 'C11OcWVhmEdpxgP997cPKA', 'gNUWqyRkWEevLYjaULpohw', 'UMNrj-ycDBFvCVpv8994PQ', '1pLjDVke6isuSFsp7dMIFQ', 'BxPb_v-6JScP_CZmQI5-fw', 'Mp_5yg9GNbBT1zRf3_HYLQ', 'PcXE-umz1rQL-khZ6WE5BA', 'R2XtD_ghKRSXfj2eI7uvWg', 'q4RldrEv0Nt8tZrST3L_KA', 'IBAK3flCQ0WwPkILp4qhmg', 'Wjr2aO5ANEqVDGer3o8cbQ', 'HVTFLM2ogLdaDSt9GYN5NQ', 'W6IrsnP-xismNjK-WypEPQ', 'jsY9mqg0voNTXbwGxvAxiQ', 'XFJjnqNPp5FwNayTw546Zw', 'HcLEbVC8WkJ9Oq1ZZUn6iw', 'UxlEuNmztFj98hUilY0X3w', 'twJoj44dnRLig6up10zntA', 'b88EHnkvjX-Z16NpcttuVw', 'VzRayThOilMBg0fEYk8xXA', 'lzxYQEDxa7l1HIxeS9Cnhg', 'PmCjZqtOu_qxmbpWPk_00g', '8X4c2LOlkQG43EcymXSr0A', 'cii2zKIwGuKjidepp6bQAg', 'reI3blW64OdEMpQabgeUVQ', '-ydX6mvsOinGeioseK19FQ', '3Zx601r4Wi8mtjuhqHVC_g', 'OAOLabvqLLWEoiMHQ2g0nw', 'YHrWXExd5S629d7RGSXALQ', 'G1-4S0kOOxru1svawQkQow', '4vpj1pQ1h5YbShyVMP84mw', 'LK3XcYMiOdfgewWvycb3hg', '9VX7OcP1Pk5WzqBIB4EC4g', 'x-9ke8C4hiiZHn9S604w6g', 'w3HHsk845U4I9wUhZ8YcxA', 'JjHmIk3Wvay70YFU9Exj5w', 'E1MPalGxxBm4jAoLYIKEhw', 'L5I1dWLXqNtKgyjgzJGB4A', 'VxQdz4OBDPB0sieDEssYSQ', '2Z0Ey157Bkny4qk5qdLyHQ', 'qeUJhIVerqhM5qfFdAWjPg', 'XJjDC6qQcEl46UDvTouyWg', '-Y1DtnL_-hzvvu2-nQW5Bg', 'EhozJj16mSpbt_xhMw3uSw', 'aQlLFciC8_XWX3zf-1F8lg', 'wM7g-EHELOIz_WYlijObJw', '3Y2iZEgF9j4Op4UC6Xw8hg', 'X_YMGC5AASwItBnvM4lsdQ', 'be-UQEdElSV8bfRSEb5FgQ', 'iV9yLo9y69vguOen5-pY8g', 'eyVbG_zCj0Hc34GEelKO_g', 'xAJ-GmBkCnHZ4xD1mA_PWw', 'buF2YUfKm-WsaVs_EVMdtQ', '1CxEA10ACuxd8M-xJ45SuQ', '9gRZ0WUYn7Iv-STM9w_3Ow', 'Kr8zW1Gg6yHKxGHh9r9Z5g', 'Ui6IqXD_cvB6VBQK96ZKMA', 'IH27qwIrD4O6zcQY0e2WAw', 'TIGFh13SQFeDgO_ybdhd-w', 'KjbBDpHW6gfyilGJdXyWnw', '0P-ZHLbUq2FyWpxSlKtU-w', 'nGWD_HsoT66gSaIZmD1hog', 'cpbAQQdfazB8yC1jPLvq5w', 'O0eESK05p18Yy-RpF0uKFQ', '12EJZkHfqFWlguJcD0CGlA', 'OoOloYwAhAhlycheX5WoJw', 'y4pmHi9O5H9k9p4g2ghuyQ', 'xAa8tI6Afx11hm4prMDKtQ', 'ozjVKSMu8OMYPJDNHSzFig', 'E1-WnfEJclQ3tKMCqSm0fw', 'LUCuU0wAEo7F9_7RldaD0A', 'EHJVRgOOkyOeyV7mHHS7cA', 'Sv89-_kzpEgT8ZLfYxn0Pw', 'nT5mz4AkzTRoYcYnGnlJNQ', 'I7azTs5MeY9b5FiyvZFrFA', '6JIGwTdcyA0jjSAbZAeCCQ', '-rnXnSS9jmegbStVIFillg', 'p99Q9_j5_vmRoamcHRZweA', '8IdL13QP3VOpQ9stpoEdYw', 'IRcx08fkw5p6FCxi6BupNQ', 'd3ZX2d1XC7MWX9Lwm_exmA', 'hchYDQQgr3XowqWo1VVTRw', 'pDj3PtzrBKxsG5wl_wFxag', 'S90fvGElvnwMuvR64XmJRQ', '3_shZQLaOw7cAin9CBcnbQ', 'B5xkOuREQdytbMBYWilzvQ', '3szo_XKtvV82r6Xth-4xHg', 'SADleff2ZuXN1RdXkmatgw', 'EwV7ywv6XdQMcbOVxxqVEg', 'aRGZOfvDABck4Gkc8AycMA', 'scdFIHc6li0xbLSigc9xzA', 'lGFYycaF8xgFQF6Nm4wi0g', '2O5bZVDrUZ2KetfDMzFRow', '2aXqaxTOE-HdueWHzKIQnw', 'iQVgJK9BZN7isDV_JSzwkg', 'CHEGKMs3xAQOoJPJHCY8vQ', 'ulCZrBp8mTJmnTe5VxCIkQ', 'y1lTx5wMPL8PHwLP9QeB0w', 'sEiwJeRVwZjb6Yq_HJurKQ', 'utiuwAyQEubhHZVBYteErg', 'vLzie9YYGuNUxPu7glHcKw', '44z1SFqjP8XaoCONwN_8MQ', 'gjoZZBmPMG-aLs8Ru0CE7Q', 'KqHqa5gITynMIQDVdPZ5hQ', 'gPC9jzUIBSaaHfW2M_izFg', 'MQWhd-8ISehrbeJhDCTQKg', '8fv38UQlBoIVSDkEvfcP6A', 'ZfvVtpF6a4aCkoyRkVn7hg', '5W2hTlrk-GKCiezoaCBdiQ', 'grk7KuM4GJodtSApEIdTBQ', 'qcPN3ZcoHfA-UwEAQFFUwA', 'NFlwIyIxjQkiyPd4wJA8Pg', 'ZlJCUJ7e8SHjgL-wRi2gOw', 'zJrRRyVCXNVN08x3QfuxUA', '8Umq2eTqOmAremz-EhmyLw', 'MMCznV_QiU3Rz96OyGzl5w', 'ASOJSBvDEN97TJWJz-4gug', 'rM6rRYBsZ-v7sukOu50pww', 'i5MYxf-aQEo0zqqJfGqhPQ', 'O5Rjix1qNtKvluHy5vW8hg', 'HoWw93YpkwR9vZ8ltOmf_w', 'Lt5o0oouy9ZjJfXkeDhumg', 'I70F5usXwh5q59IiyhPc1w', '15ltNLcvJ1i1RFqfm0DjqA', '1tVRQliYQ_Xw4YGy52njwg', 'p_3pVBGzWU_1xDXGwstIBw', 'IRCOea8dSxXCtClZswAuEw', '3INqltXxCjPVE2KlCOyblA', 'Vhfv5zJn-ryoCdr-_nVGaQ', 'dK181g5kicktHkcELyhoqQ', 'YNFTBjLvcaD7hqWEdl6tSQ', '9CB-aGb7s_jDwp2kLS-1tw', 'it73Ky7aL3gVXNa2gpL1tA', 'OU9NR9U136P32ap8MOgb3g', 'Yl4DTgysLPR6hU3q974Tww', 'eKsRMibLGNlWWG1Blg77WA', '2tr3Hgqa9dZFQDb7gso-Yw', 'IFq4oPCEW5EbrUf-LhKlog', 'mBDD9QS1AISnJqxGgk4OVQ', 'ihy3YEL2ugtXOKFKDoX3tA', 'bcAa7ighpKgS4JOvSNTNIA', 'xzU6fM237oo0fJVD9J504w', 'VsNH5B-GIaSDoPA1XpCB7w', 'NkvLBSQg57aWuIr_PRVFTA', 'Luvd-qOi7-mp41-2gKZ_Jw', 'f49Qm-L3nZUVTWhn8hBY2g', 'ukzBqUY5V_hwVXv5yTTkVQ', '3yn4leV4UHRpwF281Fdjnw', 'QAMbVcVXIwc7kd7EdWv-Cg', '5V1-yC6BA3CLo8tO6rhZ_Q', 'hEgV02Vi7iH_WmGRhOnnNw', 'vS6tcOULFUQH3mQ6MYFJiQ', 'vNGmc0xuC16JjG2ngtgtEw', '6_jGX2dMuBM03H_1yAPiGg', 'FmtgIpT2OhaqRoJovpZOaA', 'OAWud3nHvM5DnRX2M_WHSA', 'plumk_tVyZPIHctoIf6QRw', 'RoxCHvZqDfdMobjiGv9o7Q', 'f0UuZtHWnxJqNDOe71junA', '7-ujYQNvkrGI2qIU-Jr9jA', 'ZTyIvlWZtLt14TMbnagTjg', 'las0Jois9_REvufcIwmWaA', '44EAUS0eUIv4ZGGh2FxKNQ', 'Q7sC3XCY-V4Bv3V0rlOkuA', '3vk5x_0rwSi3J5wN-rGThA', 'aVlE3hwN-gG6j2TefdddbQ', 'DY6Kk7QBGrgpxg_nAy8jAw', 'ogXPDP9e8kWX0G3OiD5zTg', '5Y88DsULhlEUdi3hu2u5Qg', 'PtPPF3_qsa9UCXlFUg10eA', 'EeymL23PbmMPa_pg4dnTPQ', '_juVbewr5dWk8YzmPonw6A', 'v0FnbG5L5_g9SbcaUrCrxg', '6tjtI-C8LrGqaItJ_cHOvA', 'tOqB8Z19rX2TuTHFrxo0gg', 'Vzll8VXxX3uJjNquZXEvsg', 'TNbYVgsv9rpMt3jgheUtFQ', 'kWTjRXlI254rnYhzAmi_Sw', 'lOnP1uXxSU_nJlidWUkLVQ', 'yqpl469_S3OSuOHHTqFDzw', 'auHABJEjFPFrk1W8W5opvw', 'SEim0BJQbt8V7PWT7-GCjQ', 'ZKG_9XWh_xww_HEPCIVGKg', 'RFq5WNCI9eaQcn6ywf9T_A', '8VtiCW7E-SSw9YdHdnoZjw', '7fl5XaXZ7br7YGiNT7L9Dw', '_4shzREaAlDELWH3e5Gkog', 'ADf4I8J_-EmEHXAUtCw74w', 'NuCm9e0WM58Tc3mqbOM3UA', 'zh_DlvtcLd8j9V7rTi9u2A', 'Fd0FNlw5eHeFKaWRy-aTUg', '5grEFcghrh_6HVFfJ8keuw', '5mSo9dsAbezeU7ES-fgvpw', 'Ox2gtEHJNb8tdCE3PN-VMQ', 'L-GYHQB4fPtC43d4pHxsqw', 'oTJWmhLj5mhUOK5oCE4wjw', 'lrK5rgWQbJhKngtabqCjSA', 'vb98Ewp6yqbNROv9vlILsw', 'hjBH0Sj66opn1h78N2qDjg', 'I4IDYzSJe2JEoVZ1uI0sPw', '-nnS8RW5JQ5upcjmDgK9iA', 'qKmCNdDWgMEI527dDHuR-g', '8ED59xU5zz1VzQ8RNQBH6Q', '-UC6PkO2xqja0BQGV4CGpg', 'K-yQGcu0BTgQUQiVjkfMfw', 'KyhDaZ515rbnFYRfD1EcMw', 'L4Ca2g7zWTZz3XqCNRGSIw', 'MmE4W5dFQr-SzDvmQy8H7A', 'kimHuH45S-QEsC9aydEobw', 'yrhXl1FZYzxoVQhKui0vkQ', 'iqNUGuEeI3uHosW6QDw5QQ', '_-EY-xru2DKZbnprhwH7Xg', 'nRdnmZZ6Gts0io2ZteeL0Q', 'azAGPc9xN_Iv6EN4916f9A', 'NCG9BQ-xUrDMrcsoVbW7jg', 'WqnBvLiA9g_OSHtfbhf8NA', '_LlBlLTVcJgbM7iGj6Nh3g', 'RJbTEHUPoGE50PSfObD50g', '9_4d2sac-pEw9c8k5l3LEg', 'gcmWQL0SH0o2TBfoieIIjA', '6yxhe1R6JtgcCBvpXWv4ZA', '5nurZ682LnqYrsaNc_8sNw', 'X8LAW7DOH-JLaut7B9LESg', 'F2UTRBYa04VKXxAAREgu_g', '_ZaWMk5mHmsuqkTSs7H8dg', 'zO3t359kENIW_BpQivUAoQ', '6Fpxkj5HLnVlOKJuOH22Cw', 'd3GrH4o2Y2JWNcHWL8P8NQ', '4wZFfQ2JV4FvQ2nTcd3D1Q', '1M1HMZO1_TuTS5tQbHKIgg', 'bJ4QY99vn7FHyLrkOdv5Bg', 'IriSe9zqV4JGtM_y-eLV3Q', 'P1RwASNPR5D-_MXyJFzLTw', 'pgVaALdqn2BWq7GMLZf24A', 'voJk6XkGxTbcxJVWSBCxUw', '65ul3Y4TGinEC6h9cT354A', 'ofHa2Ja61uzEdY7sT7RXsw', 'cMEHLHokE4PRIqMd_RLpmA', 'wZmluGAzr9CbbVpUlyDc9g', 'xikIcVa8-jq3KJGAb8Lenw', 'F20zhgdf2cOspuvCz6fYIg', '77x7obmURAK0VRrbsI8wuQ', 'smsfJDqWLec0MaHVveI1pQ', '5uEECaKq5IKwG9vPoARogg', 'y7u35rOEh6CzvgBES1XjgA', '-N-rp5xOHGjzAJoOm33Fqg', 'TWoHps2fKlTierCfLN0JwQ', 'metbSwR3gm0Zj3sLQkZ1JQ', 'Yy2gxI2-tZ07OoOs3XsFVg', 'GbMUYcVt4yrrYWAdPZ-DPA', 'cqaNCHCUpDstErpQ2abyaw', '8KyFbMykzN5oXl--EoFQKQ', 'T8JzRxRK1yCY7_U0IzudTQ', '5BGit1-iP674xSSpqi6L4A', 'WiUH866Dr9JetRBKgA727w', 'vwziMACY35FLMw-hkZ3vlg', '5pyDVykvYd7ugQ1IzTHxog', 'zPByj_3y6TBok5BpCyYrTw', 'VFsgeIKD55-8L3uvNpCkPQ', 'hT-Kc4ImFDMyvHI05kHB5g', 'YuBV9iTtFw6U78WMxLqN0g', 'AI-HekUb9l6QcuanQy7V5Q', 'SpPVQ44AJpyowDw-C7WMlA', 'TCn14lt4Ri1hlHdINRZd2Q', 'uNujQmdQpK47DAJmJFOA5A', 'NlGpy3Vp_UONrvy87IpbUw', 'yjK6YV7NDTQ50YlwBabXpg', 'CQpsmb7BBjVoClC2ZI-z9A', '4CuW-sNVwaDQqAZyFRXdAA', 'IpE_BSBMUl55FJfsi7-tuQ', '5AxW0Fi7cXZ_1_70xP2-cg', 'UYU9cJpVOWHrBUGKVXnWkQ', 'B-Qtic7fLtTdDNYpn9Hy-g', '6stooLBu0Kn8D-4KEODbJw', 'HOfXB4EiJr39r1FzJYlc5g', 'TDajY_PmgElCKTV3nIjQvQ', '18RM_fQo8QVJX9r-fQn0MQ', 't0_0O2Y8HSE5CS4RTLHXiA', 'Ijtadz9SioeXJvIv_Zbwdw', '0fSm78lDIWMHS7HfHbBgoQ', 'MnwGQuzVMPvFRklXqkE-fw', 'xv3zwYXc5QRXS1QtKyByLg', '_n7_CDzsk4rUjGt-4fr-Bw', 'j7dQpVCMpExzDzE35IAdjw', 's4b1SlEorOg9BwV5t3oXyw', 'UW_wDbUoHS7bYE7I9gcI3w', 'xn_2MtOcfAGsA2eTgrP68A', 'cDh--fgkGS6g3SfC5E1bfg', 'wVzIMSW-CklnTeGysa7lCA', 'S3h_ZoFsVMI1_gzTKz7zSw', 'zlq21SAecbKdTXDJXjV44A', 'huHjkCJHXF1ESZFz3kXh1g', 'i-acqaFamGZcateXZhZ78A', 'H-C_Qodg3xoYox6-2Cyu2A', '4DeZWOeSoFTZhjTktew-sw', '0us9bFdds4rqm117K-DCHw', 'w3YfS2Y4RUcXn1DvJ8TfQQ', 'adhvUjFk_z6WMFOTZCLujQ', 'Be5jN5u9Xiu3XDNT5zOOng', 'qEi4DEXkmDVJInvwKN-qlg', 'pv8oI-rJgyOZhyS7O5ZPRA', 'vUhjsASMO1nJXgJw-UcCSA', 'pERiH6lQhnuMMFRck_v4-w', 'nTYMnZ3uMeiJGcL36TvMaA', '6mSFv7ZM32VZlsFk-4yY6w', 'klM27tY7ZjUIWvVepDVIaw', '4CEyqTUVqDwsLtYX_9F5VQ', 'a9D_Rpc-D9BTvSba6dviqQ', '8-IhJgrD-MlplglCKVn8nQ', 'Q8HlrOj2al2O8S9en4F9pQ', 'Xr9ImYY6aFenwpE8yguTNQ', 'buH6lZXFmFUTnqJtwcc29Q', 'kXIBJt6hhonsnyXgTpTFqw', '37Onzt3JFGjSLlix3oENkg', '0aEOOW_7swAN9MpaC63FXQ', 'PT_FCmTjPYosdFLPomuhgA', '6fELAdrPxMZVcx7i4tsrUw', 'eDkRKpqDe7IwZyTtu0N_3Q', 'VF64E0UgXqbPuma22GQWiA', 'CtG9_ADschVj9pabv0GNCA', 'cwnrKSurCcpBRgOrnGb3sw', 'fn8Y5OaABMogBP4_tiLJJw', 'BlEFnOjUxS_IRXYW0uZ3Hg', 'v_TAu7aZAAQc6P6npXFrRQ', 'e3E2mARJUiek8pOLcZOhTg', '7lU7QkpiBs-5jw0NhPHZ3g', 'fN8DhjEd8kbt4DlF6f2_Og', 'crpxQTJSyg0CAvPdlvvS7w', '22dRNcmVb_uqC1pVP-jzXg', 'Ct0UaRrcYhc_h8ZplA46qA', '5RD27y5HeijJ3n0L9_tD0Q', 's4kJ__IyeRiSNORVg096Hw', '2Alx8yMDzQoJU1nRB06bYA', 'TBRoTt1mqct1BLv9c2LqqQ', 'upfwdM-Dbj1ZOU22dgERMA', 'w0SXx9uMryo5KiAHZBLuwA', 'oiTZ752ESIXeltXS12HiKw', 'cvJXeJRIoHKpdVC-ZIEzlg', '0zpVSaOw2mGAtw5GbtRngw', '1EO_OsUu3u2yMvbG6vtatg', '9EHoyzhNRlYqMEfJl7fzUQ', 'RWJYLKZ2CRt7bnYWeAYwGA', 'aUePnspiDa1WCVTl5suDDA', 'c9dbXkK0uXMjJa7r7oIVfA', 'hDMv6K3Nea2WR-8ufHW_Pg', 'aZ3TLWS_HgoOvWAGqlbtBg', '5OeiJlfS3sw7qqJ0i22WFQ', 'MkCFXPwB8lBnfWSVylDWow', 'mMr1V4EJ158hVMw_v_OiSQ', 'WQ-dX9sMHEUH-e1NpFndNg', 'XyIrKh6NznMSJwDGtE47SQ', 'tN_6kT9zRlGnoGti5Bniag', 'Sx232B9LTsBF2qApzS-X4Q', 'v1zRSWJL27WMxhsi4E95kg', 'yEsVeRSDUaQFhr9_id-zeQ', '5NoSASs1917DtntVSd6QUA', 'YTXpugUXRvqRcuJVNxUiOw', 'jErXyZ2KtLDAZQWgL4nGnw', 'Uezkwi3qb6IJtjO1Zq-nlQ', 'Ee16eoqVYWqptstHWjJvHw', 'gs1eMH4zUws1YI5RJ1_IYA', 'GjwGnudwxrie9GAX2reHaQ', 'HmqsFAv1DEWwXC17nj781w', 'Tgn2ZuDtmZ2hpkZLB5SicA', 'UejTBC5vKIqCNvL1i8S-gg', 'PWVdhUFD1cjQIp37Xpzmng', 'YibXB1LFfRzUgIopGCKa3Q', 'xkeKk1it-RPLgZnMDtqXmw', 'bOae5ry_3W4HDsvqsBbBoQ', 'b-BiD7asunKvn_ddL_onTQ', '4xfQHPssf7RPSLRXbLvnPA', 'yxMHvgXtlYwye0HZDWvJrQ', 'I9Oht-Z-C0Mvq3dYHa85Ig', 'VY4d4Ck7yLPWHOIUp0ZkjQ', 'CY9WlKW9IX10a98MJOnmWg', 'ixyi-RADzIuM_TGpj3iVnQ', 'riPpPc7_fPv9nBa_GV5WjA', 'a-4PRQ0mcPJJWdH9M3cQww', 'lgY4qBw4Z5dHQc5-C6QSzA', 'MilYIXtdLmZzgZnwMSAbwA', 'tuDKXEIR2oA023BXdj5AHg', '6pLqLYurqK9JqgEhN6Pj5Q', 'ymnrQwc3HnQdyMvuUGwRAA', 'SPdAkTJkQ_roC4dF4bvNpw', 'Jsq1IEJUV3C0jLgA28-_6g', 'rQfELmXrsXMyuYGVFSax9g', 'ztChGOyeprRJX6S8IdKPjw', 'Hi1o9iQOhCYPFJOfbjsgvA', 'Y9bIkWDVPWG-Ks2AGlSIxw', '40DZwlS5hcQlEaVq43deFQ', 'hWf_rv3aONGGhcckSsPS1A', '-pXs08gJq9ExIk275YLvPg', 'HOV7yefw8I61YopUDMQjAA', '7Wt0CxpVDlWWxVJaPUVxWQ', 'jJ_Q6MFoEpSGJKhsNC6fHQ', 't-DETbgjhVlzbInvh45fzQ', '1oqVkwdNu4tVpCdMTHBFFQ', 'tt1yfAF_BMVs3Vky0A3q8A', 'CVuHh4vm94TMAjt3nbEumg', 'FWwb78LiGrzcthRyvAT0aA', 'l0Y7ULZj4W-OJ1QIp13gKw', 'YsSqFpCr5hrnOH7jSR_VxA', 'XeYJrRFi9F6rtJNGB_9Gmw', 'p4pUKVV0f5NRMymxI5Nljw', '3etYd1wNoomed2BR8KAWHw', '6XFSZMu2o4Sp2zoyc4YPeg', 'tT6RoN3YcuWP2kTm16iQpA', 'rVSU3o9k7VtJMGuCGtsvaw', 'SzRz5B0EfNb5ejdNglFCxg', 'IytDQQ2lVhHkyFS8L62LBA', 'Q_t9JZVAw87oc7CgvFSaIg', '9vuEePoWYJSoBnEwxBMFeQ', 'PMpe8H12c_Fu3ma2Un-7pg', 'oo8TwL5GNAbAUBCz_FBL6g', 'dqPJee0kFRwZA4zyY7I4uA', '5DTzC61QeOWV4FaeLeXt5Q', '9EGgvZ0M_lMzONlIhEPj6g', '1FL7qzWGSQMEDE4nVVZUug', 'kntwZMu4nbTIK_d3lxW7PA', 'En_uMfEDiKpt4_dS7V-bMg', 'ZumM0Io-4mmUY94dyX9fMg', 'SrAYp2dtRgKlUD34p2XUzg', 'f1dEQlfFIl8yqHxUaAaZjA', '1YVJvu-gXuUWAsspw3F47A', 'fx7UaCfHYxJmIZ6MoeWvVg', 'PP-NsUoyJiqPn9_oNjULTA', '6dhRkUwPJv_UIbQJ3bYmZA', 'UTa5FhIHc40cugeBwVTBXQ', 'X7I028BaR9M7YiUo5Y7HaA', 'oz_r7ORBJd0LaD5CTrU8Og', 'rj0t9ymCScGE3EIyr0_pFQ', 'peuaU8xdCTyfrxgb5b_oWw', 'OfcjX14fdlGJoVBjx-2yeg', 'vwYTcDI3_c5XHLa7__nqWg', 'vSEqRT9SUZURdaZNpsSMbQ', '8GoSMLNPZb1mNrK6HNhdwg', 'tits44HBNrIp_M_YA_BbbA', 'j-K2GUiOPsRuVeBsP-wTHg', 'vgRMN3CHikYICAY2IO_AeQ', 'AHFoQFeG-RZ2FqnQlIz4tg', 'GmBz6TJn_mE021zj--gNEg', 'EMgEqxfEHBx01s_vA_bhNw', 'skYgRTFtmRTzpVVgpqw__A', 'lwOXSRs-IgSsTIDPDZx8Yw', 'A4pcvbD6NMKA4kUhtftEHA', '-brdx3aTtQOMsRG5x9FxdQ', 'lIjIYfbTxZsgV6xeRezgtQ', 'SeqJdakOF1jMFdoeVPwLhQ', 'JKiEg1VBCg5bS06SXf3CLg', 'tqyEEsOZZrcOG2dI4JE2RA', 'hzWfM76eXHuTG03GrFePmg', 'D8pG0i3B1t1lno5_yhg09w', 'JsMzHeaM2W2i05Q4LsNoIQ', 'p65Dt5wd2_WvLffQ_wHaNA', 'NurnUlflIis22q9kqIgz8w', 'K8vA_7qd9YL6EuDh3FxdGA', '5_TUW-JOuxNImB3AkGxaZA', 'RAto9-HFUcjbXHlcpY4zKA', 'Sk5_U_SggrLNEx5cyMbzwA', 'rzpoCZHohQwJNjgxrtbx2A', 'sMKKqNfVPEtK28k9fInEcQ', 'Bh0dVIpqtq-jIjEVx0jsJg', 'zhDIP8-R4JefZa6lTygrOg', 'OhkyTSL-Xh98mHvu0yjr7Q', 'oDKBxwThvrSngE7QWfMJVQ', 'Cwv8oo_4ZpuKcIo8_-7lEw', 'SialmIbLGiyizrlL3QQngg', 'OAUd0tO-xINwkgnpthIbVA', 'YEDnTf7d6RyXKEHDGqi9tg', 'qQAGOghyXx5NNXOwgU1_Xw', 'AaDaRTBY2i-jzBVCOufGvA', 'jq6LMiWozirxjkc-KU1Nwg', 'VOxftYo01eF-8SrE_4ZqRg', 'gfhXRHc1Z2_s6NtE2Yep8g', 'QGgeQ3dAzK4cFzDDCwLxsQ', 'GJTGvF0mWvLYsD98xK2WWg', 'pGQr6lwdCYuZdKutez9ZBg', 'z_-ptsMFfJnjokeZChXn1w', 'AoPyXf86Z_0noC_FrCJrvQ', 'SllwOIP26STmxLHqXW7Xbg', 'iPUFWvAPpSSq41TMljR87w', 'xi51_NETQ8c-P8I_1yT74g', 'gKRyOyaT6CeSOCPLqnq3xg', '2DqKZVrqFI83uTu2_-AwAA', 'dlGcwR2JOHVJvrof4eGmHQ', 'F8Dl93_w_agTlqoJtRclQQ', 'pV2rA7hQKneoPHTRJQURuQ', 'tixCwvN47VQTYeEkQjeGRA', 'ofHd3Bjunsbl2YJdPVfXbw', 'cLlN0TgNwd_hIzVCtTEwNw', '1Uc6NwkainkN_UQCfxsl-w', 'qNKX4U5fsvNItO0aF2ZSnA', 'HAfeGT8hcWw3HrW3YN8ucw', 'KQ0s43MIjlHgalJnglBuiQ', 'wuCdli0NzRVvoI4D_aJuGQ', 'YS22AcMvlv9TxN7VO8mIrQ', '2T1zzzZnLajKsgB5AaSq4w', 'M7kWogR7xWToFi1qg2FjKw', '1ztpJ0mXojpXv_bFgO7fZQ', 'sBlTdGgJgJwYakOApRxkxA', 'BX8io2_XClpPiXFDTB-vCg', 's4pMGIyCzo9_6K18UsZ0Cw', 'J-rtukT-qqzrAxi62qg_3g', 'IV2i-kHIThKZDgV2pGNFuA', 'dmBFg8wn9o5xt3M8THG_nw', 'OSMbZppzOE3_UenMakvtQw', 'h3GnAE8bwsM2T-8VHSFjeA', 'CLDAbPaF1OGOxwqG84YxiA', 'RiXrKi4N4UWJv2CzxQE04A', 'dFYeSy6k-ck2HOyqU_L4Sw', 'ut4SGbu0UHw_ZL4OsUCSvQ', '9wnrp-98nNBo2gC6Iw3NeA', 'gzDnxZZGaBreY7u3ZTpfFA', 'oB3INF2MeESzgSraXb6n_w', 'uBe6DGdIIuIqJ3ilwridSw', 'udHjTJBEpJ7pMiLNVOGqNg', 'Qni--U8TdLuxa-038yAT3g', 'HXBfLemmpw8CFLxMqgcVPA', 'w18aokND78aeNZkIi94WSA', 'JECKoq0-RgpLPgpZnQ8dJw', 'kA2H2DzFKO9tSrHP0m2VMw', 'bzY4eybcn8Pq1gdKAgA2Sg', 'kdmEklD1_WAPHiv_Tv_XwA', 'OA2mM0SRDpiONURbSfQBEA', 'vN0kR_uhcauVxUitHbM3Uw', 'ycbagO-sOLaNlyWaGE9YBw', 'oH0_wSFlmaIGyu1_p1Nhxw', 's1o_7P9y1ws0z9pddOaXFQ', 'wbv5Gfm13bWeNBnBnRbeCQ', '8rHj6qzY2DWT__iblTPYxg', 'iWjndSRpaV9c1ozcBxA4CQ', 'dFmeSoMCI8-DD7SsCIUKuA', 'SpgKqYUCiiUS_JqmZiLP5g', 'bKqcvJcbS-sESmX6qpjV4A', 'gffmD2DvqtgElSmyi_hl5g', 'JR0KFtByexg46eDVLF7pLw', 'MLV9KoKUYsOL0fleIMGFHA', 'on_YdDFpfedhTq651exafA', 'u8CKDHDELVrZgBitMlOwIQ', 't4-pA8hW9ewbhCpMGTIVtA', '1GGC0bVzNWDAvewFMXAp8g', 'Tfax4LzbITBQ4Ysupbeq7Q', 'sVSZkESC9kaneKoCiT_EHg', 'XdJ0Y2lzBa53LnRZQRJ7Ug', 'OZ-5ADK-ad2u_sigcly_JQ', 'QCRLSbjflLHy76kQzDeTtg', 'Qcn6GPOPPcD_TEARd5CJ6g', 'mKBnoa1WEg3FSzC0iJCYDA', 'HxgUa2Mwy2FSZ4aIYuDAXg', 'Lip9j59t6bqKHG63rl-syA', '-oY98RLkbIi4teGQuVmcdw', '-VqJan3UlNuvqNqyHRxuoQ', 'is2i7BUDeInfyuYqVmcEZQ', 'JpYtk2Ah-FyUvl-PrgU7bA', 'OG9v-9Hite7Jyjet4yuLCw', 'aajBwA3-q-3mIzFAa4EJHg', 'iJGsbBdESnVRmS_XY4UIVg', 'bVYxom9SYSGvUTqIIHF_eA', 'wDpE_58_uziX9lpMnACSNA', 'ORGgt3pqweYxTsi9MumMkw', '1NtBKCmdlPC48FsZtPiF6Q', '32OC8yWDGBRIi-mF6oPnnQ', 'y-mPiA0upHBEeQe4JPwn-g', 'HR0vAQQvxqFUa0xbo8kmCw', 'Ylvfdu-NEAKUZF7lhcbuHg', 'rD1LVRaq4LmT3YShtpPETg', 'JsMYfXRWMgcXUZUoYDwUBA', '_H1mZU8T3TY_khvWwibXaw', 'SQRGrYNOOVty_BbiCTJs2A', '2l88huq4O0MhSnyzpxUcQw', '9JR3mF_5r62x2EGS6yXNpg', 'la10IKeNDQ---rpY7y5nvw', 'PLJmn94Bt90LiRJQqswcdw', 'ThTUiH1fiRTXDqwH_NZHfg', '_wPAgwhtRsVixHlZJV5WSQ', 'w9T3fG-jeXYWz1ny6WA5gA', '6Fn-AQpiPC8ZrPg3BGDADQ', '-Muzfghm2WJ8a4PWaQIfrw', 'hANFYzN5xsDvEMzz_gcZhQ', 'LpgAZnj1Tka-q6Uy8KRE7Q', 'Jnm1Nsq3rsouVaNnESrbFA', 'LFv6VAY9iemAwQSjWX-NOQ', '-IOfBTTHEYO39axjSPA4VQ', 'mB1j67u3CD6oDAT0dwrTLQ', 'DOwTHWSxBaDVR_J9UP60gA', 'R7N2L69z36nM67ERElG6dw', '7Uwba6q1ISqaVke2Tvtmhw', 'W3R_LZaFfY2FZTELAR_Tew', 'Tmbv0zu_HL09tNHtpjXOFg', 'MLQAVuIIJ8B2AigoRYyCZQ', '8naIWDbU7_p1ZakScC8GUw', 'WzK07m7kGQIdIHC4nzatQg', 'tZlnGCW9GVTc7mW2LAvXuA', 'sXTVKPZE0UNCFrgd5cdDiA', 'cWdLp_a3JoQYNqtMvqFqJg', 'C6aRJo5K1iQF9Mn7rmIrPA', 'QBq2OivOXHjp_PXFcQYzdw', 'EbB0MWM1ILZHewGtDn4y5g', 'jF77ZfBrQRG-iTasyUCEhA', 'uqJkD1_QcW2FomBO76ERkw', 'CSCHLDTGzQmcRmktOuiAFw', 'go_Xr2CdUQs98idc-NIOOg', 'aoTUk2FLLrIjXmby_B3UJQ', 'RAHiN8X-aoJtRkiUurRmCA', 'ExWHcSHEvWOpHJwkVKpBhg', 'I4SD9gKznrw8mPsCJnYDeg', 'lQmVK0A3AHhqQlmqq1LcOQ', 'vr5BLPV0fWNgila4vp8XaA', 'wHovJi4vAhhhSskts1DQXw', 'Q5FE2ZINSbDdrdPpRA749g', 'JlOQlLt9LTapLbPv1CrkFQ', 'f0dTn93QcmxqcNdRDNuxCg', 'Ds7n536PyyuLqnlEWkLlWQ', 'V1pUkGM4DFtktNE7rqC1xg', '7vlXzv4kJi5fMAeiePOEOg', 'SzLjuudt0f86O8yB49EtEA', 'tUs5Pa9Cbuv2c-rNOd385Q', 'lwqUQjsGBaayInQlDyRRgA', 'cWoHYngSrnCk--o5IPMS4A', '1ky8hFbxyxCu5YzJtuwjGg', 'BKsuuVEUWhCCWaLnslP1RQ', 'MNEELZ5JwV_F1Q2ChBQXGQ', 'm4zWPtidGTzLbbS_BKPQ_w', 'MtCJYa25qvVTdZVV_b15Zw', 'Fxi-Mj42FFW5mzPmFxoBoQ', 'P3aqhVIocsBt3PcoWuxt_g', '8PIAC9_WB-gohBX1A1S1vA', 'S609r829vdzNH7KRRvNGbA', 'lZM30R7LmwildQ7mdsmwRQ', 'DFrPgnuzqpIGK3rwJSt_kQ', 'ivHpcbJlTEdYiqXY34KFBQ', 'gkH-GFjy16d-mKIKu1_Mrw', 'D0mh17GbpSUcaN2l42m4Bg', 'dsyKE9mcbJORat0ZNTG_qA', 'lEnRh9Kv7CjLTrRZ6rHbHg', 'hAJR4dxpiuGjrAB9PEg8CQ', 'hwjdmZMyaVcvHZY9IK-VEQ', 'YqJ-C6Xm8k4QPAOHOUWbbg', 'zRsGIW0E3aQiHPq0CRztgw', '2_Sx_i-KLwoCR8JErwrklg', 'pvEsmd6KG_bKhbaO3a9hiQ', 'JTzJ7BXbIKxj3dSGcSd6YA', 'DqylLGdORB_2GVKCToSEYA', 'JivWK3Ud3m9AjU2y2MWJcA', 'cu1m0BSzPAOBP6pIYTXj0Q', 'gxKcF4vfQc8B_4reEtKXEA', '9dduAodiZcRn3QhkOyF8Vw', '_6up_KUwL5RsuWtK8fQxXg', 'zwWLNHzimzPvlZwj_mf8Nw', '1oHVgeo29oZ8N1YqttQpnQ', 'cjh6kExbnc_HLMf1kJCejA', 'Hk6H1TQPGsxjalOA6GG5Xg', 'YH7nqCnRqNuq13TMsuU73A', 'rdgUQrs5bPUKzOOxHJNQMg', 'fiZ90Nx2bMjGpkf6P-UqgQ', 'dL4pFZHSMBq89pmvBdr5Kg', 'T1yvxPu6XRbt44_JgyMruQ', 'Dgs73DIJd-X8m7EqEnSHIg', 'tlzLQvq_CJfFtBsPJqwUaA', 'rTbVb7D-VCATTpo-27HiXA', 'DbDRnjxBaHzafMDlyk3QGA', '6UjqJov4DQfkU2VUGHUuBg', 'Nkjj01jb2ZEAV6z5Rjf7WQ', '5XavxZ9RwcrIOPgdMwZG0w', 'MSh9elYGqZkXgzXUX52XEg', 'LXjPW-rtJkniKMmSh_aiWA', 'daXdWw32tmp9WgICPPzmkw', 'MFkwRJsu5W-0QvGxqfwWDw', 'fqHiA4uuEaJrPtdq3seHhA', 'jjMIl5oUw0m4uxYL7v0TiQ', 'N9ewqat7WLApaigDfJnxUA', '2d4jfwQqnfjMLlKoAk1MvA', 'e1RrMdxOWt1i6YZqnxIkQA', '8-U6FgqWxNmXz80JhJQXZg', 'OAnYxq6a2NHK2oKoQZR-dg', 'FKW-HvTOpqmbClkGsVx7eQ', 'CMUb2-7TkU1bWpQtKOOwUA', 'eZZ8rU6wq9IRIaQj_7Hr9Q', 'eD-Ud39QZCktBkROZemG8A', 'apG88uY0OzslXtxjSPY79Q', 'kVB2RCrheQVbJGmNEdt5Dg', 'HXkg_04PZIyp4O9ksHBkSQ', 'nkgIQbVGdFwC1I-H_RlEpA', 'oS68Ct0PSRBfKEUx9oZDvw', 'H5DNXAfXva5Fuo1umgAfXw', 'pKNkVqmTTO7o6DPPC3DThQ', 'ytVUNUvdYWMiiKUpJ3NODw', 'aFi9UE5mbZX9VUr1dkzETw', 'uB0wzuSlebF486WSjkSV_Q', 'x_DJ03DYFMSCBnaT6QddXQ', 'R4kkkiKzukTwlN8-x8cbFQ', 'LbOrvvhcjvAX5en0oSdz0A', 'lN9Oi0JOoTWkYJYhiBu2kw', 'wslF_iJqZEYPqV2fMHKA9g', '6Byz1DV8_K9N192RyyPdZQ', '3Wz7KbFmsaHV3eaTN9UHQw', '4YqATK1zLKTNXQiY3bTWeg', '8pQNN1pk-DxPRr82_L-Trg', '9ZeNeQXKUxcwMQYkB69PGQ', 'N4RFBwtIS3XVlw24BD0nJA', 'S3HlQ7kue7s-xlvoHJ6JPg', 'LhLRCbJqZ-KHMS2zWAf7Kg', 'GA0-A_ZOFGG_XJDXxigLug', 'nDNujhb530Jli88fjZ1hJw', '4yQtGuSUtHhQTcWFrD2Lnw', 'kz168XONjoZzA2GH2X5D1w', 'OzF0k2Dl3UnnFj2iZ74EQw', 'GvoF6DHx27HQH9t7zqrEUA', 'd4R7bh6TJlIwP0BJ87SkdA', 'vgSF3RNZFIhnhwiNUqHz-g', 'LfO0SFxqXG3H2XsgAubpzA', 'i03mW3bmtH2Bv7n0zNYfpg', 'GqAb4LmXUaHsM_KQAL7_RA', '856w3_PKJueJ5IeEH8tArw', 'RB6tkPg4jnD4IgFesmCoDA', 'TSo8n5vBomc081E66-q3zA', 'aVy_dJ5MnT8_f6zLb_19nw', '-VMnF89FNI7iSPGv90PeRA', '-yA16ugf7ao73-DRucH4eg', 'tqAMGInQcbo6ki0vLdSs1g', '7hLGyHQC1wPCD4ezHf2u4g', 'ykYfjoY7_XG7ZLWRsFGPCQ', 'jhxmIidIQwfBXQf6UUBvPw', 'lE0C0uk43sJ3GimJFPpF2g', '-pPn__jkoZL9fEpVoOYxxw', 'OzFWjgDFN7k84_gaOFRM1w', 'VmvwqCAGoys0YMhQcWAyMQ', 'Db7DP81eb3G0m0spd52gpg', 'Ngibn20Kg1Z5ttxq5X0jpw', 'spjtP4NtmxncbfA-1-CDYQ', 'KHhwiHmyAHtBHq8cy-gvyw', 'BdMEmCZMxmBL64IkfMvXzA', 'bG4EeVOCEXnvTtZTI2GVsg', '4k23TO0xeaVRRo_ybSVjvw', '2hoQaqgSjQHAV4-lieGRnA', 'jXz3PVJXeRYWxe4PeDhVEQ', 'loojrnv4SmwhQsO01k7maA', 'mmi6jQsk2ghtJeluGXjJFQ', 't1kd9UHPFxuQG20BTLBcpw', '4cRQ8Ys-UQ3mcUKJ4cqGXA', 'RQIFQuyBn0WCbIpg7-gkyw', 'CvJG4MAs3aVY8O2BuVKARg', 'R0e43KXI5mRxNOu9nfzTXQ', '0Y8k9UFvwsQAw09q4reGpA', '0EqejRf0jWctgTYhBzojPQ', 'xnf2hAmw992g0xg47GEQkg', 'BAHN5dwVDP6PQLZqkIAysw', 'tfTdqDzRcS1fPO37h9hwqw', 'wjNJ9_srcDb3xspMxlEgBg', 'G1R3NgEK6Qmqboa0b7RJNA', 'v4sjsPv_jOqiEQfua_n6dQ', '3cFVydvpm1s7zCk2UjiuKw', 'pZaUQiuwhcO-9SAD3RFZbw', 'Xmf0hrZ1S4zBcQ7GmidJ2Q', 'WgBoWF5e63SsqJlpbOxOzA', 'nDamS747QuFos0xn8ODARg', 'f80Hu3-xtxza3Hw3vKMpHw', 'vEWlSdEihyvP3oYyAEBS2A', '0q4xSjkIDdg2nDH0NcscEQ', '_hXjFjq9e68RqWMWOBQj7g', 'pnCeY_VWdDvZgSWtY21N5g', '4u8t9Oo5slLV19fKkO0W1Q', '7OT1PxC-wucOvtUcqDrBGw', 'q-4Urw7PIFXexhvXsszQEw', 'Zcfy6EOihfR2wspSBU96DQ', '3Q_w-mHUiUF-9uUm8gkbrw', 'Ew4iQy2_V5MvHXlJwxrPMA', 'VX_g_bI9KNrKvQgxKUm_wg', 'H_Apjp7AcO4sXuW0ynEGhg', 'QYiVbqozeRuGu7bFUqHqzA', 'yo1Qbp5I58PrW-i6wOzStQ', 'iVkEQv1B16397LmlGA3D4Q', 'tbwI-x7q206mlu8gx0VRzQ', 'FUjlbviY2X4SxIn_19qJtA', 'q0jKIIXJerT30zj9koAexg', 'ITqaDohI_sUG155tTCb01Q', '53hlgcUKklgWiJmojZ_w8w', 'dWAmjxaqyp6GvOljjgIp-w', 'fNbT3pYOVZ8JVZ1pKkIzuA', 'G79xMbn22zpH_kECn2Lk9g', 'iZGmoiGdGmTQMmqDjB56WA', 'xAmecmDY32O0AVFAOYY-Vg', '2QfJ8jiO0YPQia9NuEaw4w', 'xduNAWYHPBAivZOw_N07OA', 'LR9kxpWPCzCL95OIGNODdg', 'Kfo_IdxixytypnKMoXeExg', '88FeRWEcnMKPRZ3K6p0zDw', 'MOTlS_NGSnFGF7q5ITukwA', 'DCsI40ql6zHerMJDi0EnYA', '4K3ItmWdgO0tBahvSNzh9g', 'z7pfqBIk6ASpicW4NCEbwA', 'yYKTplhJP0YuLnTd0e2GLw', 'sDN-V5HJCGGYSQDxvfI4ZQ', 'nzzs01YTiYJIrRoH8-XPqw', 'NJ5vofj82kASyY5CYSBbtg', '7mWMzFzWv5Q7g-wQYhfvMQ', 'NaIz154TUISAgKOV_Rh-aA', 'd7D0ZZS3OdCBLg_vXWNZYw', 'iCvLzoBKGorT7eNkaOpgxA', 'L90fLnRp9AuivhmRVyLxuA', 'fph35m6ug_To-OY5C9ku7w', '5qscRks3jCzB9H1DZBqHpw', 'CC74WkQlZcWH_o0iXctUAA', 'EKdiuTEDBbjAonnAiHUuUQ', 'Qi305Pd5g9ep907BuH3WEQ', 'FwPbqnM9IPoLYyPF9uH1Zw', 'V0Ofah4N7Pw6foKGiY55BA', 'W53bbtcxfAK9xNxHGGpO3Q', 'NO9kIhnBpdHLZ7dW-KQPBA', 'fZeginat0GScr8BpKEJfhA', 'rNXm3GBwzJv2YKmFYU193Q', 'gru5yvGVYsg3JFyjUnrt-Q', 'q1ujK0PIDQc4Av-TTZ2KJA', '1qBpe42WDC1KCqCOr5vwpg', 'BWlAfp8i-VFPYCwAucsSaw', 'KvjjKP8F2E0VvOP-pu6NkA', 'dsWa46wqWE2KKjTklvnPiQ', 'yhiG88ySd_d3tPzUGEwH7w', '5OzYnu0yTy_g0K6Sg9VD8Q', '2c1UwauzRJ8t7epiegG0mA', '118Y62oBSZIqKtyBBADhhw', 'hGMCdZGQeeu3b42sEk5J9Q', 'G9ULBbqH3z15QnnBjNUZCg', '8QfTDbIU37YI3PZ0rE8T-Q', '9gvVvmUD1KMAmlgjKDyt-A', 'cLMzIaec2EfEWNiC8zzLuQ', 'A9vdrbxeYmjr52ralgFrGg', 'jWP1fiGCmzDdihRrm7gItA', '1tpgKgrIeiqm8NOVGvQ_bA', '6wTT4YnmoNKr4-Ipek4Rog', 'F-Tr1hvWxu9cgPq2DiV7SA', 'QldUWqktbzgzaEKyVYbhuA', 'QP0_532Ir3r_DYlX72BOOA', 'EfWMWCqzsxChUluVzG4gxA', '3eJH8zmPLoPfDo_rUn2NOA', '0kFFd_gIOPxm43MR0nB1Jw', 'PYx415UBmTGAp1RldJP-Fw', '75Jna62UBs-JTa90jDAzkw', 'xPHPmGFANmcblhDfjkt5ig', 'f2wK4XPgLNItQPZzv13Amw', 'vET0In-C9z0m8xfVywq9GQ', 'GYwc2WspNzn3wJR2fSN8Pw', '8dOu5lDgHSI3HTx61CmW5w', '14KcMiqFVu0xR62Po36k6Q', 'tdmgFShYm6bIyvjaPALdOA', 'n_4NSi2W3Wh1nTjJ63HiNg', 'KXnreKEzjy6L_5qP5d9GNA', 'DrRuizQQR0CjC90nmpULyQ', 'ZeFoTqYUFHFP25Sw4xpzfw', 'qbEYoNUrrSJ87MGJsiQT8w', 'v70swPolDVe2rSpcbb_vYw', '_WMZKPS_b4VI2FxClFLEJQ', 'KeSIwK5L8rcBtxl_OO-uVA', 'rOodSOypj4os4xooirRJfQ', '6RQbxyDobI8KEtWObjshMA', '-nKZAv-RKVQ36g9UBUyRcA', 'ZaAgBqg30KUN-DwDr56bVA', 'xUcOBjXI_gec1GmQwZQYKw', '5xaJ24Th_wu05EajCrLi7w', 'TUPWls9n9iXFRgHVg2FNMw', 'yz2TZAI9iSEOEXArAonnaA', 'PhJRYAyx8N2c9ZC1wkf0lg', 'wnXGt5weH4GuiJNxdcOsJA', 'yFw4kS6-ZSao283o0ImrMA', 'pbiZ_tq-B_-dBd7eFce0eA', 'S0ewDzw4Srpt4sCGH-Tuuw', 'qlBEr5vrK4TXBYgz8DU-jA', 'vMoOrcX2QRpjNjonQzAaCQ', 'J4atLeJAnJ1KScSex4XFdA', 'L6jojw0IbIffxAyxSNMWjA', 'nw9bGvcMAerATmPaJUSqQg', '5T4yhxuNfKeMkUqZU9VeYg', 'peNWG5teZQ7vUhxLzoB-2w', '1MMBXSm3vpGw4VedhFstnA', 'jEmoW8zHKnhPj87XIrFAgg', 'wfZ7RBk3GnfOkF-NCahmbA', 'KQxWy9J40wD9FINhpyAS0w', '8P8_wbMMzsUtYodji_ArmQ', '4yiRkxlJ-mHZizL08uhaEA', 'cK8y5sNbKvMNTa7zNcsH3A', '5rbinO_COJk7zPZmHb3JQQ', 'Y23q2oXaKH3e94AqINi9Zw', '0w14hHqQs4kLGwS5su-_WA', 'ktcPiuYMEUzclVp_KhsjQA', 'cFeiUl9-7jzgKK_y0TpzDA', 'AT9zfnFcHVq_jxWFNbn98A', '2cZatJF9YBKhfsQTrDwphQ', '4pLSA2oPlfsrFVBtikUPpA', 'juSI-1_V_LqYPwkVvm4kkg', 'KorUtsu89oa3wrrcvctOnQ', '7FYhzOvDpXomISFxpVgbeQ', 'hI3SiEwhSxFbLU5L8YICbw', 'hGhRNoTho5cgWSmAZewP0g', '6VJkakUzbc1xBLKo7tXl4A', 'MYps5LdlnRGARShXBRtQIg', '0plcvv1FIP8BAg0xa4vkNw', '-jLoQ7yR4hynkB4q2R_prg', 'a5aCSvrCDoyeGAcAq80JcQ', 'ZdG91j_KnjWcc2j26XT1bw', 'EHiH3d7A14I6X0qikwzzkw', 'RCFpgZvXpUIcsc-MpXeAWQ', '5u0GkU8U_bo4oyZx6iwPgA', 'W4VbVXe7QWnIiwH7m9gPHg', 'BkjVAK7NAF77D-T6G252HQ', 'MDcaZ2J2w3WFUh2qpW86Ug', '7alJ0HQp3oHJyyhCFl9xuw', '1fkdt_kkFPzFE5EJ2tEskg', 'PH7UbmCfuZ4CmSNeAdCxPA', 'p9nfkNzBrJNmYI2TALpYKQ', 'wAv-nmnb9zbU3ig-Rmu-FA', 'hGSi2ewBpa6Xqqfb_MONNA', 'CGAAMYo9RnOvG04L1X94Xg', '9PORio1L2rqXftuwkqRABw', 'yl9OsZ6PA_lwGrse6aEtJA', 'F9_urlMgUHm0JHom20GiRw', '1WvKGPF4cfMi9U6nluOvKA', 'vhLEh3glqJ9-RRT9VR1Tmg', '_e7_zwl0ySouVhx-SSMX6g', 'zHSZ3su97tKNvwHmamdsEg', 'f8uuywhdbKlKk88SYtG4Kg', 'EzNKmsWb6qtiTm_jOs-LIg', 'G5wVFZV5kjwQJRW-IKbiDA', 'SEMwFWY7duRtcMOoiCqYzg', 'N4LpPBnof1LyEbrK5u_xHQ', 'FqhsXkGZV9jhfMVk6iqzHQ', '1tYmUHvOfHyTdBRs8sWW_w', 'sT9JX02Ifbo0xXn5PxWVmg', 'PH1qYBQ3-6qO5da6yg_J8Q', 'uocyYZQypNuRfa6W32Kuvg', '3Y3uIfrb7Fm6e0K1Tlyz_A', 't3kiKSkWgmhNjh6B1kUYng', 'DTx5ZSpokLW5Tpy5_ls6QQ', 'K27z8C9Lw2WzC8A401sUVQ', 'H0gyBrcQ9tgDdXDyum_3Ow', 'Nw9s-2P02lrvNS-ugDhKpQ', '3zMUQvnC0IebYt30x-MlTg', 'oUVCd9yfLFZSKdNG_WnMcQ', 'MBHK8V_z-VOouvdgWQnDpA', 'qbotYuZxYXMCiF2rHbNDuA', 'D1U2_EMraEgBMbfOeLvTtg', 'dLEFpolUeXa6YGZqLJbulg', 'tbKyfguWTqoIJSYvNFc3hg', 'sY1ErP3KsccJal66FNhvpw', 'mG2_mAYxoLgNDVAM03OZnw', 'K2bvizOVh4HrNec6SIzbdQ', '5eogH-lsoc30dyK9doJMRw', '2WG1tlnQYxgnYkh9Yqq3Dg', 'JIe4SBGvJqls-aMWVuEOyg', 'JAdQllLByhver_0ud8oIXA', 'whDfemVru8Fnyvtp04oERA', 'nNxsg1fR2H5o_JMIwIbOJA', '3z3g2qhbWw2oZDmV7iyw3A', 'R3RVQ4pxx9CYuc0eBZu8xg', 'rwnaJKAOlnRkXyLfG4oG-Q', 'KOOCWesP-VVdjGvFcYtH5w', '-FyjbP3y09Urrkpgm1lEAQ', 'MZpZxROO9YJcMwHneN6UgQ', '1UpbY6EIEBzoDpxZs9XLTg', 'tgkUG88HpXzyhXwwCOgh3A', '35-5D5vfwCy0FBo3CDUx0Q', 'RIw7Z1bHUvhf28z3gNKN3Q', '63JCSsJiHNvWpx7cfS2s5g', 's-GoSY2OJ2X9fuhsMqQyAw', 'tcObjjD38MmFAHc7935gDQ', 'tQ25slNboWU-jBYVlEVqSA', 'Fod2aJordtyFDdGxQX7sAQ', '2nzRIctMYmbZ3AOzMHXjkw', 'a7Z-P58JyE5jjqFcfGU35Q', 'zvVKiu_hfx-WZhBzUxdtMA', 'I4iQGpCFLYfCpQ4gBmQu9w', 'yGrCzVPdeHTiFl5KfUVZBA', '7AllGje3Dmik7xPBjYum6A', 'JtswRt0BzP1DuO6qqzKrKA', 'S4pXFZ2D6GrFBAJHbYx_Wg', 'FXayN_dyHm1Rq-iu_B-w7w', '3KJuWPV1V9mN1VRJpGw9vw', 'jJ6yak7YGawMNXLYz-6Suw', 'zAdPdCoTeM5lMqBg1ZyW9A', 'X9n2-IYjEivfstQG2sXvrw', 'ApgaN0R1r8fVujbSGnGQLg', 'SCei-y8SFPy7xfFB7xU_wQ', 'S_BD0m7gsYAHqBDqOK5EEA', 'k8ZzKpBqMkPkb2ZqlX81QQ', '4jLdbEckGLMiNs4WgtDuLQ', 'HxRGWaPAdkNDNrcWURMjtg', 'pRUm620H0ds8BvUOkQ2D-w', 'iLPeXis3ZzWuhFPSge4CoQ', 'GRI_cDoUZ0B8iWpwfl6nWQ', '4b06DZSRzfX_YhYLiCg6GQ', 'bptU-zRs-t0AoXsHnSu77Q', 'tvUeQr3tW1npn3JGLWvAzQ', '6KneS5S9pKf9qjSHihiJJA', '7xKDFyrNO_nJAogHfQla1g', 'F7WolUVoLUC1B9wsvYDTQw', '6NUHlwX0bdD6eUMKB9ba8w', 'y7W4dKe8mvnga0xiktkIeQ', '84oCVJm9VuFowp3qIEPPNQ', 'qIFI2RVigtmZXvYjVS-9iQ', 'Pf9d8bohMfNt06rgQImzhw', '8JBNuUAvojqSfWfF-kNPCQ', 'Vd4Vvy17xw4QtGCAZYlEvw', 'ftFV9zP-l3S0XCpI1uvMkA', 'vCrtJP_Rzz2eY2OwzmFoOA', 'hXv8CKWEV2ZN2npuuf-QrQ', 'XmGcSDOILFVceIT4hkb0rQ', 'Z-WC3jLcqoHCJJGugz9Mrg', 'RPApA-pMS-j9QRjbJRr6Ow', 'gmBw3O814wLS_Gb56dMiVg', 'lUUcUOb6Qqz8E-gx0V-wZA', 'wBL3gE2QTsMxynOPEn7AUw', 'tTFNeOWWRrxkgbdqPMtEWA', 'Q00XV0-a_BMjQOnZNSrRBQ', 'FN08koVYaMMoLn6yKiNaKg', '9f5sIxhB856OUjL5ScgPGQ', 'BNDgEbgpN_Pd4Dc1soC2qQ', 'saKnkO5h31BUeg1JaPmvnQ', '8AzFQas1NEZM4PIdQqI5ig', 'SfP_mTlyKwwVQqaq0H7ewg', 'OQB21bRnNfDu5Whvivx_Mg', 'Z78O8jsFTku9J_w33-ujVw', 'nBClN2hPkSah6pRO9mq8IQ', 'QZSLget8mF4q6TbgDTjlhA', 'WE-hibjpHGakyj4UuOR7og', 'Az4QlKx1J0_9BEVfIA0byw', 'hIfqAFc1mk962hgpnCeStA', 's5TFcsvkcLCBpKJC3KDIKA', 'TIq6mEFRbPC4q8wLQLR5GA', 'fsNUQKTvEGyf4jVOqhC-zg', 'xaxFKHgMdAxb6GGCJqnLow', 'qGBLiHZrvNKgOc5rJ5z6pg', '4asEMeQ3yDaGmVXFmUOPhw', 'MAYq9gXKJprW9US1QPtF3Q', 'DChhQhhhfJN2qkWaCd9ZzQ', 'a2ndqZkgMT-6YodcsiwnLA', 'bFrUYoZK7I5vD1iYfWluLg', 'yW_BjV1h162K11tmh11iWQ', '2qo0i-h1C2hK9lIYIhIKIA', 'xV81JGNzu5EA18Y_yYMa6w', '79AhxJKrjtIRRYOPEmvYRg', '4Otf9BRygDgZZ3BRIZgfTg', 'T7bIEPOQg6vLZngIFOM2Jw', 'L_U9bsivGz_KOxGHr_AfxA', 'plsagxWu1g_Q_nx52s31ww', 'bXx9pdsQDdI0PGRpWxEcbQ', 'ogPW9HHrxUJMRmhVsjEZvw', 'df5L9ZdKfiirFtoiIH1BbA', '50onPhxx_eHbqFnZ943xbg', 'oXt_RNl6BmcDTX1kkCBJfw', 'ZfXIEZ4V4HJxZ4JoQzMl8g', 'MsfjTUbz4aqjzk6q0frcGg', 'Uy701VlL2ytEamP1O-APhQ', 'oN9_y6X2BKJY1pq1J17DGw', 'tCj3wFbLtnMcs3etQ9mW0A', 'yxIDGOG-yJ4frCcbjYDqBA', 'Qnw9V69EsHCrAXz7s300ig', 'FjgpR9ljYU2cC43m7jVWXw', 'kUmcF7tG8d4vrwP_Sk2aDQ', 't4tc95g6-Hbhb_-2rCBxXg', 'z4PBmnPcQnjB92Jyd9CRZw', 'YaN0wbJ72TZwbr8qFJtPmg', 'xhswS5l-4w8Q7OUbnVt46A', 'Rq7a7V1ZyZMft2GtThWEAw', 'pw48M34KbYR9X-8xAoXluw', '46HEd-4mf9dZ9SDeOqwOZQ', 'SWP4uf8aVYzAzFN8cxwMXA', 'Own1AprnS494G-ysCshWsw', 'gzJOayIdGQp_H0IaMqObNA', 'rFLr4wfDBEe93PAzk5hLQQ', 'cA5rkm-Dd-eilTjMXsixmA', '-QamR5dLNcPEZaEeWd5OZg', 'AZc_iAzLGLkzGPZ_7zKL4Q', 'ZxjVPwnLGuBzuFkWZSVaag', 'KpdpJia6v1bAEjirG0CcqA', 'm7z-tX6XDZ27xGhGjnI21w', 'yTtxxQfKMOmLqr6TidiW8A', '__8oO2ZtBkRToIVo6VbqpA', '5X6OnD_IV_iEKuON5cpStg', 'c6r55ILRubDM7GktATKZkg', 'U19gEwnsa2HC2NwqyCWPhg', '6UEJlbBBJa4naiXVkNZlnQ', '3OEHstmDeXJjxNcx-kqKvg', '0qUH706wL8xuAJPy1AgCew', 'Q9TXM0MJ9sscZKnzjFECJw', 'aFtyDLDqm0nWeObdochewA', 'PUWjvbfyz7-frCFC5Fpvog', 'ZCnShRqJVEWRQ11nQDfIvw', 'eMQLCv0-5ezbuggR4bFPeg', 't634gw3DY8dOqeRJjUL7vQ', 'E_1GHOaowTFRp9AWRFPN1A', 'ECGSCKlwltmODIn00Jq5ug', 'd3ZgCq9NRC3-QyMaX9E35g', 'bntXFgpkZWTId6KuJK0oMw', 'h7rQuTZImo4t4w00xElwvA', 'rnVCrNFIHwssrw4DPyHg1Q', 'sHdl6YWEd5FGp52F6HoQwA', 'ZOwi-DLQGUWfyg4VFlX8BQ', 'rLz_vpY5fTCIzHnFTxFzkA', 'Vh0sYtZsOro8L4MX6LBGsw', '0jm3faeZZrH0Ivv-LR8sdg', 'MP_IS9AwPd3zE1B2Fly6rg', 'RxrGSxWab1DrmslJ6sEppQ', '1jwTqZYsjnY5f9c46YUArg', 'jCNkG0bilHy4gXPhU0dKdQ', '-Y7125RYaDpJXTKnr9cW8A', 'M5gkuYUOLqrpKeMGOhLymg', 'IHqyImvBBnhaebIBAobBew', 'R_hwrdPeEhu2PNwJtMiphA', 'P2LDq3ui0OfbeeD_XFksIg', 'qctZBlm9lIOuoYokCPhDXA', '1ZCH4shxYpal0CvYi6qhqA', 'fwzY71CKNQDupE5YbjxcMg', 'KheUr6lVB5yzh6npWCuO0w', 'dx7tf_wzdWYVFXO9L9ec_g', 'e6SR-fAbaFiOWw1J0zV7qQ', 'r8c5CUnPp8WMl65ABnRNtQ', 'THy1sXMCk9U2hk22v8zvaQ', '-nZSBxrVg9CfMPdBrvtBHA', 'nkQOsq9k6YPj5cZGJ58P-Q', '8dG503YpGkMur_LqqGxGsQ', 'Uc5b478Grj8Z1xSZB1D0WA', 'oSa8RmgFrGrexXTCyGPZWg', 'aXUXeLTMQl1lVh1KOEECSw', 'GT88Ui-Z5fNrTKL9eqZD8g', 'yiKhNs6wdKHvR90Qf1-8DQ', 'RJdVv2SrzHuRoMkVDfrfEA', 'gFkXq3CQvFbPTMUanFJG5w', 'OtOf1azKY_1s8lvgE7e0wA', 'skpezq-p-EfsQ5E6a9rhzA', 'JrkGGBDClPXLL-9LRtoB7g', 'ptjnC0P8ppI_J3mSxaY0iA', 'OAuHgyhXQaAsiZrrN5hrGw', '5xQLCkZlFroGvytK8YGhvQ', 'Kv6ly183kI2x7McpvgixNg', '4jMnhU1SjMgFUZ6xuWNQ8g', 'HKWsZiLuj7_VS5pADb7NBA', 'RtgHJy4LIVOJWGvVSFcg0g', 'L0Lxbj1mseEZni6D8Uw1rA', '0iWVIuiKP2jEz1y8PXS6tQ', 'wkUEyAyfbvfDVPydvKJGqw', '1iETGBf5Vga6mwLK0c3vXA', '4FcsRBvClVE83ccNVsoC7g', 'SHRpPtIO4ft2JSXEmGariw', 'AF7HUYYtB3jovSdZrdqfig', 'HOgwZIHBA_c5zsWTJB6r2Q', 'oW5u82qnYd8LXxfCTTf9Xw', 'MPt4t8ugTIx-95fmSZV41w', 'CKieLe6TnKMT7ERRVeSr_A', 'syLLcHT5CW51bAuMKVpx_g', 'iCTxKlCXwCPr6vqBoO1yUg', '5Qp8enwuCp3z5VIQ8bsiQQ', 'MbACq1VvssXHmPnDfuxbkw', 'LsUDmTBqbRXDquttNjWP7A', '1qkwvmiiDJGPei2P6ZkCCA', 'f72HKv1ldXEv123JNy636g', 'PKYLu5M0qSDRT9YiWqtCVQ', 'i8Qx0aJLaZ4bKrpi_BCqzQ', 'Lt_z8GswOroJP8s3WXhgmA', 'KPeVoe-BJ36JZgg3ncvYvQ', 'GC8BdLw7nHleDXtT5IfzGg', 'gZac-tvAZBqJGtRgh_S1bg', '_oz3ljjHK6sWoaU_w2CdMg', 'rwFLNtg49D-dan-oXwRiQg', '78_zMDwnEjT_TTHcEJl6rg', 'RIzP4ktNEvS5HcDckQ8gKQ', '4aw4gJSesFPVcvLKnbKqOQ', 'E8gjTzb2QOI0PP9f1YHZ8A', 'ZB2F4iWEadiU-E9crEx4SQ', 'UgAzU71jIYakKU5VfYc4PQ', 'OtHLldo1oGIGD5sqFMxb8Q', 'oN0PupxygB6EJMIODCYhBA', 'NMVg8_m0WQNe7hECCYA1Gg', '4-IYLobcvcDip8ujPS2f8Q', 'sX98fjXaPlg1hV2d0UhwVg', 'lddcjEWD94N2KHFkoNB2Xw', 'BlfDtsE3OP6Uf_duIzSPFw', 'qRU2BJS8pBx40vLWzwT9BQ', 'IdB_YZIf0ahz8TlvTpo7Lw', 'i0MS6bvh3uHD6v0NSlncCQ', '3SyZqpi6b_xeX6zK2d2dLg', 'CHhZ5AlZDzfklVl3jC8fqA', 'BtkhXs3Ku3EoNziRQbYX8A', 'ALi1RkWsTWhYKwseC2eK4A', 'oMq82AG79iDDE9pD_ao8bA', '6aJNIB8yGHDiwrzyxlExRw', '7bj1ntS7DuqabLNhr8rsqg', 'iWwomXt8k9IzTPg2EQJz6Q', 'OIhlvpBG7kAQR9EddtntJg', '_Z0M38hLoXzTwp5N4KEd4A', 'kTqXgitsshgBE3UWJR_dbg', 'FMADzae49kOtUhYgZSfGtA', 'FWZ5ZrjvUaP9YNBbl2GaXA', 'LHBOFHHEB9QM429d7yoxZA', 'm9xi_20o0XWKjycoFEd-Bw', 'ZzA0SBWKSRJA8y5tlszrjQ', 't1EQyrFMqPREaoCXnJfSDQ', 'BbvM7Byro-YoF58PIgq80A', 'b5XZShZsfbMOo4dnMWOSAg', 'ncYw4Fso8dzqntzDSbTvnQ', '2rIfScRQaDHiAcG36lNPNQ', 'yJvkY8Bo8Uw50wKntiXUWQ', 'JjzSAaySKDy9-RBMYeTN9A', 'U_t2O4Jdr3HLgF1wC2Kn3g', 'vQOmTC5ZoEgddE_g9OwwHw', 'OVx6aOMutOxhH9gZvXBP3w', '-FxwgTrPtlsEfF3tLwIPCQ', '_LPbcA2JqIQs4xXuzSfMEA', '4J2MP10Y1W__uWWSDj4zSw', 'D5TY-q4EQVCpcNx9Qel0Yg', '_upX48xywvJxLoGhwwcMxA', 'wF2jVBq78MB1l3KPVGLTaw', 'Fnl445En362D3_cyTcbJIQ', 'habA0R6JXSY-mxnawlg8lA', '6b4yYexmPQglmNdNum531Q', 'YeHrZWKD1nPr9gp5kOhVNQ', 'c2M8hJ-IbpKuTXgvbdgbFg', '-pdxU0UGLPyZIDrAZJnPLw', 'vCxiAObJqeca4ZuWMWcAmQ', '9mV7z6ze7gZLMDqVUM4vng', 'xMzMQLogqics27afqZRFbw', 'sbo60m3qnnKaelKL0eSrWg', '9cEzY9ii6mNR8V71SBF-Cw', 'MI3SLtQg6O2l6QJyRD1qSQ', 'JGdOHsgGa4l-_-ZAswljmg', '3v5xTAZGNEwH-qdu37GXPQ', 'u4NTrWwwFBk6ilS7rYHtRQ', 'pp4gX0l0KP2ga2W6SgyfmQ', 'GpByHoRFI8K10_QXQ9PgIA', 'z9xSyrmhGNXVm3uTDnqRbw', 'aoRhYlviPO_GcrTfwTZkCw', 'FKaOI6Wz0LdZ9eYeGUyq8A', '2o8BL8xj4UejtAg7PYdFvQ', 'bAHT-pC3IvtOWOqNt2K4sw', '_9dnVkkL2XtHneC0dyfurQ', 'LeduH2hbp6QJkB4RSHjwmg', 'T5Q0EBGUbN2QE_d5GJLbxA', 'pR3ralOVRC6gQqewgrzorQ', 'GRJviKRHpdYDrwI9yveWOw', 'H3qfx3FgmMkdH3g7Z2NQqQ', '5f_6TViuIVK3I8senirbPA', 'UsA-A4sgdJL_dZlUfLlK2Q', 'DiAiH6mXe4Kk2qDh92u-Sw', 'meTqDCM5baF5HiqjXOCHOQ', '13zMuY4NR93sdoCBE1UQvQ', 'gxk5OJN4AxHJKhb3h2wZeA', '-4uSh_j5xnoEsv4ul2XKUg', 'mJ4FEYjOCaOfKOnu_2tPjg', 'sog9rqHJofN863T7q29sdQ', 'BUbG256l23fHufUr6HMziw', '-piEModZF7bakZLLW-CXew', 'eJQmVY7cGAF9tbUXklDjIA', 'KS5xr0Lsd7rKdHDjq68grA', 'whAAY6A7S1DHIqffQ-AwqQ', '2sGbEZELZxc7UlpG2zV01g', 'Fs6jmyy_1JokqG0zzNiTvg', 'jV8nTKt3nkPeaMTROY-pKg', 'l_KM1vnrZe2KMFQzq5O5nA', '7LshGg4m4XpexubHtv31iA', 'gTynjpWQqVzr4-7bw0yaDw', '_Nz8t2oVmi0SED4dRkfkYw', 'rJiEnCSK178HLLe-alKC3w', 'OxqAkksyNugRAPu45ddlMw', 'nCf5y7ytiFT-jfawjZmgzQ', '9ccs7PJB1Wvr0TDEZZx9dg', 'IyF2ECl8giMOhwVNC16tog', 'HxN0IAaV0MIz2McCiixtzA', 'il0z8_YcvKdX3Q1i8I16qA', 'EaErLu60cZHgOvRzNFbIrw', '1PAEak02ACHxkfUg73St3w', '4IWJ-QTbtkLDAcvQRZwGKw', 'ZOMucdYMUlfCVicXl-7OyQ', 'Hrhn-fks4vBTT39M-n0akg', 'rhTrrfPTS0CXuQw0ZoETjQ', 'K9bGDsAz4mf63J6IK1MTOw', 'ehaAB43VrvWui7GDlMjM0Q', 'IHaAi47UqxMvUFIIJQDA_w', 'PB-RCGASNdslFfPGaq6Qwg', 'RQ3s-8aUQGmmGqFXwfbw2g', 'l6x6Ok0b-U7bVSqSoCbnFw', 'wXkrL8_Pynd3h0vOy_yN0Q', '0fEzOxLFL2S7s9UyNj9hCw', 'L5Jmjqq82Xu59C6RtqL4WQ', 'B6zXvFlg-VR3L04bsSK0zQ', 'P9uyTSBl6_H_2gpyb9uqhQ', '9b7jT9Lg1N7J5VAcgXz7Ew', 'VzlpYYuK5s3kmLLjGweVNQ', '6R34X3AGLkDigsmutDZnEw', 'Z7n5LrjaLA94-4ciIDfQpQ', 'zr2dMg4LCKwENtp0_S0Qtw', 'HEMMULFW4njP3wIP7zV-zA', 'sl7X_quTb_ojJI9CrDCzBg', 'ealpQ7CWxWY7IiAN3a4Mbg', '_CcLV9kTqfJPZWJs63hMKw', '7mm3WI4on2iypql75fvdPA', 'uzAX69gXCoHb8J5vF4bRfQ', '4wPZZlf205mNuZ5Zz0RI1A', 'EGjdlOdQ9GcPM8CxoEx14w', 'PFQ_xze5NL7w2by0ZkGwBw', 'qeJOUR3iyjFgq_OIXRci6Q', 'UOofjT84-g_Ji39oI7vQ3g', '5-Zfrn410Va3P-legig-bQ', 'SqGWMRtL_FpkwuXuKDqXcg', 'GUSI553NqwsQNI5NP3qayQ', 'epdfjfSAOOhXcgDLlcox1g', 'ybxYOcih3fgqi02dGq0IMw', 'IMFuTZk48i2TIGD_5pieww', 'YD275ZJv6KkaqOywctBLNA', 'xOgbrExbofHpFZPjxdyHjw', 'nOkOF9pfZR0OO5UmQ307Lg', 'ZRkWjC8Dw7Gui72-qD4-Sw', 'bDFFh-11bF8Fr-8rjDjYkg', '7UTIt0SPSRLYloWTqVJBQw', 'PQPyDFgKP_h51iBIXSdVvw', 'Bi0F_aU7PYncf35VYDVSzg', 'rKB2ZNdTVI6Ab4GivvfyAw', 'a_ISVdUB4wM3X_5iuEQSvw', 'HYNU_n-ScZIUKhWQjfFoXQ', 'xTrB9dgF4o6OclfYBl3y2Q', 'XXK9rcW_TsO36dmENIObPg', 'A9h2W5cRjbygUC59kBNiKQ', '7skK4nei0y9jS1AR0Tkvog', 'FdhiLnxY0EOWvic5RnJgaA', 'GCm9IoZy-F-KMCt2iNmaCg', 'SFjFSxBdXYsNLOI5VStAdg', 'Jqw5tNuSo-YScH_2JSS1Bg', 'US8qMKVGovs2S4YSslWe4Q', 'GEyJ2zf8TR5TyzKttfAmtw', 'LivUA06RdVDoQen002T0Fg', 'J3YiV8zSYnX_q15O2QOcgw', 'Emdf0DELVqDFcyk_b33r8w', 'OHfTeAhGpJtUMEOe7QLwgw', 'hyJusnslNlSLflrThs-54w', 'Q0A_bKEm3rJ9VUHx1IFEcg', 'W3aHSCTEhbXnORfrsnoQpg', 'X3qdTs39GsCPWB1P4GTWtQ', 'gHhTQyi627MyfUQFzXYLEA', 'jom8mjSWYOSZQvOhIcqW6g', 'M3zhmr1T9XGacZC4mTdM7w', 'wd9BuyCLKpW3arq8dhQ9BQ', 'xwsizhe6SSbUiCRm3rn6mw', '7hA6X1jKID6DxP3ldVmrkA', 'zkb7YKbQRc4ZDPZQd2VZxQ', 'bGuL87Nq28U3cPjCGjGYXQ', 'ggwqmA3kUN-UjSCBK1RZNg', '7iOM9fgnXijInFHUtJLN1w', 'xYMXt84MY6YztOODr-gNqw', 'zcMO2J_1CQh0qnOGe9DXAA', '5hCE9AnF-k9ddkYIFSw8Jw', 'QUfHFbe9fG_gsN2yPvPxyw', 'YQk841If51n50SI3X_U5nQ', 'sH3TIwanCjgTqP5t877V3Q', 'uF6itffu9NRdrEBKYlm6sg', 'XHn6kkOpuZxD-ExifZio0Q', 'N_cm3rsYBUMegJGfef5VFA', 'H3Od4PkXvXpaHItbawFLlw', '8FqWMjQpKn1_BF4lC4F3cA', 'DEKNUp9Wev0pR-ncEekAVg', 'UkSG_X4mERp3L259yiuWEA', 'IHNqLX2tHqGzULVYKmpQkw', 'Wbo2NdO98y1-hlMvuN7E_A', 'dSFblBTUAj7a9BourDRupg', 'zBk4IJ9QsNaSTFqQzvtWXQ', 'HghQe7-dGzIqAXKzjJ8nUQ', 'KlMEoNHVgfGEQEwT7FUaJA', 'G9eHV40WPkgKJucRb58vMw', 'iySbF-o5AcfEvmJ0lmXLvg', 'cfVPuZnSsU9WV52dP2PtTw', 'vGFvbywuYKB4528CyiY8kQ', 'Pht8rG0vchBXKY_4-dIg7A', 'Z5vxADqgkANv4pQvZNiMpw', 'GvuEy7omHwVqxh_1M5HdZw', 'N8OxUK5DQLHa8Cc9vEK13g', '25FvJ2k4RMbPuSvks95sDg', 'oS_iWf9dQWQ72j-PSZOirQ', 'bVJHUaQIOBn-1hDVe1c62g', 'cR8FGP3hXZsfeyD3U6z0AA', 'Pd-748-9_QFaZYuV-3w29Q', '39jCrQNY9nzYEhn74P6f5w', 'ICjgpWQ2Jrsw2Bbu-yivBQ', 'xybaBSLdNzAHfQe967jtJw', 'wE-aewbKd5Ft5BzUllcHVA', 'LCkwoxtQIjtjeNJkWU5seg', '3j5bq9ZmdvxVLIORvW31hQ', 'Bu5Z92ADTNPKbeyrN2Igfw', 'E-r4draHjPpPEB_U8tI5fA', 'AKJggXEgv-bV97vzA9ny1Q', 'N3U7A91D63TOOPoifYQjLQ', '0ZzTFwUvYV4Yt00_Leupwg', 'gq2sBKYA4kHn6Rs3vTTeFQ', 'GkTK0YexFEKZw-27xAajMA', 'iR7bkMzXc7HyWlVkrudv4Q', '01uzJTmPkvhb4lknNfrnxg', '6Keb5ciMIv0A6b7xBA--xA', 'OZkn8Jq4lEfVy7ytEOZNpA', 'nWFG4eLZfiv7y72nJUGzLQ', '3GbXMXnvefWo6ORXo1GTqw', 'P8jTVfsvU2hGJUmmYHrTgg', '785xEuhbznIer6d_REjhcw', '8Z9uSlU7V9KfC3xssfoz-w', 'l1WJccBiZxxgjSgTN02RQg', 'z_knTVGhbNFnpaZBd50pWg', 'gKockaaxIjNsq-4ohHHKdg', 'bS4TxAGOqf7Ol8l5dOZCEw', 'Oc4O2-RJvNawHag_3DK8eQ', 'KvMyVIXsCbGh-9DAHK2PFw', 'mO5YAjzjZiue4suAKuyuxA', 'mhA-scJJBbad8LYi1SHaiA', 'SV74lmZSspciKMFqIv8gtA', 'cZhoxdChI5EDkf2KxTb3Fg', 'kdRJryDm1eKsGmExMzUgQg', 'fumGI3G3VNLe3QsQv9IdiQ', 'Vhxt6Es9Ohgk7qMLcjQx8g', 'YqYU_-Ea_bev8jHVOSlraw', 'c9XGEcPtWmYvDUGVIBu4rg', 'D2zaoHfsPu0L7NG-YqGemg', 'FlJ06LtODOh2IEuMG7RS8g', 'dTOjxURxi3fWQPilQZ_NPw', 'xy-eHd8x0oE2JSywJewr8w', '50CrSG5ZxH7R45FmuMIdgA', 'I2EsWDkWGc7-KRi9pqLwKA', 'bOvYtrEzCKNnJZ2ShjmTGw', 'vxmwyU2YVQlMLjfjpw1JnQ', 'v5KipYZX1axMx8ZOtz1wXA', 'ybINpjFPRZvj24RWNNrl6w', 'CrPkL3-fCj5tv6_d4pgb3w', '6eGiHwbiK-7vY6VSTFwGhg', 'hLEHHhA5wQxj8O23m7Xc3A', 'chUXSYtjOb6LOy_xh5TOoQ', 'PROTci8ZEOy8z_RG-RP-Xg', 'D_epGB5BSNeHkv1j2laXMA', 'Eo9OXBZxIMAG5iW4InEsbg', 'lrmFpTsBCUQjN-tv48yhcA', '4qWNKnYUZEHE0YSy_s1AQw', 'GPYJmd_X2f-dzmDudy8Qxw', 'IepSV0OFpuIaQNvQ9G9J9g', 'QOtTOQq-zyZ-KRzTSYvoVQ', '5Mud9uCzPiO6ss4Xm2jFFg', '6XOUyFEc99150mj7okQRwA', '0uT9Mc2UbgWyzXZ23SBbYQ', 'MlQI9V-Su2t0r1Mfj26S9w', 'f5xQRavRG7hyqVbJ0qXJAg', 'bzk2JZ748PDrW3m7SzZmZg', 'tT7rLJ4_gBIvCWjRWFdMjw', 'gJwgUHXrTTissB5o95sXVA', 'AO1Z4qoXzHXxJl-u1LF4jQ', '-2QItuaYtHYnBRBj8mjgsA', 'sMdR6lZNrH195kwvbbikwA', 'VOZTJfscJkP7OyuZprNy3Q', 'qq75uTZvTyQl9aAXKiB9Rg', 'KiNB06Y8hcrIkTbF3XEexw', 'CGzECa9nQXNk-G7F1yrwtg', 'W-Xfh3R22f3mQW3WkUlTZg', 'sXEDcyW98JiuuJbVBXj6Zg', 'JtAoAUAGa8DbgcBLJOTEJA', 'ZInU9O098JM-jJ511uIasA', 'GqV1wnL8LAwuS5dDHOI7ww', 'FLuZBFZVoh-lWhBd3S3i0w', 'Lz6Kv2qpepaV3zRKFIX8vA', '0L0jUiuVpU6AiGZj1TYndQ', 'qpkDyBiI2kWWjE3dhSaVfw', 'sG0pjQ-3GNmUzuapyxmsuw', 'pIGsTwsTfRsN3uL5jVC9dg', '9XUmIzlKftDvSNsQJUq07Q', 'KJlexxxXftEbob7fuuSlGg', 'DTexXVS2Op0mLqhXy_aqjA', 'bvFDEgoSiDdvCbC1OcRdfw', 'EEM2_DmV0nsSBHto1D5EuQ', 'ZhfKd608yKLzY-Ge6ZXABg', 'boIoW1mjABjhvfq7fB-ZxA', 'elvd-FLrTs_EHUWP0cqJgA', 'MUhfbKqJ-hi5Jo9SwuKFcg', 'A5TqOj1IOQ_xjhLXdsolrw', '5q84VPjNGoTHRDL5cfJRZQ', 'cFQeXCYD7ldvgpdro_rMDg', 'EGWkqLP2uvMrdm9_zTeyjQ', 'trwdXPrBx01dFYU6DzU7Wg', 'TzHopReIid_6NHUPZ20IiQ', 'w0PSHXQqBspbztDr1DH5vA', 'pGFvxiduahUdqZiLf_NpHA', 'Qjivnnb3boH6Te12GENIAQ', 'HZtrNH39ncagfcLCemaIkw', 'ClrV-UjbcpsnSftXbAd6Aw', 'RFTFK1z4tepTyAwp_jAEeQ', '7Cktqk1vSsXeo8aD9hM1cQ', 'q8OLnD0vkRYif06fhn5rhg', 'xBFAwBXkUC1yS55DLyE4Ug', '1EkPnDs5amgGQDponGjd1Q', 'dOGm2GymddzKrcpzc1kuxQ', 'R3gr6hxML7FEH6dt8NFVsQ', 'Awj9UGnIk9Mtxdy-bsfuJw', 't-3jwGaW82fKojTnZENkDQ', 'tWbkGVjvLWuNAWWOG62Jag', 'u6uWqbFfa9O4LmLjixklPw', 'ULeSMGapyt-OKZbQxF6tPA', 'LU7ikPXZ5R8tv4oNQZQkKw', 'a_EtGJob51b4sr6schkP3w', 'bVlXXz1fLkEfUv4_SMUfiw', 'nuOnAvzNvkidbZMND1EzdA', '57FB6yoXkBk0m6DMdC_C5Q', 'NFuy12xvq1NxU2frIJjjtQ', 'FWmZlCNDZz6Tlx8HTfbUWQ', 'JpgjzyC4shnY_SWB6CgjwA', 'rFlrJaWHXuk0q5KkCKQjUQ', '_NU_vrXWKLNtAlj-qNXyFQ', 'zBfJ4_yvZAQJTMZfyHtxBQ', 'nBP2yFR2yZO2c4cmoceCMg', 'v9udHVQwrA807fO60H4CLg', 'aqoYGjKuTM0rHv5IMSbqPQ', 'Drh9UF3mPeqvuwIaQdvttg', 'yIm3CXpDTDuaw5oq1KWLJQ', 'aDIr1YKvOQtV4bS4TLZ5_A', '3BUxcWxNqpzGKnadJEsJ6g', '6RQVjXnBlrj_J1H9O1JXIg', '4D97A3O8GoLRkYYzFvQ45A', 'sQr1RFqIJC7a0LJJThoF0Q', 'yHJR23pt7vfcBSPU8UUsLw', 'Wl3ArBMeNTH38RmEDvunQA', 'q0xqpIGpEvoTMuu5p33eQw', 'R8ormANaC8yEiKPpl2Azuw', 'P2I6KSiI-VhEJfFXFQTl-w', 'j_nP7iiZXboLkQ5QfIYeqw', '1zJOLCv76mpRpFB-X-c-ug', 'ukvAspT1zd47vKTeZmV9XQ', '00Xga_2seMVDpGDX3JA0Ug', 'O8RzM_uLVEnDWEhX3whqtQ', 'R0gqV7Mc04vRsStpOXHMVw', 'kXyyrCg6y9RaK6wJpO6eBA', '-d6TtYznYetEqVpgU9bdyQ', 'YZkbkY4IClRM0uT3CZEkIg', 'ObRn1k6eeJDiEoZBkvsLvw', 'sd2OcbooHmukGB5iE5d-GA', 'fecJ7VRcrtMCGolMnin5Ng', 'IFv0jNp4tzOOyYBDIiUDSg', 'GTbz_o3yL7aYnL0DpN5DTQ', 'xhqD-K7vXnmHyA9SO1BEiQ', 'KMBNs1YOuEbJh3_kOCmbZw', 'QQGS2TZPY46IHz9J7DqMuA', '-y2a0NHchuamh0N7yj-dAA', 'vwInW8QhnrNV5oskl3pIpw', 'T3rKqt7xr_EUm3Wu4zAhhw', 'vugaLCdLHpd5sBYVbz4CxQ', 'eDmopCu61lfhY0gaPm0niA', 'Npa0044ITYYNwS_XFl4tww', 'RoONIER4YGF6kD3clBsEuQ', 'RJEYnbtZ2ySvtxei0HfimQ', 'VsLNAIts_ORMkC_azytzdw', 'CPVK69kCuL6KHE8wF856Mg', 'CiSUDKl7HpeJmh8ElUdhrg', 'mxF_97aA_vtUKzvScGB8Ug', 'ErTf3dR21okM_SCxHLo0Mw', 'wWZj68xsqk1-kK5Bc1hCgw', 'KHvTBh2jvHULVRurpwikBw', 'jXvEoHWZLyQTPGN-V8ebPQ', 'AX7T_PgdDax4X3sSrtA7kg', 'VUA9tuOQDy95a4DXlgxaig', '0omDG2S2EnTsgelAaWBzLQ', '5Axllr_pb51DG3e5dIZgvQ', 'kec0EiyhZY6L5Z9R-2dKyA', 'yduS5O5vmAzaCHwgOBBR1g', 'ducEWlguYc_Rhavbi-hWHg', 'bkaRSOBFFaRykTwuNijfmQ', 'mdiaJRW7TM6RmPJNpje7VA', 'FwXBbn1hYT3Cl4jTkM3jJg', '_iEifRDtMcDoVpc5BregGA', '0wpSv_9BG0d_ChnrHwZpfQ', 'bgqSB8u4f206HAYJgndHEw', '5Blp9Sr1aiAfsLVR_KdnMg', 'AOiQ7GXnPjP-hqlnZ84MCQ', '97VXUwKii28Zm5Sjfr0szA', 'aj_XU16tHalmWjeo7S0ScA', 'LBC9usI0tRBbji4RsbDZfQ', 'IqA-YXY9e0GP5nUjbHm3eA', 'KFIb_93c4QNWjd9puUjxaA', 'KY8rMIfhQdEa0hoW0T-F0g', 'gNxFdKzxGjkkYkgeIn2Fxg', 'D40MuK5if6226U9mUUUcjw', 'ZJNqvH_8kxy8776t6JFqqA', 'CIA2RcPEQ6EKexj20IT4dg', 'UKf66_MPz0zHCP70mF6p1g', '9mmz8YyxT7OtxnR-BTaSoA', 'VkY95MD6gTAj4BF8EI1AdA', 'NB8Xw45eZUXy5igfb-mE4g', 'JFnEAC4YsZ-BeIWbqMI7fg', 'wR7ht-NYr_KQGYMXVTgEXQ', 'S8RsgBDaReSy3CC8yJ2shQ', '4vnzEqRtIPZPX0psO2RrzQ', 'rCbrIACOCiXS1WGoC1f93Q', 'TOTwmfGKtaFVhET1h8vvOg', 'yxE8M5pBdexLwq9KGYv1DQ', 'jVnrAJEvCgPzQ0P1XoS7kA', 'KYoVr1pniVWzY5pGLYXhjQ', 'PXiEooLCc_0gaPG1VogWJA', 'dxN03H_zdTN44qodfgMyiA', 'U-Y6vmvonUwUrIkjQlBcDw', 'hdFsovtYV2yzx9c6amxTNQ', 'NqW7fF6LVpj7lPRBOf-mpw', 'ZfN9YBytulx7wdf17hnTxA', '2ohHx4zzhghTR1J0sllkmw', '1PlkFFZF_3pvCyrruvAZfQ', 'kFGoceERR6kkZfTxtnWgWg', '8DWkFpCdRFixWqZw2gIjnQ', 'LFwaDFb_IjCSxdnINd7c0g', 'EXANIUpk2BXwGujNX6_0ZA', '8FDvj4dLNNF_6xWdGvqFgQ', 'gUExMW8R7gQA7Pprqw8Qtw', 'SqUwMP7YnLEYYAlxZ_ZW5A', 'LfleZY423IgY6tHULVXGcw', '-K0y-VPgPwNL39rASNJGPw', 'ulyLgrsR-cBK_HnI_5tkSw', '5HyRWuem15hJ4CDRo6Fenw', '5KRlhhwhLPkOOhlISsiHZw', '3d5u2LsMg7kiQGqWXCl63g', 'fE9axd2SRjEPn5CQeh-TRg', 'dA4KKBHQzK89loEKPQPfaQ', 'CCmAjFmliKudu84nOlS-2A', 'tpPp4TfWUxSEoqTHdZkF3A', '7WVY7Xa269vTeqDhIIiNJA', 'FPbeEXtgEr93u-8sRdPbgQ', 'RVG3RJGN0zcE5ZJPTc2Qcg', 'zIgGeqYp4dok3hL-qKzJPg', 'WdX9LXDymVwE9Zv0v35-xQ', 'LglGpMv5og0BcApIrc94OA', 'J-PJL9ldCK6SO4gccsPLyg', 'mib6HoG8IaHwbHiYuvWhtA', 'w-mlDFRneu2KClUzwKLNGw', '5EfQYeEv4GDNmtCRU5RMDA', 'iWSzYPR574DXTakv7gxBQA', 'PjqaSTdUvX4bXa3Mv7R7Wg', 'rQxjK4_6aJom72YiC7LS2w', 'brOfwD5YW8JjjdM-QW2zPQ', 'of7fBsB0BCtbmTnaFPljYA', 'hK_0gi2c2NRYdEQGztYlwg', 'f4w6RPNpclE5PHetGteiOQ', 'JSjKZ_kMRzSTYeZsy_eNpw', 'iCwSpkaErbnLhr7se4T82A', 'oWK3uYNGi5N4Ql16_fjg0g', 'sihX-ByGF0AnW7kP2nRF6g', '40yxI5BX8O8lidm_5pkZMA', 'xIhodx-UGGAkdRZiywEQyw', 'kPobzzhCQTddMk98ElBwzg', 'SHcppSHSf_P6UVywwWXOQw', 'PVQHt-AgIfx8xwrWtQTS-Q', 'I_uPnXSpqb4Sjknh7T5ZbQ', 'otujf80voksbLsEVHL6P1Q', 'IgemmT0w_B2u0jPRdaFJSA', 'NtKrhoSNxHZvWDdw0-LqRQ', 'S6rnpfNHrgX1NHMm6QXqOQ', '2anVE81SFVJsSmAJ8P0iEw', 'h1bXya5wXp7ZGOZ15JqZcw', 'M6sVDnxC2KCLb2ff-j8SNw', 'iRl0Xa87r-dPcNXjCKpmew', 'iBobT2sD9FR39pB9742zPQ', '8FDz_kB_lEFt6h70q9VOzQ', 'PAO7IgOcfYrKmqaJWpaYvA', '6ZUA0v_dQnBZEf5YQ6J-NA', '8Jxdr0KTjw5OCPzUubQfRw', 'xrgUNlnPgIwO-t0gLP3UQg', 'FWpmnb9FXEtLzmyMZXTmnw', 'Tz7liunijk8INJQWQGW7Cg', 'afG7Fh7b4NXLN01_o6GuxQ', 'xx5HvkH61Pd9yQgfyksoZg', 'kgYHBB8uu83zohMOXS-LJA', 'OucFS92pVsGBwzELoBnWvA', 'GhYcHV7i3EIM_Y6jZ3z5PQ', 'zRg3raGBZDeNeHs8R1qdwg', 'loauWzuvGY24cQDvhB7bWA', 'fWaEZGSuErR-lqmWKyxYQQ', '_kMxgJJg9F4-Oi2gkbdhBA', 'Vetxud-c4GayhknKxGO2Bw', 'yNiKidsAlsMG-m4jT1N9Eg', 'tJPUA1ByG72OCA83UcIugg', 'siXOnFrtV0a_YjOJr-X2Mg', 'k8WUZP7IVNRKTvL6pcWmKA', 'S3sLjnNACNdo2rN_dN8RoA', 'SW6vc_EBzRhCuJkuVguj2g', 'K-u57EpmrMkEqBasqBkXIA', 'RKzpogSTad8ZykhPZh2KMg', '32_3DsuT4PpnWMaXuGp4FA', '5ECZYaX9Qm-F-17QgEynlQ', 'CFfDBRhVVcg-34eG2lcHfQ', 'qfgVjXr3gJUS3Bgohr4Aqg', 'i3M8uObW_c-Y-qJQRJNswQ', '1H8ee4ugNR7PSSoPga33aA', 'ahkpakK2KejkJ1jRiotm8g', 'QbbLn5_6N2a9ywHJwJj1Ag', '1OjsfL_Gwy7CNXuf4CuK5A', 'vALB8VNAEvQiNMzSiW2O0g', 'nKzDgxkOLM_WamizEiboyA', 'vS3MDWx5Rd2qahYJt_c6vw', '0rNflfKywQj1Fm9SpOXWYg', '8Xq64SCxOT6z5ra8H1Pz_A', 'kc7S_6R4eox_-zFlQGa5KQ', 'Z3j_d-_mrRT_2--TiEZm4Q', 'jBPAGstSF_NDVoATYvXNAA', 'by8PUJmCjsqf73YEc3swKg', 'UnwR6HKC_kNEXi9_xPJyiQ', '1GNd2DQCoRqrYAx2Mt6xKA', 'D6kVoymNUBLAXYryfbiWug', 'u_VSB1c7LWkqgRhG8WPGWg', '9LLFbqo_JiNO4TC-4pPz8Q', '5VlXa39042z-yoljYXu27A', 'lfm7z-aBmcr4IX9WzJ6Aqg', 'AdHv-8vl2lfvZN7SOoiU0g', 'RA6IZpujB7_VuJ-AULynJQ', 'gqgy7QtSVJBe0XQG6x0fVg', 'DV_lFkEqwDlxvBmI1IWU1w', 'TQGD75fKfRr7OxGJJCKK3g', 'nBxG2-QA0uS8P2HzHmQMiQ', 'rfz83tnAFfFfjc88MNE8fA', 'n-AZOFBMPy8-1hCmMaHZbw', 'q0ZKBLc7MT1MfqlUmgRzZg', 'Dn9RVzN-sz8vrUDkC7UbNg', 'A36gLHFBHxRunV1TSsZztw', 'lkSypvLjitBTSADMw22WAw', '0wn4y16c-3RJnRlPp6-SGw', 'tn9db0qMAJ4o0Ry_Z_Jplw', 'uCkAf8rKWOeY4ktAxIgPBg', '0lQ7ZO4JGIXOn5vXkQiG-w', '3dzU-Pt7TuvyFVmz_BF_ug', 'HRUo-7D3wagz4Jd1B0vHAg', '2x7hVoQuJkd3ZVNw3tbLfg', 'oboJYQxU7qbQWpwwWAsL5Q', '4F47tcs38q-rbhBpOecT6Q', 'XKmfK93wpka0zxmreBHDCA', 'X_gVMa3QecwnbRR_XQTF6w', '3hNrT4mZGh3sbz5x4HQsyw', 'nr6CayDJeuTrosnkExVBQw', 'EG65Ly-YJtcHu5rhnRfW5A', 'm2FolqfE39u914Qi_2u8PA', 'ah9rA84oFxeAqdg3-8P49Q', '9Mkd1IxkTO0gc17aLIg5mg', 'l0U0PfzzVMm9s4KshP6T0w', 'JE5fWTpTMjXxKfesdSygUA', 'HN94N0D9T0DD5d2oF-OBVw', 'aGbspeHS7P0oQsf3V3CO3w', 'jYxsiIxUYaL1SOXq0GQTTQ', '4Fn0UpBbigIv7tP7nah-Mw', '23ZCWIkkuSq47BBG0SYWKg', 'ZHyBbGNF5Xc48NUihYI5uQ', 'i1AbBul8Fon7tTDuofvr5w', 'oHvnTncQLTKKiOb5o9XkiA', 'OxFYoofU2u_20RR3T1wHGg', 'gJtFa3EYf8F-CSzF4dQUeQ', '1GnY_b6udU99udxckBCTKA', '5diFcJgs6UvIAV39W8BnDw', 'i8ZU6iDLP5r1dVUCxKVv6g', 'Ql0LPk8wwgP3Hc7hJR4q4w', 'fKLg-CUVTtMJAVwTI4x4Hw', '9vvuCAYlhUcm-pIa-eCEyw', 'Qn49RX3JRzvsSeM6svOKqw', 'jgu4bqLt2ceWUfD39ETFdg', 'VHdyZCUnuJ09ElFfijMPmg', 'KckkEb-lZ--a5dPwpfHUUg', 'YEomIFeixyyCi0OFvhez9Q', 'owx00idfg17VQOk3beLO0A', '1FbhG0V145kpHW1aOpRRtw', 'dgOpmBPGAP_KFyVNsqFQ6w', 'CAxCGexjjrhg-G8oCPBnOw', 'sBL1Rvw9IAcGAiuXdHlUmQ', 'BIpdnBOi1Aqzvy8YrGMpuw', 'vCEXf8ihfyk6gTEGQTh8CA', 'epu9KI4667bLVdxZMn-jOA', 'ratg8zKt3uELWoxNszZh7g', '3zvQv7YihQ0fupG3vPK20A', 'bWLXnO-sp2UtwHRrDebjPg', 'xIrn0QOONOlw-a-PMW8RdA', 'PTvBA9wDQCAUBBBn0enJ3g', 'xw5GETAxv2qRh8eIyDfz0A', 'T5IxyYKim-dbDaU8Ze8uiw', 'Zt9lXLZUpfiHJO46IV5F_w', 'EjiBFmhmrTrYP3xxj98wDw', 'RM9qPOAnUTZ0W2WlFd1obg', 'A8Su8gbOd18kkZK8DVGX8A', '-VTE0mQ5szkcTPMcuvqOxg', 'CVKYgA4cH1Jso107dxNcTg', '09j0yLi2bCAd3Vs-soyC7w', 'BmJDnEntTdc_5MuDqEd07Q', '46V0J-KPxVs4aU801HP1Xg', 'g-jQtmtOSSF2-aZKIKAIOw', 'kCQUkwD2Psa4AodfndyNBg', '8xCrZL8v6oxmGBujpp8aFQ', 'ZzfxkMxLIXC5Ep3Inl06tg', 'LagNpPB0k3TEaa0Sw-g0zw', 'oXNaikhI4iIqxYWF0Dz4ig', 'IOj0S8VwEW-MRbAetaM5WA', '029dFr32T8PgzRmqKrrU2Q', '3pF3Zi3ThHZ_s00_UJp9JA', '2gzTLILO3z2NP0CJqemUEw', 'jkv36qBLBb26J946JAeFXg', 'eI8o3UY5BvRgHLJ8zk684A', 's90-djt8uEfnXpY6rkj3Xg', 'MhulcOVGHzK0SOHG13ln8Q', '0LUjQvDVOrGJUvbzicKyoQ', '1r4dMBX9nJJ0PTi2RcIZVQ', 'ZU0a-U7bOye01mCiWN7RsA', 'qxOqVALXy-n9FpgpLGrq5A', 'bW5cgBH4kY0i8MOvXeHZUg', 'jm1Lf2vRYuszrn5yRHfLuA', '_A2yMfPqwhmheZJ6pJRREg', 'al-u65u6FNINcr1cUPtNoQ', 'ZiA5K4JI6UWMXuXzAaG2fQ', 'fQUFh7rS_5zrSFESD_lwTA', '8bxTU11uEPeBv4lMIInZFw', 'F_q99_Tp-nAggytgMX9O4Q', 'hSvOtGdEW8e3lC_YIp-LcQ', 'SxoNyFcjhnjJPXJ_Ch_gaQ', 'V1K4gt2jrKjKRYqsWtzqeg', 'oEj9vDdKeMx1MUuFymfPaw', 'iWATReFy0nqXlt2Ao1ZJ5Q', 'XJ4A2c5f1fyILIgX8lU4gA', 'OEqZNDH5C7mStf1AiD8b1A', 'E1FJIPr-VRPotG8v6c2kaA', 'wnrL-0fnI0AqpqpCJcErVA', 'rVwQ7DP76-ATQ72T2gsmyQ', 'i7yXphvUbSe_P7WehwgGAA', 'k0k32Dc4EIzkLNShFpIx_w', '_v_2dz2dDpxR1Ux9LlhBCQ', 'vrmFLUxupn5JI3PqT_28Zg', 'YH3y9Bo3Qk-H85_X9v2Nwg', 'udp5MpfTlph66zdqsWPZVQ', 'BzJEnkq6Nyz_jq7lih7qfg', 'NuQGqyjQMSukR-r16UA8Xg', 'ddQ_cG-tjyPrZdMU_uMjyA', '5vCXViY-AOX3FkpstI9s3g', '9IS9iCJWD6G7cVnakJTV7w', '7kz2EbHijQ6ZOHIbatDj6g', 'VtcIqLkBS-316TYs9EoF4A', '7E4RtHy43in3lITRmLj5Lg', '6GuPWvkSvmU5b4sCRbHBRg', '2V6Ijb1dlrQeHb2FZyS30A', '_2FRrp_XGT7ccIkjbIvUAw', 'BNUvsC76_xA2c6uYJ4SktQ', '60--gVHuoWMtiZGwhNdZIg', 'aLmOqnztan-I9gvUjnHYeQ', 'Y1ds7XK1G8not8LvR_V8rg', 'CEjBp3B5Bav3RytykmhDbA', '4jOjG3Sd0B_YnKHSWIZAXA', 'OgswbTXOnh0ZKG8Dd61N4w', 'AKuSydcfrjFHPeQmuQakyQ', 'hZ3guAPCVE89ewR7C9h2XA', 'GY08abJPasRUOW0iDdQK5Q', 'B6jU6e2dt7cb9i01BcXB7w', 'u3IeLQn2T8vIQTU1QvGYvw', 'dGs1570ZQoETdalz56_YKg', 'pn1MIW6pu9SyrJo7ht0W6Q', 'EczzX9DWaldGGbEfuY89Mw', 'YBq9ZmVsGZeqRxSffxCTZw', 'dk6X4cNWwYbnSB_mDO1mtg', 'qt3o6tsRsTBs-hBhaIgCFA', '0gC6PBvsZcJkXjeorwkIuQ', '-4CyV53rQQQMvTT1jVXCIw', 'wGd2iIC3RJEhnDKQBahVhA', 'Vg50WxOdCR6ZgKL4WZAESQ', 'rSiRDAPp_8m1yx70wuGpaQ', 'NQnhOYo1IxIACNQFR602TQ', 'NYkrZPbvLBFglsBWlWkdZw', 'r3AgFX2baFPV96gRGAplzg', 'ToYm5PYVLCdjlwAfKA2Q-Q', 'fv8IIPpV127YFGTMB1oM9w', 'tLgfmIkgGYlgGPUbk7fBtQ', '1CTi-CnNCpLQE8rl-ABXxg', 'ei6xW3iCsnHoIbhSEi_BMw', 'zQ2idiWZX9wyL6rJ6dEelA', '_echS0JIpavzeEiWVlZCRQ', '9khEk07E0F6WWihnsp0r5w', 'HhshgpOwUGDk0_yI-Sa42w', 'Wxt1QFQwjSXALzaUCKZViw', 'iVActhrtNY9DXhoD8O4tbg', 'lS8UAo0pYqbpw3cqEA3ipA', 'pP_QPgiivP9NCeHZ-IbOQg', 'CuXsZ0Tkbay-fO3MQY-v8w', 'zic6ZKTApP1vXcQ0gNcoWQ', 'XwkFMvWZV0mkxrmsaqtokQ', 'wSSSaJXZ8iZ73o3EG288AA', '8vEymPMTcTQB_NolpPcu-g', 'lRMpBMO4uJzgZ93cWnWysQ', 'wO743AsyYCB3tQMD_UYERg', 'nsPO3lYpazdPjyYrrWq_0A', 'RSCsNSIX2aXARd-Q2Oz_iQ', 'e889RYEsiP3FksNKYMbKSw', 'biCCjfzyv5mWCz30ORtTeg', 'WrgNFw9X_vFiTmnn2kjP1Q', 'PRqpfknH1daF7oUKQDBLCg', 'tqdekmbmq9zHqbkyhTm54Q', 'kDcRSO9BCdX_wccwfvcT8w', 'QyEf99C2xFiSEFppDM1bzQ', 'Vz4TyhziC6AMckd2hfDNeQ', 'T0PRj0-BNzzdnjwM5FMhuA', 'edGZZ_-4nSzBNwJHh5z6pQ', 'Y9mpB-iRvXcQmXSw_qDxxw', 'FbxeV68Tby-PfYw--PvoRg', 'rze0JMnOZNEDVDOzJ0E4Yg', 'faTJhkQqTDEeO7cwinx8Jw', '6WHiB5_cccZq6VGwWSJAqQ', 'TTqiLbzmXgq4NRiqWxqy7g', '6S4mFABPjK488ozYnGGZvQ', 'ODRIJIWzNi6z6zEDi6yzZg', 'odPtyoOUOOnBWA9TK3-saA', 'pFCb-1j6oI3TDjr26h2cJQ', '2W5BtrD6DJ9GCWu2NS2Meg', '7iWN7BE6J9MogKGFRooi_Q', 'JqpPTsxvMgol9Xah_DG4aw', 'DTZOQgnybrf_sqTJbAFEsw', 'nOQlGpgqq2MBCuEzxLMm4g', '0ufEYEKlxgPyWrCoN4wNaQ', 'AeOAx0r8AIf0HxZf7YdbhA', 'EsarU1ERqKa1gEyfrZvShw', 'quXRUm_8R8xifVWC4ljcYA', 'O4wrjwefIpt5NyP36xPTMg', '2oPtp1bqSqA7FttJky_dNg', 'mungxQKPYark4867Ea_-kw', '1kuO0OkaJzviI9unOhPAog', 'sYjHnrbgs-6u73avju3RCQ', 'O3x6VCr0r07klJQXCd1-sA', 'nY3TtGgMrSncBptq8wsyGw', '-_rhWGbnIzuGiH-YjFOCGA', 'oSJT5voba2kYXvuy3Y3heg', 'TugAjHfEVgprqfd1v5trcg', 'f1rCQ9caKvGUDr-cOFirhA', 'Omo53neF5AX04hx9ZbN1yw', 'zR2iAdGWaqN2dq4O-jBZBA', '6EefDDYB-d-vvjfLRRXzjw', 'ugW-qIugMJnt2ptHruWs3A', 'pjg0FxLooOTl3-l1CQ-UWQ', '_DBzI1KR3IXWtnP0QrdUig', 'IFiTcuJrPqlxKUwXjOGHnA', 'bPGubE7Cb5p7PZBb3kluvA', 'aYYaiqLQjlwbcpwz4UkN6Q', 'xAQI9PdxtTuu3_0Ajroq3g', 'Xfabl76285VZiiQfGUM7BA', '4cyvBU_O7LH_OjEKi_1yTg', 'rc-fR3HK84TROAwfFgaeSA', 'TJz3TZrC1ttYVEPi3AvaRg', 'Xe3D4o7gpO0FiKDcVCFwOA', 'mqO0u5dNpEVCGuG2jfj0xA', '-ifu8dZoEPsnzgPuhMNWMQ', 'RlCxlCuiKzJjVQ39kdlfJw', 'l2fQ06iUcCyVH5VLQUAQ2Q', 'f__Ai26hKGJm4b52Flea9w', 'INxlJpeI5y5Cb0Q6mqe6IA', 'zXufVxrInmTPOF8F-2qcnQ', 'Wz-xVyJhZcjfOleoWPaSyA', 'G11zJueGSbqe8QgmyOu7tg', 'npD-TYX5rE5XSmMpMx_Igg', 'USYqoxuTvrrnOAHPYCMWMQ', 'vWHQJAgL_QgqwRGcqwcToA', 'hw9OffdwinjdqAyssZcLFQ', '2JIDV7bv6IgtCsI30QdCZw', 'zEF38yeAMAbTOT2YnuReeQ', 'dPtjDZyjbSnbuCCmrtKp0Q', 'jNTqMr1Mg4aVkCZUQ9q6Jg', 'UNc4TRwIJ4fVHaOHWzd31w', 'sP2d2Z0eGUrHUBvwBItRNA', 'HCn5vsi2GXHJwqX-cJYLVQ', '_cNpHB4N1QFeb5yRE8IbOQ', 'WKRKJ9-sF-cekpX1ciOIjg', 'nlOUAyFBbKaUA_7N-8d8zg', 'XSXuuIwJghHcUTWPVsOVvA', '6v3KuIb8umpxmGM286M5PQ', '1ye39TWmpi6VQcufx7PlGQ', 'pXmLDgvl3kxi8nhGDyq0ag', 'qPlg7R51Z0MQdcxMUJtVCw', 'JutNF-94Xntk4Sh2oB7LLg', 'vaFd8HpOsDWkDFZHrqy3aA', 'snU3WK_BSuQw1f3Sa77S0g', 'Sz8KhH0auyfsUCXIvqk8xA', 'DS4cdL3p8eNOnJMoPBjMUQ', 'WS_yua2v1MGHWgjC83zTJA', '7X79eymtVXYzrWWSuDrOSw', '4jOq0Y8Mm0wSKju0bxFgDg', 'z6oUlUKm9hEo6IBAuZBuPw', 'rUtwr-5PiIMehGoZ32ZG0g', 'caKF2rQ4tteHvNbJNhew4Q', 'lvrtql74NXkNQQ8TuroWfw', 'KGHyHEsgpK0_M5DGtJuDmg', 'Ccs43FxD9XY6WsZGWnPqgQ', 'T6irftQA_N1_LJSgtVvDwQ', 'oAaEio790XFWDVS34sAGkA', 'bozT6GLNSl2MdimiCvQstg', 'XPmMvs6wNygNgOsOeiaA2A', 'o1yUkGHy_F2P6ujsa--TSg', 'qleODp0kGOgCukQVPIjcLw', 'TdTY39meI64oKBLi27iVmA', 'BDRXFtps4M9rTJvHORbVcA', '4VF-HEcg2cMmDUPx6ZvmSA', '4y3VYddtmkO6W6LTQ0uh5A', 'u-8xNSnwtEt9rlRQXJv4UQ', 'Hld9AjXrX7d6bjAqwgHK_Q', 'zFWd1uWni1MsyXNn8oec9g', 'T2LxpGnTRG9ijbDtSxHG4g', '6_ZS204WTfSPeD90c20LVg', 'dEJPivvG77ntT3oE_E2L9g', 'Qf0Pnth9P-mS6ErAhGw6Qw', '5EM7JlbNWw4jblBgQV1AfQ', 'bzp9ocp1XbZ13UP7l0VBMQ', 'lncyEB1YioOcX8tAtPKrMQ', 'ijo_rW9D6y1jtCm0IBv0Jw', '89sUtXdlrgrN19qStAF3aQ', 'zc62C_CsrQUiVhd_9oDVzQ', 'oTkhchel96kskRJrHDHp6g', 'eG1gwvbBmks-LNVNGD0Rmw', 'q0zfyIQT8tZSCghuzVyjUg', 'UH3WZoI9H_y39D9TuIMQmg', 'gCm4knVUQh9UCZ_Kajc1Cg', 'j1CkwS_6KYMvqdq66UDsTA', '4ZLEe1DgpsmMU4lh7zb16Q', 'ccA_9JBlqHXn99Bx_m2Q-w', '9nybtMbnuY_qZJvIolDJGw', 'VPSlbELotxGSdC2pTg8PnA', 'ZdMt6hICHyGu4FtybHzKkQ', 'kmq3fARHqgObct_a4U2BpA', 'QtKklTvi3sY-iDDGG0DhwA', 'BpeUFlgyJsTEhMMrTIB1Hw', '16vQEYCNRFZII8JxjMIsfA', 'S5bFoyyPFEzLBvwEk_OmOw', 'u6NSxCTScCWVTyaJrUW8SA', 'XhNWIpw5bOns3NzIyZ3d5g', 'SeWkUWvWQmWaA6ZP4woU5w', 'uN42kMPT0jlpgma2EMdQgw', '0yIMQKK4J9Sp8Sw-J940qw', 'EEONet0XMslOQMU91iaEvw', '5Wv7PFh7BvF_r8sy97sw9w', 'N3wBUyoOl0u168Ke51Xy7A', 'uztoPjvqFxXBm2Epb56yUw', 'FO2MgN2nPNcjFAcWYP7CnQ', 'Efk24k4kvFjPltwR1XDjWg', '4yQ3i2KmI5271mKSFFT9vw', 'B--BZvlgaVu21spxDuRlOg', 'F6ch3t28IrA2MYJW2IZ_XQ', 'DndRhKOkTb2D08JKXuLX7A', 'LYfi8wRgFzYKJj7FXBxF8w', 'zOKOXFvK5Qm-umpsVpsDhw', 'kmpqCDHQIvp8ssl2yLipgg', 'rSPmu2jWBE0iP8mmEgskNQ', 's_Yoql6zMO1EY-0ufsIRgQ', 'TIJGJTD2dYTTiZlmfa7nzA', 'PSfDhO0URMdJ9pgvaU--Mw', 'xnh8JDQxYOFsbm5A3-al2g', 'wT2fwTxaK6WVvPd1oZ3_lQ', 'cZbOu5bFmvcttAjLGQKLxA', 'DChkM3-xca6CfnUToLI7og', 'JDxIl2R68issrDhNfOfxcA', 'xeRVbwb-3HFmilOJHQLOsw', 'tXrjAnIoDLzUh7FbrzuSPQ', 'Wz9gBZTAlz1tGwY7Lppu9w', 'QE2PjN5b8f5oKprS5wT-yQ', 'rgz2to3JXxy6zWEDYvDvpQ', '957D8rSKuaUJAF1zE3i3Ww', 'MXWMOzCQI9XZ_U29DHKdsg', 'FLZ0nHJPyOs1t-ogqTlckA', '_ZMj8G0tqSrU-Aq6OLGs6Q', '3_nuE2tCUCvp3vs7gDIrVA', 'fZK_FVRUr3H7T-bMlb2g1A', 'zW-3YNqtlJVo7FN36BzbdA', 'sq9C4nWbLFNiOw9pLElLsA', '77Vp1q-URK8LDnSFySutkQ', 'eiiXoxbl2nzTy3VTsOd-Qw', '5VGW7c2DAcgaaMjAjR8PBw', 'KEDQKifzVF3AswibNYhBXA', 'nU1VRxRaCgcTxa1yZ6ey-w', 'osea2sMUFtl1CVpNCEraqw', 'vryl0MUqkngJqCy0AlBhiQ', 'OoRdJV3YJEC64LnSsn3DTQ', 'Ri7UTHANRY0L0kyt3kmSPg', 'bHesS8HoEGCB79rR8QOm7A', 'FCBvY4WOpU29Rdhk73lsPw', 'ImKFmRiZ02K_KpjNPI9nNA', 'tMQIW-_M_318L9nqbfxzcg', 'Mq-dMft_CtlDnXYlwn2iZw', 'HPkV5SPOTqTcD7jUu57oTQ', '3n-ptf39XyM7cRmp9ziw5w', 'D-0XFo4UJbpjMiGoYgNZew', 'FEYlv1LUWRdp2CXWcPZS2Q', 'tdhB9NH6xF4111IS06u_FQ', 'mfN6S8pcWTmzNZdy9SELrA', 'xFc2mZsM1kbY5KrN2sxzhw', 'Mixqxc37zj1BEFQo1wUNnA', 'MkP6qfQKfHdSeuvaeIJ7_Q', '8kYqZOQQw0lMd7e0dAYVxw', 'mAwfNFzGSmw0mDVZtjt5GA', 'YAJZz6G3vaLw25izU2NJqQ', 'oWqonR7M--uXw5Fk3oHP8A', 'z55it-ta7cfKGfJPm8wnbg', '9gQOzX2odAcpIJH-pRd6JQ', '_gwe9Luj6kZ8gapqnaqsKw', 'iuNcsWNfSbvUpmS9M0bWCg', '7JVPBzoG7inrDaKt5_KrVA', 'g-12uIonq60khLwDlEu39A', '7ziuWvEorvuuDkhIsXwq5w', '7lCFOSsdzHBYbEgo3fdubg', '9kKLkDGC8tVzStZ4OyjCMg', 'kcoKu8q6mrXkwCBn2xHyXw', '_kKHXevpYFZf8YRimhUo_A', 'HQyVWeTMhH_pUl-gEshCyg', '_0miG4G8tglGxzfqlzAjdQ', 'LKHRJwhfiZj7d6atu6RU3A', 'G3h8pIclwUbuu3itJqF7ug', 'escMUoayanZH6n_M1JRDMw', 'MeCB9nF-TwQ8tlpd-sDAqA', 'OgYGx90eKoRis9aqddekVQ', 'lA50OARsSxALGSmPJKpowA', '8OocBIiUNm_PkPVZ-6AyrQ', 'sSgzcIYqTKAJHV76zbo-4g', 'H3rcU3Oz4lEX3NZfrJytzQ', 'Ax8D1XCbIXM0Y-sb0FuY9A', 'SKlXq60Y4D_wJCdn7plOXw', 'ikLn7OoA5j7tbmCS9YtDAg', 'a7goszs-Dl89TZoyrpGKWA', 'q-0qnT8ommeAyJb2Tv7AJA', 'kyz-p7EpiSNxP9rHH89Y_w', 'nr50c_w1zzswfgPgOPpmKg', 'sz-5gtfSznBmeXiY3MaZkg', 'DTGOyVfBNUgXuaIoM-rwmw', '4ye8aaGKFFmf7J8OTsCI4A', 'PiZgd6_2ZJrUesNckdu4Gg', 'XVeTRdjVWJdcXN6ZBGmaOg', 'HirZf98ErcDJ_374KfZDTw', 'beqqrp3kQ5wbLDFjB4AFeQ', 'DGcd8mxCg_TCgyMLj-g5_w', '-rMNDNcdbauT05zOQicPGQ', 'jxlb-MOvoyWA6oEo9mRGLA', 'MbBVnhTLdt5-LBo1ktocHA', '6rSa3tlHa0grZRaHSpds3g', 'iqCpIfO6XO4u8_fxf0JHbA', 'sNvVzSoSgy94DOvCDIfvgA', 'rgA4cZIWdTA13Rijm4Fw-Q', 'wqwcVaYylaX4nojz88RJTQ', '6dwHlbd2ny_z1tfZNaxEKA', 'D0L_mS1HaO4KvWWFmOsTiQ', '00MXdA1qIMxftPND2g-cew', 'MOW_w_1Z9b0ExBYVN5mHXA', 'wR2xBJLsLvtPhI1hPzAJuw', '_C64bivRbIUpOgP69qvNyw', '1q7o-FksmWvPgHpfNcm3fw', 'C0XnFfCHmj5OBbEsAJLCvw', 'a-9t439Vd_-AXaiIgYVqig', 'JyvZRVWCxkgoDpAtQh21UQ', 'C_IGVGG-GzCYbXHkHBm2Lw', 'pGrnfojgHads2eRlP5OAsA', 'Sh0JTDXq6R3vmjq3yWBQfg', 'jXVda0fQswCjEprFBmOeLw', 'wst1VippHLdEGKrg8fBnNA', 'zf4OOy02qnTVhx2o9bTl3g', 'iu4KbMbsHYmrg_S5iOAvhw', 'BU6GNdHlBPPoiwpDZEW88g', 'bF-WXUtChcEM4PQnVHLPxA', 'jDVrEiGmvM61YNuOzWymlg', 'NazC0GPD7mPbmWfu7SNyng', 'fe2DEn1iIQf9EHC0SBhl9w', 'r34WTuxQ8H5I-eWR6bl3Tw', 'wTThTNUzBZxGWC-rvNSk3A', 'L7ULMg2bo7eT2Bg2IJb-yw', 'kBeERHFSJyJ_5zZHvvqASA', '6oNGc3ugWCQ8Im6pgG6reA', 'jnWRQzK4Trj0O59BmJYGyA', 'HfDboksZJE7Ed6RjI7Srhw', 'guGaN0JFTw-n7ypXZM_JSw', 'vQWrS555w_33CcX6v7D2wQ', '_r2GZvts9DKj_WRzoi8DDw', '1ilSziBZ0YF4Lb6aorKmGA', '6huaWmqrJC6AVicYBmyc9g', '1zNtZtPO_0x-QcebG6211w', 'udonNKpvdvOpalX4_aJc7g', 'BRTfjdIFuPBFlGUJJHeTfw', '4vaYasX2d4Dug2PCu9ML-w', 'ltbdBWEMwBS61dRmUF0xkw', 'BQlNt9s6XemEzqGP6q7HGQ', 'QbjLh7h2AH0uhUDp9SSOXg', 'x7gs17yTG6myosUu0WgkGA', 'liJMqTpfqT1PppTmTBVo5Q', 'fzkzgtTHpZWppEIqGNPHpg', '7xJsB_sW3jRvJ731s063Ew', 'j4cqDuWTOaCuco-_WEAMbg', 'Rtg5_8k6PC8mZ7pJfcGN_A', 'tcVBtOSfeUM6VN4YYHo3Iw', 'BABesE-pv2h9oEXXSy7XjA', 'Q3-N5uM5UCmuLF7cB4L8xg', 'Uw_Ix1k36JQu8K082XFz0A', 'pN-Aj8lcr3rF3-s24O0Z9A', 'tLwp6UpSN8H28CECzzN8Eg', 'YM5fnX-8iKgHSPv5IH40Sw', 'OfeWiTqovgoZYI6LjiZj6Q', 'toJcioreTG0aHjIngIY-_g', 'gFeMewpmFqKGdVEtwpCw7A', 'QZoW5p5dNXxL945ZxbpDZA', 'Nh9FMWM2HPoZX4xv_yUo8g', 'k33Dd7M3jswwbyM294cu0g', '62tWwO2Q5osJqer4XgKtKg', 'jki5LnYkm9Zb2x4bCBrHQA', '9ZyzcxXSY4iv5bXFVqVnHQ', '7sFqHwK9b5iIf5f_pELS5g', '_8TVQ84L_4nUEWL9b9FLug', 'stdfQEtRr28OnWxtVTL_WA', 'hh25ngc__7y4ON34O2V4PQ', '2usRnF5_lGujs57FoHA9Og', 'uu2yRfdSXeNT-Vu-Lo-c5Q', '0zF6wVl0hoXDX0qVHupi9Q', 'G_B3O7CmWxBhpuu99OxLAQ', 'zJB8A_wmZtviLjltKz1OPA', 'rnpLboxjCmCRCUdO3K-mKQ', 'CIFSSe_PizwCF24b4bUyrg', '302j21NUXUa0I9zOr1rnDw', 'bSouZd_cJzILIykydvSCTA', 'Zduokg2jobtiohiOpND6nw', 'bXWsKkbq3ZbqBxmXd2nohQ', 'OGby0hRbAxTiL5YnbAqDVg', 'a2SeAQWwduCEljiCVi_o4Q', 'xGAZMCNLKwRxrb1Rxn9c8A', 'kkuFRATdXctqguxd5KzC_w', 'RITc6d3t4y78An76IGZiAw', 'G6mNnY-vJCyA3gAH5b34Ew', 'U7m7UeHuigHT4dh4Ynr9oA', 'Vlw4hkt4H5gS5wFcSuSTvw', 'zsOC33Os4e2aogadzDCwVQ', 'FkTsB_fD3by_1qAu0QwBog', 'jtigGUBzzYQ5mqjfTIOrLA', 'ROVduRIVKlvZIyB1EHRN0w', 'iHje4PucSptXwqt3vUAzsA', 'Dujfh1Qhx3BzbEL9vEQM7g', 'qudKbonrUvfXdglyo5Z9RQ', 'uCDrRiLZ6k9rUAKmAMzdaw', 'tJ6QrGVxCovUtnwC-B8ekg', 'giF3yJcVEL-rdQm7O_eLxw', 'qzp5wMsz7Rjbnh_oLXZQtQ', '59TL-jK8K7kqXfgmIQA29w', 'fVBn1n2Ca6WMXLq10DPImA', '8Kq0Y79ianCMbqtGxZ980Q', 'udvc-9ALp_cfnAcRuf8juQ', 'PWQKM6hyIvW3Hh5z8fssRQ', 'FQEdJzf_K_4HEUwMha_Ipg', 'vZs6y_rJkChazmILhLbK7w', 'l-ZCjhhs04z5WnhMlAYhQQ', '-QJ-gdHj68WCUzxizDFCgw', '5vNid9vqw6XRaaZ57nh-4A', 'N-5qDBcD6aLGa6zw1LsL6w', '05kXrwQ6v5PA53KGpW610Q', 'addvm7Hw9y2TJzbGqs6Eog', 'WVsf4dwBU64PyVK020rW1w', 'bHZjVZxrFtn9FMbqY2mY7w', 'Ls12lUL1NIr8P2jhIAGQIw', '5kHqnsJMUN7jbFxRgaJowg', 'bB-r8BEryPZBh8vjpFn_6w', 'BOKb1GPzSNSWIlNzBn6VOw', 'tsTObTx5KBnqJngs6m9dXQ', 'p013kToDHZ1RlcX24Tdx4w', 'mqQ2FgARb9yL2r-S3gIFTA', 'lHnv1-neUzdbdn7Qc44mKA', 'yCPHNBv4n0ZMiu91TXi7HA', 'CWhUurgydGIsLErtYbjt6g', 'qnD3sp4kqRuLvB2IH42amA', 'Z_W_EffRIC3qqP0cGi-19Q', 'FOE0pwzcqBMGAqIv26yAJQ', 'IkR7-dPMnVL-SSQouq8W8Q', 'BfE7kke4fCfln0y97GIbAQ', '4Dk9JHPAtX_FVtI8LhLIvA', 'edcW8a0OU4mgZPE5AMGTXg', 'ko4Ptc0Mc1xEQgS1NHs_ew', 'paOdHxHuh0Smz9rALYOaKw', 'oLdD9Uy2j5pQzzvY8F2pDA', 'dRRP2sAf2SbmweJ0POXjmA', '7Ukr32uY-TDobjZFbwm1tw', 'McJuHcPM2Pz257Om-YIibA', 'qz5ylM8Rj8vcm6Rut7eH0g', 'LujgHXEPEyNIySVGRNZ-uQ', 'pjONA_PRSpq4eFFHiJNT3Q', 'eXaBhYswlSsQ4CObKZ2yNQ', 'VQjoO8mni0B_QGzr8Ufp2g', '7cxZLmop4GT0v4EJhtefrw', 'oKUGszO_AF8gMr7yQSJS_Q', '_0uqaMZf3plkaz5-Fb2BbA', '8blRjKG829RJhkJaG6yPWQ', 'JvyP9KgRR1f6nwXuFwC_QA', 'uquNX6M0eJ_xqZ1IZX4-uA', '4unp9dgjcponPNomnQU3bg', '5Y-L0AKR310fzJTZ_2to3g', '50AtQxOGyY1jjpTStsUyHQ', 'Jt3Ah3OxhlUPJz4TULt9hg', 'brXkofgApznraEjnIOBktA', 'TTCXpkLHuZWD3W8tu6UXMA', 'X1CJyMJXZF7KOGGlnmXfOQ', '4KSPja-G_dZR_LvfvwJp0A', 'f6DrCqPLc-9hYpgQnIdLjA', 'x6_9RC7Mc0SsFUcWxEoN_Q', 'S8HIOziA2iGj6oZ3l_yd9g', '-sdKTWq7T2QJikcsoNVs_g', '-EOlTGHfMPiB7GehuuayJw', 'G_nScnxGxJuo4eF5Nh9XZQ', 'g4Xal1bhGUPLS3SqL8_GSw', 'Hnn_fxUJmAPMgkTIJRIG4Q', 'feHsjGVqeMDAFuhSCAQHRA', 'WDmYo1FMor16_fZqxGgk8A', 'ZLL-Fly0Bw65UNkNyZIXng', 'MqY2suxiGLDPb7r_8Uc2Eg', 'JhpUfzcoCHcneJUZrx3gzQ', '2rlOAy6p8Pu9B4_zZNDvkA', 'S3akHcu40oTlqWQB1SfhYA', '_uSY2XUS2JCkoJspaRjO2A', 'mJAZzuA1CbkYelPIzkuAfQ', '4cwc8pj2a_VFAiM1VhKvEg', 'APGCg_qaQJtLkahrFmieRg', 'f2didHWtEsxT_AGu5PL_GA', 'JKkqQWrmrqE_J_NVfDzmHw', 'e1_bHItgEP3pujsYXMFjkw', '0dzkPyFbySdCFqvcdFtVyA', '3Q4iN51IFEw67ufAEVuinQ', 'wq3vff7E5nv9IS6mIyK_mA', 'Oy9RnjaiS4qlTVFd-mD5GA', 'V-poB1NWBCgHxP0i6-HqaA', 'KflwBR5--mYiQ8CZ1_avJw', 'vu51yXe_-tP9vsw-L8auUw', 'wr0GSRmOpFsoWVhPE_bxHw', '9g8pZNaiNkJIdhSr2ByijQ', '89o4Olk0WF4FRTunTjTetw', 'neaRDewf3p1OgaqQJbxAyg', 't-bQCD2g2gR6ZMl3H_Zi4A', 'BCfdniN-3DKy_--BIqlK5g', '2w3A0TDKj-hnb3-MSgfMBQ', 'rVn1mY7hn0w9vPOnERtuTA', 'tGEuiVRuKQK6Dl1y7B4uHA', 'PvkugmmO4_BcvDi-TVMPvw', 'Usp0AbFpIkwe2ya3DAbZmQ', 'GRX11GxmZeO-nXMAZA6PzQ', 'Lk0Gka6WYBtp3nBRMxRmww', 'hjRcPCi8h3Bj5ihJDOjibw', 'spr6oCJTjtYxd6YVb0ztEA', 'UrhlTHDRPWnJVo2ERD1zkw', 'jomQTesALTTWq4wgsquq9A', 'XJpf3JRg5TDWCvaNPjf4gw', 'Yg6yDMXK2qfs-kjWxyD7Ng', '0dvPWjwtuRE1PQfw3_EWqw', 'rb0EgPbjOKSJ5J5z4YzJzA', 'jmEpQxItiYyN_8OVs4AiYw', 'WKx1nXxyLgTxq66POdrK_Q', '7RRX-sPyPnqaJHohxamtpw', '2U-NhgDRYp5nyz1yGSFQTA', 'nCEAIa3keRIY6qyZ_YUzlw', 'bMdaOvk2QguEQrzs8HDYdw', 'KvN3PtXBwe3w5ndEQCXYCA', 'V6Fu7yUsd_qKorYfxw4M5Q', 'b8hp_6ez705nV9DCkXHG8A', 'LzntIRwhY3pd-_fvx39rFg', '04K9ITlvt8bAQVlmaOuCMQ', '_VN2czOSzVs-q-OWtrR2bQ', 's5SQUC8iBerlUFPyEVA5yQ', '1oPcONupOFfYwIjxnF9HvQ', 'sKZmbFN9mNsG7KV_SHRqcw', '4kv-b_NxSVaiag1aogL4Rg', 'YBLRsowfx_Bmvh8wPcyPzg', 'IaGbitfcnntKprQ9eUAuSA', '6bgNHePeU2YhjejFEtoXPA', 'GSdcVbdIf3AJAHDLUOfaBQ', '5bpy4akQ2Q1Hn_ojRuocZg', '0N6RdUZnh3hirjOQdg5f0A', 'CztSqQdTSurZJ9cEKs8_VQ', 'WOenDYUW2tDYuMwsQXMb2Q', '89Pyw1JqWo5TtD6o2SHRZQ', 'YTfc8FgEulA1VYCHv33oOQ', 'Bo0cdqB6I5Lc2hELm5RGEg', '40xtfdec29GFMLx_oSCHYA', 'ffxe1Is10E7PBb-HgIQuDA', 'J9KzGaBgvfYwcG9_559Saw', '_t8fSIEMdkqu09bL7jEAhg', 'Fp4iJ9y0pc3l0oiEWC-DwQ', 'r37vGQx9cCZOrWCPdxk5Fw', 'KHs0tQ31mJCz5_IulLhxsA', '1exPh5YDGUg3xuEq0ugpGg', 'INzABgCq6H6VxynCTX7BKA', 'yvRY-mDuXXYOOFdTXP2Ukg', 'E42iKCwep-vLAsK0dDXFBw', 'Afrnrfzmm3rGF-D8IYn3mA', '23WoIndaZoP5lTHI728KNw', 'Im9NZh6J08yzowIes76JBA', 'AdZwud0YwRiAQRNYb8l8kQ', '87-KPVeEqoMpPez8d26jKg', '0j_OA1mIDDlhNm3lnZDDOQ', 'EBHZymHOzsiw8Max2pLCPA', 'CAtH_f6PPFIUx6otnpzSuQ', 'UBwNPfndSGRk4heQgqVHng', 'wdW7dmDrt7IlmtpOCryX2w', 'VvwgvMpg54GyrDz145jSLQ', 'g0bGAD_DGe4tFsKD0E5uEg', '6ad1XuI8Y7iagqVtkB0_pA', 'snBLOw_NEhslK_LSlp48OA', 'wLQbI1RRhme-0c5DcSiKnA', 'cf6o5RCWfLkJVwxTiVj-Jg', 'R2HqqPV515o5gLkRFsFyIA', 'NpIeOP9jaw6i7lqX8jg7YA', 'KLo0eyy3GurgtHfcuCKQQw', 'gJMg2B99k6V0r9o1eqdySg', '3LMyeTFcvNGoBUFmcWPiqw', 'cKR_LWoc1s2o9PwuxeJahg', 'rw9NL7PRlWQhLfWwza0Dxw', 'R4MaGi20AL2ZYmGkqmolfQ', 'i22sDDeXiX3lzXR1yt6zNQ', 'l5F1tSwujgbqMvgivW4JLQ', 'JLCp5sZ3mixWnWmQICJ1lg', 'hOsRzMS9nxajI-RMRuwPQg', 'uL1-e32AyEdpymKBRufq9Q', 'fdBbQfqwwKU_Ou0ntxUjAQ', 'Cujn0T_G5zqa_7Q-PGTutw', 'Qnsf_se7X_Hx8-I1-RhwYw', '8AIzI6UNpj4dTN3cAW22PQ', 'nfFBzmQpwFPJWXIFEc-FPw', 't-danLK8gkSkRiavPxwwIQ', 'PycqWNDXv9ROXvMNGLPzbw', '2m2RPLUIK_u98c4PMSy0cQ', 'Ns64XxHAO7NJnjnHzTtwjQ', 'bgYPCAmwvtC_hsDmvxRbyg', 'W9JwXmUSEUJ_EFWXysu5tQ', 'xjJojNf5xjh47Atmf4r1lQ', 'KWlMhuk0lhL5sBWT5S2btg', 'pivvnsMn2j5WLLk57RkBIA', 'DDnAugUPlKiWDZBh5UWgzg', '5xtvU-pilihNwFzzSdDK_Q', '2-_Doh-79ApH704z8s4aNQ', 'itz95RcQeTZTAgsitUZVWw', '9-piWE67DPPQko8uL4wULg', '42d7dCYSMmxglHh-4PnKCg', 'ciOQKXZNvoenJcazeGhQXQ', 'sbs_96K4MDvbbSIbpUn14A', '9fnIqJsNC9FnZSBCsLD68w', 'q-E3p55qH6_R9iR6mKcWCQ', 'SEGPhxkLTWuBlMtTf1a0EA', 'fcLeF5NLlGMxUxZkNwEkpA', 'OyirRMXdho9LpLg2XCEP8Q', 'd75WzQ3eFyoqLAj8IPv_ig', '3x33O9gSFyx4Yj8Surff-Q', 'wovYe2tvAH-Z0sO1mapsGQ', '8m873b829yK5mcYKJ8z2aA', 'Aqm3zE-MYl05IustZ2h1Lg', 'GLmeJOjbT2ORFKZanmbYIA', 'jX0-_VgSoNwHMp60lG31YA', 'gjNceVK62lQPV7O-btQkfQ', 'dX-wg0CozwtTGjPXmo7DzQ', '-hAtcYRrKP0Thqr4BY-LOw', 'R5Vb_UmYU6qboTAHxhhYRQ', '8t9HopDUOqJP2hS3pSl6zw', 'CT-CUAxpfPjeJra0yw6Y2A', 'VHoFViA7rTdtl-hKxXu17Q', 'HOQwoLfMNiKFctSvj4IHFg', '0Y08T15GOEBcM7rJyMYfjg', 'ZHVVwXtREDsxYXTmg4hiIg', 'G_WepRqjbm-LPwbHSXZR9g', 'ukTlKOLYXK-MgIwdFpvyWw', 'BbgYTd9NDBdZ6hffIQliOA', '5OjWtmUlydXXpt6JQh9fsA', 'RCdd30QBXXPfIuPHTXmc_A', 'EAWo6_Q-RXXihnNTW7Crww', '7wg3SYCtdKsChNrBZue4dg', 'CrOLsMfZmPaMviu2bxg4Aw', 'H5SjqiKMPkI8Q6gCqfFpJA', 'HlaqPcOkOb7AjLpYU5fsoA', '_Uban_99rvkkt8fCI0eC3Q', 'hcR16brnuZBS0NrebFP5Fg', 'GEMjvfeQMMHLMtHcHOV5FQ', 'V8_XDmgzxykTq43a_19NZw', '1kcNYppcu4VV9cqxG0S55w', 'E0QUwq0FZSfeFDDV_5U-oQ', 'n6hDljqqCt4LpN9bg_V3ag', 'ApSTwP1tWWCk_5EnUbUeGQ', '23Av1bM_M5TyjmrDQxJakw', 'XnWO-awwqwn6JX1bYFMlPw', '35OOf_Br2G66lamY0ODIUA', 'dVfWPhGlknwDWVu1ol0i9g', 'B8XeskRgcC3qGdwOtxWBMQ', '2hXxMjaqPovlOL8UxbMUZw', 'JB8sihtqLUZqHVcTaiYxIQ', 'HBXzlNd-xWbJJOnfuz7AqQ', '1QPuLX7yAz4qWYZz-hz9tA', 'r0PHl_FB4fDHjFnioLsYpA', 'gUr2djGz_PRQodVEl0SrCQ', 'XdRruu_9GndT7ihSZXVlSQ', 'ZWtdsk2_llAWjoI19I5GjA', 'pr-ji7Ad3ZvQBoXbiZynag', 'S1igsFhr7oUqcRRsOvXqrA', 'bz6gMEzgijmenrei59nQOA', '7W_cAd3uOzbiUZyUbydoFQ', 'YBdvwWm_Ai-N3Y4S3fRUcg', 'Y22WR5D2-3u-iZZN8ECSBg', 'FWlT0UXhmVIHxNfQ6A95Tw', 'EA0dDNPggFJUt20wWbDrIA', 'eCtHljEWGcZ1GYTcIpHPkw', 'kJTb9JGu3mAK9I0zBCTp1Q', '6HTr1rG9uZNw-Ij7xNu_8A', 'o4R_IBjDQzuZgAqALS44Fw', 'fbz_3PBCWuAZJHdONqn90Q', 'DL-KW73oKYwmuQV2LW-unQ', 'AgOwQWTf9As0SmSPrKLHgw', 'HLqCr9msqduHUj6-QljOlw', 'wsfGUSQ14vLNlibvzvhb0g', 'yHKuxTiiNACjIsHEKoVTRQ', '-P9qSJ-sRnrGKIAijMrQ5A', 'TTCzwn_6k1AwSuqAB8oLBA', '5cXg70PZUb6NKXbM3T1ptQ', 'sHC51CSF2aBS9_KSONIQ3g', 'LSK27IPt4hFEa26oHSAtVg', 'nVCju1gpLyvWu3mj5wRbSA', 'WunLIxpRsBIO9w8EqAEJpQ', '_uY0oABo6aApmuuhR6lkXw', 'ScMj--z723pR3fYrMSErqA', '-G79hdo6qt5dwut4GxVdoQ', 'ZmnSHsiYfFxaqjjxF2I-Eg', 'YqsEalKXQWhOocj2M2mxgg', 'GmpBUr8lpxIuR4cOSQ_HYA', 'kwR2CecT52Q4w_e22XKbhw', 'xmHTC3mvhdXvMGvczCSimw', 'rGK77nsN5g03OsfnlrR6hg', 'LJAbzKY3JbMUm9SC3RvXqw', 'FUuA_5iGn22uTkA5C5487Q', 'ciFz0iE4LKMC3D0HZIjL-A', 'LCo844UXNjmIbfHsKZT4WQ', '9WX6m7JoJXjIHDiTLAfzNg', 'MfHkFTKvisoAkETV4lk_-g', 'RszNhn8K9JLqKhvY81Ef1Q', 'Iw_k5xk0_jCQPOetf60xgA', 'nDbx19x6w1nSZxI_2TmxEQ', 'Vy59XvEALYKFzTftKDeZWg', '1CvG8Dyv_Pae-n36t7Lu_g', 'b7RqWXg8oQcEKze9E4umLA', 'SxHOAuR9saHbuefsoNZ8hw', 'uhPC8wloWti90f3yMGDwCA', 'gGk4ttSlT-qahjYh-qiAjA', 'FqeqwaxWkcjK0bZoTpLiNQ', 'IQo8SaW2-MbJS1a0D4IqOA', 'u_AFp5wxDwbg8pF41wX_Ig', 'STs7VL757G2lCwXhLIN85g', 'He_9JtcSoFd-jo41jxRZXw', 'yYxhKo82d_OJITl9HxiiKw', 'CGcPVy8txPJgVg5xrKhEzA', 'JRKOJ_kj2J8mHWx1OtQtHw', 'NkIzdCnmVgjy8n-lmPvu4A', 'YjbTLqEGCw8fUIE6w60ibA', 'QQATsQSu3Edc9E-zq6uffg', 'Ni6TE9tcO7opP-camh3rhA', 'PqojXFyDkPNmsazrvFDU3w', 'WI87Y5YZISb6B2IHh-7fow', 'Lx5PJQgIQIOaRb9oduyiUg', 'Op7n-WV-_QW4MfsjijFXNg', '0QCPRkjl5iA8aBYp1ZI50w', '7qFH1RkPivVRcwxLwhyixg', 'EOfeRyqjtX7xEHqksmLcDg', 'DRiVertDBMvZr48NxrodZA', 'XTL3zGKsVwlAXZDaC-EMZA', 'ZodX6xDAn8sMVhOpBHBCAA', 'OpOkDUUNe-XVWMj8AfJihA', 'k_X30ZK0sP_WhHtwsKgsEQ', 'Syh4h9qr2ctA0kFpZ-ttsw', 'dGKiNWQrEZOA5ucWqOW1BA', '9MeTd5xheQtlhkzibyfXwA', '4icUMZJgHrxdL46vjY839g', 'PuR1Gy7qGhipncfVymEQLg', 'fJDydCC5xEBo1YU8_Mrx1g', 'JAKVqs9bTDy-wuSC24NyMw', '0-tkaXo41ikMfReCDvzRlA', '6EKU3go2Lvvlh1cddGPNvg', 'f3gILMBpaW0TyMTg81evkg', 'S9omphw-uSCRZXcN1xcYVQ', 'qwriFUiq7t65ecnFTPWjEg', 'pMaGy3GBETuhvJ6eoBIjQA', 'yp5m7tEeuCO1j4FKzVLiLA', 'xAKG9sWzsdja6ibtt7PzEA', 'W5E7nBDzed4WjUDRUF1lHA', 'PuW1UVwrybZ1p7ZVv4iCiA', 'KKLNFd4sisuRr_0cfmPfYQ', 'iAJ6h2G2GDFYvSa9t8cTWA', 'VI06Hgl9Khp2No6PxxnWTw', 'UjfqPevRVTeupxbu8bfLow', '_9GnNCFBsIG4SbW6UyOXKg', '6_WV9SiwZBqQGaQYJlmaWw', 'AkXsW18UKUF5cI9YNGrRng', 'feq1gymLuO_qibhExqjpKA', 'oqfq49B-hfs4ppJsMdhOQg', '21z6wg4L-SNWE513mCWLWg', 'S0xRx7UbMwCclINn9VukiA', 'zKDOOt3fuMUpD0mt8F_1FA', 'QXlntZivs_I7A8oLhaxWDA', 'iRkI5NR0krys7irWCH_YUw', 'GBHMivwVJgUDj7QCWfp2fw', 'eKOYA5_h_piiiVTNeDWhow', 'p5UpfL_k2rqrhFw7gBSm7g', 'P2yl-VsSevKD5w4Wv3Og6Q', 'rUUMXLWfLKazVyhuORJ-Aw', 'TmjfRyansghVMi0kdYlutQ', 'zzltQbbtriSWWdNINMzJUw', 'B_04YqvzFh0G6YGUkIN2yw', '4-oDmqbZqVwgci_KlS7Z4Q', 'p18SE9cidfmTZ-McsLSV7A', 'ffW2m5hxqch56HX3Wc4eww', 'Vad_bzY9D6mYtwmJpHXEwQ', 'Xh5sUfi-m4IXJzDDL8Revg', 'Ib3uvX42Cjd577MyGWfYzQ', '1ECwa3DNTjZ3Cs-xdsK1Ww', 'rj697oBwiXFbnyNu2qNDlA', 'ibWn-FBDB6xOBGeLyIWpdw', 'dcxWqtOoHN24TyS8CDWXMg', 'LLwYbRaSAK7JCVHzXUNmag', '-o2g_hVnmxB_707ZhSSieg', 'murv52F41wb34D6aSJRyyg', 'hydvat9tDGXVzsBItYmldA', '6ouTlVEaFor2CYLbteJSoQ', 'PMGKh8aX3ByuruDF5Daddg', 'Q9uGxWIkRPGjl0LZPchJMw', 'y0OAeOAkh-KBFt3-lurUMA', 'LtHPAg_Kem7nRpqUtKDaqw', '0OxLLCgSP_Vqj921LPt1Ug', '9LkLvim4kigj9Q06wtsIHQ', 'l7NWGCmWw7YOkdef_mPxgA', 'bqoem1qSrcQCDMo1umuQvg', '9LRR-j8PbhjATOFQRR1hZg', 'hNyoolwPRQ1Z4WgtD-KF4A', 'zMR2rDnAFY-KrK1ZgDa1Tw', 'aqwUHsToWVBhNcQbVkNK9g', 'XPFdg4yXyx--472peBfNBQ', 'BGA45-IXc0tR_rxP8HpNQg', 'qeawczchgp4QQ0XC06o7Sw', 'cKyPWIcbgT63R7ybS4CyIQ', 'RiKBICPiHot5As6r8EiBuA', '7GU9787Bsx0QXiNY_hrpqg', 'T0bsIpeVtlJukN72P1wspA', 'XAvpMmDXAZGcQEUPXvq8Dg', '_-zAEPzgSNdHIhrZopDm9Q', '3l-UD2XE2FcsufPsQYSZUw', 'ax2MkevxSI2W89tqutcYng', 'G5dzRKAPlTt4gGgwa1pc8Q', 'hFywwFjQ4u_e15U0d8nvjQ', 'AbpcRMEFiS1QEZRHXFbirw', '76w2G_fBAGRkW9U6cFdBqQ', 'byakcKMD__XbNL0WmyJGrQ', 'hfdIeYQ2xPcrr1mpwrI8jQ', 'RjONsM1qGAY-SGq55pg1AA', 's1vj9C_86vYZn0rR8YSKdw', 'Dq4fQwCJI0c1hENF3Z151Q', 'pTCx_tNZ8P-CvkBariXasQ', '6lb8D8w5xpRSYtza7PHEOA', 'n_N6sqps7mtLbjFXPsP1ag', 'jcUhJP3nZfMOC4mOPRVxuQ', 'ladSxxdE03XUwkMGQeIX_w', '1aZbcNO64sRk9Q8riZ45bg', 'VhprWDrgaIgl7EnOPF15Xg', 'cydJRxc10Grj_uK-8Mt3iQ', 'PVmNIvJQVYnY1gWrjxptGQ', 'ggddtjuDxAhtdDP02gQ_Ng', 'zGrXSGkt22fOdVvCJNdzww', '566LWD3l1fAWeE0leyXILg', 'gpuClcZ2cnIlag3E-2qftQ', 'bvTxdSgXxPvbw41neWglTQ', 'CSKstFTtUUgu_cye4QIn_g', 'O0a9ajuQyINoJ7zMtvEYWg', 'hLD2pW1KCb5MCk-il1Ju8w', '_Jrxs-gJnRmg3xFH6poXHg', 'ORywWni-yUP2nNjWtONBIA', 'GkawuWZNjAld5FePvvj-Qw', 'NvnbM9QlbtLlHaxM9ZVr5Q', 'RM8X6nYzFzDso7CDkSIaxw', 'NybllrsZId83uIHAuCcwwg', 'qYAoSO5qkT-lHeaVGudrvg', 'dx4eTYfxYgOIyZL1L6_IyA', 'bo8dcZ8T4DCXzzgL6QZwfA', 'Np2Yp-qEk877bh8YLQ736Q', 'DLvYqwsUAff8dkPMiad4vA', 'ItYOJnVe5C2uAe6L3kGr-w', 'RkKIgxRfDndZWyEjWKcpcA', 'Dxxaj8MvAajPVbRPwIdnlw', 'gMauTkyEsh6bZZlSOoHAWA', '4F0wHkgYn0SvssiTrwDgCg', 'aIAmBIadeAvqnoLMDVx5Vg', 'GvevObXKnemQa0W5uI3l_A', 'ENOXi-D1cB7LYizOMqNjRg', 'zZjw9SwWA3P0xgx2i8m-RQ', 'Bsbumyr3Of8BauN2URK4bg', 'KaySstjAcGdUdNSFdxPmlQ', 'RUuabfrD8bcu39N0k000Yg', 'QZjYNEjaUjpOikGB-TiCqQ', 'OLBcBPWAA-uYRAQMjHbR9w', 'ZwLCTEsGOSa6T_0t2krjqA', 'Oigh7geUQoxsJdOFafAnoA', 'JTbth3E8v-9O5l9wrGb8CQ', 'zckk8QghG144nLWLN-v08w', 'sePGaMGG3ShnpaBKPuJ89A', 'ohCGmtahSKYwEAz_N5-2dg', 'DGunOBL29CF8g0v1vp9vBg', 'UPid2PLzGQNJ5QPsJtlK8A', '8VROonanfM3k3XgCXPzQHw', 'J9q9NWEX0R3Yk0ZRaf6R1Q', 'rSeEFqd8g4VKTGvFonNhaw', '0N_wYyg--GbO7xNi99hScQ', 'J07ksusqfV4K6AUbVBEzxA', 'St0tSIUtlusSa8kBNIYd3w', 'FlMDbn8-YZeqoie3IAfzAQ', 'k6qJj4rXbT0iuU6RJxBeVQ', 'obXJmFEAPSWNcEQe7Kkz_w', 'FDEV0Ydkbm7ws0ytBp4cMQ', 'FMhttWw5Es7rvEyFqfR1XA', 'bh6844kIF8PryYWjhDVUDw', 'Fz8yzpNjLGXVx3MM0QgyYg', '6ZJa_FKDdW8yg8eGYEWhzA', 'lRDDSgjtfnJOUKLNKF-mHQ', 'z-qkN3l2h2wcLJEYu8VAUA', '_XeU3F1fK6eyWVtL_IE7VQ'}\n"
          ]
        }
      ],
      "source": [
        "uids = set(mratings_test.user_id.unique())-set(mratings_train.user_id.unique())\n",
        "print(uids)\n",
        "# if there are, put back into training data:\n",
        "temp = mratings_test[mratings_test.user_id.isin(uids)]\n",
        "mratings_train = pd.concat([mratings_train, temp]) # concatenate with train\n",
        "mratings_test = mratings_test[~mratings_test.user_id.isin(uids)] # get rid of those rows from test"
      ]
    },
    {
      "cell_type": "code",
      "execution_count": 71,
      "metadata": {
        "id": "lyzf5fj8IZ4a",
        "colab": {
          "base_uri": "https://localhost:8080/"
        },
        "outputId": "8cf4229f-ae80-44dd-8a64-880356a89f80"
      },
      "outputs": [
        {
          "output_type": "stream",
          "name": "stdout",
          "text": [
            "set()\n"
          ]
        }
      ],
      "source": [
        "mids = set(mratings_test.business_id.unique())-set(mratings_train.business_id.unique())\n",
        "print(mids)\n",
        "# if there are, put back into train:\n",
        "temp = mratings_test[mratings_test.business_id.isin(mids)]\n",
        "mratings_train = pd.concat([mratings_train, temp]) # concatenate with train\n",
        "mratings_test = mratings_test[~mratings_test.business_id.isin(mids)] # get rid of those rows from test"
      ]
    },
    {
      "cell_type": "code",
      "execution_count": 72,
      "metadata": {
        "id": "r9dsrhdGfJF9",
        "colab": {
          "base_uri": "https://localhost:8080/"
        },
        "outputId": "7ddd3e1e-0ef2-4a9a-95a8-454e3a59bcd7"
      },
      "outputs": [
        {
          "output_type": "execute_result",
          "data": {
            "text/plain": [
              "((163963, 4), (14337, 4))"
            ]
          },
          "metadata": {},
          "execution_count": 72
        }
      ],
      "source": [
        "# final shape\n",
        "mratings_train.shape, mratings_test.shape"
      ]
    },
    {
      "cell_type": "code",
      "execution_count": 73,
      "metadata": {
        "id": "86nxYxvhItKU"
      },
      "outputs": [],
      "source": [
        "mratings_canonical = mratings_train.pivot(index = 'user_id', columns = 'business_id', values = 'stars')"
      ]
    },
    {
      "cell_type": "code",
      "execution_count": 74,
      "metadata": {
        "id": "OPDK6OO0I3-1",
        "colab": {
          "base_uri": "https://localhost:8080/",
          "height": 383
        },
        "outputId": "f2cf1ef4-7150-4b7d-c342-813905f420e8"
      },
      "outputs": [
        {
          "output_type": "execute_result",
          "data": {
            "text/plain": [
              "business_id             -1CI4H3DLkI-NdWLbIae6g  -1xuC540Nycht_iWFeJ-dw  \\\n",
              "user_id                                                                  \n",
              "--2PnhMMH7EYoY3wywOvgQ                     0.0                     0.0   \n",
              "--6kLBBsm0GPM9vIB2YBDw                     0.0                     0.0   \n",
              "--8NUFYnpU_Zu09TgcLevw                     0.0                     0.0   \n",
              "--AVaBo8pJHut43HjdWuOA                     0.0                     0.0   \n",
              "--B08Ekk4Y_4KFuF9MWdtw                     0.0                     0.0   \n",
              "\n",
              "business_id             -3Haoc0l9DZRSXxIHi9oJg  -4lgvwr6d8ztCPlCXl-NFA  \\\n",
              "user_id                                                                  \n",
              "--2PnhMMH7EYoY3wywOvgQ                     0.0                     0.0   \n",
              "--6kLBBsm0GPM9vIB2YBDw                     0.0                     0.0   \n",
              "--8NUFYnpU_Zu09TgcLevw                     0.0                     0.0   \n",
              "--AVaBo8pJHut43HjdWuOA                     0.0                     0.0   \n",
              "--B08Ekk4Y_4KFuF9MWdtw                     0.0                     0.0   \n",
              "\n",
              "business_id             -4mowOKV3xGyfgQBh6ey_g  -5IV_IrH5D7hyip2P_w7BA  \\\n",
              "user_id                                                                  \n",
              "--2PnhMMH7EYoY3wywOvgQ                     0.0                     0.0   \n",
              "--6kLBBsm0GPM9vIB2YBDw                     0.0                     0.0   \n",
              "--8NUFYnpU_Zu09TgcLevw                     0.0                     0.0   \n",
              "--AVaBo8pJHut43HjdWuOA                     0.0                     0.0   \n",
              "--B08Ekk4Y_4KFuF9MWdtw                     0.0                     0.0   \n",
              "\n",
              "business_id             -7YM8-nptYNTirnR_nCcPg  -7bRnaHp7OHz8KW-THqP4w  \\\n",
              "user_id                                                                  \n",
              "--2PnhMMH7EYoY3wywOvgQ                     0.0                     0.0   \n",
              "--6kLBBsm0GPM9vIB2YBDw                     0.0                     0.0   \n",
              "--8NUFYnpU_Zu09TgcLevw                     0.0                     0.0   \n",
              "--AVaBo8pJHut43HjdWuOA                     0.0                     0.0   \n",
              "--B08Ekk4Y_4KFuF9MWdtw                     0.0                     0.0   \n",
              "\n",
              "business_id             -8AoSGOdZyDdTpT2oqX3zQ  -8hAGEWRSKtpLZ8e3L2xhA  ...  \\\n",
              "user_id                                                                 ...   \n",
              "--2PnhMMH7EYoY3wywOvgQ                     0.0                     0.0  ...   \n",
              "--6kLBBsm0GPM9vIB2YBDw                     0.0                     0.0  ...   \n",
              "--8NUFYnpU_Zu09TgcLevw                     0.0                     0.0  ...   \n",
              "--AVaBo8pJHut43HjdWuOA                     0.0                     0.0  ...   \n",
              "--B08Ekk4Y_4KFuF9MWdtw                     0.0                     0.0  ...   \n",
              "\n",
              "business_id             zwgVuZcMgijt9k3Jq-2zQQ  zwkif4XLEDqdEwEgTWLIVQ  \\\n",
              "user_id                                                                  \n",
              "--2PnhMMH7EYoY3wywOvgQ                     0.0                     0.0   \n",
              "--6kLBBsm0GPM9vIB2YBDw                     0.0                     0.0   \n",
              "--8NUFYnpU_Zu09TgcLevw                     0.0                     0.0   \n",
              "--AVaBo8pJHut43HjdWuOA                     0.0                     0.0   \n",
              "--B08Ekk4Y_4KFuF9MWdtw                     0.0                     0.0   \n",
              "\n",
              "business_id             zxxemSe137HGuaplXhd23w  zySx88a8wu-mpPIkg5ijcQ  \\\n",
              "user_id                                                                  \n",
              "--2PnhMMH7EYoY3wywOvgQ                     0.0                     0.0   \n",
              "--6kLBBsm0GPM9vIB2YBDw                     0.0                     0.0   \n",
              "--8NUFYnpU_Zu09TgcLevw                     0.0                     0.0   \n",
              "--AVaBo8pJHut43HjdWuOA                     0.0                     0.0   \n",
              "--B08Ekk4Y_4KFuF9MWdtw                     0.0                     0.0   \n",
              "\n",
              "business_id             zyfPzBC4s17UWh6x8olj7w  zyhr9tExYX8myjpJY0F_2Q  \\\n",
              "user_id                                                                  \n",
              "--2PnhMMH7EYoY3wywOvgQ                     0.0                     0.0   \n",
              "--6kLBBsm0GPM9vIB2YBDw                     0.0                     0.0   \n",
              "--8NUFYnpU_Zu09TgcLevw                     0.0                     0.0   \n",
              "--AVaBo8pJHut43HjdWuOA                     0.0                     0.0   \n",
              "--B08Ekk4Y_4KFuF9MWdtw                     0.0                     0.0   \n",
              "\n",
              "business_id             zza5aje9ElBdWOO3Qtfk_Q  zzdJkVrJ8OkZPUxrvLMkYQ  \\\n",
              "user_id                                                                  \n",
              "--2PnhMMH7EYoY3wywOvgQ                     0.0                     0.0   \n",
              "--6kLBBsm0GPM9vIB2YBDw                     0.0                     0.0   \n",
              "--8NUFYnpU_Zu09TgcLevw                     0.0                     0.0   \n",
              "--AVaBo8pJHut43HjdWuOA                     0.0                     0.0   \n",
              "--B08Ekk4Y_4KFuF9MWdtw                     0.0                     0.0   \n",
              "\n",
              "business_id             zzjKekzQ6i4iR-qpo405Pw  zzlZJVkEhOzR2tJOLHcF2A  \n",
              "user_id                                                                 \n",
              "--2PnhMMH7EYoY3wywOvgQ                     0.0                     0.0  \n",
              "--6kLBBsm0GPM9vIB2YBDw                     0.0                     0.0  \n",
              "--8NUFYnpU_Zu09TgcLevw                     0.0                     0.0  \n",
              "--AVaBo8pJHut43HjdWuOA                     0.0                     0.0  \n",
              "--B08Ekk4Y_4KFuF9MWdtw                     0.0                     0.0  \n",
              "\n",
              "[5 rows x 6952 columns]"
            ],
            "text/html": [
              "\n",
              "  <div id=\"df-f84f025e-8394-4fae-a56e-b91c2c3f9860\">\n",
              "    <div class=\"colab-df-container\">\n",
              "      <div>\n",
              "<style scoped>\n",
              "    .dataframe tbody tr th:only-of-type {\n",
              "        vertical-align: middle;\n",
              "    }\n",
              "\n",
              "    .dataframe tbody tr th {\n",
              "        vertical-align: top;\n",
              "    }\n",
              "\n",
              "    .dataframe thead th {\n",
              "        text-align: right;\n",
              "    }\n",
              "</style>\n",
              "<table border=\"1\" class=\"dataframe\">\n",
              "  <thead>\n",
              "    <tr style=\"text-align: right;\">\n",
              "      <th>business_id</th>\n",
              "      <th>-1CI4H3DLkI-NdWLbIae6g</th>\n",
              "      <th>-1xuC540Nycht_iWFeJ-dw</th>\n",
              "      <th>-3Haoc0l9DZRSXxIHi9oJg</th>\n",
              "      <th>-4lgvwr6d8ztCPlCXl-NFA</th>\n",
              "      <th>-4mowOKV3xGyfgQBh6ey_g</th>\n",
              "      <th>-5IV_IrH5D7hyip2P_w7BA</th>\n",
              "      <th>-7YM8-nptYNTirnR_nCcPg</th>\n",
              "      <th>-7bRnaHp7OHz8KW-THqP4w</th>\n",
              "      <th>-8AoSGOdZyDdTpT2oqX3zQ</th>\n",
              "      <th>-8hAGEWRSKtpLZ8e3L2xhA</th>\n",
              "      <th>...</th>\n",
              "      <th>zwgVuZcMgijt9k3Jq-2zQQ</th>\n",
              "      <th>zwkif4XLEDqdEwEgTWLIVQ</th>\n",
              "      <th>zxxemSe137HGuaplXhd23w</th>\n",
              "      <th>zySx88a8wu-mpPIkg5ijcQ</th>\n",
              "      <th>zyfPzBC4s17UWh6x8olj7w</th>\n",
              "      <th>zyhr9tExYX8myjpJY0F_2Q</th>\n",
              "      <th>zza5aje9ElBdWOO3Qtfk_Q</th>\n",
              "      <th>zzdJkVrJ8OkZPUxrvLMkYQ</th>\n",
              "      <th>zzjKekzQ6i4iR-qpo405Pw</th>\n",
              "      <th>zzlZJVkEhOzR2tJOLHcF2A</th>\n",
              "    </tr>\n",
              "    <tr>\n",
              "      <th>user_id</th>\n",
              "      <th></th>\n",
              "      <th></th>\n",
              "      <th></th>\n",
              "      <th></th>\n",
              "      <th></th>\n",
              "      <th></th>\n",
              "      <th></th>\n",
              "      <th></th>\n",
              "      <th></th>\n",
              "      <th></th>\n",
              "      <th></th>\n",
              "      <th></th>\n",
              "      <th></th>\n",
              "      <th></th>\n",
              "      <th></th>\n",
              "      <th></th>\n",
              "      <th></th>\n",
              "      <th></th>\n",
              "      <th></th>\n",
              "      <th></th>\n",
              "      <th></th>\n",
              "    </tr>\n",
              "  </thead>\n",
              "  <tbody>\n",
              "    <tr>\n",
              "      <th>--2PnhMMH7EYoY3wywOvgQ</th>\n",
              "      <td>0.0</td>\n",
              "      <td>0.0</td>\n",
              "      <td>0.0</td>\n",
              "      <td>0.0</td>\n",
              "      <td>0.0</td>\n",
              "      <td>0.0</td>\n",
              "      <td>0.0</td>\n",
              "      <td>0.0</td>\n",
              "      <td>0.0</td>\n",
              "      <td>0.0</td>\n",
              "      <td>...</td>\n",
              "      <td>0.0</td>\n",
              "      <td>0.0</td>\n",
              "      <td>0.0</td>\n",
              "      <td>0.0</td>\n",
              "      <td>0.0</td>\n",
              "      <td>0.0</td>\n",
              "      <td>0.0</td>\n",
              "      <td>0.0</td>\n",
              "      <td>0.0</td>\n",
              "      <td>0.0</td>\n",
              "    </tr>\n",
              "    <tr>\n",
              "      <th>--6kLBBsm0GPM9vIB2YBDw</th>\n",
              "      <td>0.0</td>\n",
              "      <td>0.0</td>\n",
              "      <td>0.0</td>\n",
              "      <td>0.0</td>\n",
              "      <td>0.0</td>\n",
              "      <td>0.0</td>\n",
              "      <td>0.0</td>\n",
              "      <td>0.0</td>\n",
              "      <td>0.0</td>\n",
              "      <td>0.0</td>\n",
              "      <td>...</td>\n",
              "      <td>0.0</td>\n",
              "      <td>0.0</td>\n",
              "      <td>0.0</td>\n",
              "      <td>0.0</td>\n",
              "      <td>0.0</td>\n",
              "      <td>0.0</td>\n",
              "      <td>0.0</td>\n",
              "      <td>0.0</td>\n",
              "      <td>0.0</td>\n",
              "      <td>0.0</td>\n",
              "    </tr>\n",
              "    <tr>\n",
              "      <th>--8NUFYnpU_Zu09TgcLevw</th>\n",
              "      <td>0.0</td>\n",
              "      <td>0.0</td>\n",
              "      <td>0.0</td>\n",
              "      <td>0.0</td>\n",
              "      <td>0.0</td>\n",
              "      <td>0.0</td>\n",
              "      <td>0.0</td>\n",
              "      <td>0.0</td>\n",
              "      <td>0.0</td>\n",
              "      <td>0.0</td>\n",
              "      <td>...</td>\n",
              "      <td>0.0</td>\n",
              "      <td>0.0</td>\n",
              "      <td>0.0</td>\n",
              "      <td>0.0</td>\n",
              "      <td>0.0</td>\n",
              "      <td>0.0</td>\n",
              "      <td>0.0</td>\n",
              "      <td>0.0</td>\n",
              "      <td>0.0</td>\n",
              "      <td>0.0</td>\n",
              "    </tr>\n",
              "    <tr>\n",
              "      <th>--AVaBo8pJHut43HjdWuOA</th>\n",
              "      <td>0.0</td>\n",
              "      <td>0.0</td>\n",
              "      <td>0.0</td>\n",
              "      <td>0.0</td>\n",
              "      <td>0.0</td>\n",
              "      <td>0.0</td>\n",
              "      <td>0.0</td>\n",
              "      <td>0.0</td>\n",
              "      <td>0.0</td>\n",
              "      <td>0.0</td>\n",
              "      <td>...</td>\n",
              "      <td>0.0</td>\n",
              "      <td>0.0</td>\n",
              "      <td>0.0</td>\n",
              "      <td>0.0</td>\n",
              "      <td>0.0</td>\n",
              "      <td>0.0</td>\n",
              "      <td>0.0</td>\n",
              "      <td>0.0</td>\n",
              "      <td>0.0</td>\n",
              "      <td>0.0</td>\n",
              "    </tr>\n",
              "    <tr>\n",
              "      <th>--B08Ekk4Y_4KFuF9MWdtw</th>\n",
              "      <td>0.0</td>\n",
              "      <td>0.0</td>\n",
              "      <td>0.0</td>\n",
              "      <td>0.0</td>\n",
              "      <td>0.0</td>\n",
              "      <td>0.0</td>\n",
              "      <td>0.0</td>\n",
              "      <td>0.0</td>\n",
              "      <td>0.0</td>\n",
              "      <td>0.0</td>\n",
              "      <td>...</td>\n",
              "      <td>0.0</td>\n",
              "      <td>0.0</td>\n",
              "      <td>0.0</td>\n",
              "      <td>0.0</td>\n",
              "      <td>0.0</td>\n",
              "      <td>0.0</td>\n",
              "      <td>0.0</td>\n",
              "      <td>0.0</td>\n",
              "      <td>0.0</td>\n",
              "      <td>0.0</td>\n",
              "    </tr>\n",
              "  </tbody>\n",
              "</table>\n",
              "<p>5 rows × 6952 columns</p>\n",
              "</div>\n",
              "      <button class=\"colab-df-convert\" onclick=\"convertToInteractive('df-f84f025e-8394-4fae-a56e-b91c2c3f9860')\"\n",
              "              title=\"Convert this dataframe to an interactive table.\"\n",
              "              style=\"display:none;\">\n",
              "        \n",
              "  <svg xmlns=\"http://www.w3.org/2000/svg\" height=\"24px\"viewBox=\"0 0 24 24\"\n",
              "       width=\"24px\">\n",
              "    <path d=\"M0 0h24v24H0V0z\" fill=\"none\"/>\n",
              "    <path d=\"M18.56 5.44l.94 2.06.94-2.06 2.06-.94-2.06-.94-.94-2.06-.94 2.06-2.06.94zm-11 1L8.5 8.5l.94-2.06 2.06-.94-2.06-.94L8.5 2.5l-.94 2.06-2.06.94zm10 10l.94 2.06.94-2.06 2.06-.94-2.06-.94-.94-2.06-.94 2.06-2.06.94z\"/><path d=\"M17.41 7.96l-1.37-1.37c-.4-.4-.92-.59-1.43-.59-.52 0-1.04.2-1.43.59L10.3 9.45l-7.72 7.72c-.78.78-.78 2.05 0 2.83L4 21.41c.39.39.9.59 1.41.59.51 0 1.02-.2 1.41-.59l7.78-7.78 2.81-2.81c.8-.78.8-2.07 0-2.86zM5.41 20L4 18.59l7.72-7.72 1.47 1.35L5.41 20z\"/>\n",
              "  </svg>\n",
              "      </button>\n",
              "      \n",
              "  <style>\n",
              "    .colab-df-container {\n",
              "      display:flex;\n",
              "      flex-wrap:wrap;\n",
              "      gap: 12px;\n",
              "    }\n",
              "\n",
              "    .colab-df-convert {\n",
              "      background-color: #E8F0FE;\n",
              "      border: none;\n",
              "      border-radius: 50%;\n",
              "      cursor: pointer;\n",
              "      display: none;\n",
              "      fill: #1967D2;\n",
              "      height: 32px;\n",
              "      padding: 0 0 0 0;\n",
              "      width: 32px;\n",
              "    }\n",
              "\n",
              "    .colab-df-convert:hover {\n",
              "      background-color: #E2EBFA;\n",
              "      box-shadow: 0px 1px 2px rgba(60, 64, 67, 0.3), 0px 1px 3px 1px rgba(60, 64, 67, 0.15);\n",
              "      fill: #174EA6;\n",
              "    }\n",
              "\n",
              "    [theme=dark] .colab-df-convert {\n",
              "      background-color: #3B4455;\n",
              "      fill: #D2E3FC;\n",
              "    }\n",
              "\n",
              "    [theme=dark] .colab-df-convert:hover {\n",
              "      background-color: #434B5C;\n",
              "      box-shadow: 0px 1px 3px 1px rgba(0, 0, 0, 0.15);\n",
              "      filter: drop-shadow(0px 1px 2px rgba(0, 0, 0, 0.3));\n",
              "      fill: #FFFFFF;\n",
              "    }\n",
              "  </style>\n",
              "\n",
              "      <script>\n",
              "        const buttonEl =\n",
              "          document.querySelector('#df-f84f025e-8394-4fae-a56e-b91c2c3f9860 button.colab-df-convert');\n",
              "        buttonEl.style.display =\n",
              "          google.colab.kernel.accessAllowed ? 'block' : 'none';\n",
              "\n",
              "        async function convertToInteractive(key) {\n",
              "          const element = document.querySelector('#df-f84f025e-8394-4fae-a56e-b91c2c3f9860');\n",
              "          const dataTable =\n",
              "            await google.colab.kernel.invokeFunction('convertToInteractive',\n",
              "                                                     [key], {});\n",
              "          if (!dataTable) return;\n",
              "\n",
              "          const docLinkHtml = 'Like what you see? Visit the ' +\n",
              "            '<a target=\"_blank\" href=https://colab.research.google.com/notebooks/data_table.ipynb>data table notebook</a>'\n",
              "            + ' to learn more about interactive tables.';\n",
              "          element.innerHTML = '';\n",
              "          dataTable['output_type'] = 'display_data';\n",
              "          await google.colab.output.renderOutput(dataTable, element);\n",
              "          const docLink = document.createElement('div');\n",
              "          docLink.innerHTML = docLinkHtml;\n",
              "          element.appendChild(docLink);\n",
              "        }\n",
              "      </script>\n",
              "    </div>\n",
              "  </div>\n",
              "  "
            ]
          },
          "metadata": {},
          "execution_count": 74
        }
      ],
      "source": [
        "# compute user demeaned ratings matrix\n",
        "user_means = mratings_canonical.mean(axis = 1) # create user means, store here, need later \n",
        "\n",
        "mratings_canonical = mratings_canonical.sub(user_means, axis = 0)\n",
        "# fill in missing values\n",
        "\n",
        "mratings_canonical.fillna(0, inplace = True)\n",
        "# preview dataset\n",
        "mratings_canonical.head()"
      ]
    },
    {
      "cell_type": "code",
      "execution_count": 75,
      "metadata": {
        "id": "LMFKVnEdJB-7"
      },
      "outputs": [],
      "source": [
        "l = 50 # run for larger latent dimensions\n",
        "U, sigma, Vt = svds(mratings_canonical, k = l) "
      ]
    },
    {
      "cell_type": "code",
      "execution_count": 76,
      "metadata": {
        "id": "W4VGs8g4JEFG"
      },
      "outputs": [],
      "source": [
        "# Make prediction\n",
        "predicted_ratings = predict_ratings(U, sigma, Vt, user_means)\n",
        "predicted_ratings = pd.DataFrame(predicted_ratings, columns = mratings_canonical.columns)\n",
        "predicted_ratings.index=mratings_canonical.index"
      ]
    },
    {
      "cell_type": "code",
      "execution_count": null,
      "metadata": {
        "id": "aRHmOyuuJGS3"
      },
      "outputs": [],
      "source": [
        "predicted_ratings_stack = predicted_ratings.stack().reset_index()\n",
        "predicted_ratings_stack.columns = ['user_id', 'business_id', 'predicted_rating']\n",
        "predicted_ratings_stack.head()"
      ]
    },
    {
      "cell_type": "code",
      "execution_count": null,
      "metadata": {
        "id": "Sblh-WFrJS9X"
      },
      "outputs": [],
      "source": [
        "mratings_test = mratings_test.merge(predicted_ratings_stack, how = 'left', on = ['business_id', 'user_id'])\n",
        "mratings_test.head()"
      ]
    },
    {
      "cell_type": "code",
      "execution_count": null,
      "metadata": {
        "id": "3doZpX83JYBZ"
      },
      "outputs": [],
      "source": [
        "mratings_test[['stars', 'predicted_rating']].corr()"
      ]
    },
    {
      "cell_type": "code",
      "execution_count": null,
      "metadata": {
        "id": "chnZrvRYJlMR"
      },
      "outputs": [],
      "source": [
        "mratings_test['error'] = mratings_test.predicted_rating-mratings_test.stars\n",
        "mse = (mratings_test.error @ mratings_test.error)/len(mratings_test) # sum of squares = dot produt of vector with itself\n",
        "print(mse) # avg squared error"
      ]
    },
    {
      "cell_type": "code",
      "execution_count": null,
      "metadata": {
        "id": "vn5DnVkQOnlk"
      },
      "outputs": [],
      "source": [
        "np.random.seed(1)\n",
        "folds = 10 # let's do 10 folds\n",
        "mratings['fold'] = np.random.randint(0,folds, len(mratings)) # randomly assign group 0-9, inclusive, to each observations"
      ]
    },
    {
      "cell_type": "code",
      "execution_count": null,
      "metadata": {
        "id": "244xSRXtPLzD"
      },
      "outputs": [],
      "source": [
        "# copy paste from previous work inside of loop\n",
        "MSE = list()\n",
        "for l in range(5,51, 5): # from 5 to 50 in increments of 5\n",
        "    mselist = list()\n",
        "    for f in list(range(folds)):\n",
        "        # define train/test split\n",
        "        mratings_train = mratings[mratings.fold!= f] # training is all other samples\n",
        "        mratings_test = mratings[mratings.fold == f] # testing is the current fold\n",
        "\n",
        "        # there should not be uid's in test that are not in train\n",
        "        uids = set(mratings_test.user_id.unique())-set(mratings_train.user_id.unique())\n",
        "        # if there are, put back into trai:\n",
        "        temp = mratings_test[mratings_test.user_id.isin(uids)]\n",
        "        mratings_train = pd.concat([mratings_train, temp]) # concatenate with train\n",
        "        mratings_test = mratings_test[~mratings_test.user_id.isin(uids)] # get rid of those rows from test\n",
        "\n",
        "        # there should not be business ID's in test that are not in train\n",
        "        mids = set(mratings_test.business_id.unique())-set(mratings_train.business_id.unique())\n",
        "        # if there are, put back into train:\n",
        "        temp = mratings_test[mratings_test.business_id.isin(mids)]\n",
        "        mratings_train = pd.concat([mratings_train, temp]) # concatenate with train\n",
        "        mratings_test = mratings_test[~mratings_test.business_id.isin(mids)] # get rid of those rows from test\n",
        "\n",
        "        # make canonical form again\n",
        "        mratings_canonical = mratings_train.pivot(index = 'user_id', columns = 'business_id', values = 'stars')\n",
        "        \n",
        "        # compute user demeaned ratings matrix\n",
        "        user_means = mratings_canonical.mean(axis = 1) # create user means, store here, need later \n",
        "        mratings_canonical = mratings_canonical.sub(user_means, axis = 0)\n",
        "        \n",
        "        # fill in missing values\n",
        "        mratings_canonical.fillna(0, inplace = True)\n",
        "\n",
        "        # SVD\n",
        "        U, sigma, Vt = svds(mratings_canonical, k = l) \n",
        "\n",
        "        # Make prediction\n",
        "        predicted_ratings = predict_ratings(U, sigma, Vt, user_means)\n",
        "        predicted_ratings = pd.DataFrame(predicted_ratings, columns = mratings_canonical.columns)\n",
        "        predicted_ratings.index=mratings_canonical.index\n",
        "\n",
        "        # unpivot this prediction (stack) dataframe\n",
        "        predicted_ratings_stack = predicted_ratings.stack().reset_index()\n",
        "        predicted_ratings_stack.columns = ['user_id', 'business_id', 'pred_rating']\n",
        "        \n",
        "        # merge with test data\n",
        "        mratings_test = mratings_test.merge(predicted_ratings_stack, how = 'left', on = ['user_id', 'business_id'])\n",
        "\n",
        "        # compute MSE\n",
        "        mratings_test['error'] = mratings_test.pred_rating-mratings_test.stars\n",
        "        mse = (mratings_test.error @ mratings_test.error)/len(mratings_test) # sum of squares = dot produt of vector with itself\n",
        "        \n",
        "\n",
        "        # Store MSE\n",
        "        mselist.append(mse)\n",
        "    MSE.append([l, np.mean(mselist)]) # append l, mselist to MSE \n",
        "    print('l: {}, MSE: {:.4f}'.format(l,np.mean(mselist))) \n",
        "MSE = pd.DataFrame(MSE, columns = ['l', 'mse']) # convert to pandas df for easy manipulation"
      ]
    },
    {
      "cell_type": "code",
      "execution_count": null,
      "metadata": {
        "id": "ojruAp5wDqDE"
      },
      "outputs": [],
      "source": [
        "np.mean(mselist)"
      ]
    },
    {
      "cell_type": "code",
      "execution_count": null,
      "metadata": {
        "id": "g7TmkVxzFRGw"
      },
      "outputs": [],
      "source": [
        "plt.scatter(MSE.l, MSE.mse) # looks like 10 is best"
      ]
    },
    {
      "cell_type": "markdown",
      "metadata": {
        "id": "OB1-3-Riiy1a"
      },
      "source": [
        "# 3. Evaluate best out of sample fitting CF model\n",
        "\n",
        "1. Using the optimal number of latent factors. Re-run the SVD algorithm on a train / test split where roughly 10% of the data is used for testing.\n",
        "    1. What is the out of sample correlation between predicted and actual ratings?\n",
        "\n",
        "\n"
      ]
    },
    {
      "cell_type": "code",
      "execution_count": null,
      "metadata": {
        "id": "Y0kxAD2lCMF9"
      },
      "outputs": [],
      "source": [
        "#These segments do not run because it always crashed my session, please let me know how you fixed it.\n",
        "\n",
        "dfpivot1 = dfsample.pivot(index='user_id',columns='business_id',values='stars')\n",
        "user_means1 = dfpivot1.mean(axis = 1)\n",
        "dfpivot1 = dfpivot1.sub(user_means1, axis = 0)"
      ]
    },
    {
      "cell_type": "code",
      "execution_count": null,
      "metadata": {
        "id": "P5lxlPb4DFce"
      },
      "outputs": [],
      "source": [
        "# copy paste from previous work inside of loop\n",
        "MSE = list()\n",
        "for l in range(5,51, 5): # from 5 to 50 in increments of 5\n",
        "    mselist = list()\n",
        "    for f in list(range(folds)):\n",
        "        # define train/test split\n",
        "        mratings_train = mratings[mratings.fold!= f] # training is all other samples\n",
        "        mratings_test = mratings[mratings.fold == f] # testing is the current fold\n",
        "\n",
        "        # there should not be uid's in test that are not in train\n",
        "        uids = set(mratings_test.user_id.unique())-set(mratings_train.user_id.unique())\n",
        "        # if there are, put back into trai:\n",
        "        temp = mratings_test[mratings_test.user_id.isin(uids)]\n",
        "        mratings_train = pd.concat([mratings_train, temp]) # concatenate with train\n",
        "        mratings_test = mratings_test[~mratings_test.user_id.isin(uids)] # get rid of those rows from test\n",
        "\n",
        "        # there should not be business ID's in test that are not in train\n",
        "        mids = set(mratings_test.business_id.unique())-set(mratings_train.business_id.unique())\n",
        "        # if there are, put back into train:\n",
        "        temp = mratings_test[mratings_test.business_id.isin(mids)]\n",
        "        mratings_train = pd.concat([mratings_train, temp]) # concatenate with train\n",
        "        mratings_test = mratings_test[~mratings_test.business_id.isin(mids)] # get rid of those rows from test\n",
        "\n",
        "        # make canonical form again\n",
        "        mratings_canonical = mratings_train.pivot(index = 'user_id', columns = 'business_id', values = 'stars')\n",
        "        \n",
        "        # compute user demeaned ratings matrix\n",
        "        user_means = mratings_canonical.mean(axis = 1) # create user means, store here, need later \n",
        "        mratings_canonical = mratings_canonical.sub(user_means, axis = 0)\n",
        "        \n",
        "        # fill in missing values\n",
        "        mratings_canonical.fillna(0, inplace = True)\n",
        "\n",
        "        # SVD\n",
        "        U, sigma, Vt = svds(mratings_canonical, k = l) \n",
        "\n",
        "        # Make prediction\n",
        "        predicted_ratings = predict_ratings(U, sigma, Vt, user_means)\n",
        "        predicted_ratings = pd.DataFrame(predicted_ratings, columns = mratings_canonical.columns)\n",
        "        predicted_ratings.index=mratings_canonical.index\n",
        "\n",
        "        # unpivot this prediction (stack) dataframe\n",
        "        predicted_ratings_stack = predicted_ratings.stack().reset_index()\n",
        "        predicted_ratings_stack.columns = ['user_id', 'business_id', 'pred_rating']\n",
        "        \n",
        "        # merge with test data\n",
        "        mratings_test = mratings_test.merge(predicted_ratings_stack, how = 'left', on = ['user_id', 'business_id'])\n",
        "\n",
        "        # compute MSE\n",
        "        mratings_test['error'] = mratings_test.pred_rating-mratings_test.stars\n",
        "        mse = (mratings_test.error @ mratings_test.error)/len(mratings_test) # sum of squares = dot produt of vector with itself\n",
        "        \n",
        "\n",
        "        # Store MSE\n",
        "        mselist.append(mse)\n",
        "    MSE.append([l, np.mean(mselist)]) # append l, mselist to MSE \n",
        "    print('l: {}, MSE: {:.4f}'.format(l,np.mean(mselist))) \n",
        "MSE = pd.DataFrame(MSE, columns = ['l', 'mse']) # convert to pandas df for easy manipulation"
      ]
    },
    {
      "cell_type": "code",
      "execution_count": null,
      "metadata": {
        "id": "jzhvmaf01UEd"
      },
      "outputs": [],
      "source": [
        "mratings_test[['stars', 'pred_rating']].corr()"
      ]
    },
    {
      "cell_type": "markdown",
      "metadata": {
        "id": "tUmyPtyECB7L"
      },
      "source": [
        "2. Run the SVD again, this time on the whole dataset (the dataframe you made after the min review criteria from problem 1 has been applied).\n"
      ]
    },
    {
      "cell_type": "code",
      "source": [
        "dfpivot = dfp.pivot(index='user_id',columns='business_id',values='stars')\n",
        "dfpivot.head(2)\n",
        "user_means = dfpivot.mean(axis = 1)"
      ],
      "metadata": {
        "id": "IS3kw50yAZji"
      },
      "execution_count": null,
      "outputs": []
    },
    {
      "cell_type": "code",
      "source": [
        "dfpivot = dfpivot.sub(user_means, axis = 0)\n",
        "#dfpivot.fillna(0, inplace = True)\n",
        "dfpivot.head(2)"
      ],
      "metadata": {
        "id": "JyAev1RvAnge"
      },
      "execution_count": null,
      "outputs": []
    },
    {
      "cell_type": "code",
      "execution_count": null,
      "metadata": {
        "id": "FTyk4mY3CBpO"
      },
      "outputs": [],
      "source": [
        "# copy paste from previous work inside of loop\n",
        "MSE = list()\n",
        "for l in range(5,51, 5): # from 5 to 50 in increments of 5\n",
        "    mselist = list()\n",
        "    for f in list(range(folds)):\n",
        "        # define train/test split\n",
        "        mratings_train = mratings[mratings.fold!= f] # training is all other samples\n",
        "        mratings_test = mratings[mratings.fold == f] # testing is the current fold\n",
        "\n",
        "        # there should not be uid's in test that are not in train\n",
        "        uids = set(mratings_test.user_id.unique())-set(mratings_train.user_id.unique())\n",
        "        # if there are, put back into trai:\n",
        "        temp = mratings_test[mratings_test.user_id.isin(uids)]\n",
        "        mratings_train = pd.concat([mratings_train, temp]) # concatenate with train\n",
        "        mratings_test = mratings_test[~mratings_test.user_id.isin(uids)] # get rid of those rows from test\n",
        "\n",
        "        # there should not be business ID's in test that are not in train\n",
        "        mids = set(mratings_test.business_id.unique())-set(mratings_train.business_id.unique())\n",
        "        # if there are, put back into train:\n",
        "        temp = mratings_test[mratings_test.business_id.isin(mids)]\n",
        "        mratings_train = pd.concat([mratings_train, temp]) # concatenate with train\n",
        "        mratings_test = mratings_test[~mratings_test.business_id.isin(mids)] # get rid of those rows from test\n",
        "\n",
        "        # make canonical form again\n",
        "        mratings_canonical = mratings_train.pivot(index = 'user_id', columns = 'business_id', values = 'stars')\n",
        "        \n",
        "        # compute user demeaned ratings matrix\n",
        "        user_means = mratings_canonical.mean(axis = 1) # create user means, store here, need later \n",
        "        mratings_canonical = mratings_canonical.sub(user_means, axis = 0)\n",
        "        \n",
        "        # fill in missing values\n",
        "        mratings_canonical.fillna(0, inplace = True)\n",
        "\n",
        "        # SVD\n",
        "        U, sigma, Vt = svds(mratings_canonical, k = l) \n",
        "\n",
        "        # Make prediction\n",
        "        predicted_ratings = predict_ratings(U, sigma, Vt, user_means)\n",
        "        predicted_ratings = pd.DataFrame(predicted_ratings, columns = mratings_canonical.columns)\n",
        "        predicted_ratings.index=mratings_canonical.index\n",
        "\n",
        "        # unpivot this prediction (stack) dataframe\n",
        "        predicted_ratings_stack = predicted_ratings.stack().reset_index()\n",
        "        predicted_ratings_stack.columns = ['user_id', 'business_id', 'pred_rating']\n",
        "        \n",
        "        # merge with test data\n",
        "        mratings_test = mratings_test.merge(predicted_ratings_stack, how = 'left', on = ['user_id', 'business_id'])\n",
        "\n",
        "        # compute MSE\n",
        "        mratings_test['error'] = mratings_test.pred_rating-mratings_test.stars\n",
        "        mse = (mratings_test.error @ mratings_test.error)/len(mratings_test) # sum of squares = dot produt of vector with itself\n",
        "        \n",
        "\n",
        "        # Store MSE\n",
        "        mselist.append(mse)\n",
        "    MSE.append([l, np.mean(mselist)]) # append l, mselist to MSE \n",
        "    print('l: {}, MSE: {:.4f}'.format(l,np.mean(mselist))) \n",
        "MSE = pd.DataFrame(MSE, columns = ['l', 'mse']) # convert to pandas df for easy manipulation"
      ]
    },
    {
      "cell_type": "markdown",
      "metadata": {
        "id": "9mdVmezE5ifB"
      },
      "source": [
        " 3. Pick 2 random **restaurants** and look at the 5 most similar ones to each based on latent factor Cosine similarity. Use the Yelp Biz data or Google/Yelp search to help you figure out some background about the focal and similar businesses. For example, are they similar styles? Similar ratings? Similar location? Similar price range?"
      ]
    },
    {
      "cell_type": "code",
      "execution_count": null,
      "metadata": {
        "id": "XT6077Lu5egF"
      },
      "outputs": [],
      "source": [
        "businessdist = pd.DataFrame(pairwise_distances(np.array(itemvalues[['l1', 'l2']]), metric = 'cosine'))\n",
        "businessdist.index = itemvalues.business_id # replace the indices with business titles (correct order)\n",
        "businessdist.columns = itemvalues.business_id # replace the columns with business titles (correct order)\n",
        "businessim = 2-businessdist\n",
        "businessim = businessim.drop_duplicates()\n",
        "businessim = businessim.loc[:,~businessim.columns.duplicated()]"
      ]
    },
    {
      "cell_type": "markdown",
      "source": [
        "We are going to try the first one being \"Maison Saunt Paul\""
      ],
      "metadata": {
        "id": "zQfR05UTpwIX"
      }
    },
    {
      "cell_type": "code",
      "source": [
        "businesss = '9rT_Zr_A2qYmLaHpSi6eqw'\n",
        "businessim[business].sort_values(ascending = False).head(6)"
      ],
      "metadata": {
        "id": "dY-GOlhQlifg"
      },
      "execution_count": null,
      "outputs": []
    },
    {
      "cell_type": "markdown",
      "source": [
        "The closests in terms of similarity are:\n",
        "\n",
        "\n",
        "1. E0ZBxYiCbmkTe3W0CxxEbw - Restaurant Santa Lucia\n",
        "2. 3f0-EXRF0oy6NDsFh9TJKA - GaNaDaRa\n",
        "3. GXNtumhUuOjCCgcE38LfVA - Sparkles Confections\n",
        "4. 7_p1nwMwanMbz_u3u8-6gw - Chocolats Favoris\n",
        "5. 9305Mb-osQjTO3shBj92qg - Angela\n",
        "\n",
        "\n",
        "They offer different types of cuisine and different types of pricetags. However, They are both in the same area of Montreal Canada\n",
        "\n",
        "https://www.yelp.com/biz/chocolats-favoris-montr%C3%A9al        \n",
        "https://www.yelp.com/biz/ganadara-montr%C3%A9al                  \n",
        "https://www.yelp.com/biz/maison-saint-paul-montr%C3%A9al         \n",
        "https://www.yelp.ca/biz/sparkles-confections-montr%C3%A9al"
      ],
      "metadata": {
        "id": "uYjbCoR-qVLM"
      }
    },
    {
      "cell_type": "markdown",
      "source": [
        "We are going to try the second one being \"Kem CoBa\""
      ],
      "metadata": {
        "id": "0MZZUtJRtWMt"
      }
    },
    {
      "cell_type": "code",
      "source": [
        "business2 = '0EnXIr4UQTemA0R2hlyR8g'\n",
        "businessim[business2].sort_values(ascending = False).head(7)"
      ],
      "metadata": {
        "id": "5YUXuZVioYVZ"
      },
      "execution_count": null,
      "outputs": []
    },
    {
      "cell_type": "markdown",
      "source": [
        "The closest ones in terms of similarity are: https://www.yelp.com/biz/kem-coba-montr%C3%A9al-2\n",
        "\n",
        "1. CHK0yz0HKCIvcIxb72bUtQ - Zigzagzoo https://www.yelp.com/biz/zigzagzoo-vaudreuil-dorion\n",
        "2. 7Ad_P9x3aR09-xjecCuKbw - Le BrÃ»loir\n",
        "3. t7R-p3dhGV78dSARAFKEOA - Mandy's\n",
        "4. Vp8Dkam_Hv204Or0hul1NQ - Dev Restaurant http://www.restaurantdev.ca/?lang=fr\n",
        "5. xDJ8Cfn9AaGODE0hhsXBwQ - Le BiÃ¨rologue\n",
        "\n",
        "We have the same relationship here, they are all located in Montreal, Canada but they also have a similar pricetag, they all seem to be cheap restaurants"
      ],
      "metadata": {
        "id": "k6Bfi2CFtS9W"
      }
    },
    {
      "cell_type": "markdown",
      "metadata": {
        "id": "TP7nPmoC5pmo"
      },
      "source": [
        "4. Choose a random individual and make 10 predictions for the user. Any intuition linked to their previous rating history? (again consult Yelp/Google/biz dataset for previously reviewed venues' characteristics)"
      ]
    },
    {
      "cell_type": "code",
      "execution_count": null,
      "metadata": {
        "id": "EN4gLuh75ecX"
      },
      "outputs": [],
      "source": [
        "predicted_ratings = predict_ratings(U, sigma, Vt, user_means)\n",
        "predicted_ratings = pd.DataFrame(predicted_ratings, columns = dfpivot.columns)\n",
        "predicted_ratings.index=dfpivot.index"
      ]
    },
    {
      "cell_type": "code",
      "source": [
        "itemvalues[itemvalues.cluster==3].head(5)"
      ],
      "metadata": {
        "id": "PSvtHjqbx53f"
      },
      "execution_count": null,
      "outputs": []
    },
    {
      "cell_type": "code",
      "source": [
        "u = 'qKpkRCPk4ycbllTfFcRbNw' # userId Might change depending on the sample, I always just take the first value out of {itemvalues[itemvalues.cluster==3]}\n",
        "watched = list(df6.loc[df6.user_id==u, 'business_id'].unique())\n",
        "print('Already Been to : {}'.format(len(watched)))"
      ],
      "metadata": {
        "id": "gVPpVLC8xkga"
      },
      "execution_count": null,
      "outputs": []
    },
    {
      "cell_type": "code",
      "source": [
        "recs = get_ratings(predicted_ratings,u, exclude = watched, top = 10).reset_index()\n",
        "recs"
      ],
      "metadata": {
        "id": "aKiJVAXbwyQk"
      },
      "execution_count": null,
      "outputs": []
    },
    {
      "cell_type": "markdown",
      "source": [
        "The 10 predictions are the following:\n",
        "\n",
        "1. -1xuC540Nycht_iWFeJ-dw - Romados \n",
        "2. elj15ZOSk7EvHxy21V_jNw - Invitation V\n",
        "3. eUA8vJUOcjDpID3fIFZ3fw - Les Menus-Plaisirs\n",
        "4. eUI230JcFZLajIcDd9SDpQ - Apple Store\n",
        "5. eXyZTXyayzQKkAQm_vIuXQ - Pho Rachel\n",
        "6. eZhk_ambeSVX1OOjHDilbQ - B.cycle Spin Studio\n",
        "7. e_dC3v_kcvn4XtjcOysJxA - Glace des Arts\n",
        "8. eargTRIm9QK2Og4y3qouYQ - Le PÃ©chÃ© Matinal\n",
        "9. ecid5p4yhTEJbWEJTuzX3Q - Chef Guru\n",
        "10. eehnof3F4vRB8ydbRvd_zA - Smart Burger\n",
        "\n",
        "It appears as the trend keeps trailing into this observation as most of these restaurants kept out in Montreal Canada. However, although some of these places are not restaurants, they are all high quality places and places that are expensive. The Apple store ,Chef Guru and Invitation V being an example."
      ],
      "metadata": {
        "id": "u8PdXugPzTOb"
      }
    },
    {
      "cell_type": "markdown",
      "metadata": {
        "id": "dske96pV5sW5"
      },
      "source": [
        "\n",
        "# Make some conclusions about the performance of this business recommmender built on Yelp reviews. Does it work well? If so, point to evidence of this. If not, what might be holding it back (besides collecting more reviews)?"
      ]
    },
    {
      "cell_type": "markdown",
      "source": [
        "As we can see from the experiments up top, the recommender does give out the proper results but there is still work to be done. \n",
        "\n",
        "We can see how it gives recommendations based on similar business_id but it does not say why is it similar. It does not seem to permit which attributes to look similarly (location, WIFI, Pets, cuisine, rating), it just shows you other businesses with similarities. We can see above how we have the Apple store matched with a Spin Studio.\n",
        "\n",
        "To improve this, we could make more cleansing into the dataset to see what attributes are most likely to relate with the rating (quality, price, service). Another aspect is what type of business it is. The apple store and a restaurant are completely different so another column that matches the business type would enhance this experience."
      ],
      "metadata": {
        "id": "wtniN0IS9YaQ"
      }
    }
  ],
  "metadata": {
    "accelerator": "TPU",
    "colab": {
      "collapsed_sections": [],
      "name": "Pablo Escoto A12-Predictive Analytics.ipynb",
      "provenance": [],
      "include_colab_link": true
    },
    "kernelspec": {
      "display_name": "Python 3",
      "name": "python3"
    }
  },
  "nbformat": 4,
  "nbformat_minor": 0
}