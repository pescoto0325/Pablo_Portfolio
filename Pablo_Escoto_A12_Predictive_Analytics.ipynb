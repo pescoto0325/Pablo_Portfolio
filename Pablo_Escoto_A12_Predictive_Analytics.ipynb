{
  "cells": [
    {
      "cell_type": "markdown",
      "metadata": {
        "id": "view-in-github",
        "colab_type": "text"
      },
      "source": [
        "<a href=\"https://colab.research.google.com/github/pescoto0325/Pablo_Portfolio/blob/main/Pablo_Escoto_A12_Predictive_Analytics.ipynb\" target=\"_parent\"><img src=\"https://colab.research.google.com/assets/colab-badge.svg\" alt=\"Open In Colab\"/></a>"
      ]
    },
    {
      "cell_type": "markdown",
      "metadata": {
        "id": "-Q9SCIBgOlcA"
      },
      "source": [
        "**Rationale** In this exercise, you will get some hands on experience at building a product recommender system using collaborative filtering. In particular, we will implement Singular Value Decomposition.\n",
        "\n",
        "In this script, we will build a venue (mostly restaurant) recommender system based on users' Yelp reviews.\n",
        "\n",
        "**Note this dataset is slightly different compared to previous Yelp data**\\\n",
        "[Dataset](https://drive.google.com/drive/folders/1AqwmO8XJhn_i9AnZfcfu-sgzN96V7zVS?usp=sharing): Use review data for the heavy lifting, business data supplements (merge in when needed). "
      ]
    },
    {
      "cell_type": "markdown",
      "metadata": {
        "id": "_I0oA52Kyt6F"
      },
      "source": [
        "# 1. Pre-processing\n",
        "\n",
        "1. Read in the Quebec Yelp Reviews Dataset + business datasets as df and df_biz, respectively. Specify the index_col = 0 option when reading in.  Be sure to reset and drop the index after reading in.\n",
        "1. Find all users who have written **50** or more reviews. Call this list `uids`\n",
        "    1. Review data visualization assignment for hint (where you selected only popular categories for Rent the Runway).\n",
        "1. Find all businesses that have received **25** or more reviews. Call this list `bids`\n",
        "1. Filter the reviews data to only include reviews written by users belong to `uids` and for the businesses belong to `bids`.\n",
        "1. Drop duplicates on `user_id` and `business_id` so that you only have 1 review for 1 business for each user."
      ]
    },
    {
      "cell_type": "code",
      "execution_count": 1,
      "metadata": {
        "id": "jbveEC-acRsw"
      },
      "outputs": [],
      "source": [
        "import pandas as pd, numpy as np\n",
        "import matplotlib.pyplot as plt\n",
        "from scipy.sparse.linalg import svds\n",
        "from sklearn.metrics import pairwise_distances"
      ]
    },
    {
      "cell_type": "code",
      "execution_count": 2,
      "metadata": {
        "colab": {
          "base_uri": "https://localhost:8080/"
        },
        "id": "0zekXpYdskQx",
        "outputId": "1c43e28a-f1fb-4cc2-aca0-4c351212e25c"
      },
      "outputs": [
        {
          "output_type": "stream",
          "name": "stdout",
          "text": [
            "Mounted at /content/drive\n"
          ]
        }
      ],
      "source": [
        "from google.colab import drive\n",
        "drive.mount('/content/drive')"
      ]
    },
    {
      "cell_type": "code",
      "execution_count": 3,
      "metadata": {
        "colab": {
          "base_uri": "https://localhost:8080/"
        },
        "id": "26a7pvIuBIRH",
        "outputId": "966a3adb-742a-47a7-f954-5d029c5ef7a8"
      },
      "outputs": [
        {
          "output_type": "stream",
          "name": "stdout",
          "text": [
            "Looking in indexes: https://pypi.org/simple, https://us-python.pkg.dev/colab-wheels/public/simple/\n",
            "Collecting hdbscan\n",
            "  Downloading hdbscan-0.8.28.tar.gz (5.2 MB)\n",
            "\u001b[K     |████████████████████████████████| 5.2 MB 6.6 MB/s \n",
            "\u001b[?25h  Installing build dependencies ... \u001b[?25l\u001b[?25hdone\n",
            "  Getting requirements to build wheel ... \u001b[?25l\u001b[?25hdone\n",
            "    Preparing wheel metadata ... \u001b[?25l\u001b[?25hdone\n",
            "Requirement already satisfied: scipy>=1.0 in /usr/local/lib/python3.7/dist-packages (from hdbscan) (1.7.3)\n",
            "Requirement already satisfied: numpy>=1.20 in /usr/local/lib/python3.7/dist-packages (from hdbscan) (1.21.6)\n",
            "Requirement already satisfied: scikit-learn>=0.20 in /usr/local/lib/python3.7/dist-packages (from hdbscan) (1.0.2)\n",
            "Requirement already satisfied: joblib>=1.0 in /usr/local/lib/python3.7/dist-packages (from hdbscan) (1.1.0)\n",
            "Requirement already satisfied: cython>=0.27 in /usr/local/lib/python3.7/dist-packages (from hdbscan) (0.29.31)\n",
            "Requirement already satisfied: threadpoolctl>=2.0.0 in /usr/local/lib/python3.7/dist-packages (from scikit-learn>=0.20->hdbscan) (3.1.0)\n",
            "Building wheels for collected packages: hdbscan\n",
            "  Building wheel for hdbscan (PEP 517) ... \u001b[?25l\u001b[?25hcanceled\n",
            "\u001b[31mERROR: Operation cancelled by user\u001b[0m\n",
            "Traceback (most recent call last):\n",
            "  File \"/usr/local/bin/pip3\", line 8, in <module>\n",
            "    sys.exit(main())\n",
            "  File \"/usr/local/lib/python3.7/dist-packages/pip/_internal/cli/main.py\", line 71, in main\n",
            "    return command.main(cmd_args)\n",
            "  File \"/usr/local/lib/python3.7/dist-packages/pip/_internal/cli/base_command.py\", line 104, in main\n",
            "    return self._main(args)\n",
            "  File \"/usr/lib/python3.7/contextlib.py\", line 119, in __exit__\n",
            "    next(self.gen)\n",
            "  File \"/usr/local/lib/python3.7/dist-packages/pip/_internal/cli/command_context.py\", line 22, in main_context\n",
            "    yield\n",
            "  File \"/usr/lib/python3.7/contextlib.py\", line 524, in __exit__\n",
            "    raise exc_details[1]\n",
            "  File \"/usr/lib/python3.7/contextlib.py\", line 130, in __exit__\n",
            "    self.gen.throw(type, value, traceback)\n",
            "  File \"/usr/local/lib/python3.7/dist-packages/pip/_internal/utils/temp_dir.py\", line 75, in tempdir_registry\n",
            "    yield _tempdir_registry\n",
            "  File \"/usr/lib/python3.7/contextlib.py\", line 509, in __exit__\n",
            "    if cb(*exc_details):\n",
            "  File \"/usr/lib/python3.7/contextlib.py\", line 377, in _exit_wrapper\n",
            "    return cm_exit(cm, exc_type, exc, tb)\n",
            "  File \"/usr/local/lib/python3.7/dist-packages/pip/_vendor/requests/sessions.py\", line 428, in __exit__\n",
            "    self.close()\n",
            "  File \"/usr/local/lib/python3.7/dist-packages/pip/_vendor/requests/sessions.py\", line 747, in close\n",
            "    v.close()\n",
            "  File \"/usr/local/lib/python3.7/dist-packages/pip/_vendor/cachecontrol/adapter.py\", line 133, in close\n",
            "    super(CacheControlAdapter, self).close()\n",
            "  File \"/usr/local/lib/python3.7/dist-packages/pip/_vendor/requests/adapters.py\", line 325, in close\n",
            "    self.poolmanager.clear()\n",
            "  File \"/usr/local/lib/python3.7/dist-packages/pip/_vendor/urllib3/poolmanager.py\", line 222, in clear\n",
            "    self.pools.clear()\n",
            "  File \"/usr/local/lib/python3.7/dist-packages/pip/_vendor/urllib3/_collections.py\", line 100, in clear\n",
            "    self.dispose_func(value)\n",
            "  File \"/usr/local/lib/python3.7/dist-packages/pip/_vendor/urllib3/poolmanager.py\", line 173, in <lambda>\n",
            "    self.pools = RecentlyUsedContainer(num_pools, dispose_func=lambda p: p.close())\n",
            "  File \"/usr/local/lib/python3.7/dist-packages/pip/_vendor/urllib3/connectionpool.py\", line 491, in close\n",
            "    if conn:\n",
            "KeyboardInterrupt\n"
          ]
        }
      ],
      "source": [
        "! pip install hdbscan"
      ]
    },
    {
      "cell_type": "code",
      "execution_count": 4,
      "metadata": {
        "id": "umVcpbFuBv6O"
      },
      "outputs": [],
      "source": [
        "dfp = pd.read_csv(\"/content/drive/MyDrive/Copy of quebec_yelp_reviews.csv\", index_col = 0,engine='python',skip_blank_lines=True)\n",
        "df_biz = pd.read_csv(\"/content/drive/MyDrive/Copy of quebec_biz.csv\",skip_blank_lines=True)\n"
      ]
    },
    {
      "cell_type": "code",
      "execution_count": 5,
      "metadata": {
        "colab": {
          "base_uri": "https://localhost:8080/"
        },
        "id": "Qp-tDibTs7ob",
        "outputId": "a5d06775-0b8d-4cc5-a3b1-f59ff91a9408"
      },
      "outputs": [
        {
          "output_type": "execute_result",
          "data": {
            "text/plain": [
              "(208166, 22)"
            ]
          },
          "metadata": {},
          "execution_count": 5
        }
      ],
      "source": [
        "dfp.head(2)\n",
        "dfp.shape"
      ]
    },
    {
      "cell_type": "code",
      "execution_count": 6,
      "metadata": {
        "colab": {
          "base_uri": "https://localhost:8080/"
        },
        "id": "SfuDmBUDtObB",
        "outputId": "7838910e-4b2b-4407-fa74-8396b293252c"
      },
      "outputs": [
        {
          "output_type": "execute_result",
          "data": {
            "text/plain": [
              "(10233, 15)"
            ]
          },
          "metadata": {},
          "execution_count": 6
        }
      ],
      "source": [
        "df_biz.shape"
      ]
    },
    {
      "cell_type": "code",
      "execution_count": 7,
      "metadata": {
        "id": "5BLwiDfQswoT"
      },
      "outputs": [],
      "source": [
        "df = dfp.dropna()\n",
        "df_biz = df_biz.dropna()"
      ]
    },
    {
      "cell_type": "code",
      "execution_count": 8,
      "metadata": {
        "colab": {
          "base_uri": "https://localhost:8080/"
        },
        "id": "7DJimoOrEE7a",
        "outputId": "377e1b0b-3a75-4608-e5a9-42a483f67921"
      },
      "outputs": [
        {
          "output_type": "execute_result",
          "data": {
            "text/plain": [
              "(181725, 22)"
            ]
          },
          "metadata": {},
          "execution_count": 8
        }
      ],
      "source": [
        "df.head(2)\n",
        "df.shape"
      ]
    },
    {
      "cell_type": "code",
      "execution_count": 9,
      "metadata": {
        "colab": {
          "base_uri": "https://localhost:8080/"
        },
        "id": "Bm8lWTBqtXNk",
        "outputId": "a0505b2e-b278-4775-d9eb-abf364444c53"
      },
      "outputs": [
        {
          "output_type": "execute_result",
          "data": {
            "text/plain": [
              "(6952, 15)"
            ]
          },
          "metadata": {},
          "execution_count": 9
        }
      ],
      "source": [
        "df_biz.shape"
      ]
    },
    {
      "cell_type": "code",
      "execution_count": 10,
      "metadata": {
        "colab": {
          "base_uri": "https://localhost:8080/"
        },
        "id": "tYgrosAJxnnW",
        "outputId": "72a9c5a3-5723-4984-eb08-a6db20e645d6"
      },
      "outputs": [
        {
          "output_type": "execute_result",
          "data": {
            "text/plain": [
              "(181725, 22)"
            ]
          },
          "metadata": {},
          "execution_count": 10
        }
      ],
      "source": [
        "df.head(2)\n",
        "df.shape"
      ]
    },
    {
      "cell_type": "code",
      "execution_count": 11,
      "metadata": {
        "id": "2XsRIB_UZH3C"
      },
      "outputs": [],
      "source": [
        "movies = df[['business_id','user_id','stars']]"
      ]
    },
    {
      "cell_type": "code",
      "execution_count": 12,
      "metadata": {
        "colab": {
          "base_uri": "https://localhost:8080/"
        },
        "id": "hxHaT-eWbcaO",
        "outputId": "ac425abc-eb89-4490-cc99-7d7e9ddf9468"
      },
      "outputs": [
        {
          "output_type": "stream",
          "name": "stderr",
          "text": [
            "/usr/local/lib/python3.7/dist-packages/pandas/util/_decorators.py:311: SettingWithCopyWarning: \n",
            "A value is trying to be set on a copy of a slice from a DataFrame\n",
            "\n",
            "See the caveats in the documentation: https://pandas.pydata.org/pandas-docs/stable/user_guide/indexing.html#returning-a-view-versus-a-copy\n",
            "  return func(*args, **kwargs)\n"
          ]
        }
      ],
      "source": [
        "mratings = df[['business_id','user_id','stars','date']]\n",
        "\n",
        "mratings.drop_duplicates(['user_id', 'business_id'],inplace = True)"
      ]
    },
    {
      "cell_type": "code",
      "execution_count": 13,
      "metadata": {
        "colab": {
          "base_uri": "https://localhost:8080/"
        },
        "id": "F7ishdMlEE0T",
        "outputId": "864fafbf-b597-4726-92ab-01af44a3b17a"
      },
      "outputs": [
        {
          "output_type": "stream",
          "name": "stderr",
          "text": [
            "/usr/local/lib/python3.7/dist-packages/ipykernel_launcher.py:1: FutureWarning: Indexing with multiple keys (implicitly converted to a tuple of keys) will be deprecated, use a list instead.\n",
            "  \"\"\"Entry point for launching an IPython kernel.\n"
          ]
        }
      ],
      "source": [
        "nl = df.groupby('user_id')['business_id','review_id','stars'].count().reset_index()\n",
        "stemp = nl.sort_values(by='review_id',ascending=False)\n",
        "new = nl[nl['review_id'] > 49]\n",
        "uids = new['user_id']"
      ]
    },
    {
      "cell_type": "code",
      "execution_count": 14,
      "metadata": {
        "colab": {
          "base_uri": "https://localhost:8080/"
        },
        "id": "2f5Y4fj71b7W",
        "outputId": "bbf83904-6015-41a1-fc55-4700c87f9793"
      },
      "outputs": [
        {
          "output_type": "stream",
          "name": "stderr",
          "text": [
            "/usr/local/lib/python3.7/dist-packages/ipykernel_launcher.py:1: FutureWarning: Indexing with multiple keys (implicitly converted to a tuple of keys) will be deprecated, use a list instead.\n",
            "  \"\"\"Entry point for launching an IPython kernel.\n"
          ]
        },
        {
          "output_type": "execute_result",
          "data": {
            "text/plain": [
              "1       -1xuC540Nycht_iWFeJ-dw\n",
              "2       -3Haoc0l9DZRSXxIHi9oJg\n",
              "9       -8hAGEWRSKtpLZ8e3L2xhA\n",
              "10      -92cC6-X87HQ1DE1UHOx3w\n",
              "21      -HsqnPAz374YSoyFDyjl3A\n",
              "                 ...          \n",
              "6931    zrnP9HqoF-RI9jqoW8pytA\n",
              "6932    zsMMlOYtXm8SNy0bl1leBA\n",
              "6940    zw4Legbcu018p5WcZ74iWA\n",
              "6943    zwkif4XLEDqdEwEgTWLIVQ\n",
              "6951    zzlZJVkEhOzR2tJOLHcF2A\n",
              "Name: business_id, Length: 1690, dtype: object"
            ]
          },
          "metadata": {},
          "execution_count": 14
        }
      ],
      "source": [
        "nl2 = df.groupby('business_id')['user_id','review_id','stars'].count().reset_index()\n",
        "stemp2 = nl2.sort_values(by='review_id',ascending=False)\n",
        "new2 = nl2[nl2['review_id'] > 24]\n",
        "bids = new2['business_id']\n",
        "bids"
      ]
    },
    {
      "cell_type": "code",
      "execution_count": 16,
      "metadata": {
        "id": "suP62MWt3-Zz"
      },
      "outputs": [],
      "source": [
        "df2 = df.copy()\n",
        "df3 = df2[df2['user_id'].isin(uids)] \n",
        "df4 = df3[df3['business_id'].isin(bids)]"
      ]
    },
    {
      "cell_type": "code",
      "execution_count": 17,
      "metadata": {
        "id": "-molcmk5R7v8"
      },
      "outputs": [],
      "source": [
        "df6 = df4.drop_duplicates(subset=['user_id','business_id'])"
      ]
    },
    {
      "cell_type": "code",
      "execution_count": 18,
      "metadata": {
        "colab": {
          "base_uri": "https://localhost:8080/"
        },
        "id": "vrsuvrVGApA7",
        "outputId": "9db96735-40fe-48db-880e-4f4fc1d59462"
      },
      "outputs": [
        {
          "output_type": "execute_result",
          "data": {
            "text/plain": [
              "(22627, 22)"
            ]
          },
          "metadata": {},
          "execution_count": 18
        }
      ],
      "source": [
        "df6.shape\n"
      ]
    },
    {
      "cell_type": "code",
      "source": [
        "df6 = df6.sample(frac=0.5)\n",
        "#Using 50% of the data to prevent them from crashing"
      ],
      "metadata": {
        "id": "jGkGf9-f7VRJ"
      },
      "execution_count": 19,
      "outputs": []
    },
    {
      "cell_type": "code",
      "source": [
        "df6.shape"
      ],
      "metadata": {
        "colab": {
          "base_uri": "https://localhost:8080/"
        },
        "id": "0xOwleLJeBwZ",
        "outputId": "34be33ff-5939-4939-970c-7698f72d25be"
      },
      "execution_count": 20,
      "outputs": [
        {
          "output_type": "execute_result",
          "data": {
            "text/plain": [
              "(11314, 22)"
            ]
          },
          "metadata": {},
          "execution_count": 20
        }
      ]
    },
    {
      "cell_type": "code",
      "execution_count": 21,
      "metadata": {
        "id": "_dcx4LQqCXlK"
      },
      "outputs": [],
      "source": [
        "dfsample = df6.sample(frac=0.1)"
      ]
    },
    {
      "cell_type": "markdown",
      "source": [
        "df6.columns()"
      ],
      "metadata": {
        "id": "88NR9aTMcKa4"
      }
    },
    {
      "cell_type": "markdown",
      "metadata": {
        "id": "4zs1RQq6cRC6"
      },
      "source": [
        "# 2. SVD based Collaborative Filtering\n",
        "\n",
        "Run a k-fold cross validated latent factor selection on the SVD based collaborative filtering.\n",
        "\n",
        "1. Run a cross-validated latent factor search for 1-20 factors with each iteration having 10-folds. Refer to notes for module.\n",
        "1. Produce the latent dimension vs. MSE plot. How many latent factors appear to yield the best out of sample prediction fit?\n"
      ]
    },
    {
      "cell_type": "code",
      "execution_count": 22,
      "metadata": {
        "colab": {
          "base_uri": "https://localhost:8080/",
          "height": 254
        },
        "id": "Ny6WQxGMiymL",
        "outputId": "ad227bd5-85a3-411c-b496-6ace992d30bd"
      },
      "outputs": [
        {
          "output_type": "execute_result",
          "data": {
            "text/plain": [
              "business_id             -1xuC540Nycht_iWFeJ-dw  -3Haoc0l9DZRSXxIHi9oJg  \\\n",
              "user_id                                                                  \n",
              "-5ohKzWWOzAG1M1OtcoPgQ                     NaN                     NaN   \n",
              "-8nmj3B-tfY_vFiimtBOsw                     NaN                     NaN   \n",
              "\n",
              "business_id             -8hAGEWRSKtpLZ8e3L2xhA  -92cC6-X87HQ1DE1UHOx3w  \\\n",
              "user_id                                                                  \n",
              "-5ohKzWWOzAG1M1OtcoPgQ                     NaN                     NaN   \n",
              "-8nmj3B-tfY_vFiimtBOsw                     NaN                     NaN   \n",
              "\n",
              "business_id             -HsqnPAz374YSoyFDyjl3A  -Levln3VcfeXS4iHt5ct9A  \\\n",
              "user_id                                                                  \n",
              "-5ohKzWWOzAG1M1OtcoPgQ                     4.0                     NaN   \n",
              "-8nmj3B-tfY_vFiimtBOsw                     NaN                     NaN   \n",
              "\n",
              "business_id             -MwaICRwxaUi0JBfad2Y3Q  -Mz3M0g6iFZczs6a7ddf5g  \\\n",
              "user_id                                                                  \n",
              "-5ohKzWWOzAG1M1OtcoPgQ                     NaN                     NaN   \n",
              "-8nmj3B-tfY_vFiimtBOsw                     NaN                     NaN   \n",
              "\n",
              "business_id             -NIpCMONu69292q9Itiipg  -OhQws_Si3YOYDfm6DilxA  ...  \\\n",
              "user_id                                                                 ...   \n",
              "-5ohKzWWOzAG1M1OtcoPgQ                     NaN                     NaN  ...   \n",
              "-8nmj3B-tfY_vFiimtBOsw                     NaN                     NaN  ...   \n",
              "\n",
              "business_id             zWVSNGmW2O1iN7PEViyK5A  zktCQRlDtF6XmOpqKBz1mA  \\\n",
              "user_id                                                                  \n",
              "-5ohKzWWOzAG1M1OtcoPgQ                     NaN                     NaN   \n",
              "-8nmj3B-tfY_vFiimtBOsw                     NaN                     NaN   \n",
              "\n",
              "business_id             zmQyE-gIUpwBCMmTFFRbJw  zpw5S3QwUse1MH-Eerbnaw  \\\n",
              "user_id                                                                  \n",
              "-5ohKzWWOzAG1M1OtcoPgQ                     NaN                     NaN   \n",
              "-8nmj3B-tfY_vFiimtBOsw                     NaN                     NaN   \n",
              "\n",
              "business_id             zr2wA55AskfBJxrvUeDZRA  zrnP9HqoF-RI9jqoW8pytA  \\\n",
              "user_id                                                                  \n",
              "-5ohKzWWOzAG1M1OtcoPgQ                     NaN                     NaN   \n",
              "-8nmj3B-tfY_vFiimtBOsw                     NaN                     NaN   \n",
              "\n",
              "business_id             zsMMlOYtXm8SNy0bl1leBA  zw4Legbcu018p5WcZ74iWA  \\\n",
              "user_id                                                                  \n",
              "-5ohKzWWOzAG1M1OtcoPgQ                     NaN                     NaN   \n",
              "-8nmj3B-tfY_vFiimtBOsw                     NaN                     NaN   \n",
              "\n",
              "business_id             zwkif4XLEDqdEwEgTWLIVQ  zzlZJVkEhOzR2tJOLHcF2A  \n",
              "user_id                                                                 \n",
              "-5ohKzWWOzAG1M1OtcoPgQ                     NaN                     NaN  \n",
              "-8nmj3B-tfY_vFiimtBOsw                     NaN                     NaN  \n",
              "\n",
              "[2 rows x 1619 columns]"
            ],
            "text/html": [
              "\n",
              "  <div id=\"df-e9ab64de-5f1e-4b1e-affd-10a58b1e9648\">\n",
              "    <div class=\"colab-df-container\">\n",
              "      <div>\n",
              "<style scoped>\n",
              "    .dataframe tbody tr th:only-of-type {\n",
              "        vertical-align: middle;\n",
              "    }\n",
              "\n",
              "    .dataframe tbody tr th {\n",
              "        vertical-align: top;\n",
              "    }\n",
              "\n",
              "    .dataframe thead th {\n",
              "        text-align: right;\n",
              "    }\n",
              "</style>\n",
              "<table border=\"1\" class=\"dataframe\">\n",
              "  <thead>\n",
              "    <tr style=\"text-align: right;\">\n",
              "      <th>business_id</th>\n",
              "      <th>-1xuC540Nycht_iWFeJ-dw</th>\n",
              "      <th>-3Haoc0l9DZRSXxIHi9oJg</th>\n",
              "      <th>-8hAGEWRSKtpLZ8e3L2xhA</th>\n",
              "      <th>-92cC6-X87HQ1DE1UHOx3w</th>\n",
              "      <th>-HsqnPAz374YSoyFDyjl3A</th>\n",
              "      <th>-Levln3VcfeXS4iHt5ct9A</th>\n",
              "      <th>-MwaICRwxaUi0JBfad2Y3Q</th>\n",
              "      <th>-Mz3M0g6iFZczs6a7ddf5g</th>\n",
              "      <th>-NIpCMONu69292q9Itiipg</th>\n",
              "      <th>-OhQws_Si3YOYDfm6DilxA</th>\n",
              "      <th>...</th>\n",
              "      <th>zWVSNGmW2O1iN7PEViyK5A</th>\n",
              "      <th>zktCQRlDtF6XmOpqKBz1mA</th>\n",
              "      <th>zmQyE-gIUpwBCMmTFFRbJw</th>\n",
              "      <th>zpw5S3QwUse1MH-Eerbnaw</th>\n",
              "      <th>zr2wA55AskfBJxrvUeDZRA</th>\n",
              "      <th>zrnP9HqoF-RI9jqoW8pytA</th>\n",
              "      <th>zsMMlOYtXm8SNy0bl1leBA</th>\n",
              "      <th>zw4Legbcu018p5WcZ74iWA</th>\n",
              "      <th>zwkif4XLEDqdEwEgTWLIVQ</th>\n",
              "      <th>zzlZJVkEhOzR2tJOLHcF2A</th>\n",
              "    </tr>\n",
              "    <tr>\n",
              "      <th>user_id</th>\n",
              "      <th></th>\n",
              "      <th></th>\n",
              "      <th></th>\n",
              "      <th></th>\n",
              "      <th></th>\n",
              "      <th></th>\n",
              "      <th></th>\n",
              "      <th></th>\n",
              "      <th></th>\n",
              "      <th></th>\n",
              "      <th></th>\n",
              "      <th></th>\n",
              "      <th></th>\n",
              "      <th></th>\n",
              "      <th></th>\n",
              "      <th></th>\n",
              "      <th></th>\n",
              "      <th></th>\n",
              "      <th></th>\n",
              "      <th></th>\n",
              "      <th></th>\n",
              "    </tr>\n",
              "  </thead>\n",
              "  <tbody>\n",
              "    <tr>\n",
              "      <th>-5ohKzWWOzAG1M1OtcoPgQ</th>\n",
              "      <td>NaN</td>\n",
              "      <td>NaN</td>\n",
              "      <td>NaN</td>\n",
              "      <td>NaN</td>\n",
              "      <td>4.0</td>\n",
              "      <td>NaN</td>\n",
              "      <td>NaN</td>\n",
              "      <td>NaN</td>\n",
              "      <td>NaN</td>\n",
              "      <td>NaN</td>\n",
              "      <td>...</td>\n",
              "      <td>NaN</td>\n",
              "      <td>NaN</td>\n",
              "      <td>NaN</td>\n",
              "      <td>NaN</td>\n",
              "      <td>NaN</td>\n",
              "      <td>NaN</td>\n",
              "      <td>NaN</td>\n",
              "      <td>NaN</td>\n",
              "      <td>NaN</td>\n",
              "      <td>NaN</td>\n",
              "    </tr>\n",
              "    <tr>\n",
              "      <th>-8nmj3B-tfY_vFiimtBOsw</th>\n",
              "      <td>NaN</td>\n",
              "      <td>NaN</td>\n",
              "      <td>NaN</td>\n",
              "      <td>NaN</td>\n",
              "      <td>NaN</td>\n",
              "      <td>NaN</td>\n",
              "      <td>NaN</td>\n",
              "      <td>NaN</td>\n",
              "      <td>NaN</td>\n",
              "      <td>NaN</td>\n",
              "      <td>...</td>\n",
              "      <td>NaN</td>\n",
              "      <td>NaN</td>\n",
              "      <td>NaN</td>\n",
              "      <td>NaN</td>\n",
              "      <td>NaN</td>\n",
              "      <td>NaN</td>\n",
              "      <td>NaN</td>\n",
              "      <td>NaN</td>\n",
              "      <td>NaN</td>\n",
              "      <td>NaN</td>\n",
              "    </tr>\n",
              "  </tbody>\n",
              "</table>\n",
              "<p>2 rows × 1619 columns</p>\n",
              "</div>\n",
              "      <button class=\"colab-df-convert\" onclick=\"convertToInteractive('df-e9ab64de-5f1e-4b1e-affd-10a58b1e9648')\"\n",
              "              title=\"Convert this dataframe to an interactive table.\"\n",
              "              style=\"display:none;\">\n",
              "        \n",
              "  <svg xmlns=\"http://www.w3.org/2000/svg\" height=\"24px\"viewBox=\"0 0 24 24\"\n",
              "       width=\"24px\">\n",
              "    <path d=\"M0 0h24v24H0V0z\" fill=\"none\"/>\n",
              "    <path d=\"M18.56 5.44l.94 2.06.94-2.06 2.06-.94-2.06-.94-.94-2.06-.94 2.06-2.06.94zm-11 1L8.5 8.5l.94-2.06 2.06-.94-2.06-.94L8.5 2.5l-.94 2.06-2.06.94zm10 10l.94 2.06.94-2.06 2.06-.94-2.06-.94-.94-2.06-.94 2.06-2.06.94z\"/><path d=\"M17.41 7.96l-1.37-1.37c-.4-.4-.92-.59-1.43-.59-.52 0-1.04.2-1.43.59L10.3 9.45l-7.72 7.72c-.78.78-.78 2.05 0 2.83L4 21.41c.39.39.9.59 1.41.59.51 0 1.02-.2 1.41-.59l7.78-7.78 2.81-2.81c.8-.78.8-2.07 0-2.86zM5.41 20L4 18.59l7.72-7.72 1.47 1.35L5.41 20z\"/>\n",
              "  </svg>\n",
              "      </button>\n",
              "      \n",
              "  <style>\n",
              "    .colab-df-container {\n",
              "      display:flex;\n",
              "      flex-wrap:wrap;\n",
              "      gap: 12px;\n",
              "    }\n",
              "\n",
              "    .colab-df-convert {\n",
              "      background-color: #E8F0FE;\n",
              "      border: none;\n",
              "      border-radius: 50%;\n",
              "      cursor: pointer;\n",
              "      display: none;\n",
              "      fill: #1967D2;\n",
              "      height: 32px;\n",
              "      padding: 0 0 0 0;\n",
              "      width: 32px;\n",
              "    }\n",
              "\n",
              "    .colab-df-convert:hover {\n",
              "      background-color: #E2EBFA;\n",
              "      box-shadow: 0px 1px 2px rgba(60, 64, 67, 0.3), 0px 1px 3px 1px rgba(60, 64, 67, 0.15);\n",
              "      fill: #174EA6;\n",
              "    }\n",
              "\n",
              "    [theme=dark] .colab-df-convert {\n",
              "      background-color: #3B4455;\n",
              "      fill: #D2E3FC;\n",
              "    }\n",
              "\n",
              "    [theme=dark] .colab-df-convert:hover {\n",
              "      background-color: #434B5C;\n",
              "      box-shadow: 0px 1px 3px 1px rgba(0, 0, 0, 0.15);\n",
              "      filter: drop-shadow(0px 1px 2px rgba(0, 0, 0, 0.3));\n",
              "      fill: #FFFFFF;\n",
              "    }\n",
              "  </style>\n",
              "\n",
              "      <script>\n",
              "        const buttonEl =\n",
              "          document.querySelector('#df-e9ab64de-5f1e-4b1e-affd-10a58b1e9648 button.colab-df-convert');\n",
              "        buttonEl.style.display =\n",
              "          google.colab.kernel.accessAllowed ? 'block' : 'none';\n",
              "\n",
              "        async function convertToInteractive(key) {\n",
              "          const element = document.querySelector('#df-e9ab64de-5f1e-4b1e-affd-10a58b1e9648');\n",
              "          const dataTable =\n",
              "            await google.colab.kernel.invokeFunction('convertToInteractive',\n",
              "                                                     [key], {});\n",
              "          if (!dataTable) return;\n",
              "\n",
              "          const docLinkHtml = 'Like what you see? Visit the ' +\n",
              "            '<a target=\"_blank\" href=https://colab.research.google.com/notebooks/data_table.ipynb>data table notebook</a>'\n",
              "            + ' to learn more about interactive tables.';\n",
              "          element.innerHTML = '';\n",
              "          dataTable['output_type'] = 'display_data';\n",
              "          await google.colab.output.renderOutput(dataTable, element);\n",
              "          const docLink = document.createElement('div');\n",
              "          docLink.innerHTML = docLinkHtml;\n",
              "          element.appendChild(docLink);\n",
              "        }\n",
              "      </script>\n",
              "    </div>\n",
              "  </div>\n",
              "  "
            ]
          },
          "metadata": {},
          "execution_count": 22
        }
      ],
      "source": [
        "dfpivot = df6.pivot(index='user_id',columns='business_id',values='stars')\n",
        "dfpivot.head(2)"
      ]
    },
    {
      "cell_type": "code",
      "execution_count": 24,
      "metadata": {
        "id": "gixSCQg5Sj2a",
        "colab": {
          "base_uri": "https://localhost:8080/"
        },
        "outputId": "db4ed4e2-2e1b-49f7-b038-7ee5e6b0290a"
      },
      "outputs": [
        {
          "output_type": "execute_result",
          "data": {
            "text/plain": [
              "user_id\n",
              "-5ohKzWWOzAG1M1OtcoPgQ    3.947368\n",
              "-8nmj3B-tfY_vFiimtBOsw    4.083333\n",
              "-9b4s874f_CnznTu4JorRg    4.142857\n",
              "-KpEgEen1tj-jdjIS7uVOw    3.941176\n",
              "-NwDw6HgVpA4ys6WYcI6Xg    3.900000\n",
              "                            ...   \n",
              "ygjIo5gLQ8wmsOcTDiHG2Q    3.764706\n",
              "yphnJ8zYbJF7Y3QbtMj91g    3.965517\n",
              "zIOxNinC6ofIwwGjO9rUWg    3.680851\n",
              "zyg4-MFtfPWmwucVazSjfw    2.944444\n",
              "zzKsgIF472IyDpJxmHDIpw    3.333333\n",
              "Length: 339, dtype: float64"
            ]
          },
          "metadata": {},
          "execution_count": 24
        }
      ],
      "source": [
        "user_means = dfpivot.mean(axis = 1)\n",
        "user_means"
      ]
    },
    {
      "cell_type": "code",
      "execution_count": 25,
      "metadata": {
        "id": "FHzS27Mut5mP",
        "colab": {
          "base_uri": "https://localhost:8080/",
          "height": 254
        },
        "outputId": "42a77b27-26c8-462c-bb43-c3f4039f8e5c"
      },
      "outputs": [
        {
          "output_type": "execute_result",
          "data": {
            "text/plain": [
              "business_id             -1xuC540Nycht_iWFeJ-dw  -3Haoc0l9DZRSXxIHi9oJg  \\\n",
              "user_id                                                                  \n",
              "-5ohKzWWOzAG1M1OtcoPgQ                     NaN                     NaN   \n",
              "-8nmj3B-tfY_vFiimtBOsw                     NaN                     NaN   \n",
              "\n",
              "business_id             -8hAGEWRSKtpLZ8e3L2xhA  -92cC6-X87HQ1DE1UHOx3w  \\\n",
              "user_id                                                                  \n",
              "-5ohKzWWOzAG1M1OtcoPgQ                     NaN                     NaN   \n",
              "-8nmj3B-tfY_vFiimtBOsw                     NaN                     NaN   \n",
              "\n",
              "business_id             -HsqnPAz374YSoyFDyjl3A  -Levln3VcfeXS4iHt5ct9A  \\\n",
              "user_id                                                                  \n",
              "-5ohKzWWOzAG1M1OtcoPgQ                0.052632                     NaN   \n",
              "-8nmj3B-tfY_vFiimtBOsw                     NaN                     NaN   \n",
              "\n",
              "business_id             -MwaICRwxaUi0JBfad2Y3Q  -Mz3M0g6iFZczs6a7ddf5g  \\\n",
              "user_id                                                                  \n",
              "-5ohKzWWOzAG1M1OtcoPgQ                     NaN                     NaN   \n",
              "-8nmj3B-tfY_vFiimtBOsw                     NaN                     NaN   \n",
              "\n",
              "business_id             -NIpCMONu69292q9Itiipg  -OhQws_Si3YOYDfm6DilxA  ...  \\\n",
              "user_id                                                                 ...   \n",
              "-5ohKzWWOzAG1M1OtcoPgQ                     NaN                     NaN  ...   \n",
              "-8nmj3B-tfY_vFiimtBOsw                     NaN                     NaN  ...   \n",
              "\n",
              "business_id             zWVSNGmW2O1iN7PEViyK5A  zktCQRlDtF6XmOpqKBz1mA  \\\n",
              "user_id                                                                  \n",
              "-5ohKzWWOzAG1M1OtcoPgQ                     NaN                     NaN   \n",
              "-8nmj3B-tfY_vFiimtBOsw                     NaN                     NaN   \n",
              "\n",
              "business_id             zmQyE-gIUpwBCMmTFFRbJw  zpw5S3QwUse1MH-Eerbnaw  \\\n",
              "user_id                                                                  \n",
              "-5ohKzWWOzAG1M1OtcoPgQ                     NaN                     NaN   \n",
              "-8nmj3B-tfY_vFiimtBOsw                     NaN                     NaN   \n",
              "\n",
              "business_id             zr2wA55AskfBJxrvUeDZRA  zrnP9HqoF-RI9jqoW8pytA  \\\n",
              "user_id                                                                  \n",
              "-5ohKzWWOzAG1M1OtcoPgQ                     NaN                     NaN   \n",
              "-8nmj3B-tfY_vFiimtBOsw                     NaN                     NaN   \n",
              "\n",
              "business_id             zsMMlOYtXm8SNy0bl1leBA  zw4Legbcu018p5WcZ74iWA  \\\n",
              "user_id                                                                  \n",
              "-5ohKzWWOzAG1M1OtcoPgQ                     NaN                     NaN   \n",
              "-8nmj3B-tfY_vFiimtBOsw                     NaN                     NaN   \n",
              "\n",
              "business_id             zwkif4XLEDqdEwEgTWLIVQ  zzlZJVkEhOzR2tJOLHcF2A  \n",
              "user_id                                                                 \n",
              "-5ohKzWWOzAG1M1OtcoPgQ                     NaN                     NaN  \n",
              "-8nmj3B-tfY_vFiimtBOsw                     NaN                     NaN  \n",
              "\n",
              "[2 rows x 1619 columns]"
            ],
            "text/html": [
              "\n",
              "  <div id=\"df-718e0222-50f8-4f59-ba40-1576efdab3b4\">\n",
              "    <div class=\"colab-df-container\">\n",
              "      <div>\n",
              "<style scoped>\n",
              "    .dataframe tbody tr th:only-of-type {\n",
              "        vertical-align: middle;\n",
              "    }\n",
              "\n",
              "    .dataframe tbody tr th {\n",
              "        vertical-align: top;\n",
              "    }\n",
              "\n",
              "    .dataframe thead th {\n",
              "        text-align: right;\n",
              "    }\n",
              "</style>\n",
              "<table border=\"1\" class=\"dataframe\">\n",
              "  <thead>\n",
              "    <tr style=\"text-align: right;\">\n",
              "      <th>business_id</th>\n",
              "      <th>-1xuC540Nycht_iWFeJ-dw</th>\n",
              "      <th>-3Haoc0l9DZRSXxIHi9oJg</th>\n",
              "      <th>-8hAGEWRSKtpLZ8e3L2xhA</th>\n",
              "      <th>-92cC6-X87HQ1DE1UHOx3w</th>\n",
              "      <th>-HsqnPAz374YSoyFDyjl3A</th>\n",
              "      <th>-Levln3VcfeXS4iHt5ct9A</th>\n",
              "      <th>-MwaICRwxaUi0JBfad2Y3Q</th>\n",
              "      <th>-Mz3M0g6iFZczs6a7ddf5g</th>\n",
              "      <th>-NIpCMONu69292q9Itiipg</th>\n",
              "      <th>-OhQws_Si3YOYDfm6DilxA</th>\n",
              "      <th>...</th>\n",
              "      <th>zWVSNGmW2O1iN7PEViyK5A</th>\n",
              "      <th>zktCQRlDtF6XmOpqKBz1mA</th>\n",
              "      <th>zmQyE-gIUpwBCMmTFFRbJw</th>\n",
              "      <th>zpw5S3QwUse1MH-Eerbnaw</th>\n",
              "      <th>zr2wA55AskfBJxrvUeDZRA</th>\n",
              "      <th>zrnP9HqoF-RI9jqoW8pytA</th>\n",
              "      <th>zsMMlOYtXm8SNy0bl1leBA</th>\n",
              "      <th>zw4Legbcu018p5WcZ74iWA</th>\n",
              "      <th>zwkif4XLEDqdEwEgTWLIVQ</th>\n",
              "      <th>zzlZJVkEhOzR2tJOLHcF2A</th>\n",
              "    </tr>\n",
              "    <tr>\n",
              "      <th>user_id</th>\n",
              "      <th></th>\n",
              "      <th></th>\n",
              "      <th></th>\n",
              "      <th></th>\n",
              "      <th></th>\n",
              "      <th></th>\n",
              "      <th></th>\n",
              "      <th></th>\n",
              "      <th></th>\n",
              "      <th></th>\n",
              "      <th></th>\n",
              "      <th></th>\n",
              "      <th></th>\n",
              "      <th></th>\n",
              "      <th></th>\n",
              "      <th></th>\n",
              "      <th></th>\n",
              "      <th></th>\n",
              "      <th></th>\n",
              "      <th></th>\n",
              "      <th></th>\n",
              "    </tr>\n",
              "  </thead>\n",
              "  <tbody>\n",
              "    <tr>\n",
              "      <th>-5ohKzWWOzAG1M1OtcoPgQ</th>\n",
              "      <td>NaN</td>\n",
              "      <td>NaN</td>\n",
              "      <td>NaN</td>\n",
              "      <td>NaN</td>\n",
              "      <td>0.052632</td>\n",
              "      <td>NaN</td>\n",
              "      <td>NaN</td>\n",
              "      <td>NaN</td>\n",
              "      <td>NaN</td>\n",
              "      <td>NaN</td>\n",
              "      <td>...</td>\n",
              "      <td>NaN</td>\n",
              "      <td>NaN</td>\n",
              "      <td>NaN</td>\n",
              "      <td>NaN</td>\n",
              "      <td>NaN</td>\n",
              "      <td>NaN</td>\n",
              "      <td>NaN</td>\n",
              "      <td>NaN</td>\n",
              "      <td>NaN</td>\n",
              "      <td>NaN</td>\n",
              "    </tr>\n",
              "    <tr>\n",
              "      <th>-8nmj3B-tfY_vFiimtBOsw</th>\n",
              "      <td>NaN</td>\n",
              "      <td>NaN</td>\n",
              "      <td>NaN</td>\n",
              "      <td>NaN</td>\n",
              "      <td>NaN</td>\n",
              "      <td>NaN</td>\n",
              "      <td>NaN</td>\n",
              "      <td>NaN</td>\n",
              "      <td>NaN</td>\n",
              "      <td>NaN</td>\n",
              "      <td>...</td>\n",
              "      <td>NaN</td>\n",
              "      <td>NaN</td>\n",
              "      <td>NaN</td>\n",
              "      <td>NaN</td>\n",
              "      <td>NaN</td>\n",
              "      <td>NaN</td>\n",
              "      <td>NaN</td>\n",
              "      <td>NaN</td>\n",
              "      <td>NaN</td>\n",
              "      <td>NaN</td>\n",
              "    </tr>\n",
              "  </tbody>\n",
              "</table>\n",
              "<p>2 rows × 1619 columns</p>\n",
              "</div>\n",
              "      <button class=\"colab-df-convert\" onclick=\"convertToInteractive('df-718e0222-50f8-4f59-ba40-1576efdab3b4')\"\n",
              "              title=\"Convert this dataframe to an interactive table.\"\n",
              "              style=\"display:none;\">\n",
              "        \n",
              "  <svg xmlns=\"http://www.w3.org/2000/svg\" height=\"24px\"viewBox=\"0 0 24 24\"\n",
              "       width=\"24px\">\n",
              "    <path d=\"M0 0h24v24H0V0z\" fill=\"none\"/>\n",
              "    <path d=\"M18.56 5.44l.94 2.06.94-2.06 2.06-.94-2.06-.94-.94-2.06-.94 2.06-2.06.94zm-11 1L8.5 8.5l.94-2.06 2.06-.94-2.06-.94L8.5 2.5l-.94 2.06-2.06.94zm10 10l.94 2.06.94-2.06 2.06-.94-2.06-.94-.94-2.06-.94 2.06-2.06.94z\"/><path d=\"M17.41 7.96l-1.37-1.37c-.4-.4-.92-.59-1.43-.59-.52 0-1.04.2-1.43.59L10.3 9.45l-7.72 7.72c-.78.78-.78 2.05 0 2.83L4 21.41c.39.39.9.59 1.41.59.51 0 1.02-.2 1.41-.59l7.78-7.78 2.81-2.81c.8-.78.8-2.07 0-2.86zM5.41 20L4 18.59l7.72-7.72 1.47 1.35L5.41 20z\"/>\n",
              "  </svg>\n",
              "      </button>\n",
              "      \n",
              "  <style>\n",
              "    .colab-df-container {\n",
              "      display:flex;\n",
              "      flex-wrap:wrap;\n",
              "      gap: 12px;\n",
              "    }\n",
              "\n",
              "    .colab-df-convert {\n",
              "      background-color: #E8F0FE;\n",
              "      border: none;\n",
              "      border-radius: 50%;\n",
              "      cursor: pointer;\n",
              "      display: none;\n",
              "      fill: #1967D2;\n",
              "      height: 32px;\n",
              "      padding: 0 0 0 0;\n",
              "      width: 32px;\n",
              "    }\n",
              "\n",
              "    .colab-df-convert:hover {\n",
              "      background-color: #E2EBFA;\n",
              "      box-shadow: 0px 1px 2px rgba(60, 64, 67, 0.3), 0px 1px 3px 1px rgba(60, 64, 67, 0.15);\n",
              "      fill: #174EA6;\n",
              "    }\n",
              "\n",
              "    [theme=dark] .colab-df-convert {\n",
              "      background-color: #3B4455;\n",
              "      fill: #D2E3FC;\n",
              "    }\n",
              "\n",
              "    [theme=dark] .colab-df-convert:hover {\n",
              "      background-color: #434B5C;\n",
              "      box-shadow: 0px 1px 3px 1px rgba(0, 0, 0, 0.15);\n",
              "      filter: drop-shadow(0px 1px 2px rgba(0, 0, 0, 0.3));\n",
              "      fill: #FFFFFF;\n",
              "    }\n",
              "  </style>\n",
              "\n",
              "      <script>\n",
              "        const buttonEl =\n",
              "          document.querySelector('#df-718e0222-50f8-4f59-ba40-1576efdab3b4 button.colab-df-convert');\n",
              "        buttonEl.style.display =\n",
              "          google.colab.kernel.accessAllowed ? 'block' : 'none';\n",
              "\n",
              "        async function convertToInteractive(key) {\n",
              "          const element = document.querySelector('#df-718e0222-50f8-4f59-ba40-1576efdab3b4');\n",
              "          const dataTable =\n",
              "            await google.colab.kernel.invokeFunction('convertToInteractive',\n",
              "                                                     [key], {});\n",
              "          if (!dataTable) return;\n",
              "\n",
              "          const docLinkHtml = 'Like what you see? Visit the ' +\n",
              "            '<a target=\"_blank\" href=https://colab.research.google.com/notebooks/data_table.ipynb>data table notebook</a>'\n",
              "            + ' to learn more about interactive tables.';\n",
              "          element.innerHTML = '';\n",
              "          dataTable['output_type'] = 'display_data';\n",
              "          await google.colab.output.renderOutput(dataTable, element);\n",
              "          const docLink = document.createElement('div');\n",
              "          docLink.innerHTML = docLinkHtml;\n",
              "          element.appendChild(docLink);\n",
              "        }\n",
              "      </script>\n",
              "    </div>\n",
              "  </div>\n",
              "  "
            ]
          },
          "metadata": {},
          "execution_count": 25
        }
      ],
      "source": [
        "dfpivot = dfpivot.sub(user_means, axis = 0)\n",
        "#dfpivot.fillna(0, inplace = True)\n",
        "dfpivot.head(2)"
      ]
    },
    {
      "cell_type": "markdown",
      "metadata": {
        "id": "qeBixxh0S_te"
      },
      "source": [
        "### **DOING THE SVD**\n"
      ]
    },
    {
      "cell_type": "code",
      "execution_count": 26,
      "metadata": {
        "id": "Z10c1YJTS_er"
      },
      "outputs": [],
      "source": [
        "from scipy.sparse.linalg import svds # import singular value decomposition\n",
        "l = 2 # run for 2 latent features (usually we'll have more than 2 features, 2D is easier to visualize)\n",
        "U, sigma, Vt = svds(dfpivot, k = l) \n",
        "# u is the user preferences over latent features\n",
        "# sigma is the weighting of the latent features\n",
        "# Vt is the item's representation on the latent dimensions"
      ]
    },
    {
      "cell_type": "code",
      "execution_count": 27,
      "metadata": {
        "id": "aN7RhoEuTONW",
        "colab": {
          "base_uri": "https://localhost:8080/"
        },
        "outputId": "35d964fd-7df7-446c-ade0-a804ab38d825"
      },
      "outputs": [
        {
          "output_type": "execute_result",
          "data": {
            "text/plain": [
              "((339, 2), (2,), (2, 1619), (339, 1619))"
            ]
          },
          "metadata": {},
          "execution_count": 27
        }
      ],
      "source": [
        "U.shape, sigma.shape, Vt.shape, dfpivot.shape"
      ]
    },
    {
      "cell_type": "markdown",
      "metadata": {
        "id": "tn2SeEivTT9B"
      },
      "source": [
        "### Before we make predictions, let's explore these **decompositions**"
      ]
    },
    {
      "cell_type": "code",
      "execution_count": 29,
      "metadata": {
        "id": "6bFJLqINTaRm",
        "colab": {
          "base_uri": "https://localhost:8080/",
          "height": 206
        },
        "outputId": "46877ffc-0a26-4ea0-c52b-196e799fc25e"
      },
      "outputs": [
        {
          "output_type": "execute_result",
          "data": {
            "text/plain": [
              "         l1        l2                 user_Id\n",
              "0 -0.036749 -0.036582  -5ohKzWWOzAG1M1OtcoPgQ\n",
              "1  0.020777  0.045079  -8nmj3B-tfY_vFiimtBOsw\n",
              "2  0.018953  0.051454  -9b4s874f_CnznTu4JorRg\n",
              "3 -0.039105 -0.060874  -KpEgEen1tj-jdjIS7uVOw\n",
              "4  0.039138 -0.056274  -NwDw6HgVpA4ys6WYcI6Xg"
            ],
            "text/html": [
              "\n",
              "  <div id=\"df-45ea9729-f5d3-43c3-8a75-a9713f5c9a2e\">\n",
              "    <div class=\"colab-df-container\">\n",
              "      <div>\n",
              "<style scoped>\n",
              "    .dataframe tbody tr th:only-of-type {\n",
              "        vertical-align: middle;\n",
              "    }\n",
              "\n",
              "    .dataframe tbody tr th {\n",
              "        vertical-align: top;\n",
              "    }\n",
              "\n",
              "    .dataframe thead th {\n",
              "        text-align: right;\n",
              "    }\n",
              "</style>\n",
              "<table border=\"1\" class=\"dataframe\">\n",
              "  <thead>\n",
              "    <tr style=\"text-align: right;\">\n",
              "      <th></th>\n",
              "      <th>l1</th>\n",
              "      <th>l2</th>\n",
              "      <th>user_Id</th>\n",
              "    </tr>\n",
              "  </thead>\n",
              "  <tbody>\n",
              "    <tr>\n",
              "      <th>0</th>\n",
              "      <td>-0.036749</td>\n",
              "      <td>-0.036582</td>\n",
              "      <td>-5ohKzWWOzAG1M1OtcoPgQ</td>\n",
              "    </tr>\n",
              "    <tr>\n",
              "      <th>1</th>\n",
              "      <td>0.020777</td>\n",
              "      <td>0.045079</td>\n",
              "      <td>-8nmj3B-tfY_vFiimtBOsw</td>\n",
              "    </tr>\n",
              "    <tr>\n",
              "      <th>2</th>\n",
              "      <td>0.018953</td>\n",
              "      <td>0.051454</td>\n",
              "      <td>-9b4s874f_CnznTu4JorRg</td>\n",
              "    </tr>\n",
              "    <tr>\n",
              "      <th>3</th>\n",
              "      <td>-0.039105</td>\n",
              "      <td>-0.060874</td>\n",
              "      <td>-KpEgEen1tj-jdjIS7uVOw</td>\n",
              "    </tr>\n",
              "    <tr>\n",
              "      <th>4</th>\n",
              "      <td>0.039138</td>\n",
              "      <td>-0.056274</td>\n",
              "      <td>-NwDw6HgVpA4ys6WYcI6Xg</td>\n",
              "    </tr>\n",
              "  </tbody>\n",
              "</table>\n",
              "</div>\n",
              "      <button class=\"colab-df-convert\" onclick=\"convertToInteractive('df-45ea9729-f5d3-43c3-8a75-a9713f5c9a2e')\"\n",
              "              title=\"Convert this dataframe to an interactive table.\"\n",
              "              style=\"display:none;\">\n",
              "        \n",
              "  <svg xmlns=\"http://www.w3.org/2000/svg\" height=\"24px\"viewBox=\"0 0 24 24\"\n",
              "       width=\"24px\">\n",
              "    <path d=\"M0 0h24v24H0V0z\" fill=\"none\"/>\n",
              "    <path d=\"M18.56 5.44l.94 2.06.94-2.06 2.06-.94-2.06-.94-.94-2.06-.94 2.06-2.06.94zm-11 1L8.5 8.5l.94-2.06 2.06-.94-2.06-.94L8.5 2.5l-.94 2.06-2.06.94zm10 10l.94 2.06.94-2.06 2.06-.94-2.06-.94-.94-2.06-.94 2.06-2.06.94z\"/><path d=\"M17.41 7.96l-1.37-1.37c-.4-.4-.92-.59-1.43-.59-.52 0-1.04.2-1.43.59L10.3 9.45l-7.72 7.72c-.78.78-.78 2.05 0 2.83L4 21.41c.39.39.9.59 1.41.59.51 0 1.02-.2 1.41-.59l7.78-7.78 2.81-2.81c.8-.78.8-2.07 0-2.86zM5.41 20L4 18.59l7.72-7.72 1.47 1.35L5.41 20z\"/>\n",
              "  </svg>\n",
              "      </button>\n",
              "      \n",
              "  <style>\n",
              "    .colab-df-container {\n",
              "      display:flex;\n",
              "      flex-wrap:wrap;\n",
              "      gap: 12px;\n",
              "    }\n",
              "\n",
              "    .colab-df-convert {\n",
              "      background-color: #E8F0FE;\n",
              "      border: none;\n",
              "      border-radius: 50%;\n",
              "      cursor: pointer;\n",
              "      display: none;\n",
              "      fill: #1967D2;\n",
              "      height: 32px;\n",
              "      padding: 0 0 0 0;\n",
              "      width: 32px;\n",
              "    }\n",
              "\n",
              "    .colab-df-convert:hover {\n",
              "      background-color: #E2EBFA;\n",
              "      box-shadow: 0px 1px 2px rgba(60, 64, 67, 0.3), 0px 1px 3px 1px rgba(60, 64, 67, 0.15);\n",
              "      fill: #174EA6;\n",
              "    }\n",
              "\n",
              "    [theme=dark] .colab-df-convert {\n",
              "      background-color: #3B4455;\n",
              "      fill: #D2E3FC;\n",
              "    }\n",
              "\n",
              "    [theme=dark] .colab-df-convert:hover {\n",
              "      background-color: #434B5C;\n",
              "      box-shadow: 0px 1px 3px 1px rgba(0, 0, 0, 0.15);\n",
              "      filter: drop-shadow(0px 1px 2px rgba(0, 0, 0, 0.3));\n",
              "      fill: #FFFFFF;\n",
              "    }\n",
              "  </style>\n",
              "\n",
              "      <script>\n",
              "        const buttonEl =\n",
              "          document.querySelector('#df-45ea9729-f5d3-43c3-8a75-a9713f5c9a2e button.colab-df-convert');\n",
              "        buttonEl.style.display =\n",
              "          google.colab.kernel.accessAllowed ? 'block' : 'none';\n",
              "\n",
              "        async function convertToInteractive(key) {\n",
              "          const element = document.querySelector('#df-45ea9729-f5d3-43c3-8a75-a9713f5c9a2e');\n",
              "          const dataTable =\n",
              "            await google.colab.kernel.invokeFunction('convertToInteractive',\n",
              "                                                     [key], {});\n",
              "          if (!dataTable) return;\n",
              "\n",
              "          const docLinkHtml = 'Like what you see? Visit the ' +\n",
              "            '<a target=\"_blank\" href=https://colab.research.google.com/notebooks/data_table.ipynb>data table notebook</a>'\n",
              "            + ' to learn more about interactive tables.';\n",
              "          element.innerHTML = '';\n",
              "          dataTable['output_type'] = 'display_data';\n",
              "          await google.colab.output.renderOutput(dataTable, element);\n",
              "          const docLink = document.createElement('div');\n",
              "          docLink.innerHTML = docLinkHtml;\n",
              "          element.appendChild(docLink);\n",
              "        }\n",
              "      </script>\n",
              "    </div>\n",
              "  </div>\n",
              "  "
            ]
          },
          "metadata": {},
          "execution_count": 29
        }
      ],
      "source": [
        "usertastes = pd.DataFrame(U, columns = ['l1', 'l2'])\n",
        "usertastes['user_Id'] = dfpivot.index.values\n",
        "usertastes.head()"
      ]
    },
    {
      "cell_type": "code",
      "execution_count": 30,
      "metadata": {
        "id": "N86EtuqFUVhl",
        "colab": {
          "base_uri": "https://localhost:8080/",
          "height": 750
        },
        "outputId": "25406630-0029-4b58-8723-811941d6fcd2"
      },
      "outputs": [
        {
          "output_type": "execute_result",
          "data": {
            "text/plain": [
              "         l1       l2             business_id               review_id  \\\n",
              "0 -0.027245 -0.06366  -1xuC540Nycht_iWFeJ-dw  h6B0RyDHiniXKdRojaQuig   \n",
              "1 -0.027245 -0.06366  -1xuC540Nycht_iWFeJ-dw  u607icsgvksLxEMyFqH44Q   \n",
              "2 -0.027245 -0.06366  -1xuC540Nycht_iWFeJ-dw  5fgplcDDZOyaljeCupQIwQ   \n",
              "3 -0.027245 -0.06366  -1xuC540Nycht_iWFeJ-dw  CIndHP5VqwdeetrBQPQmWQ   \n",
              "4 -0.027245 -0.06366  -1xuC540Nycht_iWFeJ-dw  0GOz5y15LLf83XNdSvF1LQ   \n",
              "\n",
              "                  user_id  stars  useful  funny  cool  \\\n",
              "0  9MD2Ry2jQ08z1_4VKpEmfQ      5       1      0     0   \n",
              "1  VMfwMYh8iJapW807Pu1Diw      4       1      1     2   \n",
              "2  9P8-9EUP-aEnuisqUYt5jQ      2       2      5     0   \n",
              "3  xC-q_yh0XwcjRLimkS3RNg      5       1      0     1   \n",
              "4  ZGiwU16rhGvWAYUzkWL0xw      4       1      1     2   \n",
              "\n",
              "                                                text  ... state postal_code  \\\n",
              "0  Everyone here is so nice! They let us try the ...  ...    QC     H2W 1C8   \n",
              "1  Grateful this place exists and is so close to ...  ...    QC     H2W 1C8   \n",
              "2  Would give them 1 star but that's not fair as ...  ...    QC     H2W 1C8   \n",
              "3  Oh my god, Romados, you are so damn good. How ...  ...    QC     H2W 1C8   \n",
              "4  I came to Romados quite a few times, always le...  ...    QC     H2W 1C8   \n",
              "\n",
              "   latitude  longitude stars_biz review_count  is_open  \\\n",
              "0  45.51931 -73.580749       4.0          497        1   \n",
              "1  45.51931 -73.580749       4.0          497        1   \n",
              "2  45.51931 -73.580749       4.0          497        1   \n",
              "3  45.51931 -73.580749       4.0          497        1   \n",
              "4  45.51931 -73.580749       4.0          497        1   \n",
              "\n",
              "                                          attributes  \\\n",
              "0  {'GoodForKids': 'True', 'RestaurantsDelivery':...   \n",
              "1  {'GoodForKids': 'True', 'RestaurantsDelivery':...   \n",
              "2  {'GoodForKids': 'True', 'RestaurantsDelivery':...   \n",
              "3  {'GoodForKids': 'True', 'RestaurantsDelivery':...   \n",
              "4  {'GoodForKids': 'True', 'RestaurantsDelivery':...   \n",
              "\n",
              "                                          categories  \\\n",
              "0  Restaurants, Portuguese, Bakeries, Barbeque, C...   \n",
              "1  Restaurants, Portuguese, Bakeries, Barbeque, C...   \n",
              "2  Restaurants, Portuguese, Bakeries, Barbeque, C...   \n",
              "3  Restaurants, Portuguese, Bakeries, Barbeque, C...   \n",
              "4  Restaurants, Portuguese, Bakeries, Barbeque, C...   \n",
              "\n",
              "                                               hours  \n",
              "0  {'Monday': '6:30-21:0', 'Tuesday': '6:30-21:0'...  \n",
              "1  {'Monday': '6:30-21:0', 'Tuesday': '6:30-21:0'...  \n",
              "2  {'Monday': '6:30-21:0', 'Tuesday': '6:30-21:0'...  \n",
              "3  {'Monday': '6:30-21:0', 'Tuesday': '6:30-21:0'...  \n",
              "4  {'Monday': '6:30-21:0', 'Tuesday': '6:30-21:0'...  \n",
              "\n",
              "[5 rows x 24 columns]"
            ],
            "text/html": [
              "\n",
              "  <div id=\"df-bc6b3c17-16b4-45e7-bf72-0bf5aee14d39\">\n",
              "    <div class=\"colab-df-container\">\n",
              "      <div>\n",
              "<style scoped>\n",
              "    .dataframe tbody tr th:only-of-type {\n",
              "        vertical-align: middle;\n",
              "    }\n",
              "\n",
              "    .dataframe tbody tr th {\n",
              "        vertical-align: top;\n",
              "    }\n",
              "\n",
              "    .dataframe thead th {\n",
              "        text-align: right;\n",
              "    }\n",
              "</style>\n",
              "<table border=\"1\" class=\"dataframe\">\n",
              "  <thead>\n",
              "    <tr style=\"text-align: right;\">\n",
              "      <th></th>\n",
              "      <th>l1</th>\n",
              "      <th>l2</th>\n",
              "      <th>business_id</th>\n",
              "      <th>review_id</th>\n",
              "      <th>user_id</th>\n",
              "      <th>stars</th>\n",
              "      <th>useful</th>\n",
              "      <th>funny</th>\n",
              "      <th>cool</th>\n",
              "      <th>text</th>\n",
              "      <th>...</th>\n",
              "      <th>state</th>\n",
              "      <th>postal_code</th>\n",
              "      <th>latitude</th>\n",
              "      <th>longitude</th>\n",
              "      <th>stars_biz</th>\n",
              "      <th>review_count</th>\n",
              "      <th>is_open</th>\n",
              "      <th>attributes</th>\n",
              "      <th>categories</th>\n",
              "      <th>hours</th>\n",
              "    </tr>\n",
              "  </thead>\n",
              "  <tbody>\n",
              "    <tr>\n",
              "      <th>0</th>\n",
              "      <td>-0.027245</td>\n",
              "      <td>-0.06366</td>\n",
              "      <td>-1xuC540Nycht_iWFeJ-dw</td>\n",
              "      <td>h6B0RyDHiniXKdRojaQuig</td>\n",
              "      <td>9MD2Ry2jQ08z1_4VKpEmfQ</td>\n",
              "      <td>5</td>\n",
              "      <td>1</td>\n",
              "      <td>0</td>\n",
              "      <td>0</td>\n",
              "      <td>Everyone here is so nice! They let us try the ...</td>\n",
              "      <td>...</td>\n",
              "      <td>QC</td>\n",
              "      <td>H2W 1C8</td>\n",
              "      <td>45.51931</td>\n",
              "      <td>-73.580749</td>\n",
              "      <td>4.0</td>\n",
              "      <td>497</td>\n",
              "      <td>1</td>\n",
              "      <td>{'GoodForKids': 'True', 'RestaurantsDelivery':...</td>\n",
              "      <td>Restaurants, Portuguese, Bakeries, Barbeque, C...</td>\n",
              "      <td>{'Monday': '6:30-21:0', 'Tuesday': '6:30-21:0'...</td>\n",
              "    </tr>\n",
              "    <tr>\n",
              "      <th>1</th>\n",
              "      <td>-0.027245</td>\n",
              "      <td>-0.06366</td>\n",
              "      <td>-1xuC540Nycht_iWFeJ-dw</td>\n",
              "      <td>u607icsgvksLxEMyFqH44Q</td>\n",
              "      <td>VMfwMYh8iJapW807Pu1Diw</td>\n",
              "      <td>4</td>\n",
              "      <td>1</td>\n",
              "      <td>1</td>\n",
              "      <td>2</td>\n",
              "      <td>Grateful this place exists and is so close to ...</td>\n",
              "      <td>...</td>\n",
              "      <td>QC</td>\n",
              "      <td>H2W 1C8</td>\n",
              "      <td>45.51931</td>\n",
              "      <td>-73.580749</td>\n",
              "      <td>4.0</td>\n",
              "      <td>497</td>\n",
              "      <td>1</td>\n",
              "      <td>{'GoodForKids': 'True', 'RestaurantsDelivery':...</td>\n",
              "      <td>Restaurants, Portuguese, Bakeries, Barbeque, C...</td>\n",
              "      <td>{'Monday': '6:30-21:0', 'Tuesday': '6:30-21:0'...</td>\n",
              "    </tr>\n",
              "    <tr>\n",
              "      <th>2</th>\n",
              "      <td>-0.027245</td>\n",
              "      <td>-0.06366</td>\n",
              "      <td>-1xuC540Nycht_iWFeJ-dw</td>\n",
              "      <td>5fgplcDDZOyaljeCupQIwQ</td>\n",
              "      <td>9P8-9EUP-aEnuisqUYt5jQ</td>\n",
              "      <td>2</td>\n",
              "      <td>2</td>\n",
              "      <td>5</td>\n",
              "      <td>0</td>\n",
              "      <td>Would give them 1 star but that's not fair as ...</td>\n",
              "      <td>...</td>\n",
              "      <td>QC</td>\n",
              "      <td>H2W 1C8</td>\n",
              "      <td>45.51931</td>\n",
              "      <td>-73.580749</td>\n",
              "      <td>4.0</td>\n",
              "      <td>497</td>\n",
              "      <td>1</td>\n",
              "      <td>{'GoodForKids': 'True', 'RestaurantsDelivery':...</td>\n",
              "      <td>Restaurants, Portuguese, Bakeries, Barbeque, C...</td>\n",
              "      <td>{'Monday': '6:30-21:0', 'Tuesday': '6:30-21:0'...</td>\n",
              "    </tr>\n",
              "    <tr>\n",
              "      <th>3</th>\n",
              "      <td>-0.027245</td>\n",
              "      <td>-0.06366</td>\n",
              "      <td>-1xuC540Nycht_iWFeJ-dw</td>\n",
              "      <td>CIndHP5VqwdeetrBQPQmWQ</td>\n",
              "      <td>xC-q_yh0XwcjRLimkS3RNg</td>\n",
              "      <td>5</td>\n",
              "      <td>1</td>\n",
              "      <td>0</td>\n",
              "      <td>1</td>\n",
              "      <td>Oh my god, Romados, you are so damn good. How ...</td>\n",
              "      <td>...</td>\n",
              "      <td>QC</td>\n",
              "      <td>H2W 1C8</td>\n",
              "      <td>45.51931</td>\n",
              "      <td>-73.580749</td>\n",
              "      <td>4.0</td>\n",
              "      <td>497</td>\n",
              "      <td>1</td>\n",
              "      <td>{'GoodForKids': 'True', 'RestaurantsDelivery':...</td>\n",
              "      <td>Restaurants, Portuguese, Bakeries, Barbeque, C...</td>\n",
              "      <td>{'Monday': '6:30-21:0', 'Tuesday': '6:30-21:0'...</td>\n",
              "    </tr>\n",
              "    <tr>\n",
              "      <th>4</th>\n",
              "      <td>-0.027245</td>\n",
              "      <td>-0.06366</td>\n",
              "      <td>-1xuC540Nycht_iWFeJ-dw</td>\n",
              "      <td>0GOz5y15LLf83XNdSvF1LQ</td>\n",
              "      <td>ZGiwU16rhGvWAYUzkWL0xw</td>\n",
              "      <td>4</td>\n",
              "      <td>1</td>\n",
              "      <td>1</td>\n",
              "      <td>2</td>\n",
              "      <td>I came to Romados quite a few times, always le...</td>\n",
              "      <td>...</td>\n",
              "      <td>QC</td>\n",
              "      <td>H2W 1C8</td>\n",
              "      <td>45.51931</td>\n",
              "      <td>-73.580749</td>\n",
              "      <td>4.0</td>\n",
              "      <td>497</td>\n",
              "      <td>1</td>\n",
              "      <td>{'GoodForKids': 'True', 'RestaurantsDelivery':...</td>\n",
              "      <td>Restaurants, Portuguese, Bakeries, Barbeque, C...</td>\n",
              "      <td>{'Monday': '6:30-21:0', 'Tuesday': '6:30-21:0'...</td>\n",
              "    </tr>\n",
              "  </tbody>\n",
              "</table>\n",
              "<p>5 rows × 24 columns</p>\n",
              "</div>\n",
              "      <button class=\"colab-df-convert\" onclick=\"convertToInteractive('df-bc6b3c17-16b4-45e7-bf72-0bf5aee14d39')\"\n",
              "              title=\"Convert this dataframe to an interactive table.\"\n",
              "              style=\"display:none;\">\n",
              "        \n",
              "  <svg xmlns=\"http://www.w3.org/2000/svg\" height=\"24px\"viewBox=\"0 0 24 24\"\n",
              "       width=\"24px\">\n",
              "    <path d=\"M0 0h24v24H0V0z\" fill=\"none\"/>\n",
              "    <path d=\"M18.56 5.44l.94 2.06.94-2.06 2.06-.94-2.06-.94-.94-2.06-.94 2.06-2.06.94zm-11 1L8.5 8.5l.94-2.06 2.06-.94-2.06-.94L8.5 2.5l-.94 2.06-2.06.94zm10 10l.94 2.06.94-2.06 2.06-.94-2.06-.94-.94-2.06-.94 2.06-2.06.94z\"/><path d=\"M17.41 7.96l-1.37-1.37c-.4-.4-.92-.59-1.43-.59-.52 0-1.04.2-1.43.59L10.3 9.45l-7.72 7.72c-.78.78-.78 2.05 0 2.83L4 21.41c.39.39.9.59 1.41.59.51 0 1.02-.2 1.41-.59l7.78-7.78 2.81-2.81c.8-.78.8-2.07 0-2.86zM5.41 20L4 18.59l7.72-7.72 1.47 1.35L5.41 20z\"/>\n",
              "  </svg>\n",
              "      </button>\n",
              "      \n",
              "  <style>\n",
              "    .colab-df-container {\n",
              "      display:flex;\n",
              "      flex-wrap:wrap;\n",
              "      gap: 12px;\n",
              "    }\n",
              "\n",
              "    .colab-df-convert {\n",
              "      background-color: #E8F0FE;\n",
              "      border: none;\n",
              "      border-radius: 50%;\n",
              "      cursor: pointer;\n",
              "      display: none;\n",
              "      fill: #1967D2;\n",
              "      height: 32px;\n",
              "      padding: 0 0 0 0;\n",
              "      width: 32px;\n",
              "    }\n",
              "\n",
              "    .colab-df-convert:hover {\n",
              "      background-color: #E2EBFA;\n",
              "      box-shadow: 0px 1px 2px rgba(60, 64, 67, 0.3), 0px 1px 3px 1px rgba(60, 64, 67, 0.15);\n",
              "      fill: #174EA6;\n",
              "    }\n",
              "\n",
              "    [theme=dark] .colab-df-convert {\n",
              "      background-color: #3B4455;\n",
              "      fill: #D2E3FC;\n",
              "    }\n",
              "\n",
              "    [theme=dark] .colab-df-convert:hover {\n",
              "      background-color: #434B5C;\n",
              "      box-shadow: 0px 1px 3px 1px rgba(0, 0, 0, 0.15);\n",
              "      filter: drop-shadow(0px 1px 2px rgba(0, 0, 0, 0.3));\n",
              "      fill: #FFFFFF;\n",
              "    }\n",
              "  </style>\n",
              "\n",
              "      <script>\n",
              "        const buttonEl =\n",
              "          document.querySelector('#df-bc6b3c17-16b4-45e7-bf72-0bf5aee14d39 button.colab-df-convert');\n",
              "        buttonEl.style.display =\n",
              "          google.colab.kernel.accessAllowed ? 'block' : 'none';\n",
              "\n",
              "        async function convertToInteractive(key) {\n",
              "          const element = document.querySelector('#df-bc6b3c17-16b4-45e7-bf72-0bf5aee14d39');\n",
              "          const dataTable =\n",
              "            await google.colab.kernel.invokeFunction('convertToInteractive',\n",
              "                                                     [key], {});\n",
              "          if (!dataTable) return;\n",
              "\n",
              "          const docLinkHtml = 'Like what you see? Visit the ' +\n",
              "            '<a target=\"_blank\" href=https://colab.research.google.com/notebooks/data_table.ipynb>data table notebook</a>'\n",
              "            + ' to learn more about interactive tables.';\n",
              "          element.innerHTML = '';\n",
              "          dataTable['output_type'] = 'display_data';\n",
              "          await google.colab.output.renderOutput(dataTable, element);\n",
              "          const docLink = document.createElement('div');\n",
              "          docLink.innerHTML = docLinkHtml;\n",
              "          element.appendChild(docLink);\n",
              "        }\n",
              "      </script>\n",
              "    </div>\n",
              "  </div>\n",
              "  "
            ]
          },
          "metadata": {},
          "execution_count": 30
        }
      ],
      "source": [
        "itemvalues = pd.DataFrame(Vt.T, columns = ['l1', 'l2']) # flip it back to vertical using .T (transpose)\n",
        "itemvalues['business_id'] = dfpivot.columns.values\n",
        "itemvalues = itemvalues.merge(df6, how = 'left', on = 'business_id')\n",
        "itemvalues.head()"
      ]
    },
    {
      "cell_type": "code",
      "execution_count": 31,
      "metadata": {
        "id": "Xr-ag_htU677",
        "colab": {
          "base_uri": "https://localhost:8080/",
          "height": 624
        },
        "outputId": "d588f71d-89be-40e2-e377-e37aaaa7db2a"
      },
      "outputs": [
        {
          "output_type": "execute_result",
          "data": {
            "text/plain": [
              "Text(0, 0.5, 'l2')"
            ]
          },
          "metadata": {},
          "execution_count": 31
        },
        {
          "output_type": "display_data",
          "data": {
            "text/plain": [
              "<Figure size 720x720 with 1 Axes>"
            ],
            "image/png": "[encoded data removed]"
          },
          "metadata": {
            "needs_background": "light"
          }
        }
      ],
      "source": [
        "fig, ax = plt.subplots(1, figsize = (10,10))\n",
        "ax.scatter(itemvalues.l1, itemvalues.l2, s= 1, color = 'gray', alpha = .25)\n",
        "ax.set_xlabel('l1')\n",
        "ax.set_ylabel('l2')"
      ]
    },
    {
      "cell_type": "markdown",
      "metadata": {
        "id": "CU96iC0lVKWG"
      },
      "source": [
        "### Identifying Business segmens"
      ]
    },
    {
      "cell_type": "code",
      "execution_count": 32,
      "metadata": {
        "id": "JgpjfyyfUKjs",
        "colab": {
          "base_uri": "https://localhost:8080/",
          "height": 335
        },
        "outputId": "b2e152b9-f212-4212-dfca-0871425603a4"
      },
      "outputs": [
        {
          "output_type": "error",
          "ename": "ModuleNotFoundError",
          "evalue": "ignored",
          "traceback": [
            "\u001b[0;31m---------------------------------------------------------------------------\u001b[0m",
            "\u001b[0;31mModuleNotFoundError\u001b[0m                       Traceback (most recent call last)",
            "\u001b[0;32m<ipython-input-32-abf2221ae2e8>\u001b[0m in \u001b[0;36m<module>\u001b[0;34m()\u001b[0m\n\u001b[0;32m----> 1\u001b[0;31m \u001b[0;32mimport\u001b[0m \u001b[0mhdbscan\u001b[0m\u001b[0;34m\u001b[0m\u001b[0;34m\u001b[0m\u001b[0m\n\u001b[0m\u001b[1;32m      2\u001b[0m \u001b[0mclusterer\u001b[0m \u001b[0;34m=\u001b[0m \u001b[0mhdbscan\u001b[0m\u001b[0;34m.\u001b[0m\u001b[0mHDBSCAN\u001b[0m\u001b[0;34m(\u001b[0m\u001b[0mmin_cluster_size\u001b[0m \u001b[0;34m=\u001b[0m \u001b[0;36m10\u001b[0m\u001b[0;34m)\u001b[0m\u001b[0;34m\u001b[0m\u001b[0;34m\u001b[0m\u001b[0m\n",
            "\u001b[0;31mModuleNotFoundError\u001b[0m: No module named 'hdbscan'",
            "",
            "\u001b[0;31m---------------------------------------------------------------------------\u001b[0;32m\nNOTE: If your import is failing due to a missing package, you can\nmanually install dependencies using either !pip or !apt.\n\nTo view examples of installing some common dependencies, click the\n\"Open Examples\" button below.\n\u001b[0;31m---------------------------------------------------------------------------\u001b[0m\n"
          ],
          "errorDetails": {
            "actions": [
              {
                "action": "open_url",
                "actionText": "Open Examples",
                "url": "/notebooks/snippets/importing_libraries.ipynb"
              }
            ]
          }
        }
      ],
      "source": [
        "import hdbscan \n",
        "clusterer = hdbscan.HDBSCAN(min_cluster_size = 10)"
      ]
    },
    {
      "cell_type": "code",
      "execution_count": 33,
      "metadata": {
        "id": "JBMBJqoaVRvW",
        "colab": {
          "base_uri": "https://localhost:8080/",
          "height": 171
        },
        "outputId": "afd36e57-15e8-4783-999f-4d7ad853b2d5"
      },
      "outputs": [
        {
          "output_type": "error",
          "ename": "NameError",
          "evalue": "ignored",
          "traceback": [
            "\u001b[0;31m---------------------------------------------------------------------------\u001b[0m",
            "\u001b[0;31mNameError\u001b[0m                                 Traceback (most recent call last)",
            "\u001b[0;32m<ipython-input-33-ff66b0d34e57>\u001b[0m in \u001b[0;36m<module>\u001b[0;34m()\u001b[0m\n\u001b[0;32m----> 1\u001b[0;31m \u001b[0mitemvalues\u001b[0m\u001b[0;34m[\u001b[0m\u001b[0;34m'cluster'\u001b[0m\u001b[0;34m]\u001b[0m \u001b[0;34m=\u001b[0m \u001b[0mclusterer\u001b[0m\u001b[0;34m.\u001b[0m\u001b[0mfit_predict\u001b[0m\u001b[0;34m(\u001b[0m\u001b[0mitemvalues\u001b[0m\u001b[0;34m[\u001b[0m\u001b[0;34m[\u001b[0m\u001b[0;34m'l1'\u001b[0m\u001b[0;34m,\u001b[0m \u001b[0;34m'l2'\u001b[0m\u001b[0;34m]\u001b[0m\u001b[0;34m]\u001b[0m\u001b[0;34m)\u001b[0m\u001b[0;34m\u001b[0m\u001b[0;34m\u001b[0m\u001b[0m\n\u001b[0m",
            "\u001b[0;31mNameError\u001b[0m: name 'clusterer' is not defined"
          ]
        }
      ],
      "source": [
        "itemvalues['cluster'] = clusterer.fit_predict(itemvalues[['l1', 'l2']])"
      ]
    },
    {
      "cell_type": "code",
      "execution_count": null,
      "metadata": {
        "id": "EmQT_hJ5VR-r",
        "colab": {
          "base_uri": "https://localhost:8080/"
        },
        "outputId": "a7ed846e-a4ef-4687-9821-1dd73354b339"
      },
      "outputs": [
        {
          "output_type": "execute_result",
          "data": {
            "text/plain": [
              "473"
            ]
          },
          "metadata": {},
          "execution_count": 31
        }
      ],
      "source": [
        "clusters = sorted(itemvalues.cluster.unique())\n",
        "len(clusters)-1 # number of clusters excluding unclassifiable"
      ]
    },
    {
      "cell_type": "code",
      "execution_count": null,
      "metadata": {
        "id": "9PVgpTEhVqkP"
      },
      "outputs": [],
      "source": [
        "def predict_ratings(U, sigma, Vt, means):\n",
        "    \"\"\"\n",
        "    Take in the U, sigma, Vt, and means ratings matrices\n",
        "    Compute dot product U * Sigma * Vt add on means + means\n",
        "    Returns rating predictions\n",
        "    \"\"\"\n",
        "    predicted_ratings = U @ np.diag(sigma) @ Vt + np.array(means).reshape(-1,1)\n",
        "    return predicted_ratings\n"
      ]
    },
    {
      "cell_type": "code",
      "execution_count": null,
      "metadata": {
        "id": "h-9YwQpxV2hU"
      },
      "outputs": [],
      "source": [
        "def get_ratings(predictions,user, exclude = [], top = 5):\n",
        "    cols = [c for c in predictions.columns if c not in exclude]\n",
        "    preds = predictions.loc[user,cols].T.sort_values(ascending = False)\n",
        "    return preds.iloc[:top]"
      ]
    },
    {
      "cell_type": "markdown",
      "metadata": {
        "id": "dU2LxmAIdRka"
      },
      "source": [
        "### Factor Search with 10 folds"
      ]
    },
    {
      "cell_type": "code",
      "execution_count": null,
      "metadata": {
        "id": "NhCsVxMVIJjT"
      },
      "outputs": [],
      "source": [
        "from sklearn.model_selection import train_test_split\n",
        "mratings_train, mratings_test = train_test_split(mratings, test_size=0.1)"
      ]
    },
    {
      "cell_type": "code",
      "execution_count": null,
      "metadata": {
        "id": "PvHtoy4udVvu",
        "colab": {
          "base_uri": "https://localhost:8080/"
        },
        "outputId": "ec5d53cb-ce1f-4f4c-d882-2a2f70753616"
      },
      "outputs": [
        {
          "output_type": "stream",
          "name": "stderr",
          "text": [
            "/usr/local/lib/python3.7/dist-packages/ipykernel_launcher.py:3: SettingWithCopyWarning: \n",
            "A value is trying to be set on a copy of a slice from a DataFrame.\n",
            "Try using .loc[row_indexer,col_indexer] = value instead\n",
            "\n",
            "See the caveats in the documentation: https://pandas.pydata.org/pandas-docs/stable/user_guide/indexing.html#returning-a-view-versus-a-copy\n",
            "  This is separate from the ipykernel package so we can avoid doing imports until\n"
          ]
        }
      ],
      "source": [
        "np.random.seed(1)\n",
        "folds = 10 # let's do 10 folds\n",
        "mratings['fold'] = np.random.randint(0,folds, len(mratings))"
      ]
    },
    {
      "cell_type": "code",
      "execution_count": null,
      "metadata": {
        "id": "U2oj5X2fIMwN",
        "colab": {
          "base_uri": "https://localhost:8080/"
        },
        "outputId": "16b823ff-59c1-4d4f-ab1b-89657f769053"
      },
      "outputs": [
        {
          "output_type": "execute_result",
          "data": {
            "text/plain": [
              "((160470, 4), (17830, 4))"
            ]
          },
          "metadata": {},
          "execution_count": 36
        }
      ],
      "source": [
        "mratings_train.shape, mratings_test.shape"
      ]
    },
    {
      "cell_type": "code",
      "execution_count": null,
      "metadata": {
        "id": "SbjbEYnJIS3O",
        "colab": {
          "base_uri": "https://localhost:8080/"
        },
        "outputId": "79558918-2656-4d62-ebde-8edeab8e0648"
      },
      "outputs": [
        {
          "output_type": "stream",
          "name": "stdout",
          "text": [
            "{'uLtKIRlUSqKzOxLrayoPDQ', '63G9pKA7B9OYHfTaBc7RBg', 'qdBJ3VgUhurEJlYXQb7ilQ', 'mbmOWmzDsWLNXevQQ7tCWw', 'QqslwjvSzgtsD2meGXvpNw', 'FtyIaNrLj8TsJmBbkUzwSg', '8QfTDbIU37YI3PZ0rE8T-Q', 'ihivlFxbaePMv0Yd0v9jvA', '8friVU2T0H5w_naeavfPsw', 't7qHpithX3kDudLWWGEStA', 'nCSqhXSQBqOx5pJOchRjEg', 'I79Hj-bP-aeEpdEECvwfaw', 'OXXw2Rt_zmfnRNJgtgkp1g', 'MivpvR20pM6OQkXvgyT5pA', '8OdsAU_sLsq-TK0O-sdH2A', 'YqDAPz9gMl9SMpGRWLOTmA', 'js6fDDsdm2RcvhpboZOfYA', 'rPfQhIlVcbrhUrFPsg1KDA', 'OAg6hfSRNna1qP07E4NovQ', 'W4VbVXe7QWnIiwH7m9gPHg', '7hnIaQuvLBs_QNtE8iUiZA', 'RgrABk_NHg9DPrPTsfjTtQ', 'OA6jumR3ldHmoIQEXkPFyw', 'o8rKBNPYInyw3zBFape8Lw', 'uSw0leCwjh8Kx61144ELDA', 'D3b0y8uekzhgtF9U943R5w', 'GJWtVKFetelaFx3L0DGTfA', 'rEqKL1mNqS80fN0JmcjZaA', '64XLgNix9y_u4J1DJ2Uggg', 'F1MoL-wsWKs6kePzDRxv6A', 'gUr2djGz_PRQodVEl0SrCQ', 'b2dO10e2L5wHOrRi_jXY-A', 'GB1tQfUQT1Tv3Pntr55Azg', '2UPOwlQY7XtzNDORzxMOUw', 'i7wEmtLIgz4e2fV0_ThoNQ', 'tFkeDe5og-uBWS35zyfeow', 'Y7rH5ggCkADVEaUzE_0HVQ', 'zx5TaYxLXcMRXcx5cy8oUg', 'IOj0S8VwEW-MRbAetaM5WA', 'LU7ikPXZ5R8tv4oNQZQkKw', 'hSkVoiuSoUlPf9OH5m0SIg', '80aW88LutBnkQ_0hyIBmjw', '_C64bivRbIUpOgP69qvNyw', 'I17CuYsr3AqYINlfKVyJpg', 'lDL2hlvnOY3MqP72UOxL_w', '3-VjtCHX3iH0QlOzHlrwGQ', 'pdPE_6Egeg9xyOsizpUerQ', 'UcYK1uGx7DoK1bcUjNKnnQ', 'Pzvw8syR32a0LGRLqhDt6A', 'x2yC1W_UNpWV-x61ngxvaA', 'b6gVrAS6N8QnDxcc7IR7uw', 'TUqGoRqIYMddxrSw_h9XrQ', 'AzMAt7SteQQaVLBCiAGcyQ', 'gbIbajx7bgAL8fo0A50Ozg', '9hUpn81zGwaYo9gBZG087A', 'aRGqPTgolu89KJSsrGDkIA', 'baBjSXzg7ixb3bHFgo3Mzg', '1watevjZVSGT8K-clXpWUg', 'azAGPc9xN_Iv6EN4916f9A', '5zZjP7aMRlsAyzFEqblTRQ', 'yvFridmVH1jwUQoc8xUCdA', 'Xz08hyoiesJUw0QK7WbeWg', 'jsaITHnQBcvyUUyuQ-Ps6g', 'LZ41Npg9oQR3TT6WMjPRSQ', 'T2h5yn7VyshOKTV4XhjKKQ', 'f2ZW04Oz_-QZ2XUs16Ef7w', 'ErrdC0gfbzuKKG5poqDGew', 'pcEwkBhsM1xTZOUvc6bUZw', '-pH0zs6TSl-bTebohU2HCA', '_d27s7wCDKMbSjqXpoIgGg', 'rSrASpGuuna8HhdZDtyxkg', 'wiUeqtaE9PNSAV-mo30g1Q', 'OgYGx90eKoRis9aqddekVQ', 'fuyzNaUb-aDBJ9aRuKR1Mg', 'IrFVGCaMJZi9G7-prmdKww', '5OeiJlfS3sw7qqJ0i22WFQ', 'rSkCxN2gHpaJTaMmc7eddw', 'LhAgOy8AH2mOyF-ItH3B4g', 'yENNyr4tLoIg7r5u-3pssQ', 'LraVNayK6V6x3YoWF6XFNA', '8l4plEhZMf7fh3Q9h3VaQA', 'xwRBL-w5ym7LZKrLbghnZw', 'AirTVnJxFaNsU5M3baZXQQ', 'vpXHZcfthPNDrYA3TZ15Sw', 'A5AlyCR_9BNAtjqWs5TmNw', 'jhQ-xS9kcSb9ozVCrLgv_g', 'OSqtpn4oURTuUiUeojweHw', 'U1-RkbNKKTqi-HH76xtTiA', '96xvfQUDyQr8NjiKc1o1Kg', 'En58ZhJ2SXhvhUbt_Fr_RQ', 'VyH9H4JnA2qV8OgR5_nv2Q', 'ud2HHH33QxoKYn794RB8ZA', 'gZMV-lduevgtyPILvHe7oA', '6dz9o5LlbCcDIpp71l3NXA', 'TqgZ4Q9SJMpektis-O01PQ', 'jmEpQxItiYyN_8OVs4AiYw', 'sbKbpWwpdnc3u-VYD4wTKQ', '-YqVN1Yv2Lt9aNGAlGzU_A', 'PS_cq1T6PF7qh8mcc1cgZQ', '38FQQYm42uZ8aJlJon_7fQ', 'KNkd8Q1S-RiRo2jK2I5Eng', 'Md_d7YwLCEiXZ3T3KYObZA', 'o-HL7frA9e6FajGevKJsOQ', 'RiXrKi4N4UWJv2CzxQE04A', 'uZkoCwxO8lNW6CPXuatRvg', 'F-ZQ_4a6rBiHNnvlMsIBHg', 'b_VZhwKv2VSHuMdL59aicg', 'mwBHTEPTbT1Pg2wJT0PnkQ', 'oSklAVhYJcl70OXdFfQ31g', 'B1wG5SdTnxw2BdRNcCg7Lg', 'VTSxoVD6xpfTbYCUomHAag', '-ADl24OdopU6nX2QGSPPYA', 'S3akHcu40oTlqWQB1SfhYA', 'iDU3XDyKc1w17k1sIgo0PA', 'f5xQRavRG7hyqVbJ0qXJAg', 'KAzsgdbowXgWKWokze0xWA', 'vmmschaPXLJsJ3rLbnQv_Q', 'pqQVlxbHyiGKiuLzq4XbEQ', '2lBTC1vidm_HSEe7XFPZBg', 'VmgWFO9RF8PMYtR5zxE8rg', 'nB_64fEI3nD2od0R4oM1Kw', 'gRTVw20Fvoquw1QCBEOlTA', 'xcWozb66XBootApQGtmkBA', '8NiLVvyT0zJ198vzJqoGYA', 'cUrdo4zdq3VtuDhu16YR9A', 'P73_DQhYI6Oe5X3PZ1PBOg', '3ZA_WpdbN2niiY5j-ECCrw', 'hxYO7itJ6OO5L-k07v5SSw', 'NP5FB7YPXCGmh-yY7ePXqg', 'c43CJufEbMcQT_tVZXze2Q', 'iuZqgODqdjlAEyF8VRoMSA', '6oX7uEArL9uo95lz39y07Q', 'd_WLO2D9H9T3U9VzFghmRA', '06DGEjMQmKha7xmiYuzk4g', 'wR36RGMqF6kAa7yCSU0lLQ', 'CjTmU0APoNb6i1TkGgWnkQ', '-u1WIp0oIdmHj7s5YfFcCA', 'uegVWL1gWCq24i1qZeLDaQ', 'rZyDz8jVxnIGkAoMYQIFjw', 'YhZrS5ylg3VvgLrOylqHbQ', 'bePiA8Ik3GTuN1N1gdcYHA', 'kIxLirHwZFxaL4Ta2mo7pA', 'RbT4U62D8qoDcqIcXF5wIQ', 'K59tH4oo2biOhog9fRQFkQ', 'qPLWp_irItNKV70IKLMcTw', 'fQTXi9_HvBq7SQPKjoPKVw', 'guGaN0JFTw-n7ypXZM_JSw', '2MlnYrsflASuUMiDhUbUhw', 'nZY6iisnZdOQDsgxkimlvA', 'kxqpr_Moih-0P35FG_d9Zw', 'Fn813f_o3VMUchbe0pdsbg', 'NaOI6gypZ95xLCKJWekzHQ', 'NmVGP2uyL7KyznRuPM8uog', '8jfijQtQwNn-_I8ZHjxFAg', 'HZsOnXN3vmCD3DntAYMN7Q', 'hHuBMwOhD4D2vE8_0DfVrA', 'RENDi6PaDTaVzJFMxb1IQw', '9m7BqbKJVH7bteo2qt7kyg', 'WULQbzCG01NK5oU7M_i8QA', 's_aWG6uD8LlwS0ZHN9PB3w', 'vivQZWy45qQ3D3HqVgXelw', 'AlogKiBvhR2MfuI9yCjgcQ', '6iMDHGCYRwESPo1LWbC-7Q', 'Gk7L6U_lddqOznlZqucAKQ', 'hjBtfRwrle90-57KOFpImg', 'dOVhxrhEZm4sUYK_FF3dcA', '4XRXnXzNFGXAfFp3spjTCQ', 'RJ0jlRLq8HDFE0GjxRAuWw', 'OAM7BhzOehs_OufA6lzisQ', 'oY3F_HJ-25toxv8l-_vMoQ', 'Pbq1ZIcAflmbK_5PwHtm7w', 'OWZnrOWr__JfTYfEi8F8lA', 'JFSKCU9ZKG55EEvBVRVL4g', 'xkNZht2SZsmPxwap0tegMQ', 'vw7xSZmpBRpQWqvs30xIFQ', '3k3A7vsi7LKIq4L61lWM4w', 'l_mMdm8AkB_VSh-WAvcrPw', 'gmBZfJHMgCTsaxHiZ3HDOQ', 'VnHYAtZuEnO_Fr-HKCqj8Q', 'r41-EB5YxBKUaGvDbNJ3HA', 'SE0KcwPmqFbACAQI8UQoeg', 'Oy2dflVMqvNVTZPffJVWhQ', 'BuYmrhSGaVesqIXfmy1PqQ', 'x-3Q_bfJ5LzABug0BN6SWw', 'PXebqD-kleit-brcrqoMJQ', 'PXZaBTK4M6GK80ZosOUZ9A', '-dngcdBWUYf8lqHA3otKuw', 'eoPAM9Nz8-FqWllsA5Mb2g', '0odHSmkEarW6xtEq9QIndA', '33yWJQYnWg3H8FDWp4rUXg', 'zQgYEbwEWj7UyzTf4w5m3A', 'vM6m-2crdZk00kr7-B7diA', 'QkeXSGFWEgm0fs7qRBBePw', 'iXDBMxW75KIJI2K9r6zAZQ', 'atIq5W1N6-zPQwJCBdhIPg', 'fOa2x1cZRsw2m-EkR56VTA', 'lWwITmKwVhtM5U4zczwOaQ', 'yX5t9zwFAYvSZSFM_6a_7Q', 'GOtGKORYrg7wEVvcFJia7w', 'iJi0vPAVqoSL0OyyKw0kyQ', 'Q9K2w8PtkNacKMH1bgS95A', 'Xq9_x1rFKdN70H9aTS6QEg', 'AkiTkRZiuwI6ZFsLcC4RNg', '_35vfk8EiSZmtFUvC-tQeg', 'PNGhiufWh_REdceWo18vJQ', 'FO2MgN2nPNcjFAcWYP7CnQ', 'DJraYJZ-wM_-YagXQX_NSg', 'vSAhEdIjfGqCMddnFQGNzQ', '4kv-b_NxSVaiag1aogL4Rg', 'FlJ06LtODOh2IEuMG7RS8g', '9skZEygmnSpSWUSAE3-Z1w', 'QueTrftadtStt3ZsIobL2A', 'eYWp0aMmS-ZLBntRpP-Dhg', 'p8UvRhYqhg0djH4HYyoc9A', 'MccyND4yzk36OzsQhvWvGQ', 'HYZesCqBy2E0KKT5IeyKqA', '40XLITiQZYMj0qztl7QRZA', 'LEaRZU0pe82OQAAkkjGzXw', 'MNq7DFxC5ykNqNRAastouA', 'f0xNs_9WCYCzp0g2MwPZgQ', 'ntcz2Fm9t5eu_PliqRoFhw', 'kK5_5F7VckanqHfcuYQM0A', '2HGcieV3PL-rTQA3zjyghA', 'hWVAyBPXPR5toGuJoLSjIA', 'YuCYyE1lzcEBEbFd4iQz8g', 'JA8dVgLi3p3crlMiC0aONg', '40fFKndDAer_yfdZujTFOg', 'LT-EVYYyfcYWqVlz-T-Ycw', 'FLZ0nHJPyOs1t-ogqTlckA', '4FnHugKJ6ZzRsF3UIv6p4g', '5GLLnsnWq8Q8-Vaw3_hhyQ', 'DmKbVrootoR3hupnZPLtGA', 'l5JMNjgmEe2_2rlrch9rpg', 'QcPN-Dee_dU2IWno-f2oYA', '7ja45azEZGS-ZmGhQ3zBHQ', '3anK-a6vASn2pfOWHO_pVA', 'yqpl469_S3OSuOHHTqFDzw', 'DMNqmLCzm-E3Tg68r5PMHA', 'uQJO2hmkO8dzTLmEHwlW6Q', 'dXwlVnQ3NehfaPmNss-5VQ', 'OrdurzV2PhoWZYQF-eFNTw', 'MRreANVu_vy_99xq1Xr9qA', 'nGQ_bY6Q0OCb8J6sk-Rr4g', 'xXPp6fxTzc-ZprjRmIW2nA', 'HdV7Rv3yYocJnsEtR1tyNQ', 'PlbF-y-6VvX9yBRQb1xvuQ', '_yZJn9ic5qXWfBHpS9BxPA', 'Ylxdwaq47qz7vfghGJzoFA', 'meTqDCM5baF5HiqjXOCHOQ', '9veoKxeAw5W7XCENUWOM7w', 'TMl2d6onknezk27dmdOnjQ', 'exNFGt8xvL45sX0klNBkag', 'mDLZ7WpvQMn2ElXbBgzdVg', '7UTIt0SPSRLYloWTqVJBQw', '-zLNlunp2QPqFHZieMjaTQ', 'pCzllxvIr4lg7HnKnZ1rag', 'ZB_9kIehlKtfpFHZBpC06w', '1PtHiKwWRoosN8Ls-2PELQ', '4ZRGml9vEt8F0fKWvYSYHA', 'hWzEicuhQjuB5ZM7CVPAIw', 'wOmQaom79yfS35EJH7CkGQ', 'KNFwl0nTvsUPvVlnsSLzOw', 'ZMzxLGZYCtplGN-gYSU31Q', 'RJHtjc6RTGgWZ6WMlrFmDg', '1OQkUIg5Uv37A51KyXFMEg', 'w1ylNHvCXarz9sKMC93l-Q', 'rBXpkdzH0EL4WE_xVapKtg', 'Js4nQlGRjS1Bd5vsAQQfgA', 'JF6qFVtvsx7Vf4exlDAjdA', 'npgvQ8GFIYWaaq2LOB1hHg', '6XP4x2QpXaTbmQghxNPBhg', 'H3rcU3Oz4lEX3NZfrJytzQ', 'zyoRYfLhwUh35MxNm6oD8A', '44qX_0kH0xiGL5MU5GqpOg', 'Fm7MuJN9vc4RajG7H8_COg', '56imiWvGmK30o5YWDY3asA', 'RS0gpYgm41y-yzCD6T66Qg', '_4Xkee1E7HdTQQ3acIil1A', '2q324K_6uJkmscCTF4s88g', 'n_N6sqps7mtLbjFXPsP1ag', '_WP8xE-ETsyjOo9yxrjH8w', 'ZcxQGodjJMdw_eSQym6C9g', 'kbI50eZZwS8-_VWNYK_Uvw', 'MLdvc2b4UbxiajS9qZLG4Q', 'r_aoAZiyccmNNXcC-6kBZQ', '6jHItnlvuM-JXH1LS8j1gg', 'rTbVb7D-VCATTpo-27HiXA', 'rAWhfkh25SVd7bswGyKonQ', 'SKZ_mc2iVO_MphcgoJ7M6g', 'IWphj-uA2LV8sYQzrFHzkQ', '0eA9hCrYaSLcHAGotpMHRg', '5rPd0idh3sr88G1-EdyEiA', '9M8-q73NnjJgAyza9CyPcg', 'ocgP08KWusjsbJcUs_5sAw', 'DKYjSGPJcwA4gKRCS4zXVA', 't4qJPv2nvlovMYtWChtOiA', 'CINYB8n0LoDJS-qEMpD2Rw', 'dMhq39EDlZeGUT3DpYl3ew', 'k1h3p6n33c-E0soY7O4mzw', 'YkpB2qURVH7Uck90DCgXrQ', 'EdgV57aWQNyu2GfKuNLU5Q', 'NMRHsFAWC64eye7pROvS8Q', 'Eba3CopcdYjm_5ygH5l5xQ', 'hWui43KYGvq4aHpIyl3new', 'nL2h8Vypn8fhOXo_mjQNtQ', '71PVh5VKr_8KDEKs2biipA', 'YgtMPJt-kvlb6I16hFvrAw', '0n744gRuzFXIRDAXC2LrdQ', 'BJ_-TB8LOpEOrbKHzsBRnw', 'pb9ocFPLltlXxUkm71btBQ', '2iI2CjJsmXz8EPp8LzsaCQ', 'p1ts6IsPs0Rtjs-m6-EAYA', 'XuS3r53z2tpM0FmSVUccjQ', 'ZAOvKAGtQ64h8UQVqwoWCA', 's1o_7P9y1ws0z9pddOaXFQ', 'o0lG7Ao-pwxMLuS6AUcZow', '_h-aJqwgHWe94ee6YnskPQ', 'mIsfRvvQiHG42DM5aTlTgg', '27BafCvw6RcVyd_pVmSZig', 'QZcK3c0tysp3PXb3Qgq6vA', 'z7fLp3jv7hsDJaBZpsKRJA', 'zFJJQfoZIp83VvECxpxWHg', '3ul5uNQOiOatoXnbyiJEJQ', 'VXVLEfUJYCYPeRj_JD2cOQ', '14AqRFXVUYzrpeOeyKBxgg', 'wFemp1qnD8oOOq7cRPDf7w', 'J3CSvUUe-y6AOg_W3X5y-A', 'KSBtu0S2MAKtwc83wB0Mxg', 'VPrh5uAjaM4rIBmOxwAwCQ', 'RlfM67CZ4NSHsa2sJ9AYIQ', '7IBfaHrUtkEXnbcqieuBHA', 'un8nEIpsYHFKqoC_XGoaCw', 'IwkaLK8esfkLGhwUlv08Mg', 'UKmqOalwhIUyvRAUT0qr2Q', 'i5MYxf-aQEo0zqqJfGqhPQ', 'jCeZsZ062LIpP39ZpwDmGw', 'w67CZ-Z9u4tlOnAgLEz-ZA', 'UG1rqQSEsjuweCSs4zancw', 'scdMb3EzKffTpA4WImvCyA', 'jLTaxiQlbrOgiQO0BRbxjQ', 'yycKC3KywYU2rOtYKXNbtA', 'MjQa3Qgo0VMnfALNIRMYYw', 'OR1QnMQrN5snyTTpnFgoKw', 'wnrL-0fnI0AqpqpCJcErVA', 'LwBNpE7HCe3_xF-K7fraxw', '6RQbxyDobI8KEtWObjshMA', 'EczzX9DWaldGGbEfuY89Mw', '8mRP99GIXW1tAJFI6C-MwQ', 'FqhsXkGZV9jhfMVk6iqzHQ', 'lkaDTdhqc1zlDHFEqcaRKw', 'Ob1pGkg1Z_3UHrMh1jpRfQ', 'FtA6AFYMWx4WSUm7wwcjQQ', 'lh_t0PKj7Cpo7ll0r3MtGA', 'YHcbi08t83vIvP5NctGhHw', 'NhBa1cTsSuuwyUuU9ElFlg', 'dJcuz-ifJsvjk0Cu4guTOw', 'jj4cedet_3bQvkg5BZfoJQ', 'ctL4Z8M5rA4ECcI5nbxlHA', 'zH6jKkSP1Sy20-gRcmprdw', 'axdF-jAGDABTNERwhbY69Q', '_zzqtaUHX1nH4lRWronhmA', 'FWXVuetAMuApD0m9DJU4iA', 'XHn6kkOpuZxD-ExifZio0Q', 'GPC7zEqwXExIG6hKGGw8xw', 'pmeGrUv6S22pf38FTRYCzg', '2VxZXVDlU8Nx4jW369HazA', 'ldZ_gdubyMwtWzkq-yEhdQ', 'bPwEErA5sH6AAI82Bwg-QQ', 'vYZyDsS4c5vdG02Xuo8kAQ', 'la3AtFncmPOuhO0IwK3PUQ', '5lHiIyBDAa1wAxShSq1dUA', '1B6rSBowb6AhuDGZZU9LEQ', 'XT8fIRL35sQ2Zu4UY9NBNA', 'VEz1Nd8xNxFbnLsCAfes1g', '3m3JIgG2k7xAmlpWkT7-Mw', 'G_4q8efLbIunMg2G4fmTPw', '9u0eySSbzo_nS68QT-9s0w', 'HhCOJCZZg6sxiCcilFVLCw', 'bRWGqQ8FmXNy2-qrh5ocIQ', 'uAlE2yQM7IjRO8lLL19RtQ', '2P4U0xVGmUM74Kk70OUGBQ', 'K7AUCEEycnhIhnHlhdHJ8A', '1ceL-WJVfzPVxVXPGAEFPw', 'D0_2XXRgwG-pTmWh4c5o_g', 'NSZ7tXqZN6KUbreubqKhxQ', 'SDdUYiN91Y956gkUHENPsg', 'ptjICrAuzzwWp4hdJdRmdw', 'ReqGJeMeSVuGPTPi-r581g', 'qHmLQQZF1GKrU6HFZqZqGA', 'yU8s0gp4bz3URT13vQENhw', 'YBzoQM9QGgnAu2A6JnCVbA', 'QZoW5p5dNXxL945ZxbpDZA', 'IPgIaB5378iCkxJZTROfaQ', 'nbvSbSQUUcH7K5UMbY3mOg', '9sinL8rVLtIKHSQFnFzbDg', 'zDMQ2et4lpQ_Q7_yb67Yiw', 'wkY5tWnY43-vHjRfMotCew', 'LaSNbYWlaRwxuCICO4-yQQ', 'fxCAKjk99bmmotdv2j6b3g', 'vdxp6ZC834Jy8XnBrxt7Bg', 'uBqEvcEMTHglwhcQyL9_fQ', '9U2mjKM5zMtrYOZrV1tnSA', 'UTiFbjGZ-Wch7YPNjG4_XQ', '7mm3WI4on2iypql75fvdPA', 'UxIRu7QeIuwFgodDwi0wuw', '0ACbPDhArXnY2mbfy6WuzA', '5SXPUu8ae1v3g_15cZliWA', 'YVaFx0Ru9JcwGupIrvaP0Q', 'qn1NZziyQoPXXLzgJ_iQgg', 'ApgaN0R1r8fVujbSGnGQLg', 'py4C4y_QgLczJGEXW4F3Cw', '_FdKhbSRV3Nd4HnzvnglOw', 'estHBQF2StOygx3vCJtKHQ', 'ZCZQOIV2hx802MHZGF-8cg', '2l5v3nzeE0BzHIVUPhKQiA', 'qD_LRYvgRqUJOcxNTxpHGg', 'ig2DctN-JVg_eCU934g11w', 'MtiRzHE4QTr_hqG4O12AzA', '8FqWMjQpKn1_BF4lC4F3cA', 'Azs-1pFSk5OU01i9dK1tzg', 'n8k3nMjqRWd_8pKOsemXiQ', '4qKbVHBPTS8x9rr4-wTH6g', 'yEqhK3sjT-KMeiSwiEWELQ', 'XOx22YSyRB2Z0BEIFodzEw', '9QJyeROvbYBDsnQbfO6Y4g', 'ts7Kqu_e7XbipnJodkXEZg', '8YLVgcP14KP_I6WI25f2Uw', 'o4W-L__qOkbvo9rAO2cqkA', 'McLCYeRqfjrphimop2jMPw', 'XXLV5IqeBj2-627V3GgoUA', 'nlOUAyFBbKaUA_7N-8d8zg', 'l0jSIokwRmZS3wzSrB3HoQ', 'LPv176CEXCl7Ggls98FebA', 'Xa6TmQY5CVwS8aQoqpjMPA', 'p9nfkNzBrJNmYI2TALpYKQ', 'GEMjvfeQMMHLMtHcHOV5FQ', 'stPBqdsWbTEaymJDnXvmNg', 'cA-aP4qy3-RGqOl_fQv4Zg', '8KD04ydiVkT3I2kuG3JF6w', 'RkpXy2GrhhHI4uaJdjetfw', 'qGwbnZ2zJsEUzitds6REcg', 'wa_5LpqqzmPqyrgHBp5fYQ', '3v44gcqP8oY2-RrkoKQdYQ', 'FJmu8nmV18qRW2PaiSj2EQ', 'Uq4wucZLfJTpcwSA811yAQ', '8rpk6X13Flu9XYiarqNvLw', 'GAkxMu7qy6FmaEIT2Gs7-w', 'GDZXhZYCrJA6Q4APQOaD6Q', '2TQulLTMrLMx69xYSW8HLQ', 'pILwv96yeZsmUjglRsSuDw', '92ZIeZyEx2HKH8WxHZOvZA', 'h5bOFZgMI_KQm5HFyhWbXA', 'QE2PjN5b8f5oKprS5wT-yQ', 'tuPsxgpFLqsogbMC_bDH0Q', 'VhprWDrgaIgl7EnOPF15Xg', 'Ieyxt-W9E6M-9101ZMnsVQ', 'nb9NcUdDqu_9TVT9fmv-Dw', 'tWbkGVjvLWuNAWWOG62Jag', 'gdjV0V9_BnzZQvAIdhfqjA', 'kvBDQp-NaCkfUm2fWXbf1w', 'tQXmEW19KS0ynhYxLra4RA', '06zWWXOWx6GEUFcgDmvVWg', 'kplh74WTyjpFZCcMi1wGdA', 'COqh2l7pr646ye_iH1z92A', 'gk_eFaQ6jFAnva5b0PpTBg', 'cq5E9vroJKi1IWeKC4QszQ', 'E1a6eYxPQqsY3iCwUEXJHA', 'Ehx6-5QUDhqN_O-BwWj23A', 'azC96hSQ8fuVSl3xH7Upvw', 'OTYqYydC1_7OaJ0Wsx4BIQ', '5NoSASs1917DtntVSd6QUA', 'HzySQtm-HREFGUocRk6aUg', 'sn4DmZK5X6h24Msv6fboyw', 'vyjs3klh2MsqI_P9VDzmaA', 'lbtR9z9peCNr-YtP9Y0yPg', 'NGKlW-6DMuL73uSEFJyLyw', 'MXEFT3vZYil7ZGCfY38UVQ', '-nnS8RW5JQ5upcjmDgK9iA', 'iRE8dlCpf8DFr4ouFIbLKg', 'lZM30R7LmwildQ7mdsmwRQ', 'sLSAQAIr_Pm-l8kan2doqA', 'YQjEbZpRC6DZ-b9UwEj0yA', 'MpouHqs1OerFIMIlnTxgeg', 'w-7vHYrBSZFadZ20ORsdDg', '7wg3SYCtdKsChNrBZue4dg', 'L6c4F99Rh7z6F9x3i8F93Q', 'GdbQq3NUWZoO2bczstsILg', 'tvWHggmgOLHoGDxlLBW9Lw', '89DWFohCWCJrFoSqnUGsmg', 'rNPFIeUVjstyLuPMHr0MBw', '1NtBKCmdlPC48FsZtPiF6Q', 'AfJ1BC83z77I9d7j9LNX2g', '4oY5_jCSvIbjXZN3o2KN4w', 'mV2eGVvcTzGCn_uRTOs36g', 'xY-cIG-AYi3s_oJ4CyaudA', 'UAUI3l-duD9Gb66-NENgDw', 'lnFttlDCKdXPP3SktYBO-w', 'UFu4fS0AEfBWWh5PXzjuNg', 'gRm-0Igu8nuCebTPB5l-aQ', 'rCc0OeKLSWMQ0OjGK0nVWg', 'NFq-yYUIHjKB1h3HR4v4FQ', 'gAx1fwb8UF_I9s6vwcvScg', 'wsfGUSQ14vLNlibvzvhb0g', 'FY2xRru-oJmv-d_rh3rhAw', 'cIJcYjrOveml_B2N4Oeoxg', 'lAOkhe0OG_hH39bFLlmxaA', 'ZHVVwXtREDsxYXTmg4hiIg', 'rvDFdWk7OTknup3j5p4k9Q', '3Y6s13mAhtQ7tVNnAJChag', 'NKHsj5g36-_2j4QXqbuSTA', 'jq6LMiWozirxjkc-KU1Nwg', '-Ea7x1t0IOf0ySQaKZGGdg', 'DS63EolzeDMlpL8TcYI77w', 'pQhp0aS--loxFL5qt3hpvg', 'LPPVPkHe9oSONpz1YnyFvA', 'uPsXKUSMuVWhzhbyGCxHIg', '2O5bZVDrUZ2KetfDMzFRow', 'iKWWQN8lk5JrIwQ6MbDRuw', 'UOxuNzjOxIC7XyOkbHyHuQ', '4jfwwiCeymYHKnwWfUsiJg', '-Tw4tjsEfPUfrqVlXXHw7g', 'jrU7VzRGYRlb8tGtpl6sTg', 'a5QS6g30nM4q2XFGP6Po9g', 'N4Cb2-n2WU7Vx2kaUtf3Fw', 'HXBfLemmpw8CFLxMqgcVPA', 'H8n9aOF9dcBRD6wd-hw1zQ', 'pIlqUxu2eJ20oX2090izbg', 'QnQxIiDMhK6uRmqf7F-57w', 'tSsgjlopMRvlBVZ2y2qTyw', 'MmortvZvTwVjWTEYx91zbQ', 'KHhwiHmyAHtBHq8cy-gvyw', 'JfW7s1L_PshYujUTNKZuZw', 'VgP6fE4asYmL6jAAPSl9Zg', 'qH2qthURJfYQyX4UdMa7Ug', 'IeRmXZd4ZdB31pPycwj9HA', 'o8jZCx0iffzogZzkrCYeCA', 'idHsGWPr3_ke_58enobrjw', 'yxxIz38UfZ_o37EOnFFC3w', 'KBtpmLPlh46tRIgnQzZaSA', 'wozGvKvjvJ1TnGCgpXKU6Q', 'pNOgbiOm3wOhqw9zNFCuDw', 'acMTOeMtsBuNd15pUAy3CQ', 'IkrsOS2oRT608SkLht5AFg', 'FJG6TzP-KjBeROsGbtb7LQ', 'LDKP0bAYVx4E9YUgC_DaLA', 'BpUW1UigAs8uN7vt7U4Z1Q', 'JX0YhkUpgnrcXYJRUFYvaA', 'dkMecffl3qMcwpTsgteWpA', 'lxKuAx_rc6knKg7GTfuZYw', 'ZHfoPpu_mtFTqfr_8nzOew', 'XK7ZotDoZUcI8EJ18CPfEA', '_DXg9oWAfkZGsV1Dwf6iJg', 'D0L_mS1HaO4KvWWFmOsTiQ', 'qin51lgsonHALqpBIgTwmw', 'buF2YUfKm-WsaVs_EVMdtQ', 'KEwNIRPKb0rP8uN8Obv_NQ', 'CXKptjJG5g0qhreV3I3RYA', '7zBGYTcyvilAqPqow1lzSg', 'RAz6_8oigNVMKroDv04Rag', 'SBB6dY4BnyZRNg0_iMffcw', 'jHvXXqes3jPxhzj819c8vQ', 'uf3e4ZhwWXtGBci7ls4BIQ', 'c_vVsTwwWaPyifwXfJsHdw', 'rMblKtq9D16pA0RlqLBbkw', 'PjqaSTdUvX4bXa3Mv7R7Wg', 'yD9g_4vtWY79fYsYuz3Hgg', '2_aYGBPaTFqbz-ERocp-hQ', 'KkXLKtno7T_CgUCJdAvw_Q', 'r7BcBnq2YjrvJXo-NqXxTQ', 'CkyhBxM5UskdB6vd8B_7zw', 'OQ1oQM1if-2wrTICZXM-Dw', '4rVKO_vH__ywPPFGlgNiVw', 'Z-yRxHhGksKAlnRlx8pB2g', 'zu-QH9aNfZh9JfYPZHKtGQ', 'EJLVEJhKSBUQ-Q5bJdg1KQ', 'BQl4XL3TfvybmVz5mGIAzA', 'hzxVC41AInxSmw5Y-IaR1Q', 'rAoeODrG82TXKZ-ypimmQA', 'esGoku0Hz_574cmmWP1PrQ', '-1_1-fY3riTZcf4UQ-Y_vg', 'wRsX4ZWr-_VnAWjaYfD5jw', 'vI3WH8SbkK28C3rujog9cA', '3bWgK7fcQXSjeOj_5dP7YQ', 'KAaIKF7_Rbf8-xgsgR145A', 'ExUiZGghAkR2bSGFXyfYlQ', '8DATfDppsJe5Kll0dUq_OQ', 'lmSgaTKKJZq17RM65bx5Nw', 'EYpbl5qS2kVTzUc2Uu-X9w', 'tQDvYV0qz-Z0TDp8j59JSQ', 'Xe9QLiP_7p-QxKjSLEvlEw', 'MihB5UoVMvjA-HnQlGkROQ', 'k0qFH24DXkEkx9w10TazXw', '1rCBATjoBrzoURomP18tlQ', 'bBNMKIK258-2Cg0JX1b1sA', '8kYqZOQQw0lMd7e0dAYVxw', 'uEslfW5ap80BnsBlrqFQVQ', 'T-szej0t5_rxW4WlUD9N7g', 'IyBvHD7noOFaxNofAMDq5Q', 'GulouqKHCP65gN4CkHj4Uw', 'q46cPO88EcvRXaKJrlTk5g', '1UKSEjkkMyzLau2sGQaUVg', 'csVJBphBPJLiPwfqaNMfSA', 'n2tELk1BoHPjwmhBb-a9nw', 'w6XK-yEP0A8Pmctgb4GoqA', 'FhgGIcoZSNFvRApwVW1jvw', 'EEizH-vQL9w2n-kJbbUl5w', 'YFw_HSxtgWnPw8NQ1oT0hQ', 'zTO-vTr-Ih1Qv5aOj4IrQg', '2ggIGl2G3AnhTQGgw_4flg', 'SaTQ0DPuY6fAr1G2dJblvg', 'XnYsmEEWsxMeyA9EkawDfg', 'EVIcT6D8T79jhlHoL7lOkQ', '3rbapoe4NRAa4xHqLQ1g5Q', 'NJH-x_HAA2lJJRzAn3Lh_Q', 'icU-vlDPppWr22m-3iYw0g', 'jvRTBzQUJ0-xRSi7Y2nMTQ', 'q01p57VmSqS01QyKOOUneQ', '3fjZzxhAOzNnZXflc6jdKA', 'xn0F-1EqTrO7TfqTNQ2j6w', 'kJmVHN-GMwVrteextgp_eA', 'VFBCY0_VjDVlHT6JWHJByA', 'Pb6CV2BDoMjStMnu3a0YWg', 'pVIqQkgWGlSzv582FoMCoA', 'N1BXZWz41zwobff8SUxZLA', 'O5_5BefG8kmyWujbohEIow', 'kn5Ep0DZTtGp1dpf3NLOKQ', 'u0FLjYIsr7R9zaCJI-F66Q', 'ixShdvcgKzfEZXo6dvy6Nw', 'Yhak9njXDvtW7BYUzPzQLg', 'fQ5W8rPjPKuxlmTJfBYUww', 'YIb9CYnj67xmdDwLjil3wg', 'KY8rMIfhQdEa0hoW0T-F0g', 'NH-2wrGmjhVSOO_Czf7xdg', 't2Tz38e8G2A0w2vrnsuyfA', 'NNm3_Ao8xPOJ91kw0Iw0jQ', 'jU4f2q_AnS5Gb8J4HFmGYw', 'ZTyIvlWZtLt14TMbnagTjg', 'nOSWGrjT4HIpDohLAOpgLw', 'LQ5PUi1fQgKNkOVW2DSLIA', 'p6vHor1IUkSZVA1psy9tew', 'Xmf0hrZ1S4zBcQ7GmidJ2Q', 'xH5B4LrEQdW6Xi5UEVuO1A', 's0NRpxSzv74S78MwEgptzw', '_7QW76qSGSPxgOhGX6f0mQ', 'Kl-okV3Btt8FGEKrwjGngw', 'qT3_snZAFAwz3YZXbv_Kkg', 'SpgKqYUCiiUS_JqmZiLP5g', 'LTMuucW1JdDMkUUL3nA3Ng', '9fieYahDV0b72_usul2IrA', 'EYxuwmvjX0xribgekqUa8Q', 'hebn4Boc-3q6p2JkpPLx5g', 'BgFL0NXsJAlZCmj-vxPPqw', 'q_XWuw74qOyQ73b9R7xY-g', 'bl1JDFFbqbuX7CFwGJU__A', 'KsSFEGLWeWbsr1wqgwBLgQ', '-oSDjFsKvWHV5ju9XIzzAg', '62lad75fp4sZnnJJI-cuWg', '55zy4G5CpPr5AY-6FaRnbA', 'T9YGYzS2Ri6HOXwWClBc-A', '-xVIByydSp1dXMyLwqVq0w', 'SI4qK9wB23aLOA8KrwkVJw', '1RKXN8HnIeelHjWDLJPr2Q', 'LmRxSjvSPR36u5t4QnGwaw', 'jiQbUtntGC4BoN2T9zBiIw', '6sDe2FaEQ90ltt4_P7MrdA', 'aB48d1171jpkQSjdIjsZvA', 'zzKmz1xgv4DVWqiGVmwulA', 'yUfxAFra_mh3khQuvN5WUA', 'trVWXXBxG2S28jAv5DUExg', 'WwePnTiXEZs12YYq4G6dkA', 'v_Pgu2VfAZH2ovatmINOhg', 'MwnVsvJvHzazUUg_1EXRAg', 'PsFg_0m_PebEMz-LG3LpbA', '09_Mk4Mdr6cqw0TYP6FHXg', 'Jw7S_Pm9aAp1A39It5jCkw', 'jfMDDBhETxTU7cIzoSGNvQ', 'Bsbumyr3Of8BauN2URK4bg', '4K3ItmWdgO0tBahvSNzh9g', 'fBLXdpqEOX11cQNVeGkVOw', '3qVm4O8VeP7M0ulvMgLfqw', 'Th1iFsnlCqsQd5HrInshVw', 'qo5uxVWEwBf60UwdQTH3KA', '2qKG3qBim2L0ZcE4SW5_ng', 'KuKl2RGYpoL66bA0BDEAyQ', 'oph9PaSP_ZNkxK6B9oz4Fw', 'MtYZS4y0i3FFeA9-W_gOGg', 'owCe1K89i1seEMf5ynxtZA', '2mkRmbijLsrRHGec9AArOA', '0Ezrbv4WZ9glTBx2bXakhw', 'bPjDMubgu6E5lVPitH0obA', '5TZKIRtzPoVkiDJpADCksw', '-1MF2tosrw2WcCxeVNk81Q', 'wppcwSq8AR-SrxzpkK-8bA', 'SGFnqEgRDQqqlQr4Gpadkg', '8Nmy0lkcQIWYdjo9AzlYWQ', 'CojKlhPSatX_WuODXk3D3Q', 'reXenweUYL5HPLg4e5td-w', 'qSGrWLuc5BIshOTeui73Iw', '2cD-2wyfpHcdEiSJRzWk4w', 'tprhPLNj8SqWo8s1_MAV4w', '3fFYK4wal98NL13URQfhlg', 'pk6UlPAJiw0-0s7zvX4TZQ', 'ZQ6SaWr3BS6YRNZp8A305A', 'e9wSy65aNT5gK8gWvEH3_Q', 'GnbSuluGaDzgfXQwg7zP0Q', 'J3YiV8zSYnX_q15O2QOcgw', 'ze1X_gmaxuoGavAglMmeow', 'cr2fNI9480_n31KoXN4IiQ', 'q-pUSXfl_U2Gbl1mOKsb8w', 'yN5iD1E823lXvmcfM1rvdg', 'Fd9CHUgrwOGPXXUTZUuXnQ', 'mKBnoa1WEg3FSzC0iJCYDA', 'asyTd1MHzTrP0bAEDTV4RA', 'hVnvJXX-AtJAQg5HF6bMGg', 'Mwcz1GvUNb6h59GrTrrGfA', 'GPR5RuHmbvvgRe9vHyYHJg', 'rR2zEhWItQmot92x0ZZIwg', 'XnbFG3AlnBqnIFUsoB09iQ', 'zIL9WxxXgG8HBq3Z-w0eFw', 'V8_XDmgzxykTq43a_19NZw', 'P0QOsr-hqIfDCjSQLlkXGQ', 'ZKNlrD9O_bBMVmtIXGfzBA', 'K6K19flWTNgd0iLxr1un_g', 'fv-pgPcize2zMdbQb8TSXg', 'ZUTqY6tX6sKsl50Rg89dwg', 'YS5QUPJ-__B1L5ouhNH39w', 'HatAQHF2mDDbC5Rg0vlYkg', 'PKBf8PDrQnuOtzcYZ_AMIw', 'Cjjvh2nn0VPgYpwDFdkKpQ', '7nAFEaKWtWecCYDsBaiw0Q', 'AZ9e8AUXf4lifOlVZt6wJQ', 'JNux_0aJe9BiQf2qZ5Qk8Q', '36HPZqeczlxs03vT7wnWOA', '7O2Laf1jvVju8d7t2WLM_Q', '6G9a72dEhXcb1uh2A80tvA', 'QfW1_hFbxod536qIq9SB8w', '3YZrwgsl72J-cmDyX1rVLw', 'xWnybbIFaZTijQV9-UOfmA', '9UvSovD7dkucIwBRvMJ1EQ', 'n5rAxoDjkKKdvPeJLM6gAw', 'AV87rPjdq-F_PEuiRwwoOw', 'ASu7G1U4b82YKzoG9tWaYQ', 'qQAGOghyXx5NNXOwgU1_Xw', 'O4KfUMkudWgwVPSMIWnOUQ', 'vkxpNC-St8NDl4oDrtiQFQ', 'jcoJu_a5CcXwy14cXO6BLA', 'TExoFRg4122pmfc7gJbBxw', 'mUhKjP17l9rNeul2JNvyoQ', 'QWosDmF1KQRxbV8VxNj0qw', '0egtNobrGLn5QOda8LF7UQ', '2YSfz-WUIrWinkf1oP0Y0g', 'ludB3Pp8t9HCJSBifE1D0w', 'F3Dc5ZWQtNDqwxnx-GQ7Nw', 'qhThhWpUsgyTu3jTfnbnrw', '7pnAZ4xYS3koJrTCJby09Q', 'RWWXHxog0xp9wQsVraJZHQ', '_cTp6JhuxCaaQ45sJa8wpA', 'W9JwXmUSEUJ_EFWXysu5tQ', 'f-Zk7vluLkUDTQHTpnvCOw', 'rrheeDQXeB3anWMNvDibSQ', 'PqQgemFs2K0f8dPiejwnnw', '2QfJ8jiO0YPQia9NuEaw4w', 'NXC7Ud3ia1ECu6Jzhqlzvw', '2SfI6j5f1jD4hJWObGa1Yg', '1Ni3iXT5a9g7yX1zyFKuSQ', 'Pawfx4OcRqHObTJ6rx9eiA', 'eLw7QxjXCJ2nD6kRIuOTvw', 'RM3TRPn8TTVrU8vLp6su0A', 'Rz0pNMQbN_Sch0Bp7P4IRw', 'oda_3OJtPUVQLz_VRUr8Mw', 'X7ge_HrsuYZ0tujE0lVl9w', 'XEd9NXBPsXkenKP8Iaa5DA', 'IQgMhUp18DDixjYLPLDkFQ', 'wMESGqTVuGgn4n5DDYXujQ', 'I9k_OEMn4MEPi5Mof-3LPA', 'VLHL0T-RiJpQDO8TduBMhg', 'AcbxaWBHB65_DQVwyo5pdw', 'mRjcRxo_lAB99_rdqqmKWQ', 'I_baoNlcU3Pfhztma5KmUQ', 'mAXea0In3Yb1YJ85kNM3xw', 'CAfy5cK9Q_q0lyRaYCpYiw', 'grK7BfjqeIZwJXYhwG1yAg', 'Ht3m-nFXkrEM0W4Ebrjzrg', 'mYun5WZf7OufKK9jGhwY-Q', 'WbR75WTEdf_tiJM_vJyIYg', '2H6IKdd1DokQh3SV2VWCjw', 'TZPsABv-sMnreTLwLsg9xg', 'UdCuFjtj46t-sAs8sePg9g', 'yapc8WuRou2PumjHTVw-Ig', 'BH04fLYr8DVpdXJCIGwN1A', '8DT8ONjAQVth1jBPaVVKsg', 'OJ5DJw2I9uE_eLoK-40kZQ', 'gvVzEVqG4xBpEFJk-3gDyw', 'GEomBPlGsYjKXzufjupm8w', 'QaoXLhacVlI0N4R0EzTfYw', 'HZoX29Baj4mCcCoqY7FZUg', 'GmcQs8zLj-FlE2zsfpW1wQ', '5FaRTiz9U9purGvpEBw1-A', 'ybwKgOck8piKqnwGg36_BQ', 'z5Qtqd0VqX_Ouhy3ZLO17g', 'J-GDAUFTBzI-6k8FAPutpw', 'SidjvcCY-SABHNiuPVB0ag', 'ut87qePZRqXGU7afRluxiQ', 'apG88uY0OzslXtxjSPY79Q', 'op_6hWe4Hooe5Gensxjs2Q', 'Fw8krD4qTAvwMTErZ5OEvQ', 'd_Brp2AOUQjT3CYLK67ICg', 'UXatrWfQyc59uFojhzo9mw', 'OSMbZppzOE3_UenMakvtQw', '-Y1DtnL_-hzvvu2-nQW5Bg', 'E2OX2j9UGnqVQlWKFu1aWg', 'N_Fsqb0CiKpEIVSyRx1-eA', 'c5FgKv__NJDW8ZYW14-fzw', 'pC6ueEDAAqfhZIORXfALSw', '6hEH2XuCYzINsvxlMikbcQ', 'R_zwV1VATe49agdd0VvLZg', 'rB4FTSsc5pUgLubOxE4Pmw', '3x1IunoOVKD3o4J0kAivUg', 'j43W7iC3BvBxvv1Hc57dFA', 'acsml9kA3ajdXqKQCE8jNw', 'rCfgLHJPaIi-6G8fGZ7B1A', 'lBsOIKysuIKxX31R8HZ6Rw', 'L42e9A84G9UKQPScFKmpGA', '3eoR3-2NYVGn3MXHflNHbg', 'g9Ew61n-lG9IbDR5utIkkg', 'VlNmpORTHNxEVSWU1WGlog', 'E8gjTzb2QOI0PP9f1YHZ8A', 'eMQLCv0-5ezbuggR4bFPeg', 'tp4kai0ZU_GJm7vnWOIaog', 'FWZ5ZrjvUaP9YNBbl2GaXA', 'bG_Y1o-ukMqEnyC6cKL_kg', 'dHVgnMV8QjqgpbRBVHa8iQ', 'UMNrj-ycDBFvCVpv8994PQ', '9zR8GaDBFTD-GV2iC6zj0w', 'ZlrS0Wna7ELHd03oOwTLbg', 'Sm4s3SjzLv6JkCJ8I9_qWw', 'xPbX09diroDWFdqYMFVsow', 'GWh4lr1I5-x1uus3vVKKOA', '5lJW3rtk70IbwQDEvENdIA', '_r5610s1_rpFApojXfzJZg', 'w8ppbCuER9XHcTAyxMO_fw', 'VdDflGt6y95Ws9oe2nppnQ', 'q-MXzeXifjm0UWOD1px5CA', 'GbZvIrvgVetmBCGJJQKR-Q', 'DnSDLD0FaU_-PJAbv-gxQw', 'aX4Ck7EEBJKTe5QCMWAR_w', 'TlV-xDYkVBo7pOdBTMnflw', 'P_8GtelTW7aotwMYWlB2RA', 'HBO5RNPnwairy6xhB52rtg', 'ICtC3GL1ssRWDkOA5tt4iQ', 'x85IxANgUJTjpylAza2kfg', 'pv8oI-rJgyOZhyS7O5ZPRA', 'bRREkmEinNcJlBKP08WVNw', 'YMigb708ta8IibR3xk1szQ', 'LphFq3dB7y9aEbqB7UftqQ', '8-w397ctdGHSk85T0pFpEA', 'W17_kRp27jmlqTk04d-XNg', 'UIFLdBTAKytaBTpWcXda3A', 'YDw8a_LqfhDk_nDgXCzvpw', 'FPyxwhn-Wwgm-qA0tZN0yA', 'zBfJ4_yvZAQJTMZfyHtxBQ', 'XPENLr6kH_NF-VR-9lF1NA', 'Ed_QhjmnKMlZ8CsXS0hAGg', 'FfcPq5YVt0B3WVYH3mKObg', 'hwbBTEwHbR2k6kk-TNDQfA', 'f-sH6dTwuAcVsyOMvw-EDw', 'bvYaWKAUcJvKiZGKPzRCOw', 'TloOhh2BdjtRe9ID__fVgA', 'pp4gX0l0KP2ga2W6SgyfmQ', 'cA5rkm-Dd-eilTjMXsixmA', 'MQWhd-8ISehrbeJhDCTQKg', 'D4e_T-oJ9vTRAhJ8KGy_AA', 'T2LxpGnTRG9ijbDtSxHG4g', 'pMHrE3GC7xqs4cYHSsawQQ', '3tDREOwU9dnfvgRd_6QSvw', 'q6aoUyMrXis2SHrBdxsM-w', 'WiB7v25cpLPDSENQg7qL-Q', 'b4U3-UxRulkIZCvfyqu77g', 'fhNSa1szPhXYvtcGzPXLiw', '9y0nChQKTkY1FYYlA62zmA', 'YnHEqZTAiwh6HyOMe_9VzA', '6GSqPMyaHYObiMEEFnp9lg', '-gOWg64Hj0FaJJt_ECTplw', 'j_gojMpCAWww_-0SRK7PSQ', 'fWaEZGSuErR-lqmWKyxYQQ', 'aZ3TLWS_HgoOvWAGqlbtBg', 'VRVhiZkQAMWoep77i70DYQ', 'QfbtU19Fr95gyc4xw8IJFw', '1FxaOCiNSfeaOwyNH3KZFA', 'j0o3UN81jE6CUtecWMwrYw', 'PCBHPf3PqV2T0wfraksy6A', 'Cvdi-yXExgG_8WD15sLDhA', 'BuOo3tyRUjGoQeJ7xkrI-A', '96I3hgPVM4gciHbBwUuD4Q', 'doy5B44ug8s-Z5zrHbTL3g', 'qx8Gqv9KMuCT5GgqGulntw', 'a3u6hPCMG-9zEGIVmQhW2w', 'oD76_OPIYG7KjpRoJ1A4-w', '1tBbBYoUjw-0sQNNp14fkg', 'BBUudmxEXeBJkuL-nbuirA', 'YKHoBxMYJnO4E6THcySBQA', 'MvUi3_s-BZJGZvCP98zm8Q', '6NUHlwX0bdD6eUMKB9ba8w', 'zFWd1uWni1MsyXNn8oec9g', 'DbOXFuc2taz2cIVAlCroHg', 'dnCHQ3-arunnia9wmiQUNg', 'cV7hn2l9OIWru2Ta8WglwA', 'tzNubufsfxdQHGx4YNknSw', 'CLHiaNnmBKpi_HGoWkZeMA', 'eUPNU7gIo9JTMLKeygtx_w', '0gYewp3vPoVLwtal_75Vcw', 'UT9SVKxWPE2gPAXUCK9yHg', 'sh5ur_fQblWC6QKAV0JxBg', 'CivAWfRbIgyfa_vvple0FQ', 'jJwecaM5jq_wp3VFd_TslQ', 'DsjZ32WGxgNLzABeePuoCw', 'MBupnh7a30XQTWLklYVQuA', 'zDy_4GCcf0S2T36La13WKw', 'erjGr0IV09eztcF6jHXKWw', 'NuEh_V_lYw_k1Tlhp6Z9QA', 'vCEy3l1F3Cy0HRnLMWAFkA', 'HcOdkYnljvOd-XDZm3PHqw', '3wGwrr2M-GfpCM3vaO0VWQ', 'ysnKgYxUwlC0KsSSBrrFjA', '53pdE4D4rtvckktEq1hFOg', 'fYRNmvkXSj0pRq_L248x_g', '9PFB6f_NMet2OdCgMaWs8w', 'z3WwI1LgffKth_7AIb9cOA', 'geiqj4FbJVU8hNSTepKnXg', 's9sMe7rjKrhg7tUJGUc_OQ', 'n-mHi_gd8HIIRsXupmjoew', 'FM3shPGev_7ElVuNgWpUJg', 'nd_8cNU2A6KyYNTxcDEOJg', '_NU_vrXWKLNtAlj-qNXyFQ', 'cwy2Kjrdoe_QrE8shCI7yA', 'kwDFW024bbAd4O3YcwACcA', 'OI4sZwCtIm2vsUzUPvTirw', 'kdwlxZj2i5YBWhxHKJg14w', 'iqCk5V9tOzvS784jMfJ5ww', 'YcnkeOM8p-B47tbKoJN8ow', 'dgf-cmxPlWp0TUR_WRGzsg', 'F4_WkJ__dIxE0YhzsAMc9Q', 'npN73NgK1bQCl0FseJZEOQ', 'CTdtPVvGN05mqTubf5S2_A', 'DO0gc5be6NFFWfNgR__k9A', 'tGQBLFKG55HSNS8j5fv21A', 'nqXUIF-Uh7WkTUaoQR_CYQ', 'cNQcoLesrOVHhGHYibGcSw', 'xL9FRGMZzBqM6Ol15W7rxA', 'Ejxytz06Jt0SbdyiDOgLCg', '6ex8rMWK9Zrcto8NkdHpBw', 'hJoRRKUWcdgjDmci2oua-g', 'JkSd88xYkDpjMEzftpm9bg', '8npjvb0y_9j8Yy26B_3xew', 'TALuGHAgp4wqfTmSmQUoEA', 'iYO2NHZSGVtpGg6Wt_dwHQ', 'gtjAy2SklPYW0QGAqds1Qw', 'R9_JVKbvb4bCBjRpIqNGvg', '_H6gGdk8QJUhcYGjsHvNGA', 'wHM4C0JVIvlIPE6kHFDRNA', 'a9udLYgQ4_FpCpp5UeSqcg', 'mow4fZ1VcGDV88JNfXXXjA', '9t_mtoyy0lBefBzKoPLk6g', '2zi1CtIyFRcNo7YyOFn2LQ', 'loK5AyeQtepXO7viT3SYhQ', 'pzMeVZHeJOYXsMFSzghnOA', 'lGJFvTW18iE5ytlyGSZDIQ', 'zRWHvVnfjqPekGTUEA1PRw', 'jQxqHmkuB-z_9rFgtCzGVA', 'gTynjpWQqVzr4-7bw0yaDw', '31zuh9IG0DK4etIyOQT6yg', 'ZXNI4dwxfXwTrQmTvSjCUg', 'eQUTWWyxist-qjwxmf1cmA', 'YYefp6i2JrAGTLeGtYqaXg', 'XUWtzt0i-TBqpXiSyBcDkw', 'ilEfzCtHeX3FACmctADKjQ', 'FjkoVrGr2jkAzL1wEC881Q', 'kzY2OSL6Tpe_5fj8TJ3MoA', '5s4O1TuReBIEJ7KNcY9Iiw', 'lKqygqUWUAXYnKBVIdkUlg', '5T4yhxuNfKeMkUqZU9VeYg', 'z8NCAo6O-tA2F8nN7DzC6Q', 'cQX8UTXqtHCeaimo6xwaBg', 'SeMWG4KOiCXnJHyAqlYq9A', 'B2RGfNwy9FK4Z62Ojmcunw', '_NTm9Xv0gDfafBQxR3uUyQ', 'QSNUvRNb2bH5yOxBU4VpAw', '4PqmDgToLLoiqSzAn6af-w', '_jLQLnQLjBZLr_ToaYqLUA', 'BUw_ICIo1T8uxwVVgN22Lg', 'DdSvf--itKIEkgxn85QstQ', 'rPeKZAXmtRQcbuogle7S5A', 'aC7cNpjMxc21Lpf7h3pcfg', 'olNOT1QsYRbtR-6lr9MWMA', '_7m033ogK1VHS7MHJZw72w', '_QJfjqR8xHgT9h2iw1m6wQ', '19njWDkpb0T8gqH9vL84ew', '9wnrp-98nNBo2gC6Iw3NeA', 'cmptKx_4V43gE49VPOdhkQ', 'P4klt_2BqL3jlcdLvoHlvQ', 'pvfF_U2G2x5gVe7-gZYhQw', 'zLu-413s8p7VyTSMor2GZg', 'MgP72Df7OE0TXOEqbixhdA', 'JATy3etT4nAFg5MKn3h4tA', 't92qiHxPf5bzYwg4qvBF6A', 'GgwFaBCMmTHvgGT1zZgQPA', 'UJbVO-LczB2FIsK17gGyEg', 'ixm57rhCFZUTRxhxB5fDuA', 'uCGOkKXtYFmJ8irKz7s_1A', 'yqjr795ARXRSyfGFJnNeaA', 'eykkVDPiTrE1Al2hTM0E3A', 'gTi2vONyw3jbOaZro1wyig', 'F0N_aBPTVC1T--O_8VTBtw', 'EPtJ_4tUbxqZAHX6BfjA4g', 'UKf66_MPz0zHCP70mF6p1g', '46HEd-4mf9dZ9SDeOqwOZQ', 'KlXLR-oxbQyo1yz6zKiBWw', 'Ks0-5vSahip_6btGwHOCEw', 'vCEXf8ihfyk6gTEGQTh8CA', '6Thjj4DaML1a3_OMwdrSaA', '0CWsojhy0B7H5J-dTLz-zg', 'GO_Wp89cPllHO7JgI2oZgA', 'NHbDTM-ileZcFLAlfW6TjA', 'i4r1jaIRPVGXK3puBwZzLw', 'aS0sl9DqkxHD68bRCsEHVQ', '_ztXvM0Wmzq1130a4lgUgA', 'a5gCQ2tYxg88JVGd3P2Z4Q', 'GklJzBmVYO1GrLkf-6VHyg', '_UvrCmbQhnEIxyMXf6bdyQ', 'YmFxwUlrm7NA219M231P4w', 'EniEXbg1nuT_vPMZrYD5lg', 'MRG9XYjOAfPgrMKLgidwMw', 'yKx75tcWhhHJ1Y7XvFExUA', '5NT83KqK5hKUA8-E57mPwg', 'e-DloYYPPWaMKzLsGv4ang', 'Gm8j-KeVr8EJwVmmlUViNA', 'VDw0GeJI_DaW5DRLN6KjRA', 'BV76PlNlO_IQ6jTfTOkq8A', 'CktLzF_5MAtJUbKCy3r0Fw', 'Pznf31o61ZjwWrLnF1tcsg', 'VeCwvsEdaDjqLKF5Rh80zg', 'RKzk3aVG7A7GRZCGQqWTaQ', 'aNOJqAFIWUQ9pa3UeC1cMw', 'xGZ_2mtEe0v2nS-Cprm7uw', 'qcPN3ZcoHfA-UwEAQFFUwA', 'JEJE-187GtLwtHTKfIGiLw', '4KBzLBK_bflNTJ-oAShWaw', 'MvzrBTnJVRcoEjTwj7l3Rw', '4iGlPFf7JATgpZ6f0qLfyg', 'btl97ndgz7zVfAgKOebCaw', 'HmOyUp40s2rqxSjLxmWXyg', '5uhh9r57Sr24bJ0WDZQHrw', 'hBeh8B54A0T-dmGLttwI1w', '89_FWqYSDI2nJfGn6-Szjw', 'g539zkWzDzlckQCV-9epvw', 'wVzIMSW-CklnTeGysa7lCA', 'wXwOc-uRstawwnR-zt_yFA', 'n3Mpyv0eKgYfcvA1AjB8-Q', 'OwEY78RZxNFl9YBDAUQhog', 'YBstKvRaME-ihCNXZtricg', 'kum3TtJwAI2r2G8IEiOBBA', 'ejAUeDjZ9k00ErC30fU4lg', '49fSdAzW898SilNT5QwejA', 'XCmRLHtv5hxSHVovLiwHtQ', 'BcEWPAdAouShFaCEhENv7w', 'JItzLAZKXiJXKsYnCStXBQ', 'k1lnHphq03hCdCNaaFWUCQ', 'bI1bOqD2y7FWxxIiVEpPgw', 'dZQ8Mc6f2E7X7lLldtn4Vw', 'H709VzWs-j09UKaUN8VGzQ', 'PJt4YTEak9Pl0frQ-81z3w', 'DCR3dTR2rq53OqqR91_16Q', '4AUY3QmQUZHEz5BnLyucng', 'kf02FiurdFIz1ECnGVQZQg', 'JwpMTFHaTtQ0T5w69YnWvw', 'kUvtPZe4G0nOtzHzRtrM-w', '1pw1Ek00Hvyf9wodog9ZwA', 'mVA67SYxfg_Jt3CFeEg3yg', 'TZYDv5IMt6Sa6jN2r5rnwA', 'H4EVPbNVCY_Jh_3mjj9XlQ', 'NNZENTewb-7kIsU1LU501g', 'Vo0d3ULwp4Dm5HzEHL81tQ', 'YBDyCtDmE42mgC_RN5KYPg', 'U-h1pX3P_pTvki-abasJKQ', 'Ay7C-TSbVeKsVgpDFKLA7w', 'v40AdJpwODkxg0G2ggQtVA', 'gvM1UqW6KRNzYUe22FUDtQ', '6ad1XuI8Y7iagqVtkB0_pA', 'fhH2Sb2n49gKXKr3ZqpDsw', 'ZDQdLWVc7NqMb5C2eoQnKA', 'ISp-fgSoDaSrDb6MlDkn5w', 'Wj5lz_808Nzfu1X5eUn5MA', 'rCz93rKmKtSPr0VQzef8Iw', 'zlWSz4voG5SjJNQWW3rDnA', 'OKLXQG49RlATMZmMYRKRnQ', 'xIrn0QOONOlw-a-PMW8RdA', 'hwd1Rfuac9DrBQxQIoIzcA', 'cf4ygT87Krgbo9cXvSikVA', 'Im9NZh6J08yzowIes76JBA', 'SxxqWZnt45YmRppMiGHkNQ', 'ekc4BlEtZpNz3C5M73nmQA', 'GW4VbjSdMRIHd_kD3fk6eA', 'MNkJIfufEk5FHuH5MJCZJw', '5oiqIKESMWxKGysdibBm-Q', 'UB5TWgYG8lXBLe_9AbKxWA', 'f1Tuuakga-rv1gbsExBJng', 'aGbspeHS7P0oQsf3V3CO3w', 'CGwlI7N3jMnEzSnoHYlbcg', 'CPavlKYsEZ8M9iMEjcUkOA', 'ZUlzasLT2a7ZYuS-Gt_JYw', '-VAvaeL_Hcvl9ObGwRTApw', '6ddBiJqAlD0gjIis8VwP2Q', 'hICISMPMU9cVeySp0-ia9A', 'CCcVBsXfMbrvsslVZhnXrg', 'RamD3ikmvA6n1QFCkHrsiQ', 'n6AtQNSndePUDmBnESLCRA', '516LHQca1TLKpGwixirHAw', 'JABd638CxlS9oAWXTQvJ_A', 'gz-eh5Qd9YcDy-Ion_fJhw', 'rsfxDXf5jsLFlcoR2zMLDw', 'UK6tlvCSxvz596rzRymqTg', 'FSy1IVmKFXmW8vF15Q15Aw', 'nxN4dIjuU5_jXAw6F1Venw', '_bsX51G0vz4YwAIUFSJsbw', 'joC3De6QiQ4OjMpJY02Thg', 'I2iHBkhXisB-vB3AetqrLA', 'j7dQpVCMpExzDzE35IAdjw', '8bv6MAor0Y55b5oR_tz75w', 'EEZRkuARaIlB209wq5zzHg', 'cv3HKLU67SidtQRtWS_tiw', 'AyuAmILEMlkFXsiq8DjIqQ', 'eZ_IjEE8MP9xInTga2dVeg', '_dK7T8zGVfWGpWZeX0WKVg', 'lVQVynv7erlX1vq_YWGCAA', 'SkqBRkgr1BEI_UnvNohShw', 'TyYRoy-rq9aVnBaFUhV_uw', 'MS5gp10Xbl6v7tpMTkxWYA', 'bGCFUbBUD6s1BL3ZwoYMHQ', 'UWJy73dmHuSdcQqXwVEIAA', '-7tkRDqE-oBtaivmUf7Jrg', '1kNsm4j5DkAR2HGbHI42xw', 'vaZ1vDTT_ruHtcxd1_CEzg', 'LxoIZ7mR0Kow53NaGlMdOg', 'GqAb4LmXUaHsM_KQAL7_RA', 'VvOms3z8Zz_nIRQctsOxjQ', '-lMhtswA-Bk6n5wfoDa6wA', 'Eh1f4_1zd93kpWTt2wzc7w', 'EKaK63TcQyNK01MaQdYjVw', 'QedG1RM6wMs7femmN0lVzA', 'FLeo6otghfRAkuis_mAkvg', 'hGwwkr7_NvrSSi-KLjEAZw', 'nIR7QsyIIdK7WepQFBenug', '7UbXsnvtjuuLoRcKdhK4aw', '1PxYKmM_knV0ONLIy8qFRg', '6QR4ZLWIulGsjgZQ4-0cNA', 'hswQ5jJfXFqNltizsZNsGg', 'VP9N9ea3RYmCNM4N9kuuLw', 'KTxMdtGxMk5w5ikL7IQqqg', 'w3YfS2Y4RUcXn1DvJ8TfQQ', 'sxmBGBv7IjTS_PPivwWR4w', 'CuWnqAqc5ncH2o4KkVDWRQ', 'uVz9GBkzFVzNeM6ABH4FDQ', 'UdEWfdOvzmZc-49sSq6meQ', '6HQ0LLLQGpFa8YPqP6dmsw', 'MML6NN1uHL1xxOnp46m2lw', 'B8ofiUHhozbwlw5cNRfMzA', 'lHHZKDT7PpyYY1NCr2vtTg', '-6IHIZ0qwwnAerOXIxStdQ', 'lrPJdqIBvwT97HmNt-SAxA', '2EEBx9dDZkM-UfjflRqrZg', 'jmq4L2ren3zFSOdJ4MM3XQ', 'O3BdIHlKZJdSbKmCzisBTg', '_VaNrU4I53jZ-60FrhUf_Q', 'MDgCNDI2vuFPGVW4N4CzsQ', 'tA1Qj6ssnzXpv1nT-9zD4A', 'BprAWmqtSxqDyAqKR2-dTg', '7kr-pVgWnAe4GZqgH0IwKg', 'FvDKx7YwPY0igIuoz0jL4Q', 'NCvVHzqO8tK3H-4YkJks1Q', 'rJwHFbXPbzE8Xu9jlGfTQQ', 'ss8bUNszs8l4xglKWaAH_w', '2PhPBtFGUKkB_n_bSMfLgA', 'vfWiwn5M5FIdJlOlO0TeYw', 'ISWut7vmDZo56tEbQne0yg', '7hAQ7mb8GnnmPe4ZfscYhQ', 'Z4o884tH6fE7WK2oeGSEbQ', '0Di0XC2qulju1N3sZ4aWSg', 'HEmNd0JvnCNSpQsb3Sg1mA', '2COxKHtLdGvQgck65kR9yA', '6gdemBU4Cj1ovMgjw_DaLA', '6jna5W1aqs4amKwBoCH2YQ', '-UL3PJ8kUwmqBuACamd7Lw', 'GUu3wQjk9MUfdFbl3x38ZA', 'jcriwcTidug0fK8sgAloHA', '2BzH53EdMvsIko0jEp_yBw', 'pEwN2pMvjCwsG8qgQ8YxjA', 'EinH9vvvq8VU2RP9h8KcKQ', 'JF_QWR1FkKpSaddPDs3H6g', '0E5Eo5fG_u5MFDuQ-N1FiQ', 'XintcGUUXdBsij7elA-dCA', '4AS6hNaP-ouKJg3BDSrOvQ', 'MjcFnYzJ_7wKQRvEINs7zg', '3T3ETbRr8I5JfyAN4Ag6iw', 'z5wozqLw8QR5c-nFih1_eQ', 'U9V9MBHn-6EBaj_VMBudpg', 'jT87mhs01SLfTkhjqmGZbA', 'ct-A_U1ayh112WUBTifwzA', 'vW6kTQeudiheqCzgTzxzcA', '8otXSFUnV3TChKZSRQ0SfA', 'u44-liL79S9JOeToa-mu2w', 'NXLKyt0EqtJTFS-nZ3MVdg', 'xn49bd_z2DbB1Y4MxV3QBg', '7IbK2YjHprV_6PD62fmqeA', 'HTsNH9Pwvkd_QIY4TKdFgQ', 'tk_pvWnPJ2lNEPHDSAWVhg', 'o0CU-LRBcpUhuzwmDGOHjg', 'jyvuXhboXAoLm60yeZsF2g', 'Nd5FvvVw-BlPL09FRmK0DA', 'uPa5zlMKyDokoP49WaZggA', 'kFPOEjOGbzOASzrVjZ4Bbg', 'qIHzcPR9Pne2gAf0JweFBg', 'x-TW91NSEhdokNKr604BVw', 'jF0P4teMuLzGuBpBWh3JMQ', 'Dl-v-JCNAzvbfLoKrApJ7w', 'owz7rXKReJXsl6XSq9YosA', '1boBoi8tR_aR0ub-3xlaGQ', 'dRNLeOzVIT24CRMQQ5mYQw', 'zjCkHoEjvbfbfCKbyvTxkg', 'w8l9lZUA3iSpWiUrgISzVA', '9LXpQKD2nf3689hW1WlK-w', '6DF0l85cXaX7NAqTIt-6Wg', 'yfH9Ha4A2O_eCZ_VewAZxA', 'KjnJxa4VDlPfL53YMnm7Og', 'oBTSagHEysLGHyjrni7Whg', 'T3s950QZGqu9hcKjr8H5Zw', 'LKV53jwZ3yUk6KZA8aZ98A', 'JIB4b9frA5GjBwHPCftibg', 'vXievQ5pB8lF4QxME08fQw', '_HSN5SfSjxcrX4FUtxuxDg', 'JhT2z4-WcfecR-M5mk-awQ', 'ClhQXuac3XsG7QQ014AJ7A', 'tkv-OnHBMMRJPIv_WUAqAw', 'QBTInYFfdEW9tNLbr3fCPQ', 'NVhGG1nw78nDj_GPg--8Jw', 'rDLZx9BOoPIBI6zNwzJ5Ww', '1vIea65lyGa5ZTtXs-5DyQ', 'JQDRJyH3-i22QHZM87ek3A', '029dFr32T8PgzRmqKrrU2Q', 'Z9_0Otc6Dw-Ep0iekvXBBQ', 'q4O6ty6-tMeG1nc0Vi4hAw', 'nuAkNzFsVRXI9s_EYp2IFQ', 'WZ-F71AkK0-7C10u0DJ8pA', 'QvIk8deNa0ESb6379EbN2w', '_xcdmAqoW3F8Q0AFZETWRg', 'QUj7n1N8ToGUu0SN9odPXg', 'uYyodnQAt2ASjrIRiWbRsw', 'cXOKF_ySM9ps2vBhMOkcvw', 'Mg9Qwuq88pRArDTECphQsQ', 'F-FgwcBBzDk8kB4IjHy9xg', '7Q6KkEL2D3mdi4uu_uiMXw', 'frRhsAW3DBLyUffVwVqEcg', 'xaxFKHgMdAxb6GGCJqnLow', 'Oe_0hinEp-1aag_IhDQuRQ', 'Q7cKsQ6gmhHWP2TFJvcEvw', 'ij23o9WEnKJNrX6QgvYXmw', 'JT5gqbtQS8ZyC_AfRbPSyQ', 'AboxQap8P54nzIkUBPzKdg', 'm7GS1TPkMQCVcPe4g3GkYw', 'atFVZ2MOUAHiqbfIbtOQdg', 'Iua8RSYqpp6drT_gtE2Ggg', 'xeFd0s7QrSi-Ia_Q3j3ZyA', '4hJI0yPFiPMoo26-aTESNQ', 'APfIbL4urG6MHD5QCUuQjg', 'yY1zOdjAImhpxawA-VnUiQ', 'DL0SAWwPE6zq9eP3Jd_e9w', 'UaA8wR2saayniP9GcvQszA', '1Y6B4yyMK3SbrtIFTtU_sA', 'JWHzCbK8IwgSjPV-uWoibA', 'VYPkzfD8HAims9BAqQ9HUw', '3eY-El6B-mEMOLh0Z8lCUA', 'uyp6gy2FUeQzusLJxn6zAQ', 'LWFHoJ5GnyPw4JSeirtlLg', 'ssQ0DATLCVofn9pWg3-vTg', 'tdRf5r4r0eqyR8eltDh2zg', 'YZV1B0OGhkR-EwdIUK4Rkg', '6Lx3al9WvT_iqSYFsZri1g', '_LK1kuNjITNbJF2VShZbmA', 'ICthI1e3cYsr4pIqamQNMQ', '9CtY_3PaEXtifTyft5NMkA', '4yQ3i2KmI5271mKSFFT9vw', 'DM-_QKyxACazELOgsGhSMA', '-yTPWUFsz3iXyFBm3T0wIg', 'hyJusnslNlSLflrThs-54w', 'J-XC5tC4j39Cs-pN1e9G_Q', '5HyVVlHCGc_FNa99doE2yQ', 'yMRn-A0NR8PeuBAowvbyVg', 'H3LSd9btBjHTiC4AUMtDPg', 'HEwEQgZz7OOFL8ThzOKepA', 'WA1GtwFCQ1Sdn9Ez3mwfLA', 'DktJZY5nfz5foAP77DUVQA', 'WeQo7Qf_hn0ABawBL7RqVg', 'ScnXsbny4x6dPYTh5MeD1g', 'uhtEyfMAXJ8xpa29DUc1cw', 'HQe94Z9tfxedD_D3ZLL36Q', 'cn2oqZSbsJP7a40smfielQ', '2TbPHUjO3MkrtbGMurLRjQ', 'fzMfjyRBKh0RHCmZps9PvA', '4muccTCxO9iVCgShN9jtrA', 'MWKlp-Ciyj6Ol_OXdumNCQ', 'E7AzdAm3XJxBcrlxrEnEuw', 'qAdzUztIbv4ETmOki64osQ', 'H50_gdKGHcv1KOygzAn3mw', 'dKioFLW_2ZmD4ujRF1W_Bw', 'qh9mhRLrZl5fDcpio5mCRg', '0cmOk5vjrZV0g0s24Ecsuw', 'CJKc3t7DbX8d0JM5b0yxcQ', 'jXz3PVJXeRYWxe4PeDhVEQ', 'dPD0VXMsZbrusCOYs6Zt5A', 'KGTt4mH4e7C6hsix6IZMcQ', 'vk_mJtxHLJdlqWsHZfUXAQ', 'ismCsaSDhWEmzXRazNWLtA', 'eDPY5s52WqUkiBBDztwS9w', 'Aam4Jwmm2g-gaOF5T_UnqQ', 'CKa0fEL97kv6Vq3u1NpHuw', 'BpEtf7etmFSSgsbxK63PQg', 'NkrgLzOstwcjUa9wxoiEJA', '7ILUAGE_LaaZCDnO5DPAgg', 'llaoLqPzRHNEamxtroNbBA', 'TibyzT96I_jC-i2j2Q_eAg', 'M0I8d3eknuDiNcxXYE_R8g', 'w18f4N8swwKIcGEWk9T97g', 'Xlr7jRxSmzilPZbh9qBO3Q', 'lAkkCjV_3NA-GYaQajHPgQ', 'VNS1gZmNqlq6uI10xtOh2g', 'ZbIP7k1YB6WHhfon0q9Ixw', 'PQSfI2u_vhGLbDH-NDgGZQ', 'mNV5CYJ5IEEgEwUcia7m9A', 'WYNQgITV6d12EpjVoEenkA', 'ygd1DLrvMtI6LZqTdOqxhw', 'VD2NG7cK7_M1omGdBHckgw', 'JtswRt0BzP1DuO6qqzKrKA', 'hOBjl3kxWWD-m4c9U3nzWQ', '9dPC_IbwKqZ-oRIBvISUeA', 'KmXMJmTtjJ_QDUsKj7yo_w', 'v23wZKVJeJOzbSnd7pHJKg', 'tepVkeOizXijqjtizn81EQ', 'QDfmQg7K57xFHgtQzWQCTg', 'N6JE1SEnMBspanv9Tox8DQ', 'DI6iJ1G6-3pKezLrDxJ4LA', 'WhpTvLQ4HlBez9eAt3bjjQ', '9MvgCEkFOl0T00fV4ux34Q', 'YjM8ttX-ABXg4s57Edv1bQ', '7Z8fJRHCIRxKznQVWUIsxA', '7aGalf9mDTNDXFDPdvcqfA', '82KX4ZEVZp7tsz_Ab8knRA', 'ouQsW_CaJu-hk4zibzu-IQ', 'Qs6gyY0gcX_bFX_DaL8WVg', 'vTiJ-Kc-Neu21zw8shccYA', 'oyh_Plbo99G4aJSeWAeRkw', '9rc5qMbQXRH9Buccm1kcNA', 'kbIpZWk3Mnn-IMRAyXPxNg', 'ShBB_z8SmdqqQ0YefPlWHQ', 'mtQrCMN6WSYdplyIdDj62g', 'DMAi7qtXCRpTCdkoG6_mmg', '_TNqzgIWYmgdlEA2MqXTQA', 'OiDD4tSJcpFCuiP_u8j_HA', 'L2JfGzQeQLK5KkQOsQz57g', '4VF-HEcg2cMmDUPx6ZvmSA', 'y8ymkWlmwsVmKcwdB0cyuw', 'QMKaKpm5RwJeTQ3vUunbtg', 'uL1-e32AyEdpymKBRufq9Q', 'P0IEkt7Zkf5vonBe0QI3QA', 'kUmcF7tG8d4vrwP_Sk2aDQ', 'h-besOyHDVICLkZeNEdcnw', '1kYDWInS_Yraeb3Ui1OetQ', 'PJZbXSvBliWfS1OjlRsybQ', 'zhnfsRQ8jNSIuqicu668sg', 'l5lT36t66NoWWwMI5tgEIw', 'Z9fj4PL3EkzyaZBs10XL5g', '1w4RTIiqFo333VF8ZgwqQw', 'uXFi6eJHd9ChIqDVMSWJKA', '6laaFqmytuoERxprXZ0LZQ', 'jtEs9mFNqUXMJwvaxaZJbA', 'NYzDtRiR3G-7quNpZUnqDA', '8335cvG3_f_fxDwKl5MdjQ', 'yLYi4eE3I9Y3UPTGx4Md8A', 'nnunidB9Vf8jx6aEFNATAw', 'Laf5VomymrCmf4IXM9o0wA', 'qj5TvfJI_9iP8aGRiER2DA', 'Ds6QdyfARKix8pEH4rkvRQ', '6feGPQWcYGXVgkwRTwDGlg', '3O-wdi5RqZHCovQ5c2a1eg', 'LNJGzUQhPH1uQlES09-QoQ', 'MSh9elYGqZkXgzXUX52XEg', 'y6XND93XjeWFwznZiXhMsw', 'SXq1eRJfp3GpEVJ3NSTTAg', 'd8Nz9m-8pYosZKPjd9yNBA', '26U1OByMR5cIHKmaiVkN9Q', 'tyTZu1R1hQo2GLdXBO23Tw', 'GjfXgTtoTAzJ4ZBOuT7IHw', 'GEW9ZEhCZAFYdi9fAisTXQ', 'f81pyRMJMjg76PPonxNpPw', 'I0senfB7nhwCOCVizKykpA', 'G2xskHe8op0ouyOh7g6KfQ', 'm_K2K4TePNe5kq3cvqaIzg', 'gLqgC-YM8TRRWmLdfa2jpQ', 'Yj-bXdy8wwUgxb_wnco9EA', 'BR9zAUI7BCT3Y6I8JjMtGA', 'fzuvb1FhC_yqalhZgV-y_w', 'Jd2MrODQlP9mc809UgjEyg', 'D7_zrDWUbUYZISXEcQ0wIw', '21CCKg5wJMj_ENeyaoq4pA', 'YHkt9CaDt9rTDdzEelMOqg', 'MOW_w_1Z9b0ExBYVN5mHXA', 'w4SUA208RtOnv1_cDYXqEA', 'EDxKiOZyWJIi2I88Bp5OWw', '9yUC9dXSmY6JaDszrG8OlQ', 's27G_orVlBv6ZsNvAKnWAA', 'qQCJ7A5fdDzrG1F8ueRNjw', 'xNWD2chm9SMAj3UCQYWXHg', 'dGLwGRINNOfFjI7IzNyIcA', 'RJdVv2SrzHuRoMkVDfrfEA', 'ETOD7c4609gtohP-n2pbrw', 'PgI6LE0BzBgwd5lMcohbqg', 'vYtY-iNXJlnOXDqIKpP2yg', 'b9Wn5Z7Rfa4NeG2ZcUNN5Q', 'CkF1y8CR8EkDi3QwqzsgQQ', 'gpbWtOxWZ_Ru-hr8v2BYUQ', 'Wdsl8NbaxPZviyQ7Ugx4Pw', 'fTBLkStfAM2yEa_bkmHs9g', 'wJD3y_IQAHIenOu-nXv5kA', '9Pf661H2X-lg2tvVUUHGRw', 'pRUm620H0ds8BvUOkQ2D-w', 'RD2SuSSz6iFLPY5GYxqwyg', 'PnVeF97BAivl_C-XKZYS4g', 'Iyvikh07A24F4vLZir0Mcw', 'ShHBKjuJbQAVBLs7DgA95A', '4M442cUfwC-wNeTBev4USQ', 'Pi-oEEj3gKSLj1xPn-zvTA', 'Kj--yICLJARQlFjzWVmDPg', 'B3JObJnXf7QoiTN1pwkErg', 'z9DWR87BHeTpfrWvoPNz5g', 'GOhuMy06Byv8rY-U5aT9pw', 'iK5oMORPCmoWUmannptD-Q', 'mcGkbwI1XJlKKENbyudOgg', 'v_EPIi9czyiM1ui_5wETRQ', 'ivqr9TRHd17LBDGkdAEjqw', 'B1Av6SwFUHLlbHMSVRELKg', 'X00MjmDHXSRUEix7gcEUZg', 'oJhWo70tqZS7MO6GezsdpQ', 'wMiBvVnYFkrRt2ld-LfC_Q', 'MfHkFTKvisoAkETV4lk_-g', '2-8PSbJaEv_S01acHAFliA', 'yHff8ZtHP_v2EJ8aFSmkgQ', 'BzeorK2_gzpN0TjaelO1Vw', '3AcQk-0Sv_oS3lNa0Bw4mQ', '2_inD6LXf0t_lsv4sVZT2g', 'eE_3SAtQ5e7dFcARB8hXcQ', 'iE9HXib1wZu6IeTs5Hkbdg', 'FrDvVg6Cam2two_RkUdxYA', '93IVcyt3C6MjvMWmKiuoBg', 'QsVIolnfj9vpqEaDmGQhmQ', 'HoWw93YpkwR9vZ8ltOmf_w', 'iR7bkMzXc7HyWlVkrudv4Q', 'aojR2aXpDrmd-re5ae2Ycg', '2zR1sQ0vhLPrj64a50Ic6A', 'TIOpglKx7vT-KNcU1NzBnQ', 'nb2AH7Vuw125QX1x4ZyeDg', 'fLKNtW2yb2iXwXW5V_Y82g', '40xtfdec29GFMLx_oSCHYA', 'XG0JD7qr0JPoKRy0I-e6AQ', 'aRlIv1gwofHz_3AW61Pu4w', 'oJ_oieXrBRmbDmJDe5nwLw', 'XXs8qFDPfCH3z1q8cKcvfw', '9wnbxGTBsJwdmITnZEv9dQ', 'QPEovtv_MvwEwTVWkfDHbw', 'MiEZvXDnqJin_J9jCb79iQ', 'uocyYZQypNuRfa6W32Kuvg', '3Wb_N-6rDaZ-EZ_QCJIwmg', 'Nc7ZdIWbWNrvozcNllLpbQ', 'pqWs953NzosJwvTjHh73BA', 'cWiDGWQJfy0nt_qore7D3g', '7LshGg4m4XpexubHtv31iA', '3Ml2JhGnCWjb3Migca1O4A', 'jbAJMNaFChM-o3dMNy8rJw', 'fU45qYHEJpDqIwcCAEAgYg', '3lODYQrvcGriv5Fc2JdPOQ', '2_a5z1zharPOS2uYC-6z1g', 'fwHsS6mSmxtARQ7TM5nTtA', 'TfDIlJ19sqNCn5pI_pCV2A', 'Zcfy6EOihfR2wspSBU96DQ', '4GEXHP6rDLbNefCKmN0S4w', 'S8RsgBDaReSy3CC8yJ2shQ', 'o0womZvrGx8FUi44bVaeZg', 'GkVdCuawD-Enc8X_4a1G1A', 'vWpPZhg28WtD1lTpOlV2Cg', 'Ql0mQj6R5L4GczjsMdsSiw', 'CmUwBlceosOFovAWG9LRMA', 'ToEAEtMGG24A_ku53khMxw', '4irjyKd2w9qZ6CFwUQwClw', '6YTQTwx3wrBw4xigShyXuQ', 'Db0TPVYYn6AVtEApVTq6zw', 'hFDT_3RYBwldiAkb7unVLg', 'yEy9JKM5QOccwmBc950THg', '7PO-gd1L_5equPAm5frl6g', 'A1p1CHQ51NRcf7pTrP2CBw', 'u6NSxCTScCWVTyaJrUW8SA', 'JIMEfrPPe3waATOh1-G3ug', 'KwoDbxsGcedPj9deWY67lg', '45DOWLxNLnf1XBXWLXVdyg', '2nYb_2kx9pDURNaIX-lDAw', 'f9JGC-6YBwDhySHqM6dMgw', 'q9ZzaDBNs72WXqKkwELBNA', 'P-FzJo-7TsKgakekcd6aRA', 'GZwpT3nsY7ysjOxO5T36XQ', 'dFmYeArRPKB_YwoeltvmmA', 'no-rv9pUWRJ750HjugnoGA', 'h8VutVrsxVp5gWEjZGlkPw', 'A6qjy2wael9ei_7YN1hjRQ', 'ZsLxed96DfkHEKnG2YCjuw', 'JNTWOD0GDX_NVMcfe5C9hQ', 'XKK5ZvtNmCyS8B4pNAS10g', '9iyXLrolwoqzuuZ6oRhHeA', 'kvhsaNsdglsd7wxwtPZEqA', 'ApiJXYUr3V4vJ96UGlkZrw', 'MEanEJFGG6RvrbhNFRgiCQ', 'EsSes9XE6MolWR490ZY9OQ', 'X5FbZOsBd-feZkkX0ttHgQ', 'tqso5gO6iUVmvn7yh40a5g', '5HnSjiHaahWhL8kg8dD_VQ', 'lUMw-9P_T88CU4BUp0aA7A', 'jIlVqFxaj1-A3Bf_EWvNZQ', '8--oWaalzyu4vj3SMRfx_Q', 'vcXua1luwIn9h5tjai_HAA', 'zuDVK6JUrPbSHzOAKCpWog', 'iW4scl2ezCV6IGfOk6OtyQ', '4RbhwZc8q2dZuwV8KcJvEQ', 'MSrnTfZ85owjrTUnl7wbpw', 'layEw4ydbGc7bqHXhPzyTw', 'Q6viVWBRwIJFW595quycqg', 'f7VunTmjIZ0fpyaBaNk7lw', 'vrPSo-v9yiYD5Kf0kkZy7w', '3W30l2kEbW-dwPVToe3VxA', 'CD4HBPjLfMg9GZmN7H9pUQ', 'A43IClICYyJ7Fcg1cEyquw', 'Yl27rVW_q0TMmzO3a3gFXA', 'QYsi-RvLZZfxuAdb9LABow', 'B6JbfOU8TpPy8x5X2Rb1QQ', 'wvAiuSTLOvedzI4eQO6mfw', 'ch5ICy4Pc3ZVYRE7JdoXew', '55uEJNX9ehPx64b40qHJZQ', 'A_6nKegrVYrnUkEv7CeK_Q', 'jJk0LKXu9BvL9esbwWqU9Q', 'FE4ZXkcciimQrWeJP4RM4w', 'DFdxvlV_sV1nRnSYnxMd5g', 'vc4-vBm5dPymGknpBU-hVw', 'zh_DlvtcLd8j9V7rTi9u2A', 'KNh7VEwZJUzqoB7Oi6SknQ', 'ViyiZma9qovrNEPYozoyOQ', '03GorM3v1Xtqt1Q_u-KfcA', '_-HrDN0i25qeQ7aYR6luTQ', 'yV1oYyx-GlISW_3ZcmI-LQ', 'eXF-Uyy3eE1xsHqlkZQqFg', '-kHgIilyVkky-TwWXZ_O7Q', 'zK7hNxnILFxlL0-CW8LsFA', 'vg5mtbhkNlE5T0e2ATHRdQ', 'eD-Ud39QZCktBkROZemG8A', 'E1-WnfEJclQ3tKMCqSm0fw', 'SGnqMkPh2OmOXJV59tzKZg', 'coD5fj1HwSVwXHSG7N6Ukw', 'hKO_SYYGiHdNEGRfXCUqzg', 'QRxQrdJljwGyPHdkThSNEw', '_OYubk74hCmZ50XZJozNVg', 'RRhz1yT4gM3tpNKFXoQ_Pw', 'V1ZnBVJ3QNtcRS6QLrmnbg', 'iZGmoiGdGmTQMmqDjB56WA', 'yr-KLynIx9RYmLCtiedoYg', '4AKa_ICYnnfOVzN67tgH2Q', '-kWrfKlyCjerj4rc1QEmOQ', 'T5IxyYKim-dbDaU8Ze8uiw', '_YDVVcN7EdyJz-Zru3R32Q', 'P6WMIx8eA0Pu34s-1UwLlw', '5HyRWuem15hJ4CDRo6Fenw', 'AQOXMaSrvJrfiVFwQtg4cA', 'OxqAkksyNugRAPu45ddlMw', 'q2OIWFPnkvnZ049JeSc3MQ', 'QLIJxj6vReUOSoB3MfKGkQ', 'ifcXUC4wTaXyK2IpIxvjCw', 'b6Q891dECPlYakBELwvaOw', '-qFq8HU_lITIJTnjvnBUrQ', 'x779-SU-qSAOAuVKcWhtTA', 'sohtU_KBB6875CvHRZVoDg', 'ro8XeBvQ8ICH9cwbaD63LQ', 'ZGIqYsTbNLJ3GHrb4GTovA', 'fO4Sw0BROzdlKa41fu2uCw', 'S5BDLkKvgVYqNT4eC3p4Zg', 'hedFtBAInaCMiLsXpr5RlQ', 'N78yF-jmrFoiejPJJj8NIg', 'JOsUVgMcLAenxlK1ZMGs1g', 'jxmqgTTVGbnigO9LarljyQ', 'yMeHCczovLPeTpzpKa4fOQ', 'CY9WlKW9IX10a98MJOnmWg', 'Uo6X6Q173GWFelUFZ0zrLA', 'ODQ1TWIh9u-CoGQZudkdZw', 'r5UEuiF2MHjc8L8WOFplcA', '_ZpQ1A4KqBXhj81AtdhKTA', 'pOV3ahf3FHdwx5N37akgMg', 'KF1WXhKkPypNEu3RKxTNGA', 'q13KK0ChIULgq9hMlpt1uQ', 'jEgZSOFkrsZv_7bfz7nf7g', '04c0muAcxDriTMTQYhhqAA', '2gQLIbiJgEaewZs8U_cPyg', 'irWUlyzaaBKQTbahy4h42g', 'Sw_TFl7YAjgG27JfMey14g', 'cUcb6rJZ6koR5F5uLFbDiQ', 'zkj6WSSte8V8g0tAHruQAg', 'K27z8C9Lw2WzC8A401sUVQ', 'jc79jshkT4J0-hlucSvBjw', 'GM9qvR98lo45jdbqi9DvHQ', 'W3XyFMU5Tku1OcUmeADa3A', 'BtW-AtL9aMeMvQTQ5sMOgQ', 'cBGsy13dkP6g0Y9ZU7zjAg', 'tKFjFjHyjgc_IeY5_DNRhA', 'VLvV6O52gfa0-jBCgtqfkw', 'k95y6WEaFS8msz9y3p0NWA', 'SB1Yxwtgr44fHpl2epwpDw', '-n_RKL0u-UybOsfVIkqgOQ', 'zXufVxrInmTPOF8F-2qcnQ', 'ENlL-NS-uKcgL567y7S9qA', 'IsVjWvvZAzXFsRYSiUN7Xg', '_ojGqHo6cYRtoT2Z9ptUqQ', 'fbuD8KtDugRTBnUucWKm7g', 'etdXYRE7hWmt3m4tUK9Ihg', '_JW1sUEI9rsWxkKLI9Lb_w', 'LynmyuoFhj9sedlAhlLAbA', '3uQj_krm0F9FooUbWnEAGA', 'vmm0oMLrxjAAQYewKTJBgw', 'zBURdfBeVl4xMOPt0Jj0ig', 'UkjMw-lrdHZOflasbd1d-g', '2Kg7_oLSkvd7__BrHa99AQ', 'w2hbACMIicBu7HtXidhyPg', 'aucSU0CMXWFuPt4PMfNX8w', '_q1YGXIN7enoyznB9GheTg', 'laXsliaUKoZ3u9-4bWDFmw', 'qtVa_a283pmAiHsUU5YJvQ', 'qYpf-x39DQb6hO1H3mGWiQ', '0OYZ8iuHWvPy8NFxNAQ7EA', 'Ky-MSkLyABnTtLC87wPj2w', '3edEbz3VGT3L_BBXuw_YQw', 'uko4LnUv_hD8nD1uBiDB9w', 'zUGRcGpy3reObT1tdPJmcQ', 'VjoCY36Sb_b6QPMdEXdPNQ', 'i4SCzdW4-GHbdmAoh2p5Yg', 'FPRkwpCLhaJky8gkmu0uKw', 'sfaI6pOBMjy7aG-AujgWTg', '-xJ7i0s2Ck0D5RKafaHUSA', 'FkkObkJDEdnhgvqdOAszvQ', '5bcBNxW71TofpHWCDgEqtA', 'sOE4MZhpxE5LuqksniEikA', 'ZO9NqSrsiHkAVqnU3hOc5g', '3EskadlobDxCwIvaGaAV4g', '_q5SXHsmjcRi8A6K8gNLfw', 'I5OdvWXjFpnBfXJsItQQ4A', '9C6prJci2OEdrQ2fdaLoAg', 'r37vGQx9cCZOrWCPdxk5Fw', 'Cx3ySt4F_8YgLpDsCrRsHA', 'PpfMVkWVFy0ofjNfF_gGKQ', 'EOR3kNQQWVoBjHQGdjktCg', '6UDQUMQQssvYZKO3x_A-zw', '_uqCnlntJDUv2l7rfPgIYg', '-qSY5dZBsNbc9MPKUXa2Pw', 'HWW9O6UQ6R609kCeggrRZQ', 'FYJfxutSkJiMcYKFxQd16w', '-x9B0q0_qkP08_muhsmrpA', 'r6dSR0fheFB02dwuErouXg', 'UzSDoFOZMV-iL1sDZuuI1Q', 'xI_fGMj9bVSrbtrjwEdJ6Q', 'g-IepUZghitdXV05zghIkQ', 'B1vuIqNTWLHruPfsZ0djew', 't9wa0GeVZgWibcx_MhQc0g', 'VrGn2nQf3Ng-snTmxxgpdQ', 'k8ZzKpBqMkPkb2ZqlX81QQ', 'QGsWh1jZCz8tcjw7RCmQfw', 'NdYV9W2Ofz4agx_oWMssgg', 'aKb3E0ChZASYw_VtjNEYgg', '2efCIHBS7S60P2LPeW1zFQ', 'S6rnpfNHrgX1NHMm6QXqOQ', 'invsxJj_2jm5kfGHWh0idQ', 'C9aipyN2JvkWWjMRRWFB2g', 'FVF79Nz1g45zOHpshPQIjA', 'GD9JLhZi33mxfSrf4crbtw', '7XgkOo1yTR4fhHnIjUipgA', 'y2IhvRKTY6ehIRhD1sgGSA', 'LK3XcYMiOdfgewWvycb3hg', '9qa6stFDhRHAQOo4ecc6Pw', 'EFfuBWGQ1xoBxf1CA6pTFg', '9HjFGvl9RkZowsnnyXNR5g', 'HI4FzLgvCcQH0gvFJRPVyw', '29YjEwuhGJNWgwYymA0BUQ', 'AwterA66e50xsR39_vzatA', 'TtqqSHdup73dWt-0Q3nM1Q', 'w28amVpG5mFnDXszpzZe5A', 'BkLuTDv4i9Wfdu-Wdb1Vnw', 'Sa_SrJwDkGHDMPWj3brtDQ', 'IZbBUEkNkaWmNHCbM8pzbw', '6NaqKl1Lj9g57wuJHKQLEA', '0_tpwLPV4CXpIvohg-QnDA', 'nbMkcP7c6392pDGQZvC0ZQ', 'Jmd-8kk7nUVMY32h9fZewA', 'Y54qLIJWfTt_ozux4zbt-w', 'Q99CB3xRpgc4T53hBwAz3w', 'bwmeV-TuSw00f9gLJ3CEbA', '60--gVHuoWMtiZGwhNdZIg', 'it4cpw8epWonNrUY1TD4WQ', 'WVLjmPq04c-yp9WHqHhvYQ', '3x3cYWQ9S8wlDH2uT6uPoA', 'zt-AEs0Wto-RPoKSzOlo5g', 'TyAqG5UmyGC0k71ebghkwQ', 'AW-KMvc63WuKT0TBHsWcKQ', 'I0TBf4MAcVuXe3bWJZqJ5w', 'nURi5w5PuMBuipRiykxrWg', 't1ncm4HMJ9VZTSBcL85KQQ', 'LWPQ9HmLw6VoVdHtF6nujQ', 'Sf8NDdfGgSlFsASdE4fg1Q', 'jgFes0d8elF7sSO2A03Uxw', '87m8xE6a7wv6JuP_cIKVmA', 'We3_hSYe63uUdZ8LpT27zw', 'GEFUCe4QqdZJiAkSY3iGQA', 'HXJyLoKXrNqapykV4gBmjQ', 'T3lLF3prfROT4qJLGu5IZA', '8JjE4ylphRJ8BNFovLMU6A', 'P8P9i_PVljCvKo_jAF6qIg', 'bSH1KmSlPkKsQ9vSPsga6Q', 'Ie6hKpqh5kdbtoxDcy_KuQ', 'wAv-nmnb9zbU3ig-Rmu-FA', 'NNVxUOd2dGhtFY78ItIBtg', 'qdM91YQ15w2ZE7JGnu3wmw', '-vgYCCMY4MihAnQM6F9Mcg', 'I-PsFvYzyM6Mgc-IOe6WsA', 'vm0r8ot9ym-EGOOpMt7RBA', '3U3YQskYUiiPDu9PdIk9DQ', '1YwdVzlDQAORjtZykVjyOA', 'XINw7-T2AbBohamAHZcmSg', 'WCB8BFjxc8TevfN1WJJuzw', 'P7EV3yrn1PLHDBX6rF6qIg', 'JOw1k2j0xqU35tRzmBjkEA', 'e2eUaBXnM-b5-eBfLyenzw', 'gJMg2B99k6V0r9o1eqdySg', 'wzA8PdQcV0tSIiJfSe1hAw', 'DMgYnWekmaiGfmBMNGS5xg', '9PS_5J2qJmBJKNLG06nGyQ', 'JHhsdOnn2tCxA2EnAPhZdw', 'l-ZCjhhs04z5WnhMlAYhQQ', 'MC5kJ1BtQB0r628p9nW3NA', 'wO9l74W3_rXBkE8ULg3Glg', 'bpuE_8UO7fd8nmO3KpFGXw', 'zc62C_CsrQUiVhd_9oDVzQ', 'hfdIeYQ2xPcrr1mpwrI8jQ', '3QRWohrd5N7Ez-nUoEAUnw', 'ZFciYW7ZSXFZlQY5fCYMPQ', 'QzKj_1DUR_s7fc7merdqqQ', 'kyz-p7EpiSNxP9rHH89Y_w', 'fbMtxCHv4vpZh2AVwSd5Ng', 'edT1vNakHG43LwpdyMI6ow', 'MESw-HyspU33gTZz5FNvlQ', 'n1oOqTyoqPKMEsKz56U7EQ', '-jLoQ7yR4hynkB4q2R_prg', 'kiOZXpXB2RBPYFN9NakzGA', 'LDE2EuJAGAxlEGwDMP20hg', 'xTmXGofxi44WbPwKIu--lQ', 'LmzsX1UlU_LpihgiU-xvPg', 'dz--2RN4iLCr8BmiSqJIjw', 'gGqUuX3OVPiKtkNA73FriQ', 'QHIy3PogEyuOCX8U8cTebA', 'y7JmAr1R1VkRjJ35qh2kOA', 'I78mzlsKtaSlYxvUU1Mp_g', 'V5CKX8__SGqy7k2lP04pMg', 'XdetEmDYlgrOWs6bHeB8tw', 'oL77inSALjWkCmqNSDFGVw', '1zR9oEsVW7WaehBRp6CDtw', '31R6vlT0uOaniSs5hHpiuA', 'O-AhGNnoXAMqef1xrB45Pg', 'kVyfKfwila4en16As7BTIQ', 'wTXZ9--l51cHYIOhFtqqQw', '1ZFOZV7zA-6yZFZWoZSwxA', 'Np8t9_SdltbXIchcmQQX0w', 'Ynl3TgPbYv6eTYA2PpXNmw', 'A375aYjQuN8bShxZBXQZwQ', 'atCUdqq5-JJMz-XYL7Sqjg', 'IqUUkpuU8Sn__JZ4Z4-vGQ', 'aRiVmnlUK3qWx37kWl9c7g', '2F8ZMtG7_-WgmrjP_GhVUw', 'hfeUKFdSZ0jtATMo-FPnyQ', 'Kb1kp6z_Rsml4YsdrTMBlQ', '6be-ngYhO9GMWFVezwbrhQ', 'BrCkUEMVKB5UPrHvqxRlDQ', 'pFDdncm4DUFDoZk9luaYSg', 'LJAbzKY3JbMUm9SC3RvXqw', 'jx0nyLA8v8Oic_nJW2tnUA', 'KPcplc4qseYkatxN24k3Kg', 'ZHQA0aJXjAZd9Ey1w3V8Sw', 'e-KVRSsKtBv9QSbBTG13IQ', 'TujTwTh21BKh-tO9RZG7eg', 'XrrcfJ9u948LvhfLD3BxYQ', '_Qvd0HSwzpY5typ3kaodkg', 'S7F2GudBMZ7fNw9SMSqVyQ', '5CPbJ8uJcQhLkMmJQ6svew', 'E7rEdhFfUm0jQ4I055IOeg', 'MPpTgtvgmdv7pj4qQdBo-w', 'vZGL2nP7hO7qoWSpPpywEg', 'JtVH_3wrry7s-odKjts73A', 'pfRX--B0PO3_J4iJZASFrA', 'nWN0ZYLvF5sQc4NG4Er0FA', 'KS5xr0Lsd7rKdHDjq68grA', 'KFB9HdqWhXFnCF3w-rwSYA', 'XBCqZsB1x7khuMM7YK1Sig', 'xGDcXcscWQl_X0R3f1LIzw', 'an9x3egcHb341RD0uh0Arg', 'tZCjVV9GQeXnYxceMp6Vaw', '326GdLHRnXZrXAUsxoA2uQ', 'RV5vE-fe1-HsfhzDYzQ5Qw', 'BDQ1mwu_hTPyD0mwSZs12Q', 'Hm5qQ2v9A32az_XOLn65NA', 'eZZ8rU6wq9IRIaQj_7Hr9Q', 'ZdBaj_bvxfMZaN6h9CQD8Q', 'VvwgvMpg54GyrDz145jSLQ', '84HDCf0OLJb96vUs0QgXyA', 'N5vR4u-Nsh_dPuw8rD5HJw', 'RosvNpK9PNoDvmVo83njCA', 'Xo-SoQIBl1kFfrAAlw5Faw', 'KFvrBt52wBdMG5RjY1IDxA', 'miqkk7mmOdsO09piLZOKHw', 'cDm0-7i91UyjJoM6et819g', 'V6TakyjBeHdY1Vx5crOv2A', 'zDX5MJHh1CmyP8tYAI0Tlg', 'dsuBb1lm_9SZf4hxVLPcog', 'YGjFD4bcIUGYd342DKslpA', 'XLQwGZ--Odi0sBBN1304Lw', 'o4rxiNgvs5nOWHqVuI7uJA', '_Gm_uuxHn32ZnWrwVkbfCw', 'RTH2IDRSbVCHL3nD2ahR_A', 'o5kDE-cYqpT48kROPpklFw', 'i4xkCwZif6YatJ7tgGynWA', 'lX5IRrG91cUpFKC2Zd5Z1g', '_0uqaMZf3plkaz5-Fb2BbA', 'iWATReFy0nqXlt2Ao1ZJ5Q', 'up_E3ebXIRkyMq4Z2C1SdA', 'Ks6ReGiR9wqd-EeBYguRLA', 'nCf5y7ytiFT-jfawjZmgzQ', 'ikLn7OoA5j7tbmCS9YtDAg', '5uEECaKq5IKwG9vPoARogg', 'f8wW-bKfJayS-ALBF2pETA', '89o4Olk0WF4FRTunTjTetw', 'Wp-IrBCNqSc2r3LrPZQjXA', 'oF1EoY3v6GnksFzaeReeqA', 'H2eVNrc4a0_5VI3PW7gHlg', '10rQ0Lb_Wtidj2Fpi8ae4g', 'SVFAEKAMXI2aA0PNZ7ypBg', 'bXB7SPIZvp8DY09sokq6FA', '3Lha0h1V5UV_gg6NpOEhcw', 'ciFz0iE4LKMC3D0HZIjL-A', 'bk6EuxFqCYoedl_xsJoQLg', '4UMf6Fz3BCRMvjO01ZfXXQ', 'mVa2Mtnj0_TdUJLj3eCtCA', 'IDRoe75tQkcUDx09QCem3Q', 'MCNY82NikZlYBPNB4z6vBw', 'qcihjE29xqaDIx7vwfFAgg', 'ifML4jnQyGvfTBKbJ_XTkA', 'fbuE3zr3Vopxzt-BY8xXiA', 'ZY2SNOVdd8IHxjC4bSKWGQ', 'gUE5ty3NlByS0sXQmiSCIQ', 'dWHAvEDZ_tG3sdvNv2NiPA', 'Ib3uvX42Cjd577MyGWfYzQ', 'tiN6l2TF1xYn-u_mLQXZ7A', 'p_jfThWKGthxP5GukYK0rw', 'Z3m0ZR5pq8GgZilehM53Iw', '1T0MfFJ4Dmo6w7u9CpMJsQ', 'X_puO-ULyvWauaF4vpPzMw', 'LRRpAvRFPKj4e8I3pXplnA', 'ERx_liRHXzDhgQKfFKT2VA', 'XTeeZs-OcPiV4w_cr1_0uQ', '8Jp4IU3aHAaRrXUJ8aqWuQ', 'te-vVHgJ7O63HqFpUgGlRw', 'kW_enasBmXY_eQsiIP0NmA', 'Zkmd8ZvmXpw1XfT9sbqoNw', 'KVehpTNCERwMGAx-h9MR-A', 'l6TCdC0RQgZui6hz2tuIAw', 'cdxaD6c6kVti6QNBCh1j7w', 'Rq7a7_pkZ1pv2CM1lc9PhA', 't9Er2X342HKaQlVvhlIGcQ', '95fsZHOJcwgJsJc_G1bn3Q', 'S4dJF6N8fXz6esOQHi61lQ', '60glWJnCQRhbEsmPlHGPDw', 'gnT-tmrXE3BupwTODOREvQ', 'cpuKxiVSDeGvV5G8qN2Hkw', '2tr3Hgqa9dZFQDb7gso-Yw', 'foN1lgsVqi6Xxy_C6x3XwQ', 'cAuun3J7hefatKrhfkY-Hg', 'OhpgLGUnabtHwb1SffPfgA', 'vQOmTC5ZoEgddE_g9OwwHw', 'EFvBAMku2YY096Fs7FxwZw', 'iEmP0PDC0TiO4We5nJAK0Q', '6_n9g1y2nmGy0RP_PRo9ng', 'VEoqI5nI1lj56SVUvhufuA', 'XvgUvHZvmF6IISrLi56Evw', 'i6DijVEM68N9oF1_W1p42A', 'TMSOga1oGfvFFPl_8Bvl1A', 'VsMsXtxYP5ZVVi9ZxtHptQ', 'NLqRsEFnp1y2q49rvDrDKA', 'IC3MwvLfuO2FQ3wz2yit8w', 'dxbOe9rccKN-HTuW2A8CmQ', '-SRDTWwdGca9OKdYxA6XDg', 'B1mEl-DYErQ3WbPWKcO80Q', 'aorBMITN2V_NgH3FoVcRjQ', 'dsjev_ORyE8-rSScFOoAvw', 'ZJ4WgwHAiZ7E-V__bnmeUg', '8M-0XI4YXBreAl998LMliQ', 'GEqErZh4mPKhyS-LpOmKVA', '0zkmczf0PclKV5k3FNa0Qg', 'fkBCGUraI2QaKFNg4tIpIg', 'oJtetlUq_SFhnshXZptF9g', '6dwHlbd2ny_z1tfZNaxEKA', '4T-pGZPps49-Cc9yLecCEw', '8-lqtGzlw4rsGp5qAjYhhg', 'Q6sMcR5i9Phs83gmzp7-zQ', 'tR55V4LkPkrQsEqK_TYdPQ', 'eHZZr1FK1HUsGtgfeRMRsA', 'PaVSm5eIjcfRr7ek1ZUjbw', 'TZbjIPVKKtREWS4iNL2WLQ', 'rOfhlSO1ArevNPcEXNfolA', 'FpyRqQ7hOpwIGaKO4WB7-A', '4RLP0a_Xjmyth-LS2x1tSg', 'Q7IiSXeDa4ZTahl03LotCg', '106G0EdUWHK802VmWURtuw', 'ZWRWC5cLJQEyCZZapZpd0Q', 'fKq-iO8-bhK61_M--JebsQ', 'kHgGK2fuTLjmeoWAA9k1Xw', 'pj8_fR9fKyYY1pNN3Y6t5Q', 'ePfv-NUZTxBMn9qzp0iitg', 'PF0VnWW2ASKz_TM8FCebOA', 'aKS86u1m42O8Oa2tWCfSSA', 'rvxTInJW2c-JcyzOy5I_ZQ', 'GPSGdO23gjMhB5X99Vrgig', 'qoE14g-CB07n2c0nHRB0yQ', 'rowGjtju6UO1g4GwrssH8Q', 'nypreiWCSKkomjLfxK8o1g', 'E62caoz6iIpxvf3czm5O_g', 'ChqT3_73nSKAlyeTo1bUTQ', 'uJ3CIniD3sVgHeA6UpLFxg', 'bmaA2Y3TAdK4DMC3dr1u9w', 'MiwMIa_j3Fnz5MmY6LjANA', 'RUo7P9jiOeQ2VWxQkz6QFQ', 'RnxMy9d-vWlWIS28MTj9BQ', 'vIvkcLq63ozMzG1nws_R6g', 'afeuRZrOp6LL2IXKudOOYQ', 'Hl1OLtpnipOJ0S7b1TfcLA', 'RMzj5qKeUkz23Kqjw84myQ', 'ir2U9S4QF2RoOzVFSCT4Mw', 'Jaax03pQ1sUDjCQK0E4fQg', 'plMaB9Yy9dsAdDLybOLMKQ', '3_q3PSdK-0nDbAX5BcBj9g', 'bPfrUoH3IlJiHaiyWRwmOg', 'jAQT1sd9qHFQXR7jk08iGw', 'xSk81Jb1g3Dw8Xf10sSugw', 'ctnsJC9WfeuO8JQ0cB3vwA', 'MpteHpyJ_y_6-jRPyrdkAw', 'skkladqQm5k1Cn3n7T48pw', '0s1QKLAVFhEs3Ssoqhr9Mg', '2TY6ubbNCiB-IEmkatuRoA', 'CcxFuBuqO6qAgqHAmcW4_g', 'MuuPiJmYFDjx7xaGkbeghg', 'Pn-VsnNRe7h4s80FtIjiEQ', 'WOsExUJrawcsB3LQE-1yow', 'FepjXi7ajM65ZWJnoXNK0Q', 'el8Arq89rmssTlMnsvWjzQ', 'KCuSjsrIH0OV8VK4AR6zwQ', 'ySrta4V4QdSvhGSQNw22LA', 'S5E84CgfPxpBFIjmGmDu-w', 'SF_ckRwkidrUzrl6lyvrUA', 'bS2iyMcRQm_F-5_JW8wH9Q', 'ZE7Og1NbCd-ANR1FASakCg', 'lpEcNnhZ_FXJj15VqNFFTA', 'mOh6rEDTwXZOpTkP2nj0Yw', 'FlpxemS6_GzUNocodsIJTA', 'B0MS5X9BJyHQQLlFOcI6dg', '4vk30UI2SdMDUp_5bI1npQ', 'EA_Oj-vWmskaFXjiUnz5jw', 'nmzRiRO-QPyMbK41Mhi6XA', 'i0U3uueyeDbPxCDSSRkhdg', '_eYE-MaCX8NjEflhZBA60w', 'VEioE8RVDWxd_3UYiT110A', 'iC9W-2vK4SoSuHWyy0FFBQ', 'KSpSxWuT2JeD1qXIL01erg', 'Xr_tX-pul5VgHl-hjkIF0A', 'ecj1GHzjQOHlL5P6lpNmpQ', 'xHAP2dxc2RwhB2SUkLlaAQ', 'Jl5dlIOsttt7itSbrV94AQ', 'L2HSfsru4ob69vhRnu6JNw', '_gJUIP5ji38OYygF2xAVew', 'BZhvlJbvBfz8bO-wzybHIA', 'c0rMj2mhEvzhO-EteJdiNw', 'hJFOhH0VLY1ocBEgXauF4g', 'rL707jYfRJP-D-9wp82ohA', '8Jxdr0KTjw5OCPzUubQfRw', 'lepAXOBZWyGhLNJhHbT1nw', 'ncTz9GuEclAJqzIOTOxK1Q', 'FxwmP8OtxAGb9Aylgl6Y6w', 'LNFgv8CD7Dg5YZI2OlToew', 'JpYtk2Ah-FyUvl-PrgU7bA', 'xVAOCgr0lMMIl4NzA86srQ', 'Cez7SLzN5TGbhj_ltiSPCg', 'HQTMTljHR3h_kixIrMhKwg', '_9FWbC5enqH_kzAszirWaQ', 'hAZDW_5E54C5cla_zT6-pQ', 'VFfEnQ5xv7eoVDzRg77fRQ', '6bicEezq5dko8XlJntV4AQ', 'HT6JHtJXlIYmxerxZA7Hkw', 'xt4qkShlavrEeQPZQb3KlQ', 'I9-wA_vOFZTFSj4fAnia9g', 'Q7zjta-OlpKFq1cKqIYzdA', 'Oi5Z0uae_AjpuPMVQLLncQ', 'YZkbkY4IClRM0uT3CZEkIg', 'S5bFoyyPFEzLBvwEk_OmOw', 'cah6BwpIknDXn9RL_5WeqA', '1GNd2DQCoRqrYAx2Mt6xKA', 'EJJ-r4ObdJHj16GNYkZCSw', 'h17GcQAJUwSzitb28fskFw', 'ArxfFWRwJd-pDTYmHJARGw', '2TVJTSWiBDChTdYCx_f1aA', 'EnbBNF1TGJEgoYEMIF-Hzw', 'VaapXwWZyKm083hcORD8lw', '_zK6NPL1d6sMV8-5h9VhuQ', 'xc8IIXvpcgX9IKfHAjzXqg', 'dsmZN2E8CRSdlTaFUPZM3g', 'JuCgoHYJww70wX9M8ndKnQ', 'NJNMOX8k6dMl_xXYC0Fzig', 'gtPxrVoz2tKlZ61Y__QDmg', 'UUwTGP4DFttyI3FP_D9iEw', 'vAPsffK78PPQWVM-Tx4oUQ', 'GAimZvvLJx7UjGBV26sxFA', 'OE3_53_pqfFs_xe1yLJf-Q', '-KEtdjXCeoW_z6tQ5Q_pxA', '3LKQp4AXB_BdeP5uS98K5A', 'impqrIR4estrQtIYMres4g', '5Reapq3qJXXreYn1ywvmVw', 'iFpj7M6765ti-7aWgvf7HQ', 'Po_p1Ar240DgtxmZl1YAog', 'AiETeRp2DEySB_fo-9_ygg', '_oWUP8qk2CvrN2I0os-6xQ', 'olzaOFr6D1pAIC6rxjobsw', 'TTm_OT374HH5VqXznT0w4A', 'ArtA0eR8xC3uKnRbg6Lgmw', 'pPB8ZBsxXvi863fruMjHTQ', '8Gn3Mp9SkoHup-IojQ5QQQ', 'ZMKv-Qb96y4NDO_A1DW3WQ', 'Ab-Pk5k2kVVmA6RsY5ozsQ', 'lN9Oi0JOoTWkYJYhiBu2kw', '35_iOCHay4y_LQisiJIKAw', 'Lu6RBmV8UnPoj69LtTRcfQ', '2QTpk-gYv5OTKXtOOE1HnA', 'LmLdL9GIr8lWMGWvE1z2-g', 'afQQCRawvKOSm2YE5lIdCg', '4Q5cg_fKmAO-T9NzSU356Q', 'ZwU8D9_SkdHh5libne8vUw', 'mP_ur_tjpBU4Y4CvxLOwuQ', 'lm3iGBAttDhhYfqk-ygFLA', 'j40UpbBw5eRzgXM6-naTGg', 'dNO5sk2zZyjyBkTpv6n_cg', 'sY1ErP3KsccJal66FNhvpw', 'BB1O57OLFWwmlWETfE6eCg', 'Qcy4Jv-lw1gyOBAgxH_Gkw', '7HbsEGETEI2S6-h3TuwNpg', '3OPFdEgHJ_Lt_8JxkZ6N4Q', 'Fzqw_M3nInoqhaT8x7yPnw', 'FS0vBJaQUh-GtCdu6lgGzQ', 'GkQrNpfYrx46dRhEWNWCqA', 'P0ivg9MbBrWcwPNUh_V_CQ', 'NZQfnj0hi97ASd45r8wqWQ', 'dveRpsrmdvcCXhGIFyOlRw', 'NGXfOEFIjDbrNgpjMUItzA', 'mrMFH2XoIRzcg7KvkqB3aw', '3ivWBwsKynLGI5ifGm8EwA', '1cGZbtqY-5p54r-d7e2WcQ', 'cfa7evREjFdKx7w7Hod_7A', 'mbvISfekCr8aqX7kdXZ2fg', '9ujIBBtpoB7papQWI7S1sA', 'iHi_bwVTL4qOh7SpFtqXJg', 'pTmty9uoxi4LIp_w_5TYJw', 'EDOpF2g5QaWPCCf5BrnSjQ', 'iOFLfD4GyusjzMcOwvrKCQ', 'CGLILDW4QjlxRr4z-pfU3w', 'E870sZKvM90hLoAoPgCH2g', 'j-X-lQa5ldGhQ9aK49KYLQ', 'hlqv_t93KBKLW7foRF9-sQ', 'SjgDlQXD4611svaP7fYrQA', 'LYo_VqW99j7tObhZtk5ugw', 'TvBxvhaH-v3ySPnLv04Yug', 'iDwFczA8WADgJ8Shh7XdVQ', 'Y1ds7XK1G8not8LvR_V8rg', 'EYXAERcUiD_XB133bTXqlw', 'Vhfv5zJn-ryoCdr-_nVGaQ', '8RGG4kKlOX15ClIylaqZ0w', 'OEqZNDH5C7mStf1AiD8b1A', 'OndOjojqz_N-PWtNwEKoDg', 'LD27h-Omp7aM_E8ilWjTSA', 'o2eUbXdZZBnUL4Gd5z2czA', 'BbQQdhTGVsNcq9KIUrv7aQ', 'oUXHbeBC8eioSxZ6wnatRg', 'Mt7s7Zm-1i2N_ey5rA0NRA', 'z7AGa-CG9xqCfvaLI_wfLg', 'FWMmYc7TNTXk1eroQTl83Q', 'hy-5QQOMK5UNeUxH2u0mwA', 'JS_VQxn5LZTqE7aCvRs4Aw', 'bvLIsvXc36XzBhzRdQio1g', 'pTvhPpE04M4VVnTQCgUMKg', 't6DdWHanYnPB5AWHrixVfg', 'mWRANff-Im6__RkmmjG0sw', 'o_LRHYJArAj-ndObRD6KDA', 'Q1M-ZNimeELw5J666FYrcg', 'O7Q68WXlO8G4zm5KUzwLxA', 'MN9t7b3j3EpvKpTsodz8Sw', 'F6eINEe_x2TWR4VzWZTTpg', '11CC-L4GhD1aCFG2v8YVNw', '8I_EsHLeyvepPZUecFgD0Q', '3WgJ6M97BXrl8v5NC8NXXA', 'zMW-2U9F32iPxjxaXO2kFg', '869idZBQYcqLmdoIcvDYwg', 'ZH-nYIEvpqKvQkinr_Lmpw', 'gGk4ttSlT-qahjYh-qiAjA', 'sG1SGddhKQ21QNW6tTRNtA', 'xfY7nuilAdvaXDYf_pIkwQ', 'yn1rHbJoX_IvmJKuJeJA3A', 'M_JB5tiXDnpoBTXYwzyIvQ', 'TF-d0Btq8oq79WryhR9tVw', 'VBfj83qttW9K-YJuJ2Vatg', 'EN5QOUskGBRULIvhXCfd1w', 'WGItar5TY5DMxBRpaI2g2g', 'gh7MTsmV_4yXgh4LIg0ilw', 'KNMxGQ6Vbh7eDTrPfrUHBQ', 'i6dlVhXByW-zykhLjZEVzQ', 'Ek8cch-nqmJj8KqANTeeDA', 'QoB2B6ppD_iAUcF9LA5J_w', '1kcNYppcu4VV9cqxG0S55w', 'pmHaWm1yGlnMVFzksyi5Pg', 'mtQ51Qm_qA559ShkvPMLsg', 'krhVNqHhBEhrC6PuG3612A', 'rvs9zKx1hLeUT1zKKTb8Xw', '-4o0GRHZaIuKoGFytN9K5Q', 'opzHJagiIc0iqJ4XXIHOmw', 'PHpRcBXkyO6TQFEJxHGkoA', '1Ybwwtn4aeUKm4Dh3537kg', 'RZdrP2JkbVBaBOqTP78o0A', 'OINs8853v-zx9yBaDqlxIg', 'uxGyOOt5arHEzRmK9JDljA', 'b3iP-D1pYVfIVD8Rd-kX-Q', 'gVIYIh2BPWa5qxbX_fud1g', 'uWX10GQRgc5BwMX6-HDGcA', 'AaQ4vMl1hPb2lvg7VnUHcg', 'Byq8Y5PNSqWIl2AvTBmPBA', 'aVEMZC_Ciq4mlemqlVYz2w', 'hfgrwAnwt96dobtxI13uxQ', '-5xRLpvi2RoNQ_6nD9GWFA', 'sClMP-fjqmgjaTd6ZeAf6Q', 'Dc1vT3fmiwqsa2gkI5IQKA', '4cyvBU_O7LH_OjEKi_1yTg', 'lxAANELimZzYQb8039HvQw', '-jP5W82NH5Dmhkhad918Cg', 'eMwhy66GUs-8CVXBkIRDDw', 'mZo7uFYhKVYsrWpBGg_wiw', 'jRCSPgSAFpVP5-aMNVeAdA', 'XUKl6GF53xU39PUiR7CW9Q', 'FEuwANBaGevsHY7J7vafQQ', 'o3aBuwTTqtGyZkUiB-c9jg', 'Mksw5P27e00UQuNzRdRAyg', 'hPCje63Nd8q13xK4rxjjUg', 'PprWzkdJnKZN8ukD2os-fQ', 'QIAYd2t9Nnq0S4vD-zWNcg', 'RiKBICPiHot5As6r8EiBuA', 'Vwbvr8lbQSgwD-iCPmOwxQ', 'H_iPIuaMy6mhMfO33xjo1w', 'CBgz92tyeWoSchOrteGMaA', 'U-XXmHuYKxseeY63DQ23RA', 'qCdR2i0js61nqFROOcu1QQ', '9xpx4iMqBUZ3whegSgB1wQ', 'U3ckqzt0GeYSAqEKbNv7zw', '2gU3TGPiCvOPJiLCBVnm1w', 'gxiiEHwUl5ZMWMuO2FZ2cw', 'vAp72qVpThC01b4rPnNzVA', 'nzKkqdieo9EPwjl6tk8Ycg', 'h5BQowg4W2etQhRqcbAr1g', 'Hn07xrqXzyGJh_hviXw0gg', 'B5pVtZNquEXQqXwVZVyBtA', 'mJ3PxGhCN5YLpCbmNj8rIg', 'BNb4RQkiOhK7F4Chcnmy9g', 'zSiiCCtZXtiEGwTnPpdGNw', 'QUm9Hj9EycEoqTk7p_64xA', '6IwqrrxiZQZqpgUi8XTZcQ', 'KLF-L1pp4_h0Xp51t_K-dA', 'w6ZuNWsfq5oU5Bx4JRQgKQ', 'NiDsuxAHmD1lO213BQEiCg', 'c23FnTkD4jm77dyYBv5t8w', '8QiK0JGzFOo1151yfabsOA', 'bF1o5lGfxci84T7hy66tIw', 'WS6q_imh4rUnq9hWMHJDQg', 'EXK3bW4MP6NJJdo6X3ziJg', 'cOiwxk0o__kdI52RyLipww', '3c4cIDquhR9x7LhYTmDtqA', 'RM9qPOAnUTZ0W2WlFd1obg', 'DPjPGbFLITWsv64zWCdlvQ', '_9qi5gJ4OHd7n7bWoDK6bg', 'Ql_8vUr-UZ-v5jRHQXsUOQ', 'e8v-SPbK8ZR4FUgld0Cl4A', 'nH94WIaiQBhtUs-N46b11g', 'qpkDyBiI2kWWjE3dhSaVfw', 'vQ34Cgk6U-SB4UEr8YOBSw', 'RWug9_E3QYHntKX3upLLYA', 'l4Yi6L_cbAFkUMqBJX7Cww', 'Ge0mD0rVNfnSd2tJCOjgjQ', 'TirwMjxK_nsYXkgJLn6zyw', 'brdXmxzG_QW1Q4sqPE68AA', 'fMtgTF7xIA4NouZEPKprpg', '6GuPWvkSvmU5b4sCRbHBRg', 'CgTQvSc0Or3TVr4wSLoKDw', 'SpkyFmZk-K7ObHg-61DX0g', '6poG8gk6msYb8pcOkB2dqQ', 'rIJORdczf_rdcsIZHlesQQ', 'FpA3I8n3P6Bq8_vwGhF2DQ', 'xCEROEYYs7kDlK4Hj5saDQ', 'TDJmVLPVlNc1jtyf5kV1qQ', '6a-bhtV65VIuNwUvzXo1_w', 'DGC761e6b4DEXZ-3RU2ZxQ', '-o-9Bw-dLc1dVMjSlAEGKg', '0XJGXfFepl3HWrCO_KqBuQ', 'kfAwDKGcpPQyPWIoF7MQoQ', '5rbinO_COJk7zPZmHb3JQQ', 'OqFfztnM83jCggrIsugOOQ', 'CyeCCKfYLaCIR8bhtrcffg', '1qMY0DOcx80e9Slan9RPig', 'nr6CayDJeuTrosnkExVBQw', 'RzXc1fYh10OvxSlRlANsVQ', 'F9rJT5bUY3y5gPgJailDAg', 'Vxjf17zy5BnmLmTWm828fQ', 'xmzhD35g-W_NHuqiXW9NpQ', 'FitYZkIiHRk9Pz7WYrf4AQ', 'OQ3mo20kpFk578QsSyi2UQ', 'mfu6ihl--KF5HCS2VYMN5g', 'urNEIMN4T-QUm9JxE4054A', 'ceCj1tLvv8dnLgL2O6pAeg', 's1bKxOxsGQqSfTbGs9BJlw', 'xjgSWEWqbHbHfHozG_cUZQ', 'fcVriBOwjAqe2V9Tf-c0Sg', 'ZKA_0iCCX86gVCO9ATD_LQ', '3djKoWvFRlKlWvwu-8LFkA', 'Q-P20elQEc2kKcPBK7cgzw', 'POTGN06s5senGVM7LfTPhg', 'XSXuuIwJghHcUTWPVsOVvA', 'eC21kWOR7ajb-jn4dMkgOg', 'ZoHXxNUilRyMNz5FSmwbOw', 'VYnO0ha5_xtjp-J7DtoOXg', 'R60St0IRn8tQ3HCKeFiMwQ', 'rj7yFx2kvT7SCOroVM5v9Q', 'iwPz5TnejhdiySJqmhXgGw', '3CzVRGi8XHwbF7inplvSCA', 'HOQwoLfMNiKFctSvj4IHFg', 'tslznRR7S4OpyWjA_s_f-g', 'mDwXw6WvzZNEINAYPuWLpw', 'yptyNQaTYXhLWW1WkByJcQ', 'nAj4zt1GXrECzF40eXopRA', '_2qyYMGqufuVPvwxnmie_w', 'eftiBmr-y74PwGwJgmcWzw', '1nKol0vYa7LYSnBJxNPSFA', 'whCIT8n-O3EKWv_nIjl46w', 'JlcA4bTBwost-IhhtJoKgw', '1kMMKLZAbK1tdSIEBhBv4Q', 'udonNKpvdvOpalX4_aJc7g', 'Eo9OXBZxIMAG5iW4InEsbg', 'j4y6itEzSTgMt7JGP2SHfg', '921CtkAMkmrKhNYIG6ZiDg', 'Qhq57jr7Ke0iK-j7GL8ifg', 'hQPlmmxlKgcTmIhwM2nJIA', 'KeAqZGJTgGgIC1KQDZTEAg', 'hLDc5HB-ns3MYh958jEmtA', 'FZrv7kxuBgOINIY6Hb5fAg', 'kqtnwzg4IJ5Pgvwc7RfHRw', 'OU9NR9U136P32ap8MOgb3g', 'PVFGD3ikg7Ylbgzr92b7mQ', 'fC7IqOc6iO97WToFtQC8KA', 'XK_7ufp_a5I4QSjJKrH0hg', 'KqBP-1rl-Tcwjv8JOlRAlg', 'Cq3xj8Pr29DXJmEo6ppFfQ', 'FG6cMfXZIxy4avANf3fmoQ', '0FcA4nu0pg-ntgXKqQ_c5g', 'Sx718BGspDHojp13CMvoiw', 'BU6GNdHlBPPoiwpDZEW88g', 'z5Jy305OaVD2t-b3xGYeLA', 'wjSUZ6LDJ5KgxPq9BeeoZQ', 'dhTBU8puLCRnm0QrOaimJg', '-Rn_-x_ovUe-5RTU1z8aTg', 'rErTBZ9UyMnbF52fFNrf2w', 'PFEOAFNrcRZY9O6u10CGUg', 'MQ67twL-1ajWALHZLNNSdA', 'l1FiiA9nu7vZQLgJ11XcUw', 'yYWSNOettOGgN5yGMQwLJw', 'puKJqAeIVCJZM5Ru61dewQ', 'z0zgIsRTpbgGfBp8Ud5fUQ', 'OVIDfOIZ0VtCZiC0wYkBLA', 'JVgEcmaGWimxDvUcTEnq2Q', 'yCoTW92R0wHj0f2wwMyHDQ', 'NNoMPBgkH57LTGd5h1zMgA', '5yjqtovvb-2z4-joYG-L2g', 'qB0PS6H7M_lcC4IbX0_wDQ', 'lboEvW9cDtpUq1-BEe9wNw', 'LyHqCKPoKRSlOBgcJcdVdg', 'bNZhGBakbEq1CMd9Nvk44A', 'fyJtY_mdezv7To3nrtzOGg', 'NuUq2SpPXW6v6-KrXQwxpQ', 'osea2sMUFtl1CVpNCEraqw', 'fB3LHOOuaB-Be8kYdgYBSw', 'R_evEjQUmtzNalScjk2_Zg', 'Q4nZArdLhLSptrL2WqoJjQ', '_csrzATqVmBzntejOoYA7Q', 'Gshvwe6mKx_qIfV_uiO2-g', 'uoZiaOp_lF6Uby0QnjB2fA', 'z7pfqBIk6ASpicW4NCEbwA', '0K24XpgivSeASKzBjrkgfw', '5VlXa39042z-yoljYXu27A', '7oaf9R5jP2nt_9pjvvlpkw', 'Hi2H4aKjVg6_5K5ApAAedQ', 'YY-ZKHQjs4WRKOSjt9qoJg', 'ork6MEd0hI2Dg1cndA_qBA', 'a9JwzzVobT6xNx5L31kZEg', 'bx4vf2K19BjhXvxpreSoWg', 'BOTTIwIuUm5mnl9lP-9ELQ', 'uUspxyI_tvIIt-q-thuPkw', '4SYdEglkLWAmivlLUK6tQg', 'RnXR2hAKSwWKUcmv8SwACQ', 'Q00XV0-a_BMjQOnZNSrRBQ', 'FVjgZGkBwZ9-lYRe9n9sKA', 'Sz8KhH0auyfsUCXIvqk8xA', 'i45Cj9YdNIO6QA2RRiE2sw', 'FEGqDPQXtgUNZv0qfNiEfA', 'dbh-JHXXAlSRO-oqYlSBOg', 'EsWkuSep5Pl_ivpt5Y1IOg', 'JP_ZL38V05Fg_NN4YHknJw', '8yGJgGvDCNL3Smuw3uhJdA', '7dr1Iuk6EQeEYxDuyxzoKQ', 'XHLmUibN5LSIkopyc60c2w', '74vZfW--4Ffi656KiEtYUg', 'LNHK_NUfgwf_7lAHJZ3R2w', 'HOktsVXODHvNkq1W8LplSQ', 'lB_eKEqd3FLUW238QM1lfg', 'yaqNFxgbKvCTyb-vWGI12g', 'W-TYrCsRwIjTmSCuoRCDmg', 'HVJHduNH5IOqsmtgUPCciw', 'OfnvrL17tTY823PreVFbOg', 'MalIhYuGvfbvSuEU0Qip1Q', 'Qqp9nQld6zun0i_AlVM5CA', 'FnkxuLtglkel7J3RDlI64Q', 'plsagxWu1g_Q_nx52s31ww', 'Jc_EIxKh1HEd8z4MPAag0g', '0kfQC_APWGueo982cGaAzA', 'D-vYE3HILl7Qk1UhYqZXYQ', 'Lnp-AXObo_hvrl8YGCo7Cg', 'N-lstmQlkvzdGxCj-JLJ5Q', 'ZGLQwCgDp_5HmYsdSR7YEQ', '9KOaxrqS8kyj28u3uvcAUg', 'VFsgeIKD55-8L3uvNpCkPQ', 'tP1C2dGEcj14AbdxggvWKw', 't9fqEOtzyT4mpui2q2TGmw', 'pj6Wqrnh_THLgqyoEom5cw', 'pMk5kvnHv3DZdf5CY6eZ5A', 'r69ALWSKhMabbo9BzhoT_Q', 'LagNpPB0k3TEaa0Sw-g0zw', 'Qjdru3eNU9gKkzyn104YOA', 'bo4gb2TusWsQ3xYTxEwDfA', 'ceQrUxr1cEG_8twVKB2xdA', 'M-iKN4V9Oea2DxIKPtNZjg', 'wswYeBdhTFxS1_M96-C-VQ', '--rK8GzcNfz88TpsSApCLg', '7Em9K89XWas5lFIb8UlzDg', 'aWaEVIFXqJ_0gwMm1orUPw', '5zPetI6kdmeF2DX0C6ImSQ', '6ZSpch2_fmM8XySwKaqgog', 'JmmHazeMd1YjuPCTjisvPQ', 'ZEGIhGz23xMqu9jnBPdmPg', 'CE449uvsPkm61c-XI2xnDA', 'qqobZz1p3WnO4cd53jNOAw', 'iQymJ0D3tqmaI8Q6kCAU3Q', 'YeHrZWKD1nPr9gp5kOhVNQ', 'Uq_Q8NuW2ARf6MA3F-0hhA', 'dMozEUujrj4t_td1oxn4tA', '06BlwEa4Trhhf2Vl6V5zcA', 'ANLUQoB8kLWsWU4qfRfgAQ', '5skQ21TS3cAcQG6TbWu97w', 'vKLQAdDDFcwR9OYEhgwahA', 'L_RxKCzGM_LHpm-J8iXYyA', '4yzUvnN5prdpyelEGO_hHg', '2b-qN6WLt7Oe02flqVo_pQ', 'SPzrJr5AgSKxOxXVt83PrQ', '8mi9UgjnlvWLyTxPDbAGJA', 'Lk0Gka6WYBtp3nBRMxRmww', '1BgY7LZ_WLg7fRaCSjgzcw', 'FstzuJSgXFa2Jvd6ezprlw', 'JxKWXryAieHnmJ8kainZPg', 'cB7vLU5af3POS2-uBWnXbg', '1oqVkwdNu4tVpCdMTHBFFQ', '8cGKCcBaXZVtCFBLHdN8QA', '4UAN05CyXGj5KFu3vRyD4g', 'lahTIvCt70og6F8adK0JKg', 'eQaE2GnELL_a92Bf0dhlXA', 'snGPmJ1ptj5iY3In3cfO2Q', 'BnCk94NIlQLU9TzjbJjvQQ', 'RbmfjQztTGOO5Ye6m5zg8Q', 'y33ErEGdX6p7zWaJ5WEziA', 'EyIyZ5mF3zL6NUcABawI1A', 'yNg4V6Ksj_VX5UDe21kPug', 'YRpSeeHw2znjWst7LBPrHA', 'GC8BdLw7nHleDXtT5IfzGg', 'noin2opcnLiS0p_VyVrRMA', 'jha7tbzfyGd1ug9WfCSo5Q', '82cH3JvJw6_40uRKGTWOKQ', 'Xu27ysEGUb0uBCAmgEOYrg', 'AOB8ykyJWYODrXOMdH961Q', '-6wfYnDG9DF04QlqnHnDNA', 'VVpmFWzbPpWwlNnJkLB5Tw', 'k3dFlQgc3dJyRZAW3hjwCw', '0QCPRkjl5iA8aBYp1ZI50w', 'OCb9Nnzxg_fImaQ3R4XmHw', 'lPKhIZ0h8zM0AWYFXvkjUA', '8pQ_h6E7hGrRaLWEo5D4hw', 'G3nYS9LtQ6SVpDwf2p1kbw', 'V-mZswcBaa_Be-YIvnvyLA', 'HfDboksZJE7Ed6RjI7Srhw', 'RXYD5GdM_-VYVwAYfon_MA', 'F344a_U4vq6E_MVWveFzHA', 'xw5GETAxv2qRh8eIyDfz0A', '2_PvTi5PBR8rIiBjyWO5Ew', 'Gjat6zTHlV4hWAtRG8i2Yg', '3r8q_-bP39zLjxiI3k0a4A', 'sGhc8GlXtkMzYcybhKLdtw', 'Ifacscc-JGOmMy06xpv2iw', 'MoFww1ZSY2OIfKtJOq3GWg', 'Olc6---Qcs2DlxZtyyV72Q', 'N7uwaWyMpga88WXVJi_xbw', 'GbMUYcVt4yrrYWAdPZ-DPA', 'VSZpbWD917DlfWsQt2rhQQ', 'ywOcTbifMNPeBLne2K5jzQ', 'DPvg5w7PzH1sKoSjLgJo_A', 'weWcpHiyWNjSsg37jKZbNw', 'jDKwuzaTyFH1MRMidrClVw', '_AYDurOSFGHiKSDnGfiEGg', 'eL9MFGCed-xsNZhqoV3Xng', 'XxzYQe40FFSd1unPQcj8iQ', 'nUko65hNaPRvhvVA2wSuPg', 'xkT4hvMx3Lfo5q67rrSFNQ', 'ggwqmA3kUN-UjSCBK1RZNg', 'BNUpMoO1PeA7M9LEIVpOMQ', 'xi5KBv5O7MW7ym5QzJiUGw', 'tJGzdHAStyrfO5CfvwDUmA', 'XxO1zYl30kUamsWLUybWCQ', 'I_qDzm-yO9kt_bgKAb2ntQ', 'lIcOAxxtV1fr9VZJJJz3EA', '-cwDxqK_reYYJDTDmmUJbA', 'LUCuU0wAEo7F9_7RldaD0A', 'xmqDodOXtRVgCKFOGFCH_Q', 'uQpAp5tC1PMFptFz9NbFrg', 'N8nfB9PqoREcPDin3ubO6A', 't6dY8gm6ajW_ixhlgwseSA', 'J7tkhWS_EQJS4PzgBfITjw', 'Cl8yv-sHuPT6saDZVQIqxw', 'jjbCVItevASELcgWavIe4w', 'AdiS05aWlVGTNoHi8n5iQg', '4o_N6O2aXevEpzgKDsvsqQ', 'dGTVubfJ0SteQ5kjbMupbg', 'V33TSbomQk0oEpCjsj8lSA', 'NNG9GXgvAo8CsNOL4W5gFA', 'LVwhg149FN8tDAVWTFe-Eg', 'oyzrlO9R2RNFxcCUECtCpg', 'mrxBhstZQnvwzX2r_OL8rw', 'VxStvMpgKrBVly4iy7GfAg', 'yOgspdK6NcipOO4XvregTQ', 'akwt7cct8r6TagzXdAcOhA', '5VBO5mIZ2u0W0klsCukFNg', 'mpKyFULeYAomD4s7XlIfDQ', 'XW1gnDDimLG6wuY1o7gwgw', '1AxPPJSju4WFFbfdptCdtg', 'WwH0pahKn-3MuGsRTWexGw', 'qk22e5wmuBjcaDeSveEnVA', 'awincBNPty-qLrrLbwlaDA', '5Axllr_pb51DG3e5dIZgvQ', 'XVpD1I7Xvevgsji-rJt7Rw', 'Ifxe0FxdULo9xLg2j5bUjQ', 'bvFDEgoSiDdvCbC1OcRdfw', 'BCXMbJB1DKii4OI63hLnFQ', 'pDWIc40dpWNmhbG9Dc355Q', 'TgyoQqY1sTPJ8360r4OqsQ', 'F5oym-qDwllUag6l7InNOA', 'e2RzU7qcX4bSo7lzlkPfog', 'BurYlkJgw1q9MO4ZXcgecg', '7JHmww-UpHmUnUil8sltng', 'T6Hit09B5U1ipY-4PIX9Lw', 'cFeiUl9-7jzgKK_y0TpzDA', '8ZoaA2L0vMcA3HhsR601IA', 'WJlZ2eokTeRnQzbAHMK6JA', 'Sq0KIXE9cg2-JG0Yo4iA5w', 'TWbHDBR-zxqi12chbqdv0A', 'JjpUUAx0oGXESEAOdPieKg', 'zW8URvHx4-NCl1QzE0ZzMg', 'm6rhS2fiIrI8bDYXWLHHKw', '3e6dcBE7WbDObWls370fYw', '4sumaAbzjLblVGG6ac9EJQ', 'Z96V4b63J1yrjS2D5Ondnw', 'pNNsbNXKfXi9LANOhO4N4w', 'a7s_7-6WC7OAbAyZH45tqw', 'EczqpCNaLbRvyA2gI0LIlg', 'jRcXvsWUiw2EyyhSxT3OGA', 'XreUjJ2u0WW0tJah6wbpYg', 'bewbNcbyR8QLmLfew6i34Q', '9zzNuaaVz2D8c1oe7sr24w', 'gBMYWRQXRjR6p8HgrdlwDw', 'ftBAiScIeqmI-KH5w4Wq8w', 'fn0t2fEu2gnOju5Fp9jihQ', 'RlXgqgKIvdw7ZLhVf_QeCw', 'ESocIwp9QoXpy5k9Mm6IOw', 'YrOYl7gCFVbYVxJXxOsiAA', 'lfLe1-klTbHTLWFSA10e1g', 'Jnf6oJWUQLKszdPHKqPgoQ', 'p2xBoCu_FIe1bxj0o5yKng', 'Nm-tQoKcb1pmWDViPIPPuw', '54oXRl3zNvpIgyywnikZ-g', 'FqeqwaxWkcjK0bZoTpLiNQ', 'mPAGDpXNDyiQRMpNPiuqYQ', 'KpdpJia6v1bAEjirG0CcqA', 'N8VbEOq47ywIysICpjf-ag', '37Onzt3JFGjSLlix3oENkg', 'RAugMw7mF0SDogBamdzzJg', 'uGBndPU_8U-76wPW-axTKg', 'zqarkVTiPCOGTyDtyd9unQ', 'Dlqh-Gyt94bl3v8nDt7JOg', 'WqSSIrsqlrDrv8y5MBO9Vg', 'DXYAFtdqNFj9BD7-0B9naA', 'asClRoz4wmU67loe3d4ynQ', 'q08z616uxWVMdY5ys991oQ', 'gB6xiaN2GeA8hNsK00KaTA', 'hJGYdvQ0j2QTB2Ax55ZewQ', '3FWwqLLHpbT_snKdXwCR4w', 'Xa8MymVzIA1PCrDdaTBNAA', 'nd8UOiKEswQj9kllGXmreg', 'ucZ4Nty1qPPvisPdplzNDA', '0wvhV5ZWr7iPToZEHAHZPQ', '-wbwl6g6Zte_YSsGFNjYcg', 'sFKq_VVz4GpU60AwnW5MzA', '59R6RI1rurDbg-eql9zDQQ', 'K0dUL0s4cVuNzHuZpL-2UA', 'zwWLNHzimzPvlZwj_mf8Nw', 'YX1siQ01C5BvhotcvX64EA', '1WROiOWahukEEWxoUPY2ww', '49WZmrsLmvhi1zLSA5tKCA', 'obuyDg27gwrWUeJnO2tVdg', 'BIxvYogZceYzi-GNb34cyQ', 'DF5V1UKtn_5-ds1mWcNyrA', 'TjXmGHn4ZJHeXQ77LU1yCg', 'ErFsm7VzNO4wS5Fi8580Kg', 'hR7usBT1Uu1aGrQKOEeqAw', 'IQObNgXCqJXfkuUxMb7bsg', 'OJFVJBQr2W81Xxfo9jIMdQ', '-h9NxQgeDRzUYLXNz0cE6w', 'mFu3pdTRyasJTor_0RqOQQ', 'gq7yWy1ylJatPlXUPwl2Vw', 'OxQNhLe_1X9unJJtp7n7uA', 'rrVtOCkC50Bv_hA7jKA2HA', 'nsrDhhZdH-Oox1V1GXf1bw', 'rzY-VUEp2THFhAzQttqOsw', 'FEa_FEiUi-K9uhNs79sDxA', 'bQa1sqTP7NG7dcvUunUiQw', 'AZc_iAzLGLkzGPZ_7zKL4Q', '6gWF87AJLAwWbe7kVhOkGA', 'VOZTJfscJkP7OyuZprNy3Q', 'TOZqgfka2lPfuJXdJ3OsVw', 'L42JyAtgS-bdya31gIcbug', 'a3jhA1ApfIhr5mJRjCzrjQ', '1YlvuIhuKIuYm6auwd7_KA', 'KbjMdAF-4bVBzx77B8cc9g', 'JlOQlLt9LTapLbPv1CrkFQ', 'uYs3qFc5k__4QbI29cPhCQ', 'lqcwDLSNpVya3TN348N_nA', 'CT-oSdy6JINaFVx8IvmrPA', 'Pc5ofsANOOCQFsFR8SlokA', 'y1zfQdoyyKaSIjIW3jV0Wg', 'CjQulvhRBOiUzm50LOuSLQ', '4AJ-u8BYfIGH1hkowcWY-Q', 'wZmluGAzr9CbbVpUlyDc9g', 'c8XBREL588j9p8uyi1Tq3w', 'SPlB3mxh4-AKTt5X1w2VXg', 'lZgIq71kUEWfmdAuLvtiog', 'jEU3wm21m1rNj0fAufrTYg', '_qpcCbnh_A9jJiKzG1boWg', 'qOBqObFqMm-HSP145K3ZCQ', '8U3oDf8E6SMrOqmUAkqhig', 'ZYHy6jGLVD-_uJBqY_BqLw', '5NFohSQMQR07FE8uUSDHzA', 'ChwG4xBWGPDARXA5K351hA', 'xXBjRyZ2kTrI8JUwfa9ARA', 'rnGi3Y1Cu_UYR802loxxVw', '7m-VBHQlt1lZVJeGTv5law', 'AKyN8GNwsAorR-oOWOTFXg', 'Hypl46ZWF5JmNbhnVXbozA', 'JDuORk1SiYa9ZeYTj_UYbA', '8PmMgEEOoQwmH1k79WQPMA', 'OAUd0tO-xINwkgnpthIbVA', 'FmT3vfGcGGA_mv2UN9s_9A', 'CsfB1AIKof2B-UUa7tuznA', 'pH7Dv_jdxcKmSoEdR76Rtg', 'VQjoO8mni0B_QGzr8Ufp2g', 'dhSV6BMglbys5z0s7KqrPw', 'D4m4p6m0wjJbbqVz9t2okQ', 'v4demIFgWgBotOuFfg0eYw', 'HTYregpmQEAHTN9kTA2FvA', 'XJjDC6qQcEl46UDvTouyWg', '_8TVQ84L_4nUEWL9b9FLug', 'xdOJERe7ToFUvd7CqY2LdQ', 'WPaX7LzGrTab2-_yhZ2HBQ', '7qImq0ur0uOTFbSujEsebA', 'SrAYp2dtRgKlUD34p2XUzg', 'r8gyBtq241o5bJNnYBLbxA', 'QSBZ2cD63ikfIgRjq9eDJQ', 'INzABgCq6H6VxynCTX7BKA', 'KFY7Za81yGi6nIaMWqJ0AA', 'laqYj99TrWo02_2_QCJYBg', 'wPEOkcHBYh-sQDyuFsxwUA', 'n0mUqYv7-i6HKjUBdsPSKQ', 'amlsznStUadcc4YR21y26g', 'Zk5FMsPV78LVPXwsv8Hzeg', 'PRbWvEUHs6OATosoVzsK2A', 'EAd55-WZiosf2KFi32RV2Q', 'ZBQdV7nTNza71IMMwD6QDQ', 'ciOQKXZNvoenJcazeGhQXQ', 'DW6xPGuzvij6UYpowUkzKw', '3XH7B1qt4gSSWG0MA3R-0w', '-feD63_6IPspoSBsUnS0-w', 'ix_8DjJw_y_8IBykHAHysQ', 'dJnnbScUw-Iqlbf5Q-H6LQ', 'vpC9c8fWcweLC5Esl8StJQ', 'kcPmn_txH0EsCmjl0vjxMw', 'gjTYD884t5Gdo9dF-8pQJg', 'wRw2gFJ_XYNYALv2_d3Fgg', 'aEkn3WUuz9fP72fCHp8wFQ', 'QV-huRdvIX6J9dhb82eMBg', 'T1b5QI0PxB3O3J3BP4SziQ', 'uifvv8AWhh039kARJ1KZZg', 'mBj5rTu-ZY4NdieiyioMEg', 'xw6YrlPSfSGyq4F0bX9Sow', 'oxJ4dXaUrWWhRyXiAPU3Jg', 'ulBSUJNte96JoaZ-7MhlLg', 'zcMO2J_1CQh0qnOGe9DXAA', '0KR0c2ijFC5PhCJVsYqWsg', 'iWsKHHjBpXDQrpVd4yVaxQ', '4pE_V9QzWt7yEH4W4qGT5w', 'yvmj3RSlEAo1jRJwiz63lQ', '_1u8f4h5wQ047ci4_SFz4w', 'j5Uqaq8OaCtlv0GIMg4ypQ', 'ftFybPmJS0aJF7GNWeUW2A', 'MynPsTNuymjjaOPrktJ-Lw', '0edXkDDiQV5GfhEeg0-7yA', 'saTsPHKpXhZTnMwJXNNaTg', 'qD6hXBHE8MSpzLZ6nqL4hg', '3xSdj_XwQzakMK4_LKJ7cw', 't-DETbgjhVlzbInvh45fzQ', 'srQAp5bOZjzCxFpA49FqhA', '0iWVIuiKP2jEz1y8PXS6tQ', '1ZhbSKDJ20lmVts0566zaA', 'zyZIwX6OZVg5nEg5S9igqg', 'LH3vxSZZ785obBqUAKRQGQ', 'xsiQuOZKdpDblJqBV8p6sg', '1TUnbq65XfxbtbR497gPPA', 'JLb37mGqq28KUtwpkDUemA', 'FMSLFGiha-DvGx50fH2KGA', '4eqxzA4vLGxs84w93L96PA', 'tOqB8Z19rX2TuTHFrxo0gg', 'T9O89dTo4K2dFG3G4ThgyQ', 'kS6gd7McklTUkVwAbtMPLg', 'o5dnF_tJqu2AoMVVqHVpkQ', 'tlO2mUL3593WoYr7gM5cAQ', 'krP8vzcSuInhbaK85TjFkA', 'qQDCVfjcp9zipd1YCZ3Ltw', '5lcbB-h5srhLz63jcOawWg', 'uBJXJbO7m1qOWbAgGb6R3w', 'fFoYDgQvd8CSwaXKUH8dNg', 'yTQ4PafCBHVnS-tD94rtYA', 'YkkJAs4s2ZY-AeES10YIUw', 'YHVuAf56XB-BbosTataM7A', 'coe0jgWzWzt9Bl0cuV-ozg', 'iyxG43gctV2bjMINV-BWeQ', '1kKA2d2h7UvmU5k2Q0WyWA', 'BPAaAGwlT_KJdvn9WDfoKA', 'pKNkVqmTTO7o6DPPC3DThQ', 'bBTe939ZLpiK4m55SxLrbA', 'Q3-N5uM5UCmuLF7cB4L8xg', 'bZ2balfxpTCmSlMGgnO-Ow', 'GkliUBbb_0grjnDXEh5pQQ', 'mbKXlqo0ccAQEtejjDWVqQ', 'HqQxCnem93Mabu14eVv9Jw', '4b9WsWb3SncKbEFH5DVrPA', 'GbqdyGLUJas_7fG2eTU-Zg', 'vcJZqjDJQbV0-GeMuqhbaw', 'zPhL6kYrEe-nXRF6fYWkZg', 'BiWFE8myPIwd6fyhShOXNA', '3Jo5VCX6hTX_kQ-IXhK4cQ', 'rcDX57xocx6XCPiGYQUAkg', 'iAJ6h2G2GDFYvSa9t8cTWA', '7soq6ooEa0HHttEv-yCu5Q', 'EiMVMd7_wowtvZRYo-JVlA', 'tT6RoN3YcuWP2kTm16iQpA', 'sMKcTSolvdd6lWkI-9HTrQ', 'xJA19jheAr7B6t-Yu4aDUw', 'xAhAOqvvxtvg6XcGY0SxVg', 'LFw4pcw-Ak9ghpZA3dcVMQ', 'bfjmL7CDXev_QPWEBHFZwg', 'VxUjcxWQSramdAgBtMIXwQ', 'z6Z_31iip2daWDlt2Opeag', 'SxA-VUQGivCEB9vkVp3oig', '5eaBKrmYPWXe68EB3B7dkw', 'XC1TXuc5tXL6SVD4nlBzcA', 'NKVKWatrxbObmYXuIrlYmQ', 'SoYU17_Plj78tewE7bJxJQ', 'SMlpaWaTPVEeO1lVPezo-w', 'yngAOSQcPmIyVpORtt76yg', 'CbUF59yklphM_ojeLkcMNQ', 'b26lwBVQ7GQaiCAIjdSdDw', 'fR9vtVDpeV8sDnnqn786gg', 'h5PjH-7cDsi4KqQ1nduABQ', 'r8VNq9HrPlN46dVBHD-y9Q', 'tMY4E_jgtllu6mY32LBtZg', 'CoszdInM4GxzHeOhifC1YA', 'L49N4M16rqqc8-3bD6Y-4A', 'Kfo_IdxixytypnKMoXeExg', 'YHHx3IHwrEXp-id2_haLGQ', 'hxlwUmM34QZXnybOJg-X3g', 'skHWweu3U_wrX9BAfO12Gg', 'gK5GicO5A3UeE5dHSmoGBw', 'iwqQt8ZsaOKbgGN7HJvtfw', '1iitNYP3kOStbczQ-3-pIQ', '785KUFseVomi1iWwZqh_EA', '6GkC91NlLDHWjQvKksJ5hA', 'ClqHTL22D-mOVbuk1Bhenw', 'buH6lZXFmFUTnqJtwcc29Q', 'rGkUwGFPUjuU_pq-T3PsGw', 'b-x50_sVSfk6sbzaYliEow', 'o-mC7Q6RH7k198mls4vm8A', 'mibW5kqhLM-lEu2HN-QMFg', 'iL196A1FaQTFgMqYMs3QVg', 'fSiYPldmevASItJU8Eoiiw', 'HRUo-7D3wagz4Jd1B0vHAg', 'IiNrBA95-VDzOnfbtGzSjA', 'lsSdB-zLKFvLPzWFNP9yUw', '--Qh8yKWAvIP4V4K8ZPfHA', 'qobAyCluSbbB5m02Vv_UNg', 'MwQLdqZV8tu9PXMPldFLQg', 'f8MgvIC7fq-nNcTjC4DbzQ', 'PBqlAqP78kCAU2DVXB5BVw', 'HP7iOjw-48PPmUuzV7oFow', 'McAQ2Nyi1WgxAGdt5I5JvQ', 'x9vJZLlUx11WZxkeeEl71w', 'px4wfkRW3A_2Ax5olCMlCg', '_wqUvsmKqf7QeoU5gB-slA', 'aYw6HPdgJR_ZhBez5h7E1w', 'SYCAShHBnCF-SV2EJCb4oA', 'O80Rjxju6WreGuPPCXrEjg', 'VQenIJ5AzqURtDSUYv76rg', 'RxrGSxWab1DrmslJ6sEppQ', 'myBJTL7NmFDKLWA3QDsVUA', 'Yl0X5BB422bfpd3eyMmlpw', 'rLLHM2nHASzX0Co_vEddcA', 'j0B_Dtmc9-b_v4eMnN4zMw', '3G1EDrJh6mCkgwsWLqBvHQ', 'YKJjG9YYbBJh_ntZIUiKYw', 'U7HrFiDWS72D-iVmgtasDQ', 'MzKXnjd-o4pZPH1EtaEILQ', '7sFqHwK9b5iIf5f_pELS5g', 'T5KawC8qrarx09z59ITODA', '3nRZS3G62cKyQft2lZIzqA', 'GQLH1f-hGIRSLbxbcSrSWA', 'Gkr0VUAq_-zHFQ7jru8SzQ', '5BzVmc6OUtq7Q815_JsI7g', '-_HDOn295MC9i1jkSmKbUQ', 'Nk7jYktrgjFaiBreS2Ufeg', 'TG7ZkLbyKWcV_q3qx1Wvxw', 'wPxNREFZj1ncUHol5Qzglg', '3Jz3Sfn3BuMV1Y33lF6Btw', 'evZCpzt6Jv9hqeyWNckd7g', 'VrrjeRW2SHCbnOu4WXckJw', 'Cr_nh-2UEQDQuJ2KljUMjg', '3pPwk5s4PAGjXfSKk3FcBg', 'xYMXt84MY6YztOODr-gNqw', 'JPcbHEi6gw4_nJCbXDwg8A', 'dRx86xjgPFKWeLSARfYdoA', 'MmnPGQFG2KuTwwkYwM8e9g', 'iaGkD5cCKX9Q_s0f_wOy4A', 'GsSq-dPeOYWIDbxYSGgtog', 'viNGKugjVOzXrHD3wv-Wrg', 'p6XLhGXQsD-7xQL63Ygn3Q', 'W1A5UGy9BiveUgKLDhcHzQ', 'nyhs1BwoF5MUVfzTC6BkFg', 'o304yREhQEVCRR2X0_6mHg', 'i_OvLDwGTsTDbNHY44dxKg', 'hmozSQAMwCmOLSjLWATYEA', 'hcUei9e-XRwd_VzxhUv0zA', 'v6DFSvAt6OfHCMUTukGlaQ', 'wkz5bqiRePGEGfYoz0onKA', 'KiNB06Y8hcrIkTbF3XEexw', 'sa_2T7iE-VeAbwI0UcR-Nw', '2vzuriuVJpuBR0C2HPuyKg', 'ul66eakzzQzazjt0wQS26Q', 'hJySgwjtQAkKtTMOk8M4_g', '2gu34YmwqaWVnR57my-yrA', 'KVYWjaO8Snig90-VQ0mX0g', '5MurUh386aP9gYPHwM2dKw', '_oO_TNbkwTNMjsSdXjl42A', 'NMVg8_m0WQNe7hECCYA1Gg', 'lqtpr94c2mejetu0EgBVkw', 'DmwLgctWWEIeS3qYA0GDNw', 'AVHUcazJUgRtdYbAMI2ZQQ', '2S07Wh6R_5C5ZIjzQZfxbg', 'JW2GEOfs7m5LaCN0i5C7eQ', 'nT5mz4AkzTRoYcYnGnlJNQ', 'lCMjVVEoXWco9pkEZmUzsA', 'Rn3jXBM3gYfmPmSgGJQH9g', 'LhTL1O4q6TDdjclYw_RQLw', 'kG-ul-8_Viu5232wdqjtZQ', 'rczw8ZC2kgR0ejz4HOCBfQ', '0e_BtcrlAPojntduY6PbZw', 'EjtrlmwYbhuNfLRILpYv4A', 'KozJZTeymO6Jn_Fxg0Ynlg', '-oY98RLkbIi4teGQuVmcdw', '97BK7U5xKV4J6eEf2J2Nmw', 'V9aSW27O02NogZBgJziceQ', 'YzFtHpIWv57oT6VfzCCMWg', 'lAcak_ulZ0EDwVSYY2wT0w', 'UNxLHOXcrGbqDjXTzfLx3A', 'fx8SAKx5k7jaaNKQ1npAdg', 'HN3OblJCr3Qt-1FGPyoq7Q', 'F7WolUVoLUC1B9wsvYDTQw', 'nDBYuVskRvQy9wXiySvP-g', 'cGPjhJTgbAYGPJmcg80Jbg', '0Mo_tzRS2CpRMq_nU56a_g', 'uzAX69gXCoHb8J5vF4bRfQ', '86ctgN6kDr62VSc-LIZCyw', 'OpYnvDQ8eGr61IrACvkYpQ', 'cDItbhPHdfrnhAHtJIOuOg', 'DpeqG0ypaJQdS7xghxNGdA', 'cDFw6Trm9hwfj8wEpDoScA', 'iXfG5pYcZGIAdPiciH08Kg', 'BjA778RsNvXVwsjwavZP4A', 'i7yXphvUbSe_P7WehwgGAA', 'fSB74aWd486aSdH9nm9iRQ', 'sEiwJeRVwZjb6Yq_HJurKQ', '5udKGmAQFAivgREezANxDQ', '4dbjnxESGP6DSWyc28ULmQ', 'yT6MdS3IggUOD6d_aRDLEQ', 'QCWn1DXhKzSDyxMJhHEMAg', 'Y4P2HDOAR_V7MRJC_kG_fw', 'mR6LmxBNGRyU_ZeQGUBDuA', '7mvf0IWIGzsgY5h45026lw', 'ykZkHBvFYz99E9tbyIbK0g', 'p5ja4YdIoZG0ekfIJZrL_Q', 'Ad20gaFq7_wy7BrOf8WXsQ', 'lAaFMmvyaxxJohyUphYYSg', 'b-lsEdlJ15ByMM2RaMGazw', '0j35dlCDbJMNAIlbTiQu3A', 'Epvj7cU1bZFEP1QbIu1F9g', 'akGCz85Vxs1GlJd6OahwFg', 'dgct_9E0M1lm-mo3ElYipg', 'A77xWS4H7U7-42XcZWJd6A', '7GTMAOLYScqO8oc3yzpueg', 'bFqqFrFiKHfuliDdQxWM2Q', 'hoqkeKdE-IOiwL3Hu7iqEg', 'AT88llnvWvJl7PfbV393WQ', 'MYACNxe6JzJyr0Ss1jxBbw', 'aHkyoOcbNshvuKHrg62wdQ', 'GFxNSuGvXJNSTxZaeN-t8w', 'WzsPPQuiHXTye9DMy3IiiQ', 'yhNa3iSZ9qlzadzNIXVaLA', 'aVSIPxPKXeAZEMAKz_3ktQ', 'P46fC_7W6SFsN0sEu356YQ', '3qd_-yTtHZL8xS-dgEfmHQ', 'klF1bTDSLmHt6fYm7QVlqg', '2Kh02w-kj8ZjAYOGiXfc3g', '7UN2oWzOYBbdJ3HKJos_-Q', 'bkf9P4XK07RdSSoW-wEWrg', 'nib7TKfLKsi7HY8ghFWzAQ', 'TABNtSU5jN_EThx2dttDWA', 'qAC0xdUrb8-SzEYeyWz6tg', 'bXtgMqscMEKS0v5rTTYHow', 'M777VOQzhEJXI3K87C_8Ig', 'FkGXjkyO22IDQ2mywffC4Q', 'jq56dWyzhA7_EALEQhVROw', '2XtSNuVMniJcO0R2H6EBqw', '7asS_TSJhDitH7YDmn5VlA', 'n5AnSPhAhXCPnE0ba7XVhA', 'lA1GpTAn8eJJXrWUa2D7DQ', '67134aXlWLw-Gkr-M2zG2g', 'ZCB5gXoFj7VsIKYFfW9lCw', 'YuGxTTsksJx85TW-7Ea-Kw', 'aMMkjwOdubiU7-vecntjSw', 'XX-Q4FXNZYCj_ZjpXvOcXQ', 'aSakjwkloJDmk0H6xFnmBw', 'xTDG-7GWumY1UqomLFBcWg', 'nPmZljP_W9bPKn3gSNhIlA', 'zUuqiib4c1gtftJs4MWjvw', '6BpXlazXkMmxC172qRSitw', 'uS0E6BhuimLqvGjLj_L9sg', 'd6ngO683ryUFe5y8oyHbDQ', 'VS58YFVcdKVsUJ2o9PKviA', 'G28sOu5X_SClgcxfl7zEoA', 'vIoXoFTvCVrFJcs-uXVGgA', 'a2y82FqVCusq57ZqIa5u_g', 'FlxPLYSges_jGw9xWpNuyQ', 'R3RAH8TqErTzqMgdDN9aXw', 'iRXKqtb8-MK_iVbJej8GOw', 'SSAShaN8X6F4r7TZ4Wuo6A', 'RHvnApNK88k1snCRrT2mLg', 'Tlf6EOPZT2oEXjPaJeIi_g', '68dN9W7kcwSdSmrOwfDsog', '0dnuYzaPDk-XaYMRNgptwg', 'SvWz4KnpRim8zM5ESendfA', 'GuOTHM4rrdV1JPnb6upPXQ', 'nOKL3dXun8Av3cmTgfhsyw', 'ELuUrbOZnqU3wxoT9yZQYA', 'q_HfkJHXgS2PmReenAOchQ', '8UhQiOi4rO-FDYPsGkyn4A', 'LTCCOoPIC_77UWAQym9Y4Q', 'DKV4FmpMFyZyrZVP1xfvzQ', 'bqOAxlSoJa6Xo2aPjh3Skw', '2njfFKoRlcZT5iXmV6PRJg', 'aHAeZqnSJFE4BbYIc5pjHw', '6Og2g2M5Qbkb9UWwjQHvaQ', 'IymhsHzjCU2Zum0VoVX_Sg', '1xEGFW0VQjKPnFiU7jTAzA', '-GQuXT5B5486iTcbJxXwyg', 'XP7KQ_0ekXrbeWusL6iW2g', 'zL_pWFM3lkVkWjAydk2oxA', '8-_QQmUhbH9DiolrTqJeaQ', '7eKtHkxxWvI465WbDJj4dw', 'vHFsIFNNSxek8AWaQ8OUCg', '2BnWks_k6PAr8yr42syhLw', 'dkfunWJeITtkhCFfdE0odw', 'myKjH87R60LwEJAvcytMGA', 'BRovnAoBsZGMqESfkvxsxA', 'quZFAH8Mk1s-JbH7xBshnw', 'YJNl3nhOsfTs2hMSYGlncg', 'rNSqBzHa5fZK-FBTYSD-5g', 'NzhzPtJLC-zZggW0ha2Q6A', 'qzYG9EumWWtPgxbrIui_0A', 'Fh4u61G3oFPRj3eiW3N6GQ', 'j3i6e-cKzqPv5Y7BczrU3A', 'k0sYVyoT5FWUxlG_or3C8A', 'eDxrC0oZ0fdifmAA9vMa_Q', 'VskB-ddvXxSpOkjnNs5DrA', 'pEc3vD-mFTXhwq5B6eCZjA', 'WGX0Nds-WE03TdXYAnbRtA', 'msxF5p00GP94QBLuO78gQQ', 'QFhpvnr7-P7nXrNNHZ_30g', 'D8zbQVCKLx5k1S_XfGTfnw', 'ijop066-AjozQmr3xF-oKw', '4_12mdIaCg_57gJpvYvZmw', '8YQKVHhid5A_WGVALiT2gw', 'eDWckbC-g_3dJWZSNEQJKQ', 'u1xEnnMklD-dU12ieVZETg', 'mLYj_AZuox75XXJh-HVORQ', 'fAoQz9WxZmVlj-3Yo2oeHA', 'YlK_93fUZZo6T40Lh06gjA', 'AWEk2URitsLm7ITtknlYfw', '40DA1CsDvs3jYSBaosAdsw', 'w73zZ1S_cjWWm93NwK9QOA', 'gJvh4GM2CpXPeS2dIoVlIw', 'fIk4imPgq-tRmg6Fg4JSDQ', 'DGunOBL29CF8g0v1vp9vBg', '6y4RbrF0UDGhYzYGBlKa0A', 'sOAJZMY0hiWLTsGCx2UpPA', 'n4CzPbkaJPMbhVWDocImfA', 'Sxwwo1R5NcstHXVN06ftxw', 'ReBBxMoaJ3jz3boFUAKFPw', 'RAx0S-bMpk-pc9ziL1ALLw', 'FiCqug_luOf7Ajb8Yvz-cA', 'BupuRM3z7nJHaWpaZhlUkw', 'ZJKjfi56_IVaqgPHdz1-JQ', 'vwGqsLppj1wGLyylebt-rg', 'snOKb3WmKFbHjaZmRwEfPQ', 'DTexXVS2Op0mLqhXy_aqjA', 'm6ggIwfXTQl8mW0PsXGyHg', 'pmhNZ3z1E4PEq1zzGckSwQ', 'U4-qrm0-ZUg4YCpiVAeBCA', '9jEm41oQTChf1iBy0bsP5g', 'Kf10dTiGlcnyhj8DBoZn1A', '0wN1fvjOfcG5yeMhlVuZyw', 'oEgcd5UdN-S4q4cahAUF1Q', '063I5R8-GUhYpQykOAVIHQ', 'f_8ujgyeZpoEtDJg_T26iw', '40iweSNsLKLgCjK3w2ukTQ', 'xlKYvRq0qWnAvO-5oMNJKg', 'TtEj_lEbHnswmPdE8nmRlA', 'u_sVbLqquA7F6LWeZZ1OgA', 'hn1f4rQg9DfKtRr6gR8DBQ', 'NBYuchIDnga9ldiMna97yw', 'enYUBa86Zw356De0yTeDHA', 'EYEf64kercExRCOanynYpQ', 'Ay8fuBQTinqO-R4MvNnhOg', '47DdImTTraBILlaD9Z3CpA', 'O0ooCcgWpj5RI_xFqxaN7A', 'QOCTW54671mHCG7PPcVRJA', 'RFFZpKtvceFlz1WPzFG-WQ', 'tmbhPUKw04GZ8WGISfFNPA', 'sSgzcIYqTKAJHV76zbo-4g', 'VwaRvEY01BEBSU4OhdzR9Q', 'ZZzHCOVyi8528y4A_EAhuQ', 'dnXUBJ_2AsnHWfGWrR-xQg', 'Lc-EEXlI4xZ00L2lI0wnMw', 'ArlN0cLBe-8Y_13uefkVHg', 'Q6gP2vuT55YXKvzYp109UQ', '6p6qJaar715yMMufid7frA', 'AT9zfnFcHVq_jxWFNbn98A', '-IOfBTTHEYO39axjSPA4VQ', 'zic6ZKTApP1vXcQ0gNcoWQ', 'aNgPzHpXyi0QrGPB8Q7KsA', 'IStssCSlWwmP_iynkvEKzw', 'KBh3N6Th5H9xPuOuHPru4w', 'C0-gYYUGfB_o2FsgNVK0hA', 'aJ4GhfuOqmQc6MMNnKLpGQ', 'f80Hu3-xtxza3Hw3vKMpHw', 'QIsE4OnlA7o7u4UN-8zkGw', 'iuinPm6RoUllioUXAKbwgQ', '7E4RtHy43in3lITRmLj5Lg', 'yMithfjKauXa-6vv6DktRA', '91FwAbFH8FQhi0GeDU-O8w', 'ji07uveg8ST8jxFaCS-mpQ', 'xfGbt9DeP24gri1ftiz0MQ', 'UE4O3K5rRpIF8ax7tECrzA', 'Bd1qaDybjjyv_WIYErIokA', 'cPl4RijUTF-2KGlcdOQeUg', 'LRPF_DUoPytTpLkzh_k40g', 'ar4wYpC8jzSakJgpCa2BwQ', '-BleZiv0eFf421NBtyFskQ', 'GSm7mzKgvwReL4xVUi_c8w', 'xZHc4Rq9owb2mCscotSomg', 'sfp6PhgbQnemfeZTqfuajA', 'MWVZ0pAVJJrtC-0WRxQbPQ', 'B20dZCb31OUdum8KlvYjgQ', '0tVJQjurv-iKDFMTyWrMhA', 'dkISwtIRj6XUy0WC1AjmjA', 'C4k1GdI4lAMe5in8cQjydQ', 'cGMQ21D-OMsV2q1sMh6cbg', 'G1-4S0kOOxru1svawQkQow', 'MYGTVxr_rpKO8gIqvJQY5w', 'rq4ALHTDfSL2_kser1oaLg', 'tbKyfguWTqoIJSYvNFc3hg', '2d4jfwQqnfjMLlKoAk1MvA', 'HW5K3QNSU3j-6wjYpbDdTw', 'uqJkD1_QcW2FomBO76ERkw', 'JRGLW2TSNj7EJunYNAWoGw', 'tCqQOIA4XVoM2zuyAuWDFA', 'H2OQFPQ_QXZCBMwS0KKkLA', '_SCMWxDMKCbFn-uZBakESw', '1w7rxPcKL--LLU1on207Jw', 'O5Rjix1qNtKvluHy5vW8hg', 'NAeiOGmLUnt5Q7MFFiXHuA', 'oY5Dxyi85Xv9PmibRCo3Jw', 'c34noix3eLePTD98yWijog', 'Q5t3Ce_ISzizdV20IYZ34A', 'o_nzdu-eifgmDVklbqGVAg', 'tPIlsC1hWWZp-E_ZtGJEjw', 'O26ljI4iEK3yXW7J3J4iUw', 'yLzqj1dMjhxR6FDzCUIRqg', 'SPPieDvwnkvQoI7lj5vFYg', '6g0k1ogM5-_DQZW7X6opMQ', '9GUuNKZinw7JxT2nG3jSmg', 'v-z8m6lZfABYKLYXJ_zfLA', 'D1FiSaOisUTs8hiLegx3uw', 'Ocpq68xK_0Ie7nx5Chr-mQ', '3J_kpqXVH4CJG_On1fyyaA', 'lTazBDr1oIDY75OJ6jRXmg', 'xLpuQc9gXVkCA6nUegmvEg', 'I_QPZt48yg8A5YAR_mGY2A', 'dOMakhSt6E8dXvlU9f30Mw', 'jSbEmOCKpiPTet2NUfgB-w', 'cJPTV2jBdjKwANoxZwEOJA', '0ewBXg2oHMsPEuDDTpZ_kQ', 'TNp9St9kiZjQOHi1umttqA', '_LC8eYHOV33drjnT2HCEyg', 'v8rzskUNNeVs_7OEMOGPdg', 'UZkry_l-m_YOUljklzLZEg', 'nTnCLpgwDQpbGt_48YSC0w', 'xHzMNVFTb_ZErsjpTOnBQA', 'pwkPDthV8vtvgIV5opTSYQ', 'Ovu6Ffl37cl-On0Fr5fS-Q', 'CiS8DrMwpi2QfkBDDjRVpQ', 'dAsEHMAlFrj0hEGkKJnOEg', 'g25K6TPpF_WFHtl5WRRAhA', 'kbBhljuzHUtuGhmJpRaZ7w', '0K2SCZbsPSIerrDIBJUmVw', 'FJXu0zMDe-kzmp9dtuM7cQ', 'fDdDk2F89lo-57yRFqUWrg', 'RHnIGi58ZZ_7TTw2FWq8OQ', 'tIiv6UF04_sWiTAXW_txPg', 'MexAX3WNWA2VO3MVrC29TQ', 'b9rj8oGyz1SkmRl9InK_bg', 'd3hP82toV9cqipnFfr2I1Q', 'rJnZ-vdrE3UJF7W8FG5ZoA', 'H3Od4PkXvXpaHItbawFLlw', 'umH1zTx8fjggSK336Tn5WA', 'Am9VxSOLymGziSiz-Jwe3g', 'qmoOpWBscQFsAuDhLEvPOA', '675HcsV59XLqTzmScEI9kw', 'VIUlDt3di1xegs8T15E_xw', 'DFBlEVftgTb2jrZeJVB1xw', 'JJP5WsKeB48Om8mAIXjg2g', '6xRXyr-WAPFwb42pcxrGtg', '2rEuSDKpC6D1r7P2Bj-QiA', 'IovgKA_4oUuRiAkUdZKzQA', 'eP66Fwdn1JgL4W-mE1I4aQ', '1WfSPfnpcrJv1L2pCLxUXw', 'RRO2pvDX5PglXwxcfYCMtA', 'CZGuNnlKQI5mFV1MvTT6ig', 'lS8UAo0pYqbpw3cqEA3ipA', 'u9YasgImMCZjx4j-1BCARA', '28UqRTJQbb651m5IQBTx6w', '0qs51BDdDaymyLR6pMxpNA', 'TkAQLDmBlkw1SM-8RjptgA', 'lqPXTytQC7pT8O1LAe4jtw', 'MOjuugF-wuxQLX3j2bp0Ew', 'tTN4yuTKTgmN7FRW9dfszQ', 'Yh4gM0hpIgrfcmOX5bo1mg', 'xz6qSiGoxi-GRwskDn5nQw', 'JtsLi8Gg7bDnXglYJX33zg', 'DyYddrf30B94WGAlMX2cRw', 's5f9N-P41SGkTYQtmCli_A', 'RkQh-_1Hfth38wt0wJRoJA', '42Oq3z-kwsyH8vv7ZYY5yw', '0xoWHKHo_NHxeJQlwT_fEg', '8NqZwNsribWPS0PTSkFvlw', '_dfRds4dTDuLdrzfdjKpmA', 'fiRjqb2aLl1zfXeKlBMe5g', 'eaqfuD8HBT0gwg7lADWxUw', 'WQmPt5GPLZVZD8zo53gESQ', 'NqW7fF6LVpj7lPRBOf-mpw', 'THjMrS3_sQ3KQLeZNOHqQg', 'wXi-P691AGOdonMy1TrL7w', 'm2Oq2lflMFp2OuBKzad_Sg', 'XrQTn92ogaiOyqtXA8msGA', 'IEZ_x6xnJtGMhGw0hRSZTQ', 'DTm4XBX4-C7_NgHqIYhzxg', 'uaT457zaYCvyORUsYAJqRg', 'GJpHPuOGOAn2uHYhYRlvug', 'McyQ9oz-Gk2Q4cjK4jKuPg', 'GhvMRyDDmwMDkqeB_TJ6Cg', 'd3GrH4o2Y2JWNcHWL8P8NQ', 'wq8iIMl8OkbTNzg4dAfs4g', 'k_yFO0--bnVnH8ehW70reg', 'whDfemVru8Fnyvtp04oERA', 'DVri4frttqV6WWoFT-5hQQ', 'sENCv8RaLKeCJqj0cl6Ugg', 'e6MFKHjLe7sgAPkUESPBaw', '9RMhYy5rL1WHwCOCmu6pVQ', 'k5sqXNaSawsjTy_QyLZ8RA', 'YBcKhwrn1-Cs-OIU2v9DIQ', 'LS0LZwbRByjBR_KPqyZrmQ', 'A00zhpzTmJMlbOqHVs5QIQ', 'lO7ExtG31Frnby0fxODy8g', 'I6hpgRGPr0Z6hUyTA30lbw', 'JQwKvVkPwgNjQSi_KguLew', 'kWIip6XrB393SrPps2Spiw', '-mey4Ng682_5zsZUwNnFWg', '2PgJRyIFC1GLNZbxc8gkfw', 'p_jP6FVNjWK_si8bVzkFaQ', 'JzkNwHbNNdHcsjmoKxQ-2g', 'SlkEbl4rENts8OEB0vkrAQ', 'CLw0RPJ39MpRCtgWszgS8w', 'z7ghqh14j920qv2kcbncqA', 'dxRkUhcklb7i_DK2-fo-gQ', 'oLtqiNOeMqUNsDBdcORyOw', '6HmJVwFeZWXOM8VDAVm3ng', 'LUtSyPjulNE69ZE7dfuQrA', 'i7Uf0zSw748aJL8mEx79yg', '2B1x3wMVkSd_XozdPLXXWw', 'mFNaL32Gnnp2yn7lvL5Z0w', 'dfy0GDtZHkFRUyrna3vDVg', 'Xb-czrv-VQiMOD8oabD4zw', 'eaRgBHvWPNSBB35Ry2Zssw', 'tEA5uSyEDzISx7ZOY9VqBg', 'MQkZAFYQ65jmY2WXZq81Vg', 'gHcPcsv5LNw-mtvA7QDt8Q', 'ah0txJq2kKYqodl_wgc_8Q', 'bBFzQv4XwKORBkCI58j8xw', 'GkTK0YexFEKZw-27xAajMA', 'Nm4NHC1JbgcNtTC5DwjICA', 'VIYOZyZftMNztUy5cn8i1A', '44z1SFqjP8XaoCONwN_8MQ', '78EDqKkIJlRMustS0PD04w', 'c9Fxcx-uBBQ-CrGWXKlhJg', '0LUQBC5u9UBN3--jUh5o_g', 'CWhUurgydGIsLErtYbjt6g', 'W_4P3Zs1nqUQDR-jy-DAmg', '2TCKlGrnLZY1USZHcf3wpQ', 'u9p0eOo8EAMc1ykZVisNBQ', 'mT63U_KnM3_KxzTi7va75Q', '6buzBKh7lbxWzs0cPbTqCA', 'TsUTcntqzptTGVh9dqiIbA', 'VCEQGeqd6RDnzIV278TOCQ', 'pvbp0MFtZB9qfrcEZ7x_WA', 'KXwQXZjIbIuSlouwXoSigg', 'PqH7E2rHcSzJ0jJX_P8nCg', 'a4WfbXMSmESZC2hAYQuXSQ', 'lGLT5tnrjk13ODUIrxNVGA', 'U3O0Q47_HyVLyX6JR8el1w', 'XPBDcWo-VijeQ9RqOTmIUA', 'x3pgH4aP4NE-DY2rfwsLzg', 'ApMAi2nTYNWdzrcg7dUEBg', '4Dk9JHPAtX_FVtI8LhLIvA', 'El9mDDq1L9dKRnp6WNPx7A', 'YsSqFpCr5hrnOH7jSR_VxA', 'L02tQFYyMZuR9aDePsc0pQ', 'eDmopCu61lfhY0gaPm0niA', '4KruUEi7oteZwzhlMaetAw', 'xtLwIPnPJJAJiTAG8lD8dQ', 'SlOpUQ4rz5DCHmbsiWwGMQ', 'zwMbR-YNdSV33p28hGdKMQ', 'Vy59XvEALYKFzTftKDeZWg', 'zBb9sNBfwExO0T8AHPI6Zw', 'TZq0-WlFP8Nz0yyCeuFaRw', '1MsIp7z02nwznNzilpXz8Q', 'bMdxYzO2AJeO_zli0fVrOQ', 'Rrmb6UQUR-U3an6wy2h9wA', 'ndarFuNj_NG1gtJ6X4PgJA', 'dRW__xkVetXNfs6cJqpStw', 'XpFa_AMHSsWoYCc2qs-IEw', 'UtktjJMUiTttArL8kWc7VQ', 'VQeNEzsT-tEkSJasd2PJAg', 'QDI0U3azgnGUxHFH0lodMw', 'gPC9jzUIBSaaHfW2M_izFg', '8mUKPnpE66gB3yQYeYOZRA', 'UxJsYz7mSB1-LY0ZS1d5BQ', '9ZeNeQXKUxcwMQYkB69PGQ', 'kWV9MFHDEft8yRu5S81hRQ', 'hAmQXq6nAInk_i074klh0A', 'zecq0D1C283rHNRKy2Ln9w', 'savSyMM3uQafzTdLUlNpNw', 'aXQuND3MgPRn9AQtg9dnzQ', 'DFzmiSWQV3Uxb5VWMHujWg', 'rYomqJYG3EdZNyrW5cEAsw', 'FetD3FiOH6cCd5bFf91glQ', 's8OuB6x3A_pT3vjX5AR7cg', 'BZt-Nl06nqYrsoODioKvLA', '9YXbFvpYaRxNG-PiSUQpbg', 'MWKcUpWXvyIaB6RJe_nIuA', 'RRfOoyhMfzmNhtEmNzJMQQ', 'qq-M3Ui631rljxfun9xl-w', 'XJuBP5ttHUEdL2zPVJZJHg', 'hg4Ero4EhrDgeN0O88qpvw', 'tJIzUxwfaLDwO6R6wSZ9vw', 'nR2SVhfwZGStgQCIPcbb0A', 'wfAY5pTWM48wNQNh96jymw', '6VdCpu148kG5oYi_DjJ8Nw', 'rfu2TbfCPqpcInkQkTaBVQ', 'EUGu0f5sA-JsA2jOacPYBg', 'dLEFpolUeXa6YGZqLJbulg', 'YoNO1y-oUZCRTMYqHfUwZg', 'M5JnbPjjvxyUFula-Wx3xw', '39VYc2nWSdvdTCldsDJ7qw', 'bn0M1KKiz-8tJC7Wqlclqw', 'M7Gmc_OXygOX1jO7G9tK8w', 'mvD6fCzaKc5r8HO1xV5Y-w', 'TTNBk4Pph3tyzw41gjovKg', 'Yk-WrkPl7PGKxOvoFe_qRQ', 'ncAsn1LQqCVlMGGmUt4NWA', '9BMTKPFOaMsKyuINy-dwQg', 'gFllCDzO9REcVfvacjFvaQ', 'CmdIfhuNnjd5qp4A5DlLEg', 'tgou7txZOELB6QU_fe8brg', 'qqY9OTPZWrZmD7ioe7B-0Q', '3r_KVh8ZXIuWw7jpyGACXQ', 'F4oXSXB5uL6DN6VrGePVrg', '9WtNJYQlnluVVGq0PYy0pQ', '6n3nbCc_tkbt6tnJXeUMvQ', 'fHJZqB2zFk0E-1LKLo26vg', 'LLFO9IK5Ii11qn2ZQtJugw', 'zT6hj277vI-8j4RwaW0O5Q', 'h6L-5fJ1HNu3dEzPiGO3Jg', 'KOVoE3Ode2nmv6oNbew9Cg', '9PzqOX0gCEJwd--Iq2BHZA', 'vIuDMtQcwOcCDjV7OVN_Gg', '8EEyhHuIdNrWT2drI5_6cg', 'hK_0gi2c2NRYdEQGztYlwg', 'l5bwndU_iUIKqCLIaQJHyA', 'zWEQmqF7wWH_zGEwVEsAQQ', 'joRBXOQNBj9twMTPCSamVA', 'yurlbITc9sPxwz7gJYnvuw', 'LzUaHVFVKM1Rqa940mf0fA', 'KCsaSAarTHqVCHTn7vvBAA', 'MVSf0rgqleDb9JIv2cYkUQ', 'NiSLLUXxnyKgk98c7f10Rw', 'ExArepw9DbQTkrSKPj15DQ', 'CSZKYDRTAh5AJdvNqTF4XQ', 'PNqJNbeXjV5FVTFCVJ0HRg', 'n2gl2TkrBz0BXJAKjSBBKw', 'oiy7UPKdzL71Y1C1GtsMxw', '2QfBXKA8nI_VUvKDGMEJig', 'XbDyeJ9GvXurSCyT_ewGhA', 'cNkxYwQpXkh_wBGsc_LRQg', 'ZS3V0hrsR1nmCeQIiTRo6g', 'vbIJN1zsxF0PW9o1UQIibw', 'KU-TQSnJaZ1osVS241zAOA', 'ESVhWizLdUKkMopkrO4NhA', '3ESAUZmTm8l7QbxfYgnqPw', 'x8opjAndtTlF2aejuahg2w', 'vGuuF4Q0CZfWqvL0jMCIjg', '7LlI9PdEWGHvOU8vN6Cbfg', 'wi5p9hJ3sjKx-pcocP7zjQ', 'xS7nB3Nnts2M8x35VE9aZQ', 'uSoD9C5eK6aEStNkj-zQHw', 'cQwAcb2i1hv4GgxBgJNVKA', 'w6YyHS4rEfnmmmGsvuSf6w', '9qeq5WVv1y0Oaf_98c_GUw', 'WjJsitoD73H49zdSOPo2Rg', 'B0_Jo7JwqdLCYs-Wo8B6RA', '4LUpp7nY95d0Niub7rosmg', 'UbnDsBQ_wxXt_jbUDNAo9w', 'haV84_t0tB_QsgxIbbQxZQ', 'VlMoSVfksKBYVbRKUnbEDA', '6KZMX6pSSU_rEfV7k14Iew', 'ZnSRwajrNqbcAssSmp-2uA', 'pm0HVjjgaavbygEnRGIUGA', 'bVudatipH4Par5BMuqGQ0g', 'gLAxBm2vlpmjMpETtkFMMQ', 'A8qWvpehjwgKoq49a6_3FQ', 'hFh7wuroek1dWVyW1T0JHw', 'meIbtVKt_JPlwoSHxRoNDQ', '4q8LJpFL2mvONI-kSk5SVg', 'Em0QdwtTVZr7TCMx7N1Wxw', 'HEubrRiAtiWmnZit0H7_ZQ', '5Es6NHEaf56R6AzmfAnfRw', 'W1T5msebM8Ph2w39QbsuCw', 'CdYcO_6ZenGPU0v45zceNQ', 'uDoXwYNzBHP5sI8CXJb3Ew', 'icaCwgoiA63RY4_f5bEytA', 'wqwcVaYylaX4nojz88RJTQ', 'k6jfmpAiU0RJNcHN6TdPAA', 'XroUys9N9J6jZpQOb9EKrQ', 'Ob3Qbdhe5ZbsLbu46TSO6Q', 'rKR7X7M2vybLlIpPW-Ytag', 'epj7uJRl0ayJx808UkgBOw', 'K3UcpsCldFKUU8nhYObh3g', 'hPH5hHGHNtoWf0iAF-BpWg', 'mlBLWEqePbjk_8oUT1a6-A', 'jx8Ugw2d-7N6hNafPBmKpA', 'JXH97bZ8k4idsrJ1E47SwA', 'dGt_eBRfW3mqYKCMybEHYQ', 'yiI7Puim7z2c-qjjn1hx_Q', 'mL-RChLM52cTVJiarNL6bw', 'j5O5gHSPgQEBVf73nzgnbA', 'rYRgLg-dPsb2IREdBF8ubA', 'qk9kHg6Wu78xg-JPEIKvNQ', '70HLf49qL0tW9PuGyjd_gg', '6hDD_dslSHtyUIdwWKL5RA', 'jCNkG0bilHy4gXPhU0dKdQ', 'GJTGvF0mWvLYsD98xK2WWg', 'awlLz4kcnWQ227clWnQT6g', 'wqxhvr05cbtJQgqDUkaYkA', 'tT-ptigpWQKuzatikrWv8Q', 'QoUzVZly603PjLZ0rSyQow', 'wtqN34KBH84HHiOzjoTpZQ', '6zY8eq0gZzk-mgs3lgOStg', '3tpIorKYQutlfRDuudMFBg', 'k9QxUNAxG6q1la9raQXh5w', '2LeE31f3-i4s3mGNop52EA', 'c2-6j8sPW3sOmy5QZe2CGA', 'xeRssEgRuXAc-UKeC5EoKw', 'OITEdMPQyST8e1Wf_wa4Wg', '2DNP-7CEU8--ff3Eygct8g', 'hJ70_U360V3MmAA3qAp9og', 'p013kToDHZ1RlcX24Tdx4w', 'A_XdyjIlhBMZFZkB063FHA', 'cWLzZO9_BrMyO0J7PWOu-w', 'Ywl71usL68Pep9uoT79kDA', 'ZxJVMVhxUMD2nd8QX2fbLA', 'gbqwk-_2RiKbECIjVbit7A', 'UBJi4EDl0jVxZzffkGUaLA', 'M636-BzYx929pyAwCg2wkg', '6BSC_zQoyuhzpUUxzLhspQ', 'Uv0SN75HZjL-DJH8UQnG9Q', 'em9aFRuzlLrdq4TWO-wABQ', 'bnfrJTybQUfXlzYp-cYu0g', 'GVzJrDgMTJ5TXwyGqa5l9w', '1ilSziBZ0YF4Lb6aorKmGA', 'F0VwmTLHAVg-3u-pWJlx_A', 'pERiH6lQhnuMMFRck_v4-w', 'gdxjI-t8mMKhGbHO5rAHFg', 'Fusyd_6l6wDFsUclk56fzg', 'E4PcsbhPsMttFmN3mpI4Yw', 'BYMmsv2MbRDYKRKKJD2ESQ', '4NjRLcCoTpEwBrQqRfch3Q', 'TvGeNkAkf792aLRrwf0KCw', 'pSK4O78podrN6l1daFTwVg', 'F9UIx0rXpE1OFDvtge1g5A', 'eOE10FlxoKIpIQ_XAK0GXg', 'DvgrhGRBxLOx-EGLB2cqUg', 'jJRI1E3XwZVjCy98XUVKHg', 'xeRVbwb-3HFmilOJHQLOsw', 'z5tFHkcibNI0saI7o8vklw', 'VRlkBh_AbcexcLXhurABjw', 'qPMyo8LL1wvwirF5URHzxQ', 'M7wp6NbMXfTicXaT-7Tfrg', 'A2bDdMOMh_DZ6NhTUSS--A', 'lGFYycaF8xgFQF6Nm4wi0g', 'W6R7C_MgCO9KoujRhruseA', 'loM3MiLUhGKzkx05gh5aZg', '7ULL-5M6z9YOkiutYxSGIQ', 'xSJ4OsjrnQ8VZoIhccEoFw', 'i5bcs3NwHfG0gzaE1VO0lg', 'OmB8IXPBeUCuH3EIext1wQ', 'v8uuSbk10MhTptGgRl1U2w', 'Px3kvk15T4LDRdtQOG9e0Q', 'IwSAReLz9wpJRsVusV25HQ', 'TqOKq9wodLerC0Sa_ixn9w', 'hD6ii80m1wOpYhVxJdLicA', 'yb5jQduhPa804U-HMJqsVA', 'MXWMOzCQI9XZ_U29DHKdsg', 'OzdETjg7Dexo61fmk0ByZg', 'x3ElVdOGNgznet_7Ut0htg', 'Ns2k1Yu00k-qU5TZf-oy9g', 'RaC8QCJGJu0K3uPsDE0TKg', 'k_X30ZK0sP_WhHtwsKgsEQ', '_uhHKouWESpgTuVxddQE8Q', 'jlbF2d2Rgltswu3IkXN-sw', 'U89L8K6OcrvvVk4iejPdKw', 'j63JuFbRl4vfUcMyNEB5-g', 'L8GOeoMKuCVZDPoRh2ANSg', 'm_Em9yKGOYcbnP74m3aUVQ', '7sq4mzCClw19GKiiW16IKg', '5L--o1xjzN9JOao_Gyu86w', 'U6zMRiFyLAJPWl2QgG4xuA', 'NpFeKti83rVTSAnSeC6utA', '6lDWXLyQgbteMLl-flbqjA', 'eOTzkS-by4pVwwCVrifmqg', 'xBSgR2644JOIXAN30b8ADA', 'XCFaARiZnObxOnYrK8uumg', 'BY4039WAhEeVk9y3ZxrHrg', 'BiIuyABSl6EyPreLScbpww', 'vIYMJ_0MXCJ1x2XBZQPSMw', 'Bbv4m5EEMdG8CP2nRo5cmA', 'ODwLtTh9IvbNXA_poFpIjA', 'UXQXkiEUktHvKrDMTviaZw', 'cLw-f9CkU4BbXKRC6KA7kg', 'RPrT8-YjQ14aRgJqZ8rHuA', 'wdW7dmDrt7IlmtpOCryX2w', 'CE_g3zD_5adboCbFHDzOKQ', '1Nee4Lg3FegR5d8VWFql_g', 'Lm-_asJok00-cGSyZ4SscA', 'rSeEFqd8g4VKTGvFonNhaw', 'sFp8uWp9Kzu-ceapT0wX1w', 'WpbRMoeS1UsNhioW6O6N1w', 'YvzoOqfBProz9SveFwJYOw', 'L-u2xqh56xkDWdR2ZZUgeg', 'fWQERO95eThkP5Tz7xG3_w', '5SvzH5LnbhexVXynnqpmuQ', 'j2qSpwRdhhEEkzAXODhOqQ', '8t9HopDUOqJP2hS3pSl6zw', 'MJ8rU2upbgmIN0EiQ4bVoQ', 'tjhtfpfRydPKlWhBoWi7ag', '67KONhD-Hax0eMo9HbA2SQ', 'etwM12Q4r7duuFpfiYA8xg', 'qTOX5PRnj-ajHt9N67E9Vw', 'Lgk3PZVH68MBQJojS2da7A', 'r8Fg03YuJifOZVn6HG_QuQ', 'YXuA8NE3NH1X54DNuIHfBw', 'w-2LyD0uXkRP0CvR8rE08Q', 'Jz4BJ5_uR0ogTch0Od9qbg', 'TyMKnAu87ZlVAI39hloDRw', 'EBr-1s7okqgjVW5NRIrZow', '_Uy4ZjXd20mwpbP-RPrZXQ', 'jAl5045YiCGmwUChn-ZOlQ', 'gul64aNF-VUB8HIkLkZ3Pg', 'VmlUoHKYUoHIoWunvig5gw', 'FJozdstzXVjYgdtgDdgmbQ', 'XNLcXG4QRTHetAFfEESLWw', 'qYwSdCqNW0NQSewJuPe9Rg', 'ybINpjFPRZvj24RWNNrl6w', 'a6dIZDSGfm5v6RuskPdUbQ', '3VczI4DVrV0eILD374EHdw'}\n"
          ]
        }
      ],
      "source": [
        "uids = set(mratings_test.user_id.unique())-set(mratings_train.user_id.unique())\n",
        "print(uids)\n",
        "# if there are, put back into training data:\n",
        "temp = mratings_test[mratings_test.user_id.isin(uids)]\n",
        "mratings_train = pd.concat([mratings_train, temp]) # concatenate with train\n",
        "mratings_test = mratings_test[~mratings_test.user_id.isin(uids)] # get rid of those rows from test"
      ]
    },
    {
      "cell_type": "code",
      "execution_count": null,
      "metadata": {
        "id": "lyzf5fj8IZ4a",
        "colab": {
          "base_uri": "https://localhost:8080/"
        },
        "outputId": "71c0288f-5d7c-4cd2-8f7e-8775016917c1"
      },
      "outputs": [
        {
          "output_type": "stream",
          "name": "stdout",
          "text": [
            "{'I0YeW3yodiQzGrCNhM_pQg'}\n"
          ]
        }
      ],
      "source": [
        "mids = set(mratings_test.business_id.unique())-set(mratings_train.business_id.unique())\n",
        "print(mids)\n",
        "# if there are, put back into train:\n",
        "temp = mratings_test[mratings_test.business_id.isin(mids)]\n",
        "mratings_train = pd.concat([mratings_train, temp]) # concatenate with train\n",
        "mratings_test = mratings_test[~mratings_test.business_id.isin(mids)] # get rid of those rows from test"
      ]
    },
    {
      "cell_type": "code",
      "execution_count": null,
      "metadata": {
        "id": "r9dsrhdGfJF9",
        "colab": {
          "base_uri": "https://localhost:8080/"
        },
        "outputId": "9a9e0ccf-c127-496b-9963-4322dbedd7e4"
      },
      "outputs": [
        {
          "output_type": "execute_result",
          "data": {
            "text/plain": [
              "((164052, 4), (14248, 4))"
            ]
          },
          "metadata": {},
          "execution_count": 39
        }
      ],
      "source": [
        "# final shape\n",
        "mratings_train.shape, mratings_test.shape"
      ]
    },
    {
      "cell_type": "code",
      "execution_count": null,
      "metadata": {
        "id": "86nxYxvhItKU"
      },
      "outputs": [],
      "source": [
        "mratings_canonical = mratings_train.pivot(index = 'user_id', columns = 'business_id', values = 'stars')"
      ]
    },
    {
      "cell_type": "code",
      "execution_count": null,
      "metadata": {
        "id": "OPDK6OO0I3-1",
        "colab": {
          "base_uri": "https://localhost:8080/",
          "height": 383
        },
        "outputId": "ca72a0ae-60fd-453d-cbfc-f3981c135e1b"
      },
      "outputs": [
        {
          "output_type": "execute_result",
          "data": {
            "text/plain": [
              "business_id             -1CI4H3DLkI-NdWLbIae6g  -1xuC540Nycht_iWFeJ-dw  \\\n",
              "user_id                                                                  \n",
              "--2PnhMMH7EYoY3wywOvgQ                     0.0                     0.0   \n",
              "--6kLBBsm0GPM9vIB2YBDw                     0.0                     0.0   \n",
              "--8NUFYnpU_Zu09TgcLevw                     0.0                     0.0   \n",
              "--AVaBo8pJHut43HjdWuOA                     0.0                     0.0   \n",
              "--B08Ekk4Y_4KFuF9MWdtw                     0.0                     0.0   \n",
              "\n",
              "business_id             -3Haoc0l9DZRSXxIHi9oJg  -4lgvwr6d8ztCPlCXl-NFA  \\\n",
              "user_id                                                                  \n",
              "--2PnhMMH7EYoY3wywOvgQ                     0.0                     0.0   \n",
              "--6kLBBsm0GPM9vIB2YBDw                     0.0                     0.0   \n",
              "--8NUFYnpU_Zu09TgcLevw                     0.0                     0.0   \n",
              "--AVaBo8pJHut43HjdWuOA                     0.0                     0.0   \n",
              "--B08Ekk4Y_4KFuF9MWdtw                     0.0                     0.0   \n",
              "\n",
              "business_id             -4mowOKV3xGyfgQBh6ey_g  -5IV_IrH5D7hyip2P_w7BA  \\\n",
              "user_id                                                                  \n",
              "--2PnhMMH7EYoY3wywOvgQ                     0.0                     0.0   \n",
              "--6kLBBsm0GPM9vIB2YBDw                     0.0                     0.0   \n",
              "--8NUFYnpU_Zu09TgcLevw                     0.0                     0.0   \n",
              "--AVaBo8pJHut43HjdWuOA                     0.0                     0.0   \n",
              "--B08Ekk4Y_4KFuF9MWdtw                     0.0                     0.0   \n",
              "\n",
              "business_id             -7YM8-nptYNTirnR_nCcPg  -7bRnaHp7OHz8KW-THqP4w  \\\n",
              "user_id                                                                  \n",
              "--2PnhMMH7EYoY3wywOvgQ                     0.0                     0.0   \n",
              "--6kLBBsm0GPM9vIB2YBDw                     0.0                     0.0   \n",
              "--8NUFYnpU_Zu09TgcLevw                     0.0                     0.0   \n",
              "--AVaBo8pJHut43HjdWuOA                     0.0                     0.0   \n",
              "--B08Ekk4Y_4KFuF9MWdtw                     0.0                     0.0   \n",
              "\n",
              "business_id             -8AoSGOdZyDdTpT2oqX3zQ  -8hAGEWRSKtpLZ8e3L2xhA  ...  \\\n",
              "user_id                                                                 ...   \n",
              "--2PnhMMH7EYoY3wywOvgQ                     0.0                     0.0  ...   \n",
              "--6kLBBsm0GPM9vIB2YBDw                     0.0                     0.0  ...   \n",
              "--8NUFYnpU_Zu09TgcLevw                     0.0                     0.0  ...   \n",
              "--AVaBo8pJHut43HjdWuOA                     0.0                     0.0  ...   \n",
              "--B08Ekk4Y_4KFuF9MWdtw                     0.0                     0.0  ...   \n",
              "\n",
              "business_id             zwgVuZcMgijt9k3Jq-2zQQ  zwkif4XLEDqdEwEgTWLIVQ  \\\n",
              "user_id                                                                  \n",
              "--2PnhMMH7EYoY3wywOvgQ                     0.0                     0.0   \n",
              "--6kLBBsm0GPM9vIB2YBDw                     0.0                     0.0   \n",
              "--8NUFYnpU_Zu09TgcLevw                     0.0                     0.0   \n",
              "--AVaBo8pJHut43HjdWuOA                     0.0                     0.0   \n",
              "--B08Ekk4Y_4KFuF9MWdtw                     0.0                     0.0   \n",
              "\n",
              "business_id             zxxemSe137HGuaplXhd23w  zySx88a8wu-mpPIkg5ijcQ  \\\n",
              "user_id                                                                  \n",
              "--2PnhMMH7EYoY3wywOvgQ                     0.0                     0.0   \n",
              "--6kLBBsm0GPM9vIB2YBDw                     0.0                     0.0   \n",
              "--8NUFYnpU_Zu09TgcLevw                     0.0                     0.0   \n",
              "--AVaBo8pJHut43HjdWuOA                     0.0                     0.0   \n",
              "--B08Ekk4Y_4KFuF9MWdtw                     0.0                     0.0   \n",
              "\n",
              "business_id             zyfPzBC4s17UWh6x8olj7w  zyhr9tExYX8myjpJY0F_2Q  \\\n",
              "user_id                                                                  \n",
              "--2PnhMMH7EYoY3wywOvgQ                     0.0                     0.0   \n",
              "--6kLBBsm0GPM9vIB2YBDw                     0.0                     0.0   \n",
              "--8NUFYnpU_Zu09TgcLevw                     0.0                     0.0   \n",
              "--AVaBo8pJHut43HjdWuOA                     0.0                     0.0   \n",
              "--B08Ekk4Y_4KFuF9MWdtw                     0.0                     0.0   \n",
              "\n",
              "business_id             zza5aje9ElBdWOO3Qtfk_Q  zzdJkVrJ8OkZPUxrvLMkYQ  \\\n",
              "user_id                                                                  \n",
              "--2PnhMMH7EYoY3wywOvgQ                     0.0                     0.0   \n",
              "--6kLBBsm0GPM9vIB2YBDw                     0.0                     0.0   \n",
              "--8NUFYnpU_Zu09TgcLevw                     0.0                     0.0   \n",
              "--AVaBo8pJHut43HjdWuOA                     0.0                     0.0   \n",
              "--B08Ekk4Y_4KFuF9MWdtw                     0.0                     0.0   \n",
              "\n",
              "business_id             zzjKekzQ6i4iR-qpo405Pw  zzlZJVkEhOzR2tJOLHcF2A  \n",
              "user_id                                                                 \n",
              "--2PnhMMH7EYoY3wywOvgQ                     0.0                     0.0  \n",
              "--6kLBBsm0GPM9vIB2YBDw                     0.0                     0.0  \n",
              "--8NUFYnpU_Zu09TgcLevw                     0.0                     0.0  \n",
              "--AVaBo8pJHut43HjdWuOA                     0.0                     0.0  \n",
              "--B08Ekk4Y_4KFuF9MWdtw                     0.0                     0.0  \n",
              "\n",
              "[5 rows x 6952 columns]"
            ],
            "text/html": [
              "\n",
              "  <div id=\"df-a34c9dd8-97ce-40ec-8029-ae97b606c2b3\">\n",
              "    <div class=\"colab-df-container\">\n",
              "      <div>\n",
              "<style scoped>\n",
              "    .dataframe tbody tr th:only-of-type {\n",
              "        vertical-align: middle;\n",
              "    }\n",
              "\n",
              "    .dataframe tbody tr th {\n",
              "        vertical-align: top;\n",
              "    }\n",
              "\n",
              "    .dataframe thead th {\n",
              "        text-align: right;\n",
              "    }\n",
              "</style>\n",
              "<table border=\"1\" class=\"dataframe\">\n",
              "  <thead>\n",
              "    <tr style=\"text-align: right;\">\n",
              "      <th>business_id</th>\n",
              "      <th>-1CI4H3DLkI-NdWLbIae6g</th>\n",
              "      <th>-1xuC540Nycht_iWFeJ-dw</th>\n",
              "      <th>-3Haoc0l9DZRSXxIHi9oJg</th>\n",
              "      <th>-4lgvwr6d8ztCPlCXl-NFA</th>\n",
              "      <th>-4mowOKV3xGyfgQBh6ey_g</th>\n",
              "      <th>-5IV_IrH5D7hyip2P_w7BA</th>\n",
              "      <th>-7YM8-nptYNTirnR_nCcPg</th>\n",
              "      <th>-7bRnaHp7OHz8KW-THqP4w</th>\n",
              "      <th>-8AoSGOdZyDdTpT2oqX3zQ</th>\n",
              "      <th>-8hAGEWRSKtpLZ8e3L2xhA</th>\n",
              "      <th>...</th>\n",
              "      <th>zwgVuZcMgijt9k3Jq-2zQQ</th>\n",
              "      <th>zwkif4XLEDqdEwEgTWLIVQ</th>\n",
              "      <th>zxxemSe137HGuaplXhd23w</th>\n",
              "      <th>zySx88a8wu-mpPIkg5ijcQ</th>\n",
              "      <th>zyfPzBC4s17UWh6x8olj7w</th>\n",
              "      <th>zyhr9tExYX8myjpJY0F_2Q</th>\n",
              "      <th>zza5aje9ElBdWOO3Qtfk_Q</th>\n",
              "      <th>zzdJkVrJ8OkZPUxrvLMkYQ</th>\n",
              "      <th>zzjKekzQ6i4iR-qpo405Pw</th>\n",
              "      <th>zzlZJVkEhOzR2tJOLHcF2A</th>\n",
              "    </tr>\n",
              "    <tr>\n",
              "      <th>user_id</th>\n",
              "      <th></th>\n",
              "      <th></th>\n",
              "      <th></th>\n",
              "      <th></th>\n",
              "      <th></th>\n",
              "      <th></th>\n",
              "      <th></th>\n",
              "      <th></th>\n",
              "      <th></th>\n",
              "      <th></th>\n",
              "      <th></th>\n",
              "      <th></th>\n",
              "      <th></th>\n",
              "      <th></th>\n",
              "      <th></th>\n",
              "      <th></th>\n",
              "      <th></th>\n",
              "      <th></th>\n",
              "      <th></th>\n",
              "      <th></th>\n",
              "      <th></th>\n",
              "    </tr>\n",
              "  </thead>\n",
              "  <tbody>\n",
              "    <tr>\n",
              "      <th>--2PnhMMH7EYoY3wywOvgQ</th>\n",
              "      <td>0.0</td>\n",
              "      <td>0.0</td>\n",
              "      <td>0.0</td>\n",
              "      <td>0.0</td>\n",
              "      <td>0.0</td>\n",
              "      <td>0.0</td>\n",
              "      <td>0.0</td>\n",
              "      <td>0.0</td>\n",
              "      <td>0.0</td>\n",
              "      <td>0.0</td>\n",
              "      <td>...</td>\n",
              "      <td>0.0</td>\n",
              "      <td>0.0</td>\n",
              "      <td>0.0</td>\n",
              "      <td>0.0</td>\n",
              "      <td>0.0</td>\n",
              "      <td>0.0</td>\n",
              "      <td>0.0</td>\n",
              "      <td>0.0</td>\n",
              "      <td>0.0</td>\n",
              "      <td>0.0</td>\n",
              "    </tr>\n",
              "    <tr>\n",
              "      <th>--6kLBBsm0GPM9vIB2YBDw</th>\n",
              "      <td>0.0</td>\n",
              "      <td>0.0</td>\n",
              "      <td>0.0</td>\n",
              "      <td>0.0</td>\n",
              "      <td>0.0</td>\n",
              "      <td>0.0</td>\n",
              "      <td>0.0</td>\n",
              "      <td>0.0</td>\n",
              "      <td>0.0</td>\n",
              "      <td>0.0</td>\n",
              "      <td>...</td>\n",
              "      <td>0.0</td>\n",
              "      <td>0.0</td>\n",
              "      <td>0.0</td>\n",
              "      <td>0.0</td>\n",
              "      <td>0.0</td>\n",
              "      <td>0.0</td>\n",
              "      <td>0.0</td>\n",
              "      <td>0.0</td>\n",
              "      <td>0.0</td>\n",
              "      <td>0.0</td>\n",
              "    </tr>\n",
              "    <tr>\n",
              "      <th>--8NUFYnpU_Zu09TgcLevw</th>\n",
              "      <td>0.0</td>\n",
              "      <td>0.0</td>\n",
              "      <td>0.0</td>\n",
              "      <td>0.0</td>\n",
              "      <td>0.0</td>\n",
              "      <td>0.0</td>\n",
              "      <td>0.0</td>\n",
              "      <td>0.0</td>\n",
              "      <td>0.0</td>\n",
              "      <td>0.0</td>\n",
              "      <td>...</td>\n",
              "      <td>0.0</td>\n",
              "      <td>0.0</td>\n",
              "      <td>0.0</td>\n",
              "      <td>0.0</td>\n",
              "      <td>0.0</td>\n",
              "      <td>0.0</td>\n",
              "      <td>0.0</td>\n",
              "      <td>0.0</td>\n",
              "      <td>0.0</td>\n",
              "      <td>0.0</td>\n",
              "    </tr>\n",
              "    <tr>\n",
              "      <th>--AVaBo8pJHut43HjdWuOA</th>\n",
              "      <td>0.0</td>\n",
              "      <td>0.0</td>\n",
              "      <td>0.0</td>\n",
              "      <td>0.0</td>\n",
              "      <td>0.0</td>\n",
              "      <td>0.0</td>\n",
              "      <td>0.0</td>\n",
              "      <td>0.0</td>\n",
              "      <td>0.0</td>\n",
              "      <td>0.0</td>\n",
              "      <td>...</td>\n",
              "      <td>0.0</td>\n",
              "      <td>0.0</td>\n",
              "      <td>0.0</td>\n",
              "      <td>0.0</td>\n",
              "      <td>0.0</td>\n",
              "      <td>0.0</td>\n",
              "      <td>0.0</td>\n",
              "      <td>0.0</td>\n",
              "      <td>0.0</td>\n",
              "      <td>0.0</td>\n",
              "    </tr>\n",
              "    <tr>\n",
              "      <th>--B08Ekk4Y_4KFuF9MWdtw</th>\n",
              "      <td>0.0</td>\n",
              "      <td>0.0</td>\n",
              "      <td>0.0</td>\n",
              "      <td>0.0</td>\n",
              "      <td>0.0</td>\n",
              "      <td>0.0</td>\n",
              "      <td>0.0</td>\n",
              "      <td>0.0</td>\n",
              "      <td>0.0</td>\n",
              "      <td>0.0</td>\n",
              "      <td>...</td>\n",
              "      <td>0.0</td>\n",
              "      <td>0.0</td>\n",
              "      <td>0.0</td>\n",
              "      <td>0.0</td>\n",
              "      <td>0.0</td>\n",
              "      <td>0.0</td>\n",
              "      <td>0.0</td>\n",
              "      <td>0.0</td>\n",
              "      <td>0.0</td>\n",
              "      <td>0.0</td>\n",
              "    </tr>\n",
              "  </tbody>\n",
              "</table>\n",
              "<p>5 rows × 6952 columns</p>\n",
              "</div>\n",
              "      <button class=\"colab-df-convert\" onclick=\"convertToInteractive('df-a34c9dd8-97ce-40ec-8029-ae97b606c2b3')\"\n",
              "              title=\"Convert this dataframe to an interactive table.\"\n",
              "              style=\"display:none;\">\n",
              "        \n",
              "  <svg xmlns=\"http://www.w3.org/2000/svg\" height=\"24px\"viewBox=\"0 0 24 24\"\n",
              "       width=\"24px\">\n",
              "    <path d=\"M0 0h24v24H0V0z\" fill=\"none\"/>\n",
              "    <path d=\"M18.56 5.44l.94 2.06.94-2.06 2.06-.94-2.06-.94-.94-2.06-.94 2.06-2.06.94zm-11 1L8.5 8.5l.94-2.06 2.06-.94-2.06-.94L8.5 2.5l-.94 2.06-2.06.94zm10 10l.94 2.06.94-2.06 2.06-.94-2.06-.94-.94-2.06-.94 2.06-2.06.94z\"/><path d=\"M17.41 7.96l-1.37-1.37c-.4-.4-.92-.59-1.43-.59-.52 0-1.04.2-1.43.59L10.3 9.45l-7.72 7.72c-.78.78-.78 2.05 0 2.83L4 21.41c.39.39.9.59 1.41.59.51 0 1.02-.2 1.41-.59l7.78-7.78 2.81-2.81c.8-.78.8-2.07 0-2.86zM5.41 20L4 18.59l7.72-7.72 1.47 1.35L5.41 20z\"/>\n",
              "  </svg>\n",
              "      </button>\n",
              "      \n",
              "  <style>\n",
              "    .colab-df-container {\n",
              "      display:flex;\n",
              "      flex-wrap:wrap;\n",
              "      gap: 12px;\n",
              "    }\n",
              "\n",
              "    .colab-df-convert {\n",
              "      background-color: #E8F0FE;\n",
              "      border: none;\n",
              "      border-radius: 50%;\n",
              "      cursor: pointer;\n",
              "      display: none;\n",
              "      fill: #1967D2;\n",
              "      height: 32px;\n",
              "      padding: 0 0 0 0;\n",
              "      width: 32px;\n",
              "    }\n",
              "\n",
              "    .colab-df-convert:hover {\n",
              "      background-color: #E2EBFA;\n",
              "      box-shadow: 0px 1px 2px rgba(60, 64, 67, 0.3), 0px 1px 3px 1px rgba(60, 64, 67, 0.15);\n",
              "      fill: #174EA6;\n",
              "    }\n",
              "\n",
              "    [theme=dark] .colab-df-convert {\n",
              "      background-color: #3B4455;\n",
              "      fill: #D2E3FC;\n",
              "    }\n",
              "\n",
              "    [theme=dark] .colab-df-convert:hover {\n",
              "      background-color: #434B5C;\n",
              "      box-shadow: 0px 1px 3px 1px rgba(0, 0, 0, 0.15);\n",
              "      filter: drop-shadow(0px 1px 2px rgba(0, 0, 0, 0.3));\n",
              "      fill: #FFFFFF;\n",
              "    }\n",
              "  </style>\n",
              "\n",
              "      <script>\n",
              "        const buttonEl =\n",
              "          document.querySelector('#df-a34c9dd8-97ce-40ec-8029-ae97b606c2b3 button.colab-df-convert');\n",
              "        buttonEl.style.display =\n",
              "          google.colab.kernel.accessAllowed ? 'block' : 'none';\n",
              "\n",
              "        async function convertToInteractive(key) {\n",
              "          const element = document.querySelector('#df-a34c9dd8-97ce-40ec-8029-ae97b606c2b3');\n",
              "          const dataTable =\n",
              "            await google.colab.kernel.invokeFunction('convertToInteractive',\n",
              "                                                     [key], {});\n",
              "          if (!dataTable) return;\n",
              "\n",
              "          const docLinkHtml = 'Like what you see? Visit the ' +\n",
              "            '<a target=\"_blank\" href=https://colab.research.google.com/notebooks/data_table.ipynb>data table notebook</a>'\n",
              "            + ' to learn more about interactive tables.';\n",
              "          element.innerHTML = '';\n",
              "          dataTable['output_type'] = 'display_data';\n",
              "          await google.colab.output.renderOutput(dataTable, element);\n",
              "          const docLink = document.createElement('div');\n",
              "          docLink.innerHTML = docLinkHtml;\n",
              "          element.appendChild(docLink);\n",
              "        }\n",
              "      </script>\n",
              "    </div>\n",
              "  </div>\n",
              "  "
            ]
          },
          "metadata": {},
          "execution_count": 42
        }
      ],
      "source": [
        "# compute user demeaned ratings matrix\n",
        "user_means = mratings_canonical.mean(axis = 1) # create user means, store here, need later \n",
        "\n",
        "mratings_canonical = mratings_canonical.sub(user_means, axis = 0)\n",
        "# fill in missing values\n",
        "\n",
        "mratings_canonical.fillna(0, inplace = True)\n",
        "# preview dataset\n",
        "mratings_canonical.head()"
      ]
    },
    {
      "cell_type": "code",
      "execution_count": null,
      "metadata": {
        "id": "LMFKVnEdJB-7"
      },
      "outputs": [],
      "source": [
        "l = 50 # run for larger latent dimensions\n",
        "U, sigma, Vt = svds(mratings_canonical, k = l) "
      ]
    },
    {
      "cell_type": "code",
      "execution_count": null,
      "metadata": {
        "id": "W4VGs8g4JEFG"
      },
      "outputs": [],
      "source": [
        "# Make prediction\n",
        "predicted_ratings = predict_ratings(U, sigma, Vt, user_means)\n",
        "predicted_ratings = pd.DataFrame(predicted_ratings, columns = mratings_canonical.columns)\n",
        "predicted_ratings.index=mratings_canonical.index"
      ]
    },
    {
      "cell_type": "code",
      "execution_count": null,
      "metadata": {
        "id": "aRHmOyuuJGS3"
      },
      "outputs": [],
      "source": [
        "predicted_ratings_stack = predicted_ratings.stack().reset_index()\n",
        "predicted_ratings_stack.columns = ['user_id', 'business_id', 'predicted_rating']\n",
        "predicted_ratings_stack.head()"
      ]
    },
    {
      "cell_type": "code",
      "execution_count": null,
      "metadata": {
        "id": "Sblh-WFrJS9X"
      },
      "outputs": [],
      "source": [
        "mratings_test = mratings_test.merge(predicted_ratings_stack, how = 'left', on = ['business_id', 'user_id'])\n",
        "mratings_test.head()"
      ]
    },
    {
      "cell_type": "code",
      "execution_count": null,
      "metadata": {
        "id": "3doZpX83JYBZ"
      },
      "outputs": [],
      "source": [
        "mratings_test[['stars', 'predicted_rating']].corr()"
      ]
    },
    {
      "cell_type": "code",
      "execution_count": null,
      "metadata": {
        "id": "chnZrvRYJlMR"
      },
      "outputs": [],
      "source": [
        "mratings_test['error'] = mratings_test.predicted_rating-mratings_test.stars\n",
        "mse = (mratings_test.error @ mratings_test.error)/len(mratings_test) # sum of squares = dot produt of vector with itself\n",
        "print(mse) # avg squared error"
      ]
    },
    {
      "cell_type": "code",
      "execution_count": null,
      "metadata": {
        "id": "vn5DnVkQOnlk"
      },
      "outputs": [],
      "source": [
        "np.random.seed(1)\n",
        "folds = 10 # let's do 10 folds\n",
        "mratings['fold'] = np.random.randint(0,folds, len(mratings)) # randomly assign group 0-9, inclusive, to each observations"
      ]
    },
    {
      "cell_type": "code",
      "execution_count": null,
      "metadata": {
        "id": "244xSRXtPLzD"
      },
      "outputs": [],
      "source": [
        "# copy paste from previous work inside of loop\n",
        "MSE = list()\n",
        "for l in range(5,51, 5): # from 5 to 50 in increments of 5\n",
        "    mselist = list()\n",
        "    for f in list(range(folds)):\n",
        "        # define train/test split\n",
        "        mratings_train = mratings[mratings.fold!= f] # training is all other samples\n",
        "        mratings_test = mratings[mratings.fold == f] # testing is the current fold\n",
        "\n",
        "        # there should not be uid's in test that are not in train\n",
        "        uids = set(mratings_test.user_id.unique())-set(mratings_train.user_id.unique())\n",
        "        # if there are, put back into trai:\n",
        "        temp = mratings_test[mratings_test.user_id.isin(uids)]\n",
        "        mratings_train = pd.concat([mratings_train, temp]) # concatenate with train\n",
        "        mratings_test = mratings_test[~mratings_test.user_id.isin(uids)] # get rid of those rows from test\n",
        "\n",
        "        # there should not be movie ID's in test that are not in train\n",
        "        mids = set(mratings_test.business_id.unique())-set(mratings_train.business_id.unique())\n",
        "        # if there are, put back into train:\n",
        "        temp = mratings_test[mratings_test.business_id.isin(mids)]\n",
        "        mratings_train = pd.concat([mratings_train, temp]) # concatenate with train\n",
        "        mratings_test = mratings_test[~mratings_test.business_id.isin(mids)] # get rid of those rows from test\n",
        "\n",
        "        # make canonical form again\n",
        "        mratings_canonical = mratings_train.pivot(index = 'user_id', columns = 'business_id', values = 'stars')\n",
        "        \n",
        "        # compute user demeaned ratings matrix\n",
        "        user_means = mratings_canonical.mean(axis = 1) # create user means, store here, need later \n",
        "        mratings_canonical = mratings_canonical.sub(user_means, axis = 0)\n",
        "        \n",
        "        # fill in missing values\n",
        "        mratings_canonical.fillna(0, inplace = True)\n",
        "\n",
        "        # SVD\n",
        "        U, sigma, Vt = svds(mratings_canonical, k = l) \n",
        "\n",
        "        # Make prediction\n",
        "        predicted_ratings = predict_ratings(U, sigma, Vt, user_means)\n",
        "        predicted_ratings = pd.DataFrame(predicted_ratings, columns = mratings_canonical.columns)\n",
        "        predicted_ratings.index=mratings_canonical.index\n",
        "\n",
        "        # unpivot this prediction (stack) dataframe\n",
        "        predicted_ratings_stack = predicted_ratings.stack().reset_index()\n",
        "        predicted_ratings_stack.columns = ['user_id', 'business_id', 'pred_rating']\n",
        "        \n",
        "        # merge with test data\n",
        "        mratings_test = mratings_test.merge(predicted_ratings_stack, how = 'left', on = ['user_id', 'business_id'])\n",
        "\n",
        "        # compute MSE\n",
        "        mratings_test['error'] = mratings_test.pred_rating-mratings_test.stars\n",
        "        mse = (mratings_test.error @ mratings_test.error)/len(mratings_test) # sum of squares = dot produt of vector with itself\n",
        "        \n",
        "\n",
        "        # Store MSE\n",
        "        mselist.append(mse)\n",
        "    MSE.append([l, np.mean(mselist)]) # append l, mselist to MSE \n",
        "    print('l: {}, MSE: {:.4f}'.format(l,np.mean(mselist))) \n",
        "MSE = pd.DataFrame(MSE, columns = ['l', 'mse']) # convert to pandas df for easy manipulation"
      ]
    },
    {
      "cell_type": "code",
      "execution_count": null,
      "metadata": {
        "id": "ojruAp5wDqDE"
      },
      "outputs": [],
      "source": [
        "np.mean(mselist)"
      ]
    },
    {
      "cell_type": "code",
      "execution_count": null,
      "metadata": {
        "id": "g7TmkVxzFRGw"
      },
      "outputs": [],
      "source": [
        "plt.scatter(MSE.l, MSE.mse) # looks like 10 is best"
      ]
    },
    {
      "cell_type": "markdown",
      "metadata": {
        "id": "OB1-3-Riiy1a"
      },
      "source": [
        "# 3. Evaluate best out of sample fitting CF model\n",
        "\n",
        "1. Using the optimal number of latent factors. Re-run the SVD algorithm on a train / test split where roughly 10% of the data is used for testing.\n",
        "    1. What is the out of sample correlation between predicted and actual ratings?\n",
        "\n",
        "\n"
      ]
    },
    {
      "cell_type": "code",
      "execution_count": null,
      "metadata": {
        "id": "Y0kxAD2lCMF9"
      },
      "outputs": [],
      "source": [
        "#These segments do not run because it always crashed my session, please let me know how you fixed it.\n",
        "\n",
        "dfpivot1 = dfsample.pivot(index='user_id',columns='business_id',values='stars')\n",
        "user_means1 = dfpivot1.mean(axis = 1)\n",
        "dfpivot1 = dfpivot1.sub(user_means1, axis = 0)"
      ]
    },
    {
      "cell_type": "code",
      "execution_count": null,
      "metadata": {
        "id": "P5lxlPb4DFce"
      },
      "outputs": [],
      "source": [
        "# copy paste from previous work inside of loop\n",
        "MSE = list()\n",
        "for l in range(5,51, 5): # from 5 to 50 in increments of 5\n",
        "    mselist = list()\n",
        "    for f in list(range(folds)):\n",
        "        # define train/test split\n",
        "        mratings_train = mratings[mratings.fold!= f] # training is all other samples\n",
        "        mratings_test = mratings[mratings.fold == f] # testing is the current fold\n",
        "\n",
        "        # there should not be uid's in test that are not in train\n",
        "        uids = set(mratings_test.user_id.unique())-set(mratings_train.user_id.unique())\n",
        "        # if there are, put back into trai:\n",
        "        temp = mratings_test[mratings_test.user_id.isin(uids)]\n",
        "        mratings_train = pd.concat([mratings_train, temp]) # concatenate with train\n",
        "        mratings_test = mratings_test[~mratings_test.user_id.isin(uids)] # get rid of those rows from test\n",
        "\n",
        "        # there should not be movie ID's in test that are not in train\n",
        "        mids = set(mratings_test.business_id.unique())-set(mratings_train.business_id.unique())\n",
        "        # if there are, put back into train:\n",
        "        temp = mratings_test[mratings_test.business_id.isin(mids)]\n",
        "        mratings_train = pd.concat([mratings_train, temp]) # concatenate with train\n",
        "        mratings_test = mratings_test[~mratings_test.business_id.isin(mids)] # get rid of those rows from test\n",
        "\n",
        "        # make canonical form again\n",
        "        mratings_canonical = mratings_train.pivot(index = 'user_id', columns = 'business_id', values = 'stars')\n",
        "        \n",
        "        # compute user demeaned ratings matrix\n",
        "        user_means = mratings_canonical.mean(axis = 1) # create user means, store here, need later \n",
        "        mratings_canonical = mratings_canonical.sub(user_means, axis = 0)\n",
        "        \n",
        "        # fill in missing values\n",
        "        mratings_canonical.fillna(0, inplace = True)\n",
        "\n",
        "        # SVD\n",
        "        U, sigma, Vt = svds(mratings_canonical, k = l) \n",
        "\n",
        "        # Make prediction\n",
        "        predicted_ratings = predict_ratings(U, sigma, Vt, user_means)\n",
        "        predicted_ratings = pd.DataFrame(predicted_ratings, columns = mratings_canonical.columns)\n",
        "        predicted_ratings.index=mratings_canonical.index\n",
        "\n",
        "        # unpivot this prediction (stack) dataframe\n",
        "        predicted_ratings_stack = predicted_ratings.stack().reset_index()\n",
        "        predicted_ratings_stack.columns = ['user_id', 'business_id', 'pred_rating']\n",
        "        \n",
        "        # merge with test data\n",
        "        mratings_test = mratings_test.merge(predicted_ratings_stack, how = 'left', on = ['user_id', 'business_id'])\n",
        "\n",
        "        # compute MSE\n",
        "        mratings_test['error'] = mratings_test.pred_rating-mratings_test.stars\n",
        "        mse = (mratings_test.error @ mratings_test.error)/len(mratings_test) # sum of squares = dot produt of vector with itself\n",
        "        \n",
        "\n",
        "        # Store MSE\n",
        "        mselist.append(mse)\n",
        "    MSE.append([l, np.mean(mselist)]) # append l, mselist to MSE \n",
        "    print('l: {}, MSE: {:.4f}'.format(l,np.mean(mselist))) \n",
        "MSE = pd.DataFrame(MSE, columns = ['l', 'mse']) # convert to pandas df for easy manipulation"
      ]
    },
    {
      "cell_type": "code",
      "execution_count": null,
      "metadata": {
        "id": "jzhvmaf01UEd"
      },
      "outputs": [],
      "source": [
        "mratings_test[['stars', 'pred_rating']].corr()"
      ]
    },
    {
      "cell_type": "markdown",
      "metadata": {
        "id": "tUmyPtyECB7L"
      },
      "source": [
        "2. Run the SVD again, this time on the whole dataset (the dataframe you made after the min review criteria from problem 1 has been applied).\n"
      ]
    },
    {
      "cell_type": "code",
      "source": [
        "dfpivot = dfp.pivot(index='user_id',columns='business_id',values='stars')\n",
        "dfpivot.head(2)\n",
        "user_means = dfpivot.mean(axis = 1)"
      ],
      "metadata": {
        "id": "IS3kw50yAZji"
      },
      "execution_count": null,
      "outputs": []
    },
    {
      "cell_type": "code",
      "source": [
        "dfpivot = dfpivot.sub(user_means, axis = 0)\n",
        "#dfpivot.fillna(0, inplace = True)\n",
        "dfpivot.head(2)"
      ],
      "metadata": {
        "id": "JyAev1RvAnge"
      },
      "execution_count": null,
      "outputs": []
    },
    {
      "cell_type": "code",
      "execution_count": null,
      "metadata": {
        "id": "FTyk4mY3CBpO"
      },
      "outputs": [],
      "source": [
        "# copy paste from previous work inside of loop\n",
        "MSE = list()\n",
        "for l in range(5,51, 5): # from 5 to 50 in increments of 5\n",
        "    mselist = list()\n",
        "    for f in list(range(folds)):\n",
        "        # define train/test split\n",
        "        mratings_train = mratings[mratings.fold!= f] # training is all other samples\n",
        "        mratings_test = mratings[mratings.fold == f] # testing is the current fold\n",
        "\n",
        "        # there should not be uid's in test that are not in train\n",
        "        uids = set(mratings_test.user_id.unique())-set(mratings_train.user_id.unique())\n",
        "        # if there are, put back into trai:\n",
        "        temp = mratings_test[mratings_test.user_id.isin(uids)]\n",
        "        mratings_train = pd.concat([mratings_train, temp]) # concatenate with train\n",
        "        mratings_test = mratings_test[~mratings_test.user_id.isin(uids)] # get rid of those rows from test\n",
        "\n",
        "        # there should not be movie ID's in test that are not in train\n",
        "        mids = set(mratings_test.business_id.unique())-set(mratings_train.business_id.unique())\n",
        "        # if there are, put back into train:\n",
        "        temp = mratings_test[mratings_test.business_id.isin(mids)]\n",
        "        mratings_train = pd.concat([mratings_train, temp]) # concatenate with train\n",
        "        mratings_test = mratings_test[~mratings_test.business_id.isin(mids)] # get rid of those rows from test\n",
        "\n",
        "        # make canonical form again\n",
        "        mratings_canonical = mratings_train.pivot(index = 'user_id', columns = 'business_id', values = 'stars')\n",
        "        \n",
        "        # compute user demeaned ratings matrix\n",
        "        user_means = mratings_canonical.mean(axis = 1) # create user means, store here, need later \n",
        "        mratings_canonical = mratings_canonical.sub(user_means, axis = 0)\n",
        "        \n",
        "        # fill in missing values\n",
        "        mratings_canonical.fillna(0, inplace = True)\n",
        "\n",
        "        # SVD\n",
        "        U, sigma, Vt = svds(mratings_canonical, k = l) \n",
        "\n",
        "        # Make prediction\n",
        "        predicted_ratings = predict_ratings(U, sigma, Vt, user_means)\n",
        "        predicted_ratings = pd.DataFrame(predicted_ratings, columns = mratings_canonical.columns)\n",
        "        predicted_ratings.index=mratings_canonical.index\n",
        "\n",
        "        # unpivot this prediction (stack) dataframe\n",
        "        predicted_ratings_stack = predicted_ratings.stack().reset_index()\n",
        "        predicted_ratings_stack.columns = ['user_id', 'business_id', 'pred_rating']\n",
        "        \n",
        "        # merge with test data\n",
        "        mratings_test = mratings_test.merge(predicted_ratings_stack, how = 'left', on = ['user_id', 'business_id'])\n",
        "\n",
        "        # compute MSE\n",
        "        mratings_test['error'] = mratings_test.pred_rating-mratings_test.stars\n",
        "        mse = (mratings_test.error @ mratings_test.error)/len(mratings_test) # sum of squares = dot produt of vector with itself\n",
        "        \n",
        "\n",
        "        # Store MSE\n",
        "        mselist.append(mse)\n",
        "    MSE.append([l, np.mean(mselist)]) # append l, mselist to MSE \n",
        "    print('l: {}, MSE: {:.4f}'.format(l,np.mean(mselist))) \n",
        "MSE = pd.DataFrame(MSE, columns = ['l', 'mse']) # convert to pandas df for easy manipulation"
      ]
    },
    {
      "cell_type": "markdown",
      "metadata": {
        "id": "9mdVmezE5ifB"
      },
      "source": [
        " 3.Pick 2 random **restaurants** and look at the 5 most similar ones to each based on latent factor Cosine similarity. Use the Yelp Biz data or Google/Yelp search to help you figure out some background about the focal and similar businesses. For example, are they similar styles? Similar ratings? Similar location? Similar price range?"
      ]
    },
    {
      "cell_type": "code",
      "execution_count": null,
      "metadata": {
        "id": "XT6077Lu5egF"
      },
      "outputs": [],
      "source": [
        "moviedist = pd.DataFrame(pairwise_distances(np.array(itemvalues[['l1', 'l2']]), metric = 'cosine'))\n",
        "moviedist.index = itemvalues.business_id # replace the indices with movie titles (correct order)\n",
        "moviedist.columns = itemvalues.business_id # replace the columns with movie titles (correct order)\n",
        "moviesim = 2-moviedist\n",
        "moviesim = moviesim.drop_duplicates()\n",
        "moviesim = moviesim.loc[:,~moviesim.columns.duplicated()]"
      ]
    },
    {
      "cell_type": "markdown",
      "source": [
        "We are going to try the first one being \"Maison Saunt Paul\""
      ],
      "metadata": {
        "id": "zQfR05UTpwIX"
      }
    },
    {
      "cell_type": "code",
      "source": [
        "movie = '9rT_Zr_A2qYmLaHpSi6eqw'\n",
        "moviesim[movie].sort_values(ascending = False).head(6)"
      ],
      "metadata": {
        "id": "dY-GOlhQlifg",
        "colab": {
          "base_uri": "https://localhost:8080/"
        },
        "outputId": "2c724483-ad36-4cc5-accf-eb20e7127406"
      },
      "execution_count": null,
      "outputs": [
        {
          "output_type": "execute_result",
          "data": {
            "text/plain": [
              "business_id\n",
              "9rT_Zr_A2qYmLaHpSi6eqw    2.000000\n",
              "q6aDxTSK7njG7qWB1tSV5g    2.000000\n",
              "XjbPr3o-YTsticeavLjTEg    2.000000\n",
              "5qeoIrwkieHELWs8ZO1tvw    1.999996\n",
              "HSrbuWbiBnkujnfCJPtRHg    1.999995\n",
              "cB65Ezz9-FewdTiHtT84jg    1.999990\n",
              "Name: 9rT_Zr_A2qYmLaHpSi6eqw, dtype: float64"
            ]
          },
          "metadata": {},
          "execution_count": 45
        }
      ]
    },
    {
      "cell_type": "markdown",
      "source": [
        "The closests in terms of similarity are:\n",
        "\n",
        "\n",
        "1. E0ZBxYiCbmkTe3W0CxxEbw - Restaurant Santa Lucia\n",
        "2. 3f0-EXRF0oy6NDsFh9TJKA - GaNaDaRa\n",
        "3. GXNtumhUuOjCCgcE38LfVA - Sparkles Confections\n",
        "4. 7_p1nwMwanMbz_u3u8-6gw - Chocolats Favoris\n",
        "5. 9305Mb-osQjTO3shBj92qg - Angela\n",
        "\n",
        "\n",
        "They offer different types of cuisine and different types of pricetags. However, They are both in the same area of Montreal Canada\n",
        "\n",
        "https://www.yelp.com/biz/chocolats-favoris-montr%C3%A9al        \n",
        "https://www.yelp.com/biz/ganadara-montr%C3%A9al                  \n",
        "https://www.yelp.com/biz/maison-saint-paul-montr%C3%A9al         \n",
        "https://www.yelp.ca/biz/sparkles-confections-montr%C3%A9al"
      ],
      "metadata": {
        "id": "uYjbCoR-qVLM"
      }
    },
    {
      "cell_type": "markdown",
      "source": [
        "We are going to try the second one being \"Kem CoBa\""
      ],
      "metadata": {
        "id": "0MZZUtJRtWMt"
      }
    },
    {
      "cell_type": "code",
      "source": [
        "movie2 = '0EnXIr4UQTemA0R2hlyR8g'\n",
        "moviesim[movie2].sort_values(ascending = False).head(7)"
      ],
      "metadata": {
        "id": "5YUXuZVioYVZ",
        "colab": {
          "base_uri": "https://localhost:8080/"
        },
        "outputId": "f8693b3e-674e-4f53-dbaa-bda0657c16d4"
      },
      "execution_count": null,
      "outputs": [
        {
          "output_type": "execute_result",
          "data": {
            "text/plain": [
              "business_id\n",
              "0EnXIr4UQTemA0R2hlyR8g    2.000000\n",
              "kmIQmtKMmFrLRDisg9ftLg    1.999996\n",
              "U6Jf5-cUyxkMbXdxLLq6IA    1.999985\n",
              "b7Cez__--oO39tisyyNueA    1.999969\n",
              "t2Eg5QRgLg9DWUeMe_Duhg    1.999961\n",
              "sbkKGZpcksH4CuotIclAnQ    1.999949\n",
              "sRG0srH95a9eqN0MXqZWZQ    1.999941\n",
              "Name: 0EnXIr4UQTemA0R2hlyR8g, dtype: float64"
            ]
          },
          "metadata": {},
          "execution_count": 46
        }
      ]
    },
    {
      "cell_type": "markdown",
      "source": [
        "The closest ones in terms of similarity are: https://www.yelp.com/biz/kem-coba-montr%C3%A9al-2\n",
        "\n",
        "1. CHK0yz0HKCIvcIxb72bUtQ - Zigzagzoo https://www.yelp.com/biz/zigzagzoo-vaudreuil-dorion\n",
        "2. 7Ad_P9x3aR09-xjecCuKbw - Le BrÃ»loir\n",
        "3. t7R-p3dhGV78dSARAFKEOA - Mandy's\n",
        "4. Vp8Dkam_Hv204Or0hul1NQ - Dev Restaurant http://www.restaurantdev.ca/?lang=fr\n",
        "5. xDJ8Cfn9AaGODE0hhsXBwQ - Le BiÃ¨rologue\n",
        "\n",
        "We have the same relationship here, they are all located in Montreal, Canada but they also have a similar pricetag, they all seem to be cheap restaurants"
      ],
      "metadata": {
        "id": "k6Bfi2CFtS9W"
      }
    },
    {
      "cell_type": "markdown",
      "metadata": {
        "id": "TP7nPmoC5pmo"
      },
      "source": [
        "4. Choose a random individual and make 10 predictions for the user. Any intuition linked to their previous rating history? (again consult Yelp/Google/biz dataset for previously reviewed venues' characteristics)"
      ]
    },
    {
      "cell_type": "code",
      "execution_count": null,
      "metadata": {
        "id": "EN4gLuh75ecX"
      },
      "outputs": [],
      "source": [
        "predicted_ratings = predict_ratings(U, sigma, Vt, user_means)\n",
        "predicted_ratings = pd.DataFrame(predicted_ratings, columns = dfpivot.columns)\n",
        "predicted_ratings.index=dfpivot.index"
      ]
    },
    {
      "cell_type": "code",
      "source": [
        "itemvalues[itemvalues.cluster==3].head(5)"
      ],
      "metadata": {
        "id": "PSvtHjqbx53f"
      },
      "execution_count": null,
      "outputs": []
    },
    {
      "cell_type": "code",
      "source": [
        "u = 'qKpkRCPk4ycbllTfFcRbNw' # userId Might change depending on the sample, I always just take the first value out of {itemvalues[itemvalues.cluster==3]}\n",
        "watched = list(df6.loc[df6.user_id==u, 'business_id'].unique())\n",
        "print('Already Been to : {}'.format(len(watched)))"
      ],
      "metadata": {
        "id": "gVPpVLC8xkga"
      },
      "execution_count": null,
      "outputs": []
    },
    {
      "cell_type": "code",
      "source": [
        "recs = get_ratings(predicted_ratings,u, exclude = watched, top = 10).reset_index()\n",
        "recs"
      ],
      "metadata": {
        "id": "aKiJVAXbwyQk"
      },
      "execution_count": null,
      "outputs": []
    },
    {
      "cell_type": "markdown",
      "source": [
        "The 10 predictions are the following:\n",
        "\n",
        "1. -1xuC540Nycht_iWFeJ-dw - Romados \n",
        "2. elj15ZOSk7EvHxy21V_jNw - Invitation V\n",
        "3. eUA8vJUOcjDpID3fIFZ3fw - Les Menus-Plaisirs\n",
        "4. eUI230JcFZLajIcDd9SDpQ - Apple Store\n",
        "5. eXyZTXyayzQKkAQm_vIuXQ - Pho Rachel\n",
        "6. eZhk_ambeSVX1OOjHDilbQ - B.cycle Spin Studio\n",
        "7. e_dC3v_kcvn4XtjcOysJxA - Glace des Arts\n",
        "8. eargTRIm9QK2Og4y3qouYQ - Le PÃ©chÃ© Matinal\n",
        "9. ecid5p4yhTEJbWEJTuzX3Q - Chef Guru\n",
        "10. eehnof3F4vRB8ydbRvd_zA - Smart Burger\n",
        "\n",
        "It appears as the trend keeps trailing into this observation as most of these restaurants kept out in Montreal Canada. However, although some of these places are not restaurants, they are all high quality places and places that are expensive. The Apple store ,Chef Guru and Invitation V being an example."
      ],
      "metadata": {
        "id": "u8PdXugPzTOb"
      }
    },
    {
      "cell_type": "markdown",
      "metadata": {
        "id": "dske96pV5sW5"
      },
      "source": [
        "\n",
        "# Make some conclusions about the performance of this business recommmender built on Yelp reviews. Does it work well? If so, point to evidence of this. If not, what might be holding it back (besides collecting more reviews)?"
      ]
    },
    {
      "cell_type": "markdown",
      "source": [
        "As we can see from the experiments up top, the recommender does give out the proper results but there is still work to be done. \n",
        "\n",
        "We can see how it gives recommendations based on similar business_id but it does not say why is it similar. It does not seem to permit which attributes to look similarly (location, WIFI, Pets, cuisine, rating), it just shows you other businesses with similarities. We can see above how we have the Apple store matched with a Spin Studio.\n",
        "\n",
        "To improve this, we could make more cleansing into the dataset to see what attributes are most likely to relate with the rating (quality, price, service). Another aspect is what type of business it is. The apple store and a restaurant are completely different so another column that matches the business type would enhance this experience."
      ],
      "metadata": {
        "id": "wtniN0IS9YaQ"
      }
    }
  ],
  "metadata": {
    "accelerator": "TPU",
    "colab": {
      "collapsed_sections": [],
      "name": "Pablo Escoto A12-Predictive Analytics.ipynb",
      "provenance": [],
      "include_colab_link": true
    },
    "kernelspec": {
      "display_name": "Python 3",
      "name": "python3"
    }
  },
  "nbformat": 4,
  "nbformat_minor": 0
}